{
 "cells": [
  {
   "cell_type": "markdown",
   "metadata": {},
   "source": [
    "\n",
    "# Принципи на качествения код в Python"
   ]
  },
  {
   "cell_type": "markdown",
   "metadata": {},
   "source": [
    "Съдържание:\n",
    "- SOLID\n",
    "- DRY & YAGNI\n",
    "- Clean Code\n",
    "- PEP8\n",
    "- Pylint"
   ]
  },
  {
   "cell_type": "markdown",
   "metadata": {},
   "source": [
    "Писането на код е само една част от това да си програмист. В живота на едно парче код, то по-често ще бъде прочитано, отколкото променяно. В нашият програмистки живот, по-често ще ни се налага да четем код, отколкото да пишем. Затова едно от ключовите ни умения като програмист е това да пишем качествен и четим код."
   ]
  },
  {
   "cell_type": "markdown",
   "metadata": {},
   "source": [
    "Съществуват някои широко-разпространени добри практики за писане на качествен код (а и архитектура). Ще разгледаме някои тях"
   ]
  },
  {
   "cell_type": "markdown",
   "metadata": {},
   "source": [
    "## SOLID"
   ]
  },
  {
   "cell_type": "markdown",
   "metadata": {},
   "source": [
    "SOLID е колекция от принципи, имащи за цел да направят нашия (обектно-ориентиран) код по-четим, по-лесен за поддържане и по-гъвква. SOLID е акроним на 5 принципа, които ще разгледаме по-долу - **S**ingle-reponsibility principle, **O**pen-closed principle, **L**iskov substitution principle, **I**nterface segregation principle и **D**ependency inversion principle."
   ]
  },
  {
   "cell_type": "markdown",
   "metadata": {},
   "source": [
    "### Single-reponsibility"
   ]
  },
  {
   "cell_type": "markdown",
   "metadata": {},
   "source": [
    "Както името му подсказва, single-reponsibility принципа казва, че \"един клас не трябва да има повече от една причина да се променя\". На по-прост език, това означава, че един клас трябва да има една отговорност/дейност.\n",
    "\n",
    "Тази идея може да бъде разширена и към всички други програмни единици, не само класовете. Трябва да се стараем да пишем функции или класове, които правят едно нещо."
   ]
  },
  {
   "cell_type": "markdown",
   "metadata": {},
   "source": [
    "Нека разгледаме следната задача (source: [Advent of Code 2022, day 18, pt1](https://adventofcode.com/2022/day/18)):\n",
    "\n",
    "Получаваме списък от координати на кубчета в тримерното пространство. На изхода на програмата трябва да върнем броя на \"видимите\" страни на кубчетата - например, ако имаме едно кубче с координати (1, 1, 1), и второ кубче с координати (2, 1, 1), то броя на видимите страни е 10 (две от страните няма да се виждат, защото са долепени една до друга).\n",
    "\n",
    "Как бихме написали кода за тази задача ?\n"
   ]
  },
  {
   "cell_type": "code",
   "execution_count": 7,
   "metadata": {},
   "outputs": [
    {
     "name": "stdout",
     "output_type": "stream",
     "text": [
      "10\n"
     ]
    }
   ],
   "source": [
    "def solution():\n",
    "    line = input()\n",
    "    lines = []\n",
    "    while line != '':\n",
    "        lines.append(line)\n",
    "        line = input()\n",
    "\n",
    "    cubes = []\n",
    "    for line in lines:\n",
    "        x, y, z = line.split(',')\n",
    "        cubes.append((int(x), int(y), int(z)))\n",
    "\n",
    "    sides = 0\n",
    "\n",
    "    for source_cube in cubes:\n",
    "        hidden_sides = 0\n",
    "        for target_cube in cubes:\n",
    "            diff_x = abs(source_cube[0] - target_cube[0])\n",
    "            diff_y = abs(source_cube[1] - target_cube[1])\n",
    "            diff_z = abs(source_cube[2] - target_cube[2])\n",
    "\n",
    "            if (diff_x == 1 and diff_y == 0 and diff_z == 0) or (diff_x == 0 and diff_y == 1 and diff_z == 0) or (diff_x == 0 and diff_y == 0 and diff_z == 1):\n",
    "                hidden_sides += 1\n",
    "\n",
    "        sides += 6 - hidden_sides\n",
    "    \n",
    "    print(sides)\n",
    "\n",
    "solution()"
   ]
  },
  {
   "cell_type": "markdown",
   "metadata": {},
   "source": [
    "Очевидно горната функция `solution` прави много неща - какво правим, ако имаме бъг в решението ? Трябва да прегледаме целия код, което тук е само 30 реда, но представете си, че говорим за 300 реда. Също така, ако направим промяна, не е много сигурно, че няма да счупим някое друго парче код. Затова нека започнем прилагането на принципа за единстветана отговорност."
   ]
  },
  {
   "cell_type": "markdown",
   "metadata": {},
   "source": [
    "Първото нещо, което ни хрумва да направим, е да отделим входа, сметките и изхода в отделни функции."
   ]
  },
  {
   "cell_type": "code",
   "execution_count": 8,
   "metadata": {},
   "outputs": [
    {
     "name": "stdout",
     "output_type": "stream",
     "text": [
      "The answer is 10\n"
     ]
    }
   ],
   "source": [
    "def handle_input() -> list[tuple[int, int, int]]:\n",
    "    line = input()\n",
    "    lines = []\n",
    "    while line != '':\n",
    "        lines.append(line)\n",
    "        line = input()\n",
    "\n",
    "    cubes = []\n",
    "    for line in lines:\n",
    "        x, y, z = line.split(',')\n",
    "        cubes.append((int(x), int(y), int(z)))\n",
    "    \n",
    "    return cubes\n",
    "\n",
    "def solution(cubes: list[tuple[int, int, int]]):\n",
    "    sides = 0\n",
    "\n",
    "    for source_cube in cubes:\n",
    "        hidden_sides = 0\n",
    "        for target_cube in cubes:\n",
    "            diff_x = abs(source_cube[0] - target_cube[0])\n",
    "            diff_y = abs(source_cube[1] - target_cube[1])\n",
    "            diff_z = abs(source_cube[2] - target_cube[2])\n",
    "\n",
    "            if (diff_x == 1 and diff_y == 0 and diff_z == 0) or (diff_x == 0 and diff_y == 1 and diff_z == 0) or (diff_x == 0 and diff_y == 0 and diff_z == 1):\n",
    "                hidden_sides += 1\n",
    "\n",
    "        sides += 6 - hidden_sides\n",
    "    \n",
    "    return sides\n",
    "\n",
    "def handle_output(sides: int):\n",
    "    print(f'The answer is {sides}')\n",
    "\n",
    "cubes = handle_input()\n",
    "result = solution(cubes)\n",
    "handle_output(result)"
   ]
  },
  {
   "cell_type": "markdown",
   "metadata": {},
   "source": [
    "Една идея по-добре. Но все още нашите функции `handle_input` и `solution` правят повече от едно неща.\n",
    "\n",
    "Нека разгледаме в детайли `handle_input` - макар и кратка, тя прави две основни неща - приема входа от клавиатурата, и го конвертира от низ до наредена тройка от цели числа. Какво би станало, ако искаме вместо от клавиатурата, нашия вход да се чете от файл ? Или пък от графичен интерфейс ? Тази промяна не би трябвало да има общо с това как превръщаме низ към наредена тройка. Затова ще разделим `handle_input` на две по-малки функции."
   ]
  },
  {
   "cell_type": "code",
   "execution_count": null,
   "metadata": {},
   "outputs": [],
   "source": [
    "def read_input() -> list[str]:\n",
    "    line = input()\n",
    "    lines = []\n",
    "    while line != '':\n",
    "        lines.append(line)\n",
    "        line = input()\n",
    "\n",
    "    return lines\n",
    "\n",
    "def transform_input(lines: list[str]) -> list[tuple[int, int, int]]:\n",
    "    cubes = []\n",
    "    for line in lines:\n",
    "        x, y, z = line.split(',')\n",
    "        cubes.append((int(x), int(y), int(z)))\n",
    "    \n",
    "    return cubes\n",
    "\n",
    "def solution(cubes: list[tuple[int, int, int]]):\n",
    "    sides = 0\n",
    "\n",
    "    for source_cube in cubes:\n",
    "        hidden_sides = 0\n",
    "        for target_cube in cubes:\n",
    "            diff_x = abs(source_cube[0] - target_cube[0])\n",
    "            diff_y = abs(source_cube[1] - target_cube[1])\n",
    "            diff_z = abs(source_cube[2] - target_cube[2])\n",
    "\n",
    "            if (diff_x == 1 and diff_y == 0 and diff_z == 0) or (diff_x == 0 and diff_y == 1 and diff_z == 0) or (diff_x == 0 and diff_y == 0 and diff_z == 1):\n",
    "                hidden_sides += 1\n",
    "\n",
    "        sides += 6 - hidden_sides\n",
    "    \n",
    "    return sides\n",
    "\n",
    "def handle_output(sides: int):\n",
    "    print(f'The answer is {sides}')\n",
    "\n",
    "\n",
    "lines = read_input()\n",
    "cubes = transform_input(lines)\n",
    "result = solution(cubes)\n",
    "handle_output(result)"
   ]
  },
  {
   "cell_type": "markdown",
   "metadata": {},
   "source": [
    "Така вече, ако се наложи промяна в начина по който **четем** входа, няма да се налага да променяме функцията, която държи и логиката за трансформирането на входа. Или ако пък се промени формата на входа, трябва да променим само `transform_input`, без да пипаме `read_input`.\n",
    "\n",
    "Друг плюс от това разделение е, че функцията `read_input` вече не е обвързана по никакъв начин с конкретната задача - спокойно тя може да бъде преизползвана за решаването на други задачи, които изискват четене от клавиатурата.\n",
    "\n",
    "Можем обаче да отидем една стъпка по-напред - нека отделим логиката за трансформиране на само един ред, отделно."
   ]
  },
  {
   "cell_type": "code",
   "execution_count": 9,
   "metadata": {},
   "outputs": [
    {
     "name": "stdout",
     "output_type": "stream",
     "text": [
      "The answer is 10\n"
     ]
    }
   ],
   "source": [
    "def read_input() -> list[str]:\n",
    "    line = input()\n",
    "    lines = []\n",
    "    while line != '':\n",
    "        lines.append(line)\n",
    "        line = input()\n",
    "\n",
    "    return lines\n",
    "\n",
    "def line_to_tuple(line: str) -> tuple[int, int, int]:\n",
    "    x, y, z = line.split(',')\n",
    "    return int(x), int(y), int(z)\n",
    "\n",
    "def transform_input(lines: list[str]) -> list[tuple[int, int, int]]:\n",
    "    return [line_to_tuple(line) for line in lines]\n",
    "\n",
    "def solution(cubes: list[tuple[int, int, int]]):\n",
    "    sides = 0\n",
    "\n",
    "    for source_cube in cubes:\n",
    "        hidden_sides = 0\n",
    "        for target_cube in cubes:\n",
    "            diff_x = abs(source_cube[0] - target_cube[0])\n",
    "            diff_y = abs(source_cube[1] - target_cube[1])\n",
    "            diff_z = abs(source_cube[2] - target_cube[2])\n",
    "\n",
    "            if (diff_x == 1 and diff_y == 0 and diff_z == 0) or (diff_x == 0 and diff_y == 1 and diff_z == 0) or (diff_x == 0 and diff_y == 0 and diff_z == 1):\n",
    "                hidden_sides += 1\n",
    "\n",
    "        sides += 6 - hidden_sides\n",
    "    \n",
    "    return sides\n",
    "\n",
    "def handle_output(sides: int):\n",
    "    print(f'The answer is {sides}')\n",
    "\n",
    "\n",
    "lines = read_input()\n",
    "cubes = transform_input(lines)\n",
    "result = solution(cubes)\n",
    "handle_output(result)"
   ]
  },
  {
   "cell_type": "markdown",
   "metadata": {},
   "source": [
    "Тук задаваме въпросите - имаме ли нужда да раздробяваме кода чак толкова и имаме ли нужда от функция, която е само един ред ?\n",
    "\n",
    "Отговора на двата въпроса е един и същ - зависи. Всичко опира до конкретната задача, и конкретния стил на човека - някои казват, че ако функцията е един ред, няма нужда от нея. Но пък за сметка на това, `transform_input` е по-лесно четимо от `[line_to_tuple(line) for line in lines]`."
   ]
  },
  {
   "cell_type": "markdown",
   "metadata": {},
   "source": [
    "Нека сега приложим същите идеи и върху `solution`."
   ]
  },
  {
   "cell_type": "code",
   "execution_count": 11,
   "metadata": {},
   "outputs": [
    {
     "name": "stdout",
     "output_type": "stream",
     "text": [
      "The answer is 10\n"
     ]
    }
   ],
   "source": [
    "def read_input() -> list[str]:\n",
    "    line = input()\n",
    "    lines = []\n",
    "    while line != '':\n",
    "        lines.append(line)\n",
    "        line = input()\n",
    "\n",
    "    return lines\n",
    "\n",
    "def line_to_tuple(line: str) -> tuple[int, int, int]:\n",
    "    x, y, z = line.split(',')\n",
    "    return int(x), int(y), int(z)\n",
    "\n",
    "def transform_input(lines: list[str]) -> list[tuple[int, int, int]]:\n",
    "    return [line_to_tuple(line) for line in lines]\n",
    "\n",
    "def is_side_hidden(first_cube: tuple[int, int, int], second_cube: tuple[int, int, int]) -> bool:\n",
    "    diff_x = abs(first_cube[0] - second_cube[0])\n",
    "    diff_y = abs(first_cube[1] - second_cube[1])\n",
    "    diff_z = abs(first_cube[2] - second_cube[2])\n",
    "\n",
    "    is_side_x_hidden = (diff_x == 1 and diff_y == 0 and diff_z == 0)\n",
    "    is_side_y_hidden = (diff_x == 0 and diff_y == 1 and diff_z == 0)\n",
    "    is_side_z_hidden = (diff_x == 0 and diff_y == 0 and diff_z == 1)\n",
    "\n",
    "    return is_side_x_hidden or is_side_y_hidden or is_side_z_hidden\n",
    "\n",
    "def count_visible_sides(cube: tuple[int, int, int], others: list[tuple[int, int, int]]) -> int:\n",
    "    return 6 - sum(1 for other in others if is_side_hidden(cube, other))\n",
    "\n",
    "def solution(cubes: list[tuple[int, int, int]]):\n",
    "    visible_sides = [count_visible_sides(cube, cubes) for cube in cubes]\n",
    "    return sum(visible_sides)\n",
    "\n",
    "def handle_output(sides: int):\n",
    "    print(f'The answer is {sides}')\n",
    "\n",
    "\n",
    "lines = read_input()\n",
    "cubes = transform_input(lines)\n",
    "result = solution(cubes)\n",
    "handle_output(result)"
   ]
  },
  {
   "cell_type": "markdown",
   "metadata": {},
   "source": [
    "Спрямо първоначалното ни решение (което бе 29 реда), това вече е 42 реда - но е доста по-четимо, доста по-лесно за промяна и доста по-тестваемо. `is_side_hidden` може да бъде написана по-кратко, но по-четимия код е по-добър от по-краткия."
   ]
  },
  {
   "cell_type": "markdown",
   "metadata": {},
   "source": [
    "### Open-closed"
   ]
  },
  {
   "cell_type": "markdown",
   "metadata": {},
   "source": [
    "### Liskov-substitution"
   ]
  },
  {
   "cell_type": "markdown",
   "metadata": {},
   "source": [
    "### Interface segregation"
   ]
  },
  {
   "cell_type": "markdown",
   "metadata": {},
   "source": [
    "### Dependency inversion"
   ]
  },
  {
   "cell_type": "markdown",
   "metadata": {},
   "source": [
    "## Clean code"
   ]
  },
  {
   "cell_type": "markdown",
   "metadata": {},
   "source": [
    "### Meaningful Names"
   ]
  },
  {
   "cell_type": "markdown",
   "metadata": {},
   "source": [
    "### Functions"
   ]
  },
  {
   "cell_type": "markdown",
   "metadata": {},
   "source": [
    "### Comments"
   ]
  },
  {
   "cell_type": "markdown",
   "metadata": {},
   "source": [
    "## PEP8"
   ]
  },
  {
   "cell_type": "markdown",
   "metadata": {},
   "source": [
    "## Pylint"
   ]
  },
  {
   "cell_type": "markdown",
   "metadata": {},
   "source": [
    "## Пример"
   ]
  }
 ],
 "metadata": {
  "kernelspec": {
   "display_name": "Python 3.10.8 ('.venv': venv)",
   "language": "python",
   "name": "python3"
  },
  "language_info": {
   "codemirror_mode": {
    "name": "ipython",
    "version": 3
   },
   "file_extension": ".py",
   "mimetype": "text/x-python",
   "name": "python",
   "nbconvert_exporter": "python",
   "pygments_lexer": "ipython3",
   "version": "3.10.8"
  },
  "orig_nbformat": 4,
  "vscode": {
   "interpreter": {
    "hash": "8aaebca3fabb9aca40b8d84da99705307a9c71ac29c6ce127bde0d734826686e"
   }
  }
 },
 "nbformat": 4,
 "nbformat_minor": 2
}
