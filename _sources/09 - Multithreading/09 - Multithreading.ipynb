{
 "cells": [
  {
   "cell_type": "markdown",
   "metadata": {
    "collapsed": false
   },
   "source": [
    "# Многонишково програмиране с Python"
   ]
  },
  {
   "cell_type": "markdown",
   "metadata": {
    "collapsed": false
   },
   "source": [
    "План на лекцията:\n",
    "- Скалиране от 1 към много\n",
    "- Какво е нишка ?\n",
    "- Работа с нишки (Threads)\n",
    "- Python GIL\n",
    "- Threads, round 2\n",
    "- \"Многопроцесност\"\n",
    "- asyncio\n",
    "- [ ] Примери"
   ]
  },
  {
   "cell_type": "markdown",
   "metadata": {},
   "source": [
    "## Скалиране от 1 към много"
   ]
  },
  {
   "cell_type": "markdown",
   "metadata": {},
   "source": [
    "Нека се върнем към едни по-прости времена - когато процесорът (да го наречем \"v1\") може да изпълнява една-единствена задача. Нека освен този прост процесор, да имаме и набор от задачи - `[t1, t2, t3]`.\n",
    "Процесорът взима първата задача, изпълнява я, взема втората задача, изпълнява нея, и така докато не мине през всички задачи.\n",
    "\n",
    "(Картинка, на която t1 -> t2 ---> t3 -->)"
   ]
  },
  {
   "cell_type": "markdown",
   "metadata": {},
   "source": [
    "Нека си представим, че задачата `t2` отнема повече време, защото трябва да изчака за някакъв ресурс (например файлова операция). В това време, нашия процесор v1 чака, и не прави никакви изчисления. Това със сигурност не е оптимално."
   ]
  },
  {
   "cell_type": "markdown",
   "metadata": {},
   "source": [
    "### Какво е конкурентност ?"
   ]
  },
  {
   "cell_type": "markdown",
   "metadata": {},
   "source": [
    "Нека да вземем един нов, по-добър процесор (\"v2\"), който може да разпознае кога даден процес чака за ресурс, и в такава ситуация да даде приоритет на друг процес. \n",
    "В тази ситуация, когато `t2` чака за ресурс, процесорът може да пусне `t3` по-рано. Когато ресурсът на `t2` стане наличен, процесорът ще спре `t3`, и ще даде време обратно на `t2`.   "
   ]
  },
  {
   "cell_type": "markdown",
   "metadata": {},
   "source": [
    "(Картинка, на която t1 -> t2 -> t3 --> t2 ->)"
   ]
  },
  {
   "cell_type": "markdown",
   "metadata": {},
   "source": [
    "Това изпълнение, ни позволява да изпълним задачите си по-бързо - вместо да чакаме `t2` да приключи, това време в чакане може да се използва за изпълнението на `t3`. \n",
    "\n",
    "Този модел на изпълнение, в който изпълнението на следващата задача не е нужно да изчаква приключването на текущата, се нарича \"конкурентно изпълнение\".\n",
    "Важно е да се отбележи, че конкурентното изпълнение не е едновременно (паралелно) изпълнение на задачи - продължаваме да изпълняваме по една задача в даден момент, просто редът им не е детерминиран. Ние не знаем в какъв ред ще се изпълнят задачите и коя от тях ще бъде изпълнена първа."
   ]
  },
  {
   "cell_type": "markdown",
   "metadata": {},
   "source": [
    "### Какво е паралелизъм ?"
   ]
  },
  {
   "cell_type": "markdown",
   "metadata": {},
   "source": [
    "Колкото и оптимално да е раздаването на процесорно време от нашия v2 процесор, той все още не може да прави паралелни изчисления. Затова нека въведем нашия \"v3\" процесор - той ще е два v2 процесора \"залепени\" един за друг. Това би означавало, че нашия v3 процесор може да изпълнява две задачи едновременно (паралелно).  "
   ]
  },
  {
   "cell_type": "markdown",
   "metadata": {},
   "source": [
    "### Модерните процесори"
   ]
  },
  {
   "cell_type": "markdown",
   "metadata": {},
   "source": [
    "Модерните процесори са изградени от няколко ядра (8, 10, 16), които могат да изпълняват различни задачи паралелно. В идеалния свят, ако нашата задача отнема `t` време на 1 ядро, то на `n` ядра, би трябвало да отнеме `t/n` време."
   ]
  },
  {
   "cell_type": "markdown",
   "metadata": {},
   "source": [
    "## Какво е нишка ?\n"
   ]
  },
  {
   "cell_type": "markdown",
   "metadata": {},
   "source": [
    "Нишката може да бъде разглеждана като най-малката смислена поредица от инструкции, които да бъдат изпълнени. Един процес съдържа една или повече нишки. \n",
    "Нишките могат да комуникират една с друга, с помощта на споделена памет или с т.нар. канали. \n",
    "\n",
    "Съществуват два вида нишки - нишки на ядрото (kernel threads) и потребителски нишки (user threads). Нишките на ядрото са менажирани от kernel-а - той се грижи за предаването на изпълнението от една нишка на друга. Kernel нишките споделят една и съща памет и файлови ресурси. Всяка нишка обаче има собствен стек, копие на регистрите и специална памет за конкретната нишка.\n",
    "\n",
    "User нишките (наричани още \"зелени\" нишки, green threads) се управляват на ниво потребителски процес. Ядрото на ОС не знае за тяхното съществуване. Факта, че те се оправляват от потребителски процеси, прави предаването на контрола между всяка от тях евтина операция (от гледна точка на kernel-а, няма смяна на изпълняващата се нишка, съответно няма context switch). Главния недостатък на user нишките е при изпълнението на блокиращи операции (най-често свързани с IO операции) - при такава операция, вместо да се блокира само една нишка, се блокира целия процес. "
   ]
  },
  {
   "cell_type": "markdown",
   "metadata": {},
   "source": [
    "Съществуват три модела за работа с нишки, определяни от съотношението на брой kernel threads към user threads\n",
    "\n",
    "- 1:1 - в този модел, на всяка нишка създадена от потребителя съотвества на kernel нишка\n",
    "- N:1 - в този модел, всяка нишка създадена от потребителя се съпоставя към една kernel нишка\n",
    "- M:N - в този модел, M на брой потребителски нишки се съпоставят към N на брой kernel нишки"
   ]
  },
  {
   "cell_type": "markdown",
   "metadata": {},
   "source": [
    "## Работа с нишки (Threads)"
   ]
  },
  {
   "cell_type": "markdown",
   "metadata": {},
   "source": [
    "За работа с нишки в Python използваме библиотеката `threading`. Тя ни предоставя различни инструменти за стартиране, синхронизиране и обща работа с нишки."
   ]
  },
  {
   "cell_type": "markdown",
   "metadata": {},
   "source": [
    "Основният клас с който ще работим, е класът `Thread`. Той има за цел да се погрижи за изпълнението на дадено парче питонски код, в отделна нишка. Можем да зададем кода, който искаме да изпълним по два начин - като `Callable` обект, подаден на конструктора на `Thread`, или като създадем собствен клас, който да наследи `Thread` и да презапишем `run` метода. "
   ]
  },
  {
   "cell_type": "markdown",
   "metadata": {},
   "source": [
    "За да стартираме нишка, трябва да извикаме `start` метода - той има за цел да подготви нова нишка, в която да бъде изпълнено съдържанието на `run` метода."
   ]
  },
  {
   "cell_type": "code",
   "execution_count": 10,
   "metadata": {},
   "outputs": [
    {
     "name": "stdout",
     "output_type": "stream",
     "text": [
      "Thread with a Callable in the init\n",
      "Custom Thread class\n"
     ]
    }
   ],
   "source": [
    "from threading import Thread\n",
    "\n",
    "def hi():\n",
    "    print(\"Thread with a Callable in the init\")\n",
    "\n",
    "t1 = Thread(target=hi)\n",
    "t1.start()\n",
    "\n",
    "class MyThread(Thread):\n",
    "    def run(self):\n",
    "        print(\"Custom Thread class\")\n",
    "\n",
    "t2 = MyThread()\n",
    "t2.start()"
   ]
  },
  {
   "cell_type": "markdown",
   "metadata": {},
   "source": [
    "Тук е важно да се отбележи, че когато наследяваме от `Thread`, не трябва да предефинираме никакви други методи, освен `__init__` и `run`. Можем да добавяме нови методи, но не трябва да променяме поведението на останалите методи в `Thread`. "
   ]
  },
  {
   "cell_type": "code",
   "execution_count": 12,
   "metadata": {},
   "outputs": [
    {
     "name": "stdout",
     "output_type": "stream",
     "text": [
      "The early bird gets the worm\n"
     ]
    },
    {
     "name": "stdout",
     "output_type": "stream",
     "text": [
      "Overslept a bit... hi\n"
     ]
    }
   ],
   "source": [
    "from threading import Thread\n",
    "from time import sleep\n",
    "\n",
    "def delayed_hi():\n",
    "    sleep(2)\n",
    "    print(\"Overslept a bit... hi\")\n",
    "\n",
    "t1 = Thread(target=delayed_hi)\n",
    "t1.start()\n",
    "print(\"The early bird gets the worm\")"
   ]
  },
  {
   "cell_type": "markdown",
   "metadata": {},
   "source": [
    "В горния пример, изпълнението на програмата продължава напред със следващите редове код. Програмата ни приключва тогава, когато всички нишки за приключили работа.\n",
    "\n",
    "Ако искаме да изчакаме дадена нишка да приключи преди да продължим с изпълнението на кода, можем да използваме метода `join`."
   ]
  },
  {
   "cell_type": "code",
   "execution_count": 32,
   "metadata": {},
   "outputs": [
    {
     "name": "stdout",
     "output_type": "stream",
     "text": [
      "The thread has started\n",
      "I want to wait for it to end\n",
      "I'm a thread\n",
      "The thread has finished\n"
     ]
    }
   ],
   "source": [
    "from threading import Thread\n",
    "from time import sleep\n",
    "\n",
    "def delayed_hi():\n",
    "    sleep(1)\n",
    "    print(\"I'm a thread\")\n",
    "\n",
    "t1 = Thread(target=delayed_hi)\n",
    "t1.start()\n",
    "\n",
    "print(\"The thread has started\")\n",
    "print(\"I want to wait for it to end\")\n",
    "t1.join()  # Comment this, to see the change\n",
    "print(\"The thread has finished\")"
   ]
  },
  {
   "cell_type": "markdown",
   "metadata": {},
   "source": [
    "Методът `join` спира изпълненето на кода, докато нишката не приключи работата си или не срещне `Exception`. Възможно е да подадем `timeout` параметър на `join` - той индикира колко време да изчакаме нишката да приключи. Важно е да отбележим, че след изтичането на `timeout` параметъра, нишката може да продължи да работи. С методът `is_alive` можем да проверим дали дадена нишка все още работи."
   ]
  },
  {
   "cell_type": "code",
   "execution_count": 34,
   "metadata": {},
   "outputs": [
    {
     "name": "stdout",
     "output_type": "stream",
     "text": [
      ">Going to sleep\n",
      "Is the thread working ? True\n",
      "Let's give it some time\n",
      "Time to get up !\n",
      "Is the thread working ? True\n",
      ">Did a really good nap\n",
      "What about now ? False\n"
     ]
    }
   ],
   "source": [
    "from threading import Thread\n",
    "from time import sleep \n",
    "\n",
    "def sleepy_thread():\n",
    "    print(\">Going to sleep\")\n",
    "    sleep(20)\n",
    "    print(\">Did a really good nap\")\n",
    "\n",
    "t1 = Thread(target=sleepy_thread)\n",
    "t1.start()\n",
    "\n",
    "print(f\"Is the thread working ? {t1.is_alive()}\")\n",
    "\n",
    "print(\"Let's give it some time\")\n",
    "sleep(2)\n",
    "\n",
    "print(\"Time to get up !\")\n",
    "t1.join(timeout=3)\n",
    "\n",
    "print(f\"Is the thread working ? {t1.is_alive()}\")\n",
    "t1.join()\n",
    "\n",
    "print(f\"What about now ? {t1.is_alive()}\")"
   ]
  },
  {
   "cell_type": "markdown",
   "metadata": {},
   "source": [
    "Друга важна особеност на `Thread`, е че ако нашата функция връща някакъв резутлат, той няма да ни бъде върнат, ако функцията се изпълнява през thread."
   ]
  },
  {
   "cell_type": "code",
   "execution_count": 35,
   "metadata": {},
   "outputs": [
    {
     "name": "stdout",
     "output_type": "stream",
     "text": [
      "res=None, type(res)=<class 'NoneType'>\n",
      "res=None, type(res)=<class 'NoneType'>\n"
     ]
    }
   ],
   "source": [
    "from threading import Thread\n",
    "\n",
    "def return_a_value():\n",
    "    return 5\n",
    "\n",
    "t1 = Thread(target=return_a_value)\n",
    "\n",
    "res = t1.start()\n",
    "print(f\"{res=}, {type(res)=}\")\n",
    "\n",
    "res = t1.join()\n",
    "print(f\"{res=}, {type(res)=}\")"
   ]
  },
  {
   "cell_type": "markdown",
   "metadata": {},
   "source": [
    "Нека разгледаме следния практически пример - имаме следната функция, която изчислява (до някаква степен) безкрайна сума. Като пример, ще вземем следната сума  $$ \\sum_{k=0}^{\\infty} \\frac{99^k}{(99(k+1))^{97}}  $$\n",
    "\n",
    "Можем да напишеш функция, която изчислява част от реда - с начално $ k_{start} $ и крайно $ k_{end} $"
   ]
  },
  {
   "cell_type": "code",
   "execution_count": 34,
   "metadata": {},
   "outputs": [],
   "source": [
    "import math\n",
    "\n",
    "def calculate_partial_sum(start: int, end: int) -> int:\n",
    "    sum = 0\n",
    "    for k in range(start, end + 1):\n",
    "        numerator = (99 ** k)\n",
    "        denominator = (99 * (k+1)) ** 97\n",
    "        sum += numerator // denominator\n",
    "    \n",
    "    return sum"
   ]
  },
  {
   "cell_type": "markdown",
   "metadata": {},
   "source": [
    "Нека изчислим първите 24000 члена на този ред"
   ]
  },
  {
   "cell_type": "code",
   "execution_count": 50,
   "metadata": {},
   "outputs": [
    {
     "name": "stdout",
     "output_type": "stream",
     "text": [
      "The call took 13.06 seconds\n"
     ]
    }
   ],
   "source": [
    "import time\n",
    "\n",
    "start = time.time()\n",
    "calculate_partial_sum(0, 24000)\n",
    "end = time.time()\n",
    "\n",
    "print(f'The call took {(end-start):.2f} seconds')"
   ]
  },
  {
   "cell_type": "markdown",
   "metadata": {},
   "source": [
    "Забелязваме, че кода ни отнема ~13 секунди да пресметне първите 24000 члена да реда. В този си вариант, членове на реда не зависят един от друг - това ни позволява да ги пресмятаме на интервали, които можем да пуснем на няколко нишки.\n",
    "\n",
    "Нека като първи пример пуснем две нишки - едната да изчисли първите 12000 члена, а втората, останалите."
   ]
  },
  {
   "cell_type": "code",
   "execution_count": 51,
   "metadata": {},
   "outputs": [
    {
     "name": "stdout",
     "output_type": "stream",
     "text": [
      "The 2 threads took 14.82 seconds\n"
     ]
    }
   ],
   "source": [
    "import time\n",
    "from threading import Thread\n",
    "\n",
    "t1 = Thread(target=calculate_partial_sum, args=(0, 12000))\n",
    "t2 = Thread(target=calculate_partial_sum, args=(12001, 24000))\n",
    "\n",
    "start = time.time()\n",
    "t1.start()\n",
    "t2.start()\n",
    "\n",
    "while t1.is_alive() or t2.is_alive():\n",
    "    time.sleep(0.1)\n",
    "\n",
    "end = time.time()\n",
    "print(f'The 2 threads took {(end-start):.2f} seconds')"
   ]
  },
  {
   "cell_type": "markdown",
   "metadata": {},
   "source": [
    "Забелязваме, че на две нишки, кодът ни се изпълни за ~15 секунди - изненада. Нека пробваме на 4 нишки, каква е ситуацията."
   ]
  },
  {
   "cell_type": "code",
   "execution_count": 52,
   "metadata": {},
   "outputs": [
    {
     "name": "stdout",
     "output_type": "stream",
     "text": [
      "The 4 threads took 21.37 seconds\n"
     ]
    }
   ],
   "source": [
    "import time\n",
    "from threading import Thread\n",
    "\n",
    "t1 = Thread(target=calculate_partial_sum, args=(0, 6000))\n",
    "t2 = Thread(target=calculate_partial_sum, args=(6001, 12000))\n",
    "t3 = Thread(target=calculate_partial_sum, args=(12001, 18000))\n",
    "t4 = Thread(target=calculate_partial_sum, args=(18001, 24000))\n",
    "\n",
    "start = time.time()\n",
    "t1.start()\n",
    "t2.start()\n",
    "t3.start()\n",
    "t4.start()\n",
    "\n",
    "while t1.is_alive() or t2.is_alive() or t3.is_alive() or t4.is_alive():\n",
    "    time.sleep(0.1)\n",
    "\n",
    "end = time.time()\n",
    "print(f'The 4 threads took {(end-start):.2f} seconds')"
   ]
  },
  {
   "cell_type": "markdown",
   "metadata": {},
   "source": [
    "С 4 нишки, нещата стават още по-бавни... Какво се случва ?"
   ]
  },
  {
   "cell_type": "markdown",
   "metadata": {},
   "source": [
    "## Python GIL"
   ]
  },
  {
   "cell_type": "markdown",
   "metadata": {},
   "source": [
    "Една от особенностите на Python, е т.нар. global interpreter lock (GIL) - накратко, само една нишка може да работи с интерпретатора на Python в даден момент. \n",
    "Това е направено с цел, да се реши проблема с промяната на променлива от една нишка, докато друга я достъпва. (По-конкретно, проблемът може да се появи, когато дадена памет трябва да се освободи, след като в едната нишка се стига до порция от кода, в който променливата вече не се използва).\n",
    "\n",
    "Съществуването на GIL в Python улеснява писането на код - нашия код винаги е thread-safe (няма как две нишки да се борят за един и същ ресурс). Освен това, GIL позволява използването на C библиотеки, които не са предвидени за работа в многонишков режим."
   ]
  },
  {
   "cell_type": "markdown",
   "metadata": {},
   "source": [
    "Наличието на GIL в Python обаче означава, че нашия \"многонишков\" код всъщност не е многонишков - да, ние стартираме няколко нишки, но те се изпълняват конкурентно, а не паралелно. На практика това означава, че при задачи, в които разчитаме единствено на операциите на процесора, кодът ни ще се държи все едно се изпълнява на една нишка. \n",
    "\n",
    "Това обаче е вярно за задачи, които са изцяло зависими от процесора - както казахме по-горе, понякога нашите задачи трябва да \"чакат\" за някакъв ресурс (например файл) - тогава интерпретатора ще отнеме контрола на чакащата нишка, и ще го предаде на следвщата нишка чакаща време за изпълнение. На практика това означава, че използването на нишки в Python би донесло подобрение във времето за изпълнение, независимо от GIL. \n",
    "\n",
    "Ситуации в които това би било вярно, е когато работим с GUI - през повечето време нашата програма няма да прави CPU изчисления, и активната нишка ще е тази, върху която се изпълнява графичния интерфейс. Друг пример, е когато имаме задачи с много IO операции - писане или четене от файлове."
   ]
  },
  {
   "cell_type": "markdown",
   "metadata": {},
   "source": [
    "Ако искате да научите повече детайли за GIL, може да разгледате [тази](https://realpython.com/python-gil/) статия, или [този](https://www.youtube.com/watch?v=Obt-vMVdM8s) клип."
   ]
  },
  {
   "cell_type": "markdown",
   "metadata": {},
   "source": [
    "## Threads, round 2"
   ]
  },
  {
   "cell_type": "markdown",
   "metadata": {},
   "source": [
    "Освен начини за създаване на нишки, в `threading` библиотеката се намират и полезни инструменти за синхронизация между нишки. Синхронизацията между нишки представлява механизми, които осигуряват правилната работа със споделени ресурси между няколко нишки."
   ]
  },
  {
   "cell_type": "markdown",
   "metadata": {},
   "source": [
    "### Семафори"
   ]
  },
  {
   "cell_type": "markdown",
   "metadata": {},
   "source": [
    "Първият обект който ще разгледаме, е семафорът. Семафорът съдържа брояч, който ако е по-голям от 0, позволява на дадена нишка да влезе в т.нар. критична секция (да достъпи споделен ресурс между нишки). С влизането в тази критична секция на една нишка, брояча се намаля с 1. Когато една нишка излезе от критичната секция \"връща\" семафора (увеличава неговия брояч с 1). Ако друга нишка стигне до тази критична секция, и брояча на семафора е 0, нишката ще трябва да изчака докато брояча е отново по-голям от 0. \n",
    "\n",
    "В Python, семафора е реализиран в `Semaphore` класа. Той съдържа два основни метода - `acquire` и `release`. `acquire` метода проверява дали брояча е със стойност по-голяма от 0. Ако е така, намалява брояча с 1 и продължава напред. Ако брояча обаче е със стойност 0, изчаква докато брояча не стане > 1. `release` метода пък увеличава стойността на брояча с 1."
   ]
  },
  {
   "cell_type": "markdown",
   "metadata": {},
   "source": [
    "Ще разгледаме следния пример - имаме две нишки, всяка от която ще пише в общ списък. За да гарантираме, че във всеки даден момент само една нишка ще пише в списъка, ще използваме семафор. "
   ]
  },
  {
   "cell_type": "code",
   "execution_count": 8,
   "metadata": {},
   "outputs": [
    {
     "name": "stdout",
     "output_type": "stream",
     "text": [
      "Waiting to write in the list\n",
      "Wrote successfully in the list\n",
      "Waiting to write in the list\n",
      "Wrote successfully in the list\n",
      "[1, 2]\n"
     ]
    }
   ],
   "source": [
    "import threading\n",
    "\n",
    "def add_another_item_to_list(item: int, items: list[int], semaphore: threading.Semaphore):\n",
    "    print(\"Waiting to write in the list\")\n",
    "\n",
    "    semaphore.acquire()\n",
    "    items.append(item)\n",
    "    semaphore.release()\n",
    "\n",
    "    print(\"Wrote successfully in the list\")\n",
    "\n",
    "semaphore = threading.Semaphore(1)  # Стойността подадена в конструктора е началната стойност на брояча на семафора\n",
    "items = []\n",
    "t1 = threading.Thread(target=add_another_item_to_list, args=(1, items, semaphore))\n",
    "t2 = threading.Thread(target=add_another_item_to_list, args=(2, items, semaphore))\n",
    "\n",
    "t1.start()\n",
    "t2.start()\n",
    "\n",
    "print(items)\n"
   ]
  },
  {
   "cell_type": "markdown",
   "metadata": {},
   "source": [
    "Можем да използваме семафори и да подсигурим, че една нишка ще се изпълни преди която и да е друга. Нека този пъти имаме 3 нишки, и искаме да подсигурим, че нишка 1 ще се изпълни винаги преди 2 и 3."
   ]
  },
  {
   "cell_type": "code",
   "execution_count": 31,
   "metadata": {},
   "outputs": [
    {
     "name": "stdout",
     "output_type": "stream",
     "text": [
      "Waiting to write 3 in the list\n",
      "Waiting to write 2 in the list\n",
      "Waiting to write 1 in the list\n",
      "Successfully wrote 1 in the list\n",
      "Successfully wrote 3 in the list\n",
      "Successfully wrote 2 in the list\n",
      "[1, 3, 2]\n"
     ]
    }
   ],
   "source": [
    "import random\n",
    "import threading\n",
    "\n",
    "def add_another_item_to_list(item: int, items: list[int], semaphore: threading.Semaphore, is_first_thread: bool = False):\n",
    "    print(f\"Waiting to write {item} in the list\")\n",
    "\n",
    "    if not is_first_thread:\n",
    "        semaphore.acquire()\n",
    "\n",
    "    items.append(item)\n",
    "    semaphore.release()\n",
    "\n",
    "    print(f\"Successfully wrote {item} in the list\")\n",
    "\n",
    "semaphore = threading.Semaphore(0)  # Стойността подадена в конструктора е началната стойност на брояча на семафора\n",
    "items = []\n",
    "\n",
    "t1 = threading.Thread(target=add_another_item_to_list, args=(1, items, semaphore, True))\n",
    "t2 = threading.Thread(target=add_another_item_to_list, args=(2, items, semaphore))\n",
    "t3 = threading.Thread(target=add_another_item_to_list, args=(3, items, semaphore))\n",
    "\n",
    "threads = [t1, t2, t3]\n",
    "random.shuffle(threads)\n",
    "\n",
    "for thread in threads:\n",
    "    thread.start()\n",
    "\n",
    "for thread in threads:\n",
    "    thread.join()\n",
    "    \n",
    "print(items)"
   ]
  },
  {
   "cell_type": "markdown",
   "metadata": {},
   "source": [
    "### Event"
   ]
  },
  {
   "cell_type": "markdown",
   "metadata": {},
   "source": [
    "Нека разгледаме следната ситуация - имаме N на брой нишки, като първата от тях трябва да изпълни някакъв код, преди да могат да продължат другите. За цел синхронизация, трябва да имаме механизъм, чрез който всичко освен първата нишка да изчакат, докато първата нишка не каже че е приключила. \n",
    "\n",
    "Един начин по който можем да имплементираме това е със специален флаг - докато флага има стойност `False`, нашите нишки няма да се изпълняват. Когато флага стане `True`, имаме зелена светлина за изпълнението на останалите нишки.\n",
    "\n",
    "Python ни предлага удобен механизъм за решаването на този проблем - `Event` класа. Той разполага със следните методи:\n",
    "\n",
    "- `is_set()` - проверява дали флага е със стойност `True`\n",
    "- `set()` - задава стойност на флага `True`\n",
    "- `clear()` - изчиства стойноста на флага (задава се стойност `False`)\n",
    "- `wait()` - блокира текущата нишка, докато флага не стане `True`"
   ]
  },
  {
   "cell_type": "markdown",
   "metadata": {},
   "source": [
    "Нека разгледаме примера, в който една нишка ще направи някакви изчисления, ще ги запази в променлива, а друга нишка ще използват тази стойност."
   ]
  },
  {
   "cell_type": "code",
   "execution_count": 6,
   "metadata": {},
   "outputs": [
    {
     "name": "stdout",
     "output_type": "stream",
     "text": [
      "Calculating the variable...\n",
      "Starting other calculations...\n",
      "Done !\n",
      "The result is 1764\n"
     ]
    }
   ],
   "source": [
    "import threading\n",
    "import time\n",
    "\n",
    "constant = 0\n",
    "\n",
    "def calculate_variable(event_signalizer: threading.Event):\n",
    "    print(\"Calculating the variable...\")\n",
    "    time.sleep(1)\n",
    "\n",
    "    global constant\n",
    "    constant = 42\n",
    "    print(\"Done !\")\n",
    "    event_signalizer.set()\n",
    "\n",
    "def other_calculations(event_signalizer: threading.Event):\n",
    "    print(\"Starting other calculations...\")\n",
    "    event_signalizer.wait()\n",
    "    result = constant ** 2\n",
    "    print(f\"The result is {result}\")\n",
    "\n",
    "event = threading.Event()\n",
    "t1 = threading.Thread(target=calculate_variable, args=(event,))\n",
    "t2 = threading.Thread(target=other_calculations, args=(event, ))\n",
    "\n",
    "t1.start()\n",
    "t2.start()\n",
    "\n",
    "t1.join()\n",
    "t2.join()"
   ]
  },
  {
   "cell_type": "markdown",
   "metadata": {},
   "source": [
    "## \"Многопроцесност\"\n",
    "https://docs.python.org/3.10/library/multiprocessing.html#module-multiprocessing"
   ]
  },
  {
   "cell_type": "markdown",
   "metadata": {},
   "source": [
    "Един начин да заобиколим GIL-а, е да използваме множество процеси - така всяка задача има собствен Python интерпретатор (съответно и собствен GIL). `multiprocessing` библиотеката предоставя подобни на `threading` функции, чрез които можем да реализираме истинска паралелност. "
   ]
  },
  {
   "cell_type": "markdown",
   "metadata": {},
   "source": [
    "### Process"
   ]
  },
  {
   "cell_type": "markdown",
   "metadata": {},
   "source": [
    "Можем да стартираме нов процес, като инстанцираме обект от тип `Process` - той работи по същия начин както `Thread` класа."
   ]
  },
  {
   "cell_type": "code",
   "execution_count": 8,
   "metadata": {},
   "outputs": [
    {
     "name": "stdout",
     "output_type": "stream",
     "text": [
      "Hello, Lyubo\n"
     ]
    }
   ],
   "source": [
    "from multiprocessing import Process\n",
    "\n",
    "def hello_from_the_other_side(name: str):\n",
    "    print(f\"Hello, {name}\")\n",
    "\n",
    "p1 = Process(target=hello_from_the_other_side, args=(\"Lyubo\", ))\n",
    "p1.start()\n",
    "p1.join()"
   ]
  },
  {
   "cell_type": "markdown",
   "metadata": {},
   "source": [
    "Нека повторим примера с пресмятането на реда от по-горе, но този път ще използваме `Process` обекти, вместо `Thread` такива."
   ]
  },
  {
   "cell_type": "code",
   "execution_count": 9,
   "metadata": {},
   "outputs": [],
   "source": [
    "import math\n",
    "\n",
    "def calculate_partial_sum(start: int, end: int) -> int:\n",
    "    sum = 0\n",
    "    for k in range(start, end + 1):\n",
    "        numerator = (99 ** k)\n",
    "        denominator = (99 * (k+1)) ** 97\n",
    "        sum += numerator // denominator\n",
    "    \n",
    "    return sum"
   ]
  },
  {
   "cell_type": "code",
   "execution_count": 13,
   "metadata": {},
   "outputs": [
    {
     "name": "stdout",
     "output_type": "stream",
     "text": [
      "The call took 12.72 seconds\n"
     ]
    }
   ],
   "source": [
    "import time\n",
    "\n",
    "start = time.time()\n",
    "calculate_partial_sum(0, 24000)\n",
    "end = time.time()\n",
    "\n",
    "print(f'The call took {(end-start):.2f} seconds')"
   ]
  },
  {
   "cell_type": "code",
   "execution_count": 11,
   "metadata": {},
   "outputs": [
    {
     "name": "stdout",
     "output_type": "stream",
     "text": [
      "The 2 processes took 10.52 seconds\n"
     ]
    }
   ],
   "source": [
    "import time\n",
    "from multiprocessing import Process\n",
    "\n",
    "t1 = Process(target=calculate_partial_sum, args=(0, 12000))\n",
    "t2 = Process(target=calculate_partial_sum, args=(12001, 24000))\n",
    "\n",
    "start = time.time()\n",
    "t1.start()\n",
    "t2.start()\n",
    "\n",
    "while t1.is_alive() or t2.is_alive():\n",
    "    time.sleep(0.1)\n",
    "\n",
    "end = time.time()\n",
    "print(f'The 2 processes took {(end-start):.2f} seconds')"
   ]
  },
  {
   "cell_type": "code",
   "execution_count": 12,
   "metadata": {},
   "outputs": [
    {
     "name": "stdout",
     "output_type": "stream",
     "text": [
      "The 4 processes took 6.62 seconds\n"
     ]
    }
   ],
   "source": [
    "import time\n",
    "from multiprocessing import Process\n",
    "\n",
    "t1 = Process(target=calculate_partial_sum, args=(0, 6000))\n",
    "t2 = Process(target=calculate_partial_sum, args=(6001, 12000))\n",
    "t3 = Process(target=calculate_partial_sum, args=(12001, 18000))\n",
    "t4 = Process(target=calculate_partial_sum, args=(18001, 24000))\n",
    "\n",
    "start = time.time()\n",
    "t1.start()\n",
    "t2.start()\n",
    "t3.start()\n",
    "t4.start()\n",
    "\n",
    "while t1.is_alive() or t2.is_alive() or t3.is_alive() or t4.is_alive():\n",
    "    time.sleep(0.1)\n",
    "\n",
    "end = time.time()\n",
    "print(f'The 4 processes took {(end-start):.2f} seconds')"
   ]
  },
  {
   "cell_type": "markdown",
   "metadata": {},
   "source": [
    "Макар и не с много, виждаме подобрение във времето при скалирането от 1 процес на 2 процеса, и от 2 на 4 - това забавяне идва от предимно от баланса на задачите - втория процес има по-сложна задача, затова му отнема повече време."
   ]
  },
  {
   "cell_type": "markdown",
   "metadata": {},
   "source": [
    "### Комуникация между процеси"
   ]
  },
  {
   "cell_type": "markdown",
   "metadata": {},
   "source": [
    "Имаме няколко варианта за комуникация между процесите - Queue, pipe, споделена памет и т.нар. \"сървърен процес\""
   ]
  },
  {
   "cell_type": "markdown",
   "metadata": {},
   "source": [
    "#### Queue"
   ]
  },
  {
   "cell_type": "markdown",
   "metadata": {},
   "source": [
    "Можем да създадем опашка, която да бъде споделена между процеси - тя е синхронизирана, т.е. няма риск от race conditions."
   ]
  },
  {
   "cell_type": "code",
   "execution_count": 2,
   "metadata": {},
   "outputs": [
    {
     "name": "stdout",
     "output_type": "stream",
     "text": [
      "Amount of items in the Queue: 2\n",
      "Item in the Queue: 10\n",
      "Item in the Queue: 4\n"
     ]
    }
   ],
   "source": [
    "import random\n",
    "from multiprocessing import Process, Queue\n",
    "\n",
    "def put_in_the_queue(q):\n",
    "    q.put(random.randint(0, 10))\n",
    "\n",
    "q = Queue()\n",
    "p1 = Process(target=put_in_the_queue, args=(q, ))\n",
    "p2 = Process(target=put_in_the_queue, args=(q, ))\n",
    "\n",
    "p1.start()\n",
    "p2.start()\n",
    "\n",
    "p1.join()\n",
    "p2.join()\n",
    "\n",
    "print(f'Amount of items in the Queue: {q.qsize()}')\n",
    "\n",
    "while q.qsize() > 0:\n",
    "    print(f'Item in the Queue: {q.get()}')"
   ]
  },
  {
   "cell_type": "markdown",
   "metadata": {},
   "source": [
    "#### Pipe"
   ]
  },
  {
   "cell_type": "markdown",
   "metadata": {},
   "source": [
    "Вместо опашка, която е обща за всички процеси/нишки, можем да използваме \"тръба\" (пайп), свързана към два процеса/нишки. Тя позволява двупосочна комуникация между процеси. Извикването на `Pipe` ни връща два обекта - пайп през който можем да изпращаме данни, и пайп през който можем да получаваме данни. С подаване на `duplex` аргумента със стойност `True`, двата пайпа получават възможността за четене и писане.  Чрез методите `send` и `recv` може да изпращаме и получаваме съобщения по Pipe-а. `recv` блокира процеса/нишката, докато не се получи съобщение, което да се обработи."
   ]
  },
  {
   "cell_type": "code",
   "execution_count": 3,
   "metadata": {},
   "outputs": [
    {
     "name": "stdout",
     "output_type": "stream",
     "text": [
      "Sending a message\n",
      "Received a message: 42\n"
     ]
    }
   ],
   "source": [
    "import time\n",
    "from multiprocessing import Process, Pipe, connection\n",
    "\n",
    "def wait_and_send(pipe: connection.Connection):\n",
    "    print(\"Sending a message\")\n",
    "    time.sleep(1)\n",
    "    pipe.send(42)\n",
    "\n",
    "def receive_and_print(pipe: connection.Connection):\n",
    "    msg = pipe.recv()\n",
    "    print(f\"Received a message: {msg}\")\n",
    "\n",
    "send_pipe, receive_pipe = Pipe()\n",
    "p1 = Process(target=wait_and_send, args=(send_pipe, ))\n",
    "p2 = Process(target=receive_and_print, args=(receive_pipe, ))\n",
    "\n",
    "p1.start()\n",
    "p2.start()\n",
    "\n",
    "p1.join()\n",
    "p2.join()"
   ]
  },
  {
   "cell_type": "markdown",
   "metadata": {},
   "source": [
    "#### Shared memory"
   ]
  },
  {
   "cell_type": "markdown",
   "metadata": {},
   "source": [
    "Ако пък искаме да използваме директно споделена памет под някакъв вид (променлива или масив), можем да заделим така с помощта на класовете `Value` и `Array`."
   ]
  },
  {
   "cell_type": "code",
   "execution_count": 11,
   "metadata": {},
   "outputs": [
    {
     "name": "stdout",
     "output_type": "stream",
     "text": [
      "The result is 28.260000228881836\n"
     ]
    }
   ],
   "source": [
    "from multiprocessing import Process, Value\n",
    "\n",
    "def calculate_area(radius: float, pi: Value, result: Value):\n",
    "    result.value = pi.value * (radius ** 2)\n",
    "\n",
    "pi = Value('f', 3.14)\n",
    "result = Value('f')\n",
    "\n",
    "p1 = Process(target=calculate_area, args=(3, pi, result))\n",
    "p1.start()\n",
    "p1.join()\n",
    "\n",
    "print(f'The result is {result.value}')\n"
   ]
  },
  {
   "cell_type": "code",
   "execution_count": 21,
   "metadata": {},
   "outputs": [
    {
     "name": "stdout",
     "output_type": "stream",
     "text": [
      "The array contains 5 items\n",
      "3\n",
      "25\n",
      "82\n",
      "51\n",
      "96\n"
     ]
    }
   ],
   "source": [
    "import random\n",
    "from multiprocessing import Process, Array, Value\n",
    "\n",
    "def add_to_array(arr: Array, free_index: Value):\n",
    "    arr[free_index.value] = random.randint(0, 100)\n",
    "    free_index.value = free_index.value + 1\n",
    "\n",
    "free_index = Value('i', 0)\n",
    "arr = Array('i', 5)\n",
    "\n",
    "p1 = Process(target=add_to_array, args=(arr, free_index))\n",
    "p2 = Process(target=add_to_array, args=(arr, free_index))\n",
    "p3 = Process(target=add_to_array, args=(arr, free_index))\n",
    "p4 = Process(target=add_to_array, args=(arr, free_index))\n",
    "p5 = Process(target=add_to_array, args=(arr, free_index))\n",
    "\n",
    "procs = [p1, p2, p3, p4, p5]\n",
    "\n",
    "for proc in procs:\n",
    "    proc.start()\n",
    "\n",
    "for proc in procs:\n",
    "    proc.join()\n",
    "\n",
    "print(f'The array contains {len(arr)} items')\n",
    "\n",
    "for i in arr:\n",
    "    print(i)"
   ]
  },
  {
   "cell_type": "markdown",
   "metadata": {},
   "source": [
    "\n",
    "## asyncio\n",
    "https://docs.python.org/3.10/library/asyncio.html#module-asyncio"
   ]
  },
  {
   "cell_type": "markdown",
   "metadata": {},
   "source": [
    "Една от по-интересните (и полезни) функционалности в Python, е поддържката на `async/await` синтаксиса. Благодарение на него, можем да реализираме асинхронни IO операции. Модулът `asyncio` ни дава множество функции и обекти свързани с async IO в Python."
   ]
  },
  {
   "cell_type": "markdown",
   "metadata": {},
   "source": [
    "### Какво са async IO и coroutines ?"
   ]
  },
  {
   "cell_type": "markdown",
   "metadata": {},
   "source": [
    "Async IO е вид конкурентно изпълнение на функции - асинхроността ни дава възможност да \"спрем\" изпълнението на дадена функция в един момент докато те изчакват някакъв ресурс, и да дадем контрола на друга такава функция. Тези функции, които имат възможността да бъдат спирани и продължавани се наричат корутини (coroutines). Основната разлика с многонишковото и многопроцесорното програмиране е, че тук използваме един процес и една нишка.\n",
    "\n",
    "Async IO ни позволява да изпълняваме coroutines в т.нар. event loop - докато една coroutine чака, event loop-а може да пусне друга да се изпълнява."
   ]
  },
  {
   "cell_type": "markdown",
   "metadata": {},
   "source": [
    "Нека разгледаме една проста функция, и нейния coroutine еквивалент:"
   ]
  },
  {
   "cell_type": "code",
   "execution_count": 32,
   "metadata": {},
   "outputs": [],
   "source": [
    "def add(x: int, y: int) -> int:\n",
    "    return x + y\n",
    "\n",
    "async def add(x: int, y: int) -> int:\n",
    "    return x + y"
   ]
  },
  {
   "cell_type": "markdown",
   "metadata": {},
   "source": [
    "За да изпълним дадената функция, трябва да я добавим към текущия event loop. Може да си представим event loop-а като безкраен цикъл, който изпълнява нашите функции в дадено време. \n",
    "\n",
    "От нас се изисква да пуснем event loop-а, да добавим нашата coroutine в списъка за изпълнение и да спрем loop-а след като функцията ни е изпълнена - това може да бъде изпълнено чрез ключовата дума `await`"
   ]
  },
  {
   "cell_type": "code",
   "execution_count": 36,
   "metadata": {},
   "outputs": [
    {
     "name": "stdout",
     "output_type": "stream",
     "text": [
      "5\n"
     ]
    }
   ],
   "source": [
    "import asyncio\n",
    "\n",
    "async def add(x: int, y: int) -> int:\n",
    "    return x + y\n",
    "\n",
    "result = await add(2, 3)\n",
    "print(result)"
   ]
  },
  {
   "cell_type": "markdown",
   "metadata": {},
   "source": [
    "С помощта на `await`, ние казваме - добави тази функция в event loop-а, и когато се изпълни, вземи резултата, и го принтирай на екрана."
   ]
  },
  {
   "cell_type": "markdown",
   "metadata": {},
   "source": [
    "Нека разгледаме следните две функции - `fast_hi` и `slow_hi` - едната ще изчака 1 секунда, и ще изпише \"Hi\", а другата ще изчака 3 секунди, преди да изпише \"Hi\""
   ]
  },
  {
   "cell_type": "code",
   "execution_count": 41,
   "metadata": {},
   "outputs": [
    {
     "name": "stdout",
     "output_type": "stream",
     "text": [
      "Starting fast hi\n",
      "Fast said hi\n",
      "Starting slow hi\n",
      "Slow said hi\n"
     ]
    }
   ],
   "source": [
    "import asyncio\n",
    "\n",
    "async def fast_hi():\n",
    "    print(\"Starting fast hi\")\n",
    "    await asyncio.sleep(1)\n",
    "    print(\"Fast said hi\")\n",
    "\n",
    "async def slow_hi():\n",
    "    print(\"Starting slow hi\")\n",
    "    await asyncio.sleep(3)\n",
    "    print(\"Slow said hi\")\n",
    "\n",
    "await fast_hi()\n",
    "await slow_hi()"
   ]
  },
  {
   "cell_type": "markdown",
   "metadata": {},
   "source": [
    "В текущото изпълнение, двете ни функции работят последователно. Но можем да ги накараме да работят конкурентно, като ги превърнем в задачи `Task`."
   ]
  },
  {
   "cell_type": "code",
   "execution_count": 44,
   "metadata": {},
   "outputs": [
    {
     "name": "stdout",
     "output_type": "stream",
     "text": [
      "Starting slow hi\n",
      "Starting fast hi\n",
      "Fast said hi\n",
      "Slow said hi\n"
     ]
    }
   ],
   "source": [
    "import asyncio\n",
    "\n",
    "async def fast_hi():\n",
    "    print(\"Starting fast hi\")\n",
    "    await asyncio.sleep(1)\n",
    "    print(\"Fast said hi\")\n",
    "\n",
    "async def slow_hi():\n",
    "    print(\"Starting slow hi\")\n",
    "    await asyncio.sleep(3)\n",
    "    print(\"Slow said hi\")\n",
    "\n",
    "slow_task = asyncio.create_task(slow_hi())\n",
    "fast_task = asyncio.create_task(fast_hi())\n",
    "\n",
    "await slow_task\n",
    "await fast_task"
   ]
  },
  {
   "cell_type": "markdown",
   "metadata": {},
   "source": [
    "За превръщането на coroutine в `Task` използваме `asyncio.create_task`. При текущата подредба, `slow_task` започва първа изпълнението си, и достига до 3-секундното чакане. Вместо да седи и да не прави нищо, изпълнението се сменя върху `fast_task`, докато изчакваме нашия 3-секунден `sleep` да приключи."
   ]
  },
  {
   "cell_type": "markdown",
   "metadata": {},
   "source": [
    "До момента трябваше ръчно да създаваме coroutines и техните Task-ове. Но всъщност ние можем и динамично да правим извиквания към вече дефинираната ни coroutine. За целта използваме `asyncio.gather`. Нека имаме coroutine, който има за цел да умножи две числа и да върне резултата. Също така, нека имаме даден наброй входа. Искаме да извършим операциите върху тях асинхронно."
   ]
  },
  {
   "cell_type": "code",
   "execution_count": 45,
   "metadata": {},
   "outputs": [
    {
     "name": "stdout",
     "output_type": "stream",
     "text": [
      "[16, 12, 8, -9]\n"
     ]
    }
   ],
   "source": [
    "import asyncio\n",
    "\n",
    "async def multiply(a: int, b: int) -> int:\n",
    "    return a * b\n",
    "\n",
    "inputs = [(8, 2), (1, 12), (-2, -4), (3, -3)]\n",
    "\n",
    "coroutines = [multiply(first, second) for first, second in inputs]\n",
    "\n",
    "results = await asyncio.gather(*coroutines)\n",
    "\n",
    "print(results)"
   ]
  },
  {
   "cell_type": "markdown",
   "metadata": {},
   "source": [
    "`asyncio` е обширна тема, която няма да покрием изцяло в курса. Оставяме няколко полезни линка, за тези които искат да навлязат по-надълбоко с `asyncio`.\n",
    "\n",
    "- https://realpython.com/async-io-python/#async-io-in-context\n",
    "- https://docs.python.org/3.10/library/asyncio.html#module-asyncio\n",
    "- https://www.goodreads.com/book/show/50083143-using-asyncio-in-python"
   ]
  },
  {
   "cell_type": "markdown",
   "metadata": {},
   "source": [
    "## Примери"
   ]
  },
  {
   "cell_type": "markdown",
   "metadata": {},
   "source": [
    "WIP"
   ]
  }
 ],
 "metadata": {
  "kernelspec": {
   "display_name": "Python 3.10.7 64-bit",
   "language": "python",
   "name": "python3"
  },
  "language_info": {
   "codemirror_mode": {
    "name": "ipython",
    "version": 3
   },
   "file_extension": ".py",
   "mimetype": "text/x-python",
   "name": "python",
   "nbconvert_exporter": "python",
   "pygments_lexer": "ipython3",
   "version": "3.10.8"
  },
  "vscode": {
   "interpreter": {
    "hash": "e7370f93d1d0cde622a1f8e1c04877d8463912d04d973331ad4851f04de6915a"
   }
  }
 },
 "nbformat": 4,
 "nbformat_minor": 0
}
