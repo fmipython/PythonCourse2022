{
 "cells": [
  {
   "attachments": {},
   "cell_type": "markdown",
   "metadata": {},
   "source": [
    "# Модули и пакети"
   ]
  },
  {
   "cell_type": "markdown",
   "metadata": {},
   "source": [
    "## Какво е модул?\n",
    "\n",
    "Всеки един Python файл (.py) на практика е модул. Освен това е възможно библиотека, написана на С, и вмъкната динамично също да бъде модул. Третия тип модули са вградените в езика такива.\n",
    "\n",
    "В тази лекция се фокусираме върху първия тип и модули и как можем да ги създаваме, вмъкваме и боравим с тях."
   ]
  },
  {
   "cell_type": "markdown",
   "metadata": {},
   "source": [
    "## Как да създам модул?"
   ]
  },
  {
   "cell_type": "markdown",
   "metadata": {},
   "source": [
    "Казахме, че всеки Python файл е валиден модул. \n",
    "\n",
    "Нека създадем един такъв с няколко дефиниции вътре (в папката с тази тетрадка вече би трябвало да се съдържа файл `hitchhikers.py`)."
   ]
  },
  {
   "cell_type": "markdown",
   "metadata": {},
   "source": [
    "## `import`"
   ]
  },
  {
   "cell_type": "markdown",
   "metadata": {},
   "source": [
    "Имената, функциите и класовете, които създадохме в този файл, не могат да бъдат достъпени директно от друг файл:"
   ]
  },
  {
   "cell_type": "code",
   "execution_count": 1,
   "metadata": {},
   "outputs": [
    {
     "ename": "NameError",
     "evalue": "name 'compute' is not defined",
     "output_type": "error",
     "traceback": [
      "\u001b[0;31m---------------------------------------------------------------------------\u001b[0m",
      "\u001b[0;31mNameError\u001b[0m                                 Traceback (most recent call last)",
      "Cell \u001b[0;32mIn[1], line 1\u001b[0m\n\u001b[0;32m----> 1\u001b[0m compute()\n",
      "\u001b[0;31mNameError\u001b[0m: name 'compute' is not defined"
     ]
    }
   ],
   "source": [
    "compute()"
   ]
  },
  {
   "cell_type": "markdown",
   "metadata": {},
   "source": [
    "Можем обаче да ги вмъкнем в друг файл (модул) чрез `import {името_на_модула}` (името на файла преди разширението `.py` се превръща в име на модула):"
   ]
  },
  {
   "cell_type": "code",
   "execution_count": 2,
   "metadata": {},
   "outputs": [
    {
     "name": "stdout",
     "output_type": "stream",
     "text": [
      "Hm, I'll have to think about that. Return to this place in exactly 7.5 million years...\n"
     ]
    },
    {
     "data": {
      "text/plain": [
       "42"
      ]
     },
     "execution_count": 2,
     "metadata": {},
     "output_type": "execute_result"
    }
   ],
   "source": [
    "import hitchhikers\n",
    "\n",
    "hitchhikers.compute()"
   ]
  },
  {
   "cell_type": "markdown",
   "metadata": {},
   "source": [
    "`import` освен, че интерпретира целия код на модула, добавя имената и дефинициите в един обект от тип модул, имащ името на модула. Затова и ги достъпваме чрез `името_на_модула.име_на_обекта`."
   ]
  },
  {
   "cell_type": "markdown",
   "metadata": {},
   "source": [
    "Какво се съдържа в един модул можем лесно да видим с `dir()`:"
   ]
  },
  {
   "cell_type": "code",
   "execution_count": 3,
   "metadata": {},
   "outputs": [
    {
     "data": {
      "text/plain": [
       "['ANSWER',\n",
       " 'TheGreatDeepThought',\n",
       " '__builtins__',\n",
       " '__cached__',\n",
       " '__doc__',\n",
       " '__file__',\n",
       " '__loader__',\n",
       " '__name__',\n",
       " '__package__',\n",
       " '__spec__',\n",
       " 'compute']"
      ]
     },
     "execution_count": 3,
     "metadata": {},
     "output_type": "execute_result"
    }
   ],
   "source": [
    "dir(hitchhikers)"
   ]
  },
  {
   "cell_type": "code",
   "execution_count": 4,
   "metadata": {},
   "outputs": [
    {
     "data": {
      "text/plain": [
       "42"
      ]
     },
     "execution_count": 4,
     "metadata": {},
     "output_type": "execute_result"
    }
   ],
   "source": [
    "hitchhikers.ANSWER"
   ]
  },
  {
   "cell_type": "code",
   "execution_count": 5,
   "metadata": {},
   "outputs": [
    {
     "name": "stdout",
     "output_type": "stream",
     "text": [
      "Shush! The show is back on.\n"
     ]
    }
   ],
   "source": [
    "computer = hitchhikers.TheGreatDeepThought()\n",
    "computer.ask()"
   ]
  },
  {
   "cell_type": "code",
   "execution_count": 6,
   "metadata": {},
   "outputs": [
    {
     "data": {
      "text/plain": [
       "'hitchhikers'"
      ]
     },
     "execution_count": 6,
     "metadata": {},
     "output_type": "execute_result"
    }
   ],
   "source": [
    "hitchhikers.__name__"
   ]
  },
  {
   "cell_type": "code",
   "execution_count": 7,
   "metadata": {},
   "outputs": [
    {
     "data": {
      "text/plain": [
       "['In',\n",
       " 'Out',\n",
       " '_',\n",
       " '_2',\n",
       " '_3',\n",
       " '_4',\n",
       " '_6',\n",
       " '__',\n",
       " '___',\n",
       " '__builtin__',\n",
       " '__builtins__',\n",
       " '__doc__',\n",
       " '__loader__',\n",
       " '__name__',\n",
       " '__package__',\n",
       " '__spec__',\n",
       " '__vsc_ipynb_file__',\n",
       " '_dh',\n",
       " '_i',\n",
       " '_i1',\n",
       " '_i2',\n",
       " '_i3',\n",
       " '_i4',\n",
       " '_i5',\n",
       " '_i6',\n",
       " '_i7',\n",
       " '_ih',\n",
       " '_ii',\n",
       " '_iii',\n",
       " '_oh',\n",
       " 'computer',\n",
       " 'exit',\n",
       " 'get_ipython',\n",
       " 'hitchhikers',\n",
       " 'open',\n",
       " 'os',\n",
       " 'quit',\n",
       " 'sys']"
      ]
     },
     "execution_count": 7,
     "metadata": {},
     "output_type": "execute_result"
    }
   ],
   "source": [
    "dir()  # by default it shows the contents of the *current* module"
   ]
  },
  {
   "cell_type": "code",
   "execution_count": 8,
   "metadata": {},
   "outputs": [
    {
     "data": {
      "text/plain": [
       "'__main__'"
      ]
     },
     "execution_count": 8,
     "metadata": {},
     "output_type": "execute_result"
    }
   ],
   "source": [
    "__name__"
   ]
  },
  {
   "cell_type": "markdown",
   "metadata": {},
   "source": [
    "## Добре, обаче `import` къде точно търси?"
   ]
  },
  {
   "cell_type": "markdown",
   "metadata": {},
   "source": [
    "1. Директорията, в която се намира Python скрипта, който се изпълнява (или текущата, ако интерпретаторът е пуснат интерактивно)\n",
    "2. Директориите, които са описани в `PYTHONPATH` променливата на средата\n",
    "3. Лист от директории, зададен по време на инсталацията на Python"
   ]
  },
  {
   "cell_type": "markdown",
   "metadata": {},
   "source": [
    "Този списък от възможни директории може да се види със `sys.path`:"
   ]
  },
  {
   "cell_type": "code",
   "execution_count": 9,
   "metadata": {},
   "outputs": [
    {
     "data": {
      "text/plain": [
       "['/Users/alexander.ignatov/Documents/PythonCourse2022/13 - Modules',\n",
       " '/Users/alexander.ignatov/.vscode/extensions/ms-toolsai.jupyter-2022.11.1003412109/pythonFiles',\n",
       " '/Users/alexander.ignatov/.vscode/extensions/ms-toolsai.jupyter-2022.11.1003412109/pythonFiles/lib/python',\n",
       " '/opt/homebrew/Cellar/python@3.10/3.10.8/Frameworks/Python.framework/Versions/3.10/lib/python310.zip',\n",
       " '/opt/homebrew/Cellar/python@3.10/3.10.8/Frameworks/Python.framework/Versions/3.10/lib/python3.10',\n",
       " '/opt/homebrew/Cellar/python@3.10/3.10.8/Frameworks/Python.framework/Versions/3.10/lib/python3.10/lib-dynload',\n",
       " '',\n",
       " '/Users/alexander.ignatov/Documents/PythonCourse2022/venv/lib/python3.10/site-packages']"
      ]
     },
     "execution_count": 9,
     "metadata": {},
     "output_type": "execute_result"
    }
   ],
   "source": [
    "import sys\n",
    "sys.path"
   ]
  },
  {
   "cell_type": "markdown",
   "metadata": {},
   "source": [
    "## Варианти на `import`"
   ]
  },
  {
   "cell_type": "markdown",
   "metadata": {},
   "source": [
    "С `from {module} import {something}, {something_else}, ...` можем да импортираме само определени имена от модула, като те биват добавени към съдържанието на текущия (т.е. достъпваме ги без името на оригиналния модул и точка отпред):"
   ]
  },
  {
   "cell_type": "code",
   "execution_count": 10,
   "metadata": {},
   "outputs": [
    {
     "name": "stdout",
     "output_type": "stream",
     "text": [
      "Hm, I'll have to think about that. Return to this place in exactly 7.5 million years...\n"
     ]
    },
    {
     "data": {
      "text/plain": [
       "42"
      ]
     },
     "execution_count": 10,
     "metadata": {},
     "output_type": "execute_result"
    }
   ],
   "source": [
    "from hitchhikers import compute\n",
    "compute()"
   ]
  },
  {
   "cell_type": "markdown",
   "metadata": {},
   "source": [
    "С `from {module} import {something} as {alias}, {something_else} as {other_alias}, ...` можем да прекръстим импортираните имена:"
   ]
  },
  {
   "cell_type": "code",
   "execution_count": 11,
   "metadata": {},
   "outputs": [
    {
     "name": "stdout",
     "output_type": "stream",
     "text": [
      "Shush! The show is back on.\n"
     ]
    },
    {
     "data": {
      "text/plain": [
       "False"
      ]
     },
     "execution_count": 11,
     "metadata": {},
     "output_type": "execute_result"
    }
   ],
   "source": [
    "from hitchhikers import ANSWER, TheGreatDeepThought as Computer\n",
    "comp = Computer()\n",
    "comp.ask() == ANSWER"
   ]
  },
  {
   "cell_type": "code",
   "execution_count": 12,
   "metadata": {},
   "outputs": [
    {
     "data": {
      "text/plain": [
       "True"
      ]
     },
     "execution_count": 12,
     "metadata": {},
     "output_type": "execute_result"
    }
   ],
   "source": [
    "\"ANSWER\" in dir()"
   ]
  },
  {
   "cell_type": "markdown",
   "metadata": {},
   "source": [
    "Ако искаме абсолютно всички имена на вмъкнем и ползваме в текущия модул по този начин (без тези, започващи с подчертавка `_`), можем да използваме астериск `*`:"
   ]
  },
  {
   "cell_type": "code",
   "execution_count": 13,
   "metadata": {},
   "outputs": [],
   "source": [
    "# изпълни тази клетка ако си изпълнил горните, за да се зачистят import-ите\n",
    "del hitchhikers, ANSWER, compute, Computer"
   ]
  },
  {
   "cell_type": "code",
   "execution_count": 14,
   "metadata": {},
   "outputs": [
    {
     "name": "stdout",
     "output_type": "stream",
     "text": [
      "Hm, I'll have to think about that. Return to this place in exactly 7.5 million years...\n"
     ]
    },
    {
     "data": {
      "text/plain": [
       "True"
      ]
     },
     "execution_count": 14,
     "metadata": {},
     "output_type": "execute_result"
    }
   ],
   "source": [
    "from hitchhikers import *\n",
    "\n",
    "compute() == ANSWER"
   ]
  },
  {
   "cell_type": "markdown",
   "metadata": {},
   "source": [
    "Лимитация на астерикс синтаксиса е, че не може да използва в блок (може само на най-външното ниво на модула):"
   ]
  },
  {
   "cell_type": "code",
   "execution_count": 15,
   "metadata": {},
   "outputs": [],
   "source": [
    "del compute, ANSWER, TheGreatDeepThought"
   ]
  },
  {
   "cell_type": "code",
   "execution_count": 16,
   "metadata": {},
   "outputs": [
    {
     "ename": "SyntaxError",
     "evalue": "import * only allowed at module level (1537905421.py, line 2)",
     "output_type": "error",
     "traceback": [
      "\u001b[0;36m  Cell \u001b[0;32mIn[16], line 2\u001b[0;36m\u001b[0m\n\u001b[0;31m    from hitchhikers import *  # 💥\u001b[0m\n\u001b[0m                            ^\u001b[0m\n\u001b[0;31mSyntaxError\u001b[0m\u001b[0;31m:\u001b[0m import * only allowed at module level\n"
     ]
    }
   ],
   "source": [
    "def obtain_answer():\n",
    "    from hitchhikers import *  # 💥\n",
    "    return compute()"
   ]
  },
  {
   "cell_type": "markdown",
   "metadata": {},
   "source": [
    "Както казахме, по подразбиране from {module} import * вмъква абсолютно всички имена от `module`, които не започват с подчертавка. Имаме всъщност контрол над това, кое може да се вмъкне чрез астерикс, като дефинираме `__all__` във въпросния модул. Стойността му е лист от всички имена, които ще бъдат вмъкнати от `*`.\n",
    "\n",
    "*Пример*:\n",
    "\n",
    "След добавяне на\n",
    "```python\n",
    "__all__ = ['compute', 'TheGreatDeepThought']\n",
    "```\n",
    "в `hitchhikers.py`, следният код, изпълнен в `script.py` (в същата директория) ще хвърли `NameError`:\n",
    "```python\n",
    "from hitchhikers import *\n",
    "print(hitchhikers.ANSWER)  # 💥\n",
    "```"
   ]
  },
  {
   "cell_type": "markdown",
   "metadata": {},
   "source": [
    "## Пакети"
   ]
  },
  {
   "cell_type": "markdown",
   "metadata": {},
   "source": [
    "Пакет e набор от модули. За Python всяка директория, в която има модули, се превръща в пакет (package).\n",
    "\n",
    "*Note*: Във версии по-ранни от Python 3.3 трябва задължително в директорията да има файл с име `__init__.py`."
   ]
  },
  {
   "cell_type": "markdown",
   "metadata": {},
   "source": [
    "В директорията на тетрадката би трябвало да има папка `game`, съдържаща няколко файла и папки:"
   ]
  },
  {
   "cell_type": "code",
   "execution_count": 17,
   "metadata": {},
   "outputs": [
    {
     "name": "stdout",
     "output_type": "stream",
     "text": [
      "\u001b[01;34mgame\u001b[0m\n",
      "├── \u001b[00mengine.py\u001b[0m\n",
      "├── \u001b[00mlevel.py\u001b[0m\n",
      "├── \u001b[00mplayer.py\u001b[0m\n",
      "└── \u001b[01;34mplayers\u001b[0m\n",
      "    ├── \u001b[00mai.py\u001b[0m\n",
      "    ├── \u001b[00minput_player.py\u001b[0m\n",
      "    └── \u001b[00mmock_player.py\u001b[0m\n",
      "\n",
      "1 directory, 6 files\n"
     ]
    }
   ],
   "source": [
    "!tree game"
   ]
  },
  {
   "cell_type": "markdown",
   "metadata": {},
   "source": [
    "В горния пример `game` е пакет, съдържащ модулите `engine`, `level` и `player`. Освен тях, той съдържа и подпакетът `players`."
   ]
  },
  {
   "cell_type": "markdown",
   "metadata": {},
   "source": [
    "Ако искаме да вмъкнем някой модул от пакета, можем да го направим чрез името на пакета (или всички пакети по веригата, разделени с точка), последвано от точка и името на въпросния модул:"
   ]
  },
  {
   "cell_type": "code",
   "execution_count": 18,
   "metadata": {},
   "outputs": [
    {
     "data": {
      "text/plain": [
       "Level(word='SCRIPT', failed_attempts=10)"
      ]
     },
     "execution_count": 18,
     "metadata": {},
     "output_type": "execute_result"
    }
   ],
   "source": [
    "import game.level\n",
    "\n",
    "game.level.EASY"
   ]
  },
  {
   "cell_type": "code",
   "execution_count": 19,
   "metadata": {},
   "outputs": [
    {
     "data": {
      "text/plain": [
       "<game.players.ai.AI at 0x107ab4610>"
      ]
     },
     "execution_count": 19,
     "metadata": {},
     "output_type": "execute_result"
    }
   ],
   "source": [
    "import game.players.ai\n",
    "\n",
    "game.players.ai.AI(10)"
   ]
  },
  {
   "cell_type": "markdown",
   "metadata": {},
   "source": [
    "Вече въведените по-горе синтактични варианти на `import` също важат:"
   ]
  },
  {
   "cell_type": "code",
   "execution_count": 20,
   "metadata": {},
   "outputs": [],
   "source": [
    "from game.players.ai import AI\n",
    "from game.level import EASY as easy, MEDIUM as medium, HARD as hard\n",
    "from game.engine import *"
   ]
  },
  {
   "cell_type": "markdown",
   "metadata": {},
   "source": [
    "Освен това, можем и да вмъкнем модули чрез `from {package} import {module} [as {alias}], ...`:"
   ]
  },
  {
   "cell_type": "code",
   "execution_count": 21,
   "metadata": {},
   "outputs": [
    {
     "name": "stdout",
     "output_type": "stream",
     "text": [
      "Level(word='SCRIPT', failed_attempts=10)\n",
      "<enum 'GameState'>\n"
     ]
    }
   ],
   "source": [
    "from game import level, engine\n",
    "\n",
    "print(level.EASY)\n",
    "print(engine.GameState)"
   ]
  },
  {
   "cell_type": "markdown",
   "metadata": {},
   "source": [
    "## `__init__.py`"
   ]
  },
  {
   "cell_type": "markdown",
   "metadata": {},
   "source": [
    "На теория можем и да импортнем само пакета. По подразбиране това няма да добави нови модули и имена:"
   ]
  },
  {
   "cell_type": "code",
   "execution_count": 22,
   "metadata": {},
   "outputs": [],
   "source": [
    "del game.level, game.player, game.engine  # зачисти тетрадката от предните импорти"
   ]
  },
  {
   "cell_type": "code",
   "execution_count": 23,
   "metadata": {},
   "outputs": [
    {
     "ename": "AttributeError",
     "evalue": "module 'game' has no attribute 'level'",
     "output_type": "error",
     "traceback": [
      "\u001b[0;31m---------------------------------------------------------------------------\u001b[0m",
      "\u001b[0;31mAttributeError\u001b[0m                            Traceback (most recent call last)",
      "Cell \u001b[0;32mIn[23], line 3\u001b[0m\n\u001b[1;32m      1\u001b[0m \u001b[39mimport\u001b[39;00m \u001b[39mgame\u001b[39;00m\n\u001b[0;32m----> 3\u001b[0m game\u001b[39m.\u001b[39;49mlevel  \u001b[39m# 💥\u001b[39;00m\n",
      "\u001b[0;31mAttributeError\u001b[0m: module 'game' has no attribute 'level'"
     ]
    }
   ],
   "source": [
    "import game\n",
    "\n",
    "game.level  # 💥"
   ]
  },
  {
   "cell_type": "markdown",
   "metadata": {},
   "source": [
    "Ако искаме да добавим и модули от пакета при импортирането му, можем да ги импортнем в `__init__.py`, намиращ се в директорията на пакета.\n",
    "\n",
    "Т.е. ако в `game/__init__.py` имаме:\n",
    "```python\n",
    "import game.engine, game.level, game.player\n",
    "```\n",
    "\n",
    "то можем да импортнем пакета `game` и да използваме всички модули от него:\n",
    "```python\n",
    "# в друг файл, извън пакета `game`:\n",
    "import game\n",
    "print(game.level.EASY)  # no error\n",
    "```"
   ]
  },
  {
   "cell_type": "markdown",
   "metadata": {},
   "source": [
    "В `__init__.py` можем да напишем какъвто искаме инициализационен код, глобален за всички модули в пакета. Съдържанието на скрипта се изпълнява веднага при импортиране на пакета."
   ]
  },
  {
   "cell_type": "markdown",
   "metadata": {},
   "source": [
    "Както при модулите, така и тука можем да дефинираме поведението на `from {package} import *` чрез `__all__`. По подразбиране, както видяхме за `import {package}`, това е празен списък, т.е. нищо няма да се вмъкне (за разлика от поведението при модулите, когато се вмъква абсолютно всяко име от модула, което не започва с подчертавка).\n",
    "\n",
    "Т.е. ако напишем в `game/__init__.py`:\n",
    "\n",
    "```python\n",
    "__all__ = [\"engine\", \"level\", \"player\"]\n",
    "```\n",
    "\n",
    "то ще можем:\n",
    "\n",
    "```python\n",
    "# в друг файл, извън пакета `game`:\n",
    "from game import *\n",
    "print(level.EASY)  # no error\n",
    "```"
   ]
  },
  {
   "cell_type": "markdown",
   "metadata": {},
   "source": [
    "## Релативни импорти"
   ]
  },
  {
   "cell_type": "markdown",
   "metadata": {},
   "source": [
    "Дотук разгледахме примерни за **абсолютни** импорти, т.е. достъпът до даден модул от рамките на пакета или извън него става през пътя от пакета до модула, например `game.players.ai` достъпва модулът `ai` от пакета `players` в пакета `game`.\n"
   ]
  },
  {
   "cell_type": "code",
   "execution_count": 24,
   "metadata": {},
   "outputs": [],
   "source": [
    "import game.players.ai"
   ]
  },
  {
   "cell_type": "markdown",
   "metadata": {},
   "source": [
    "Със значението на `.` и `..` от Unix файловата система, можем да използваме същите тези символи за **релативни** импорти в Python. Те се оценяват спрямо локацията на `import` statement-a."
   ]
  },
  {
   "cell_type": "markdown",
   "metadata": {},
   "source": [
    "Например, във файла `game/players/input_player.py` ни трябва `player` модула от пакета `game`. Можем да го направим по абсолютен и релативен начин:\n",
    "\n",
    "```python\n",
    "from game import player  # абсолютен импорт\n",
    "```\n",
    "\n",
    "```python\n",
    "from .. import player  # релативен импорт\n",
    "```"
   ]
  },
  {
   "cell_type": "markdown",
   "metadata": {},
   "source": [
    "* `..` означава \"пакетът, намиращ се над текущия\".\n",
    "* `..pkg` означва модулът/пакетът `pkg` от пакетът, намиращ се над текущия."
   ]
  },
  {
   "cell_type": "markdown",
   "metadata": {},
   "source": [
    "Например:\n",
    "```python\n",
    "from ..player import Player\n",
    "```\n",
    "Ще вмъкне името `Player` от модула `player` от пакета, намиращ се над текущия."
   ]
  },
  {
   "cell_type": "markdown",
   "metadata": {},
   "source": [
    "* `.` означава \"текущия пакет\".\n",
    "* `.pkg` означава модулът/пакетът `pkg` от текущия пакет."
   ]
  },
  {
   "cell_type": "markdown",
   "metadata": {},
   "source": [
    "Релативните импорти имат недостатъка обаче, че зависят от местоположението на `import`-a. Освен това в скриптове (т.е. изпълним код, който не е вмъкнат чрез модул) имат различно поведение:"
   ]
  },
  {
   "cell_type": "code",
   "execution_count": 25,
   "metadata": {},
   "outputs": [
    {
     "ename": "ImportError",
     "evalue": "attempted relative import with no known parent package",
     "output_type": "error",
     "traceback": [
      "\u001b[0;31m---------------------------------------------------------------------------\u001b[0m",
      "\u001b[0;31mImportError\u001b[0m                               Traceback (most recent call last)",
      "Cell \u001b[0;32mIn[25], line 1\u001b[0m\n\u001b[0;32m----> 1\u001b[0m \u001b[39mfrom\u001b[39;00m \u001b[39m.\u001b[39;00m \u001b[39mimport\u001b[39;00m hitchhikers\n",
      "\u001b[0;31mImportError\u001b[0m: attempted relative import with no known parent package"
     ]
    }
   ],
   "source": [
    "from . import hitchhikers"
   ]
  },
  {
   "cell_type": "markdown",
   "metadata": {},
   "source": [
    "## `if __name__ == \"__main__\"`"
   ]
  },
  {
   "cell_type": "markdown",
   "metadata": {},
   "source": [
    "Както бяхме споменали, при импорт се изпълнява кода на съответния модул. Като пример за това можем да изведем философията на Python, намираща се във вградения модул `this`:"
   ]
  },
  {
   "cell_type": "code",
   "execution_count": 26,
   "metadata": {},
   "outputs": [
    {
     "name": "stdout",
     "output_type": "stream",
     "text": [
      "The Zen of Python, by Tim Peters\n",
      "\n",
      "Beautiful is better than ugly.\n",
      "Explicit is better than implicit.\n",
      "Simple is better than complex.\n",
      "Complex is better than complicated.\n",
      "Flat is better than nested.\n",
      "Sparse is better than dense.\n",
      "Readability counts.\n",
      "Special cases aren't special enough to break the rules.\n",
      "Although practicality beats purity.\n",
      "Errors should never pass silently.\n",
      "Unless explicitly silenced.\n",
      "In the face of ambiguity, refuse the temptation to guess.\n",
      "There should be one-- and preferably only one --obvious way to do it.\n",
      "Although that way may not be obvious at first unless you're Dutch.\n",
      "Now is better than never.\n",
      "Although never is often better than *right* now.\n",
      "If the implementation is hard to explain, it's a bad idea.\n",
      "If the implementation is easy to explain, it may be a good idea.\n",
      "Namespaces are one honking great idea -- let's do more of those!\n"
     ]
    }
   ],
   "source": [
    "import this"
   ]
  },
  {
   "cell_type": "markdown",
   "metadata": {},
   "source": [
    "Текущо-изпълнимият файл/модул/скрипт за Python се казва `\"__main__\"`, т.е. неговия `__name__` е `\"__main__\"`:\n",
    "```python"
   ]
  },
  {
   "cell_type": "code",
   "execution_count": 27,
   "metadata": {},
   "outputs": [
    {
     "data": {
      "text/plain": [
       "'__main__'"
      ]
     },
     "execution_count": 27,
     "metadata": {},
     "output_type": "execute_result"
    }
   ],
   "source": [
    "__name__"
   ]
  },
  {
   "cell_type": "markdown",
   "metadata": {},
   "source": [
    "Ако файлът не се изпълнява директно, а бъде импортнат от друг, то в неговия `__name__` ще е името на модула. Това означава, че можем да различим дали файлът се изпълнява директно или е импортнат. \n",
    "\n",
    "Полезно е в случаите, когато искаме да напишем примерно някакви тестове или демонстрации на модула, които да се изпълнят само ако го изпълним директно, и да не се изпълняват при всяко вмъкване. . В такива случаи използваме `if __name__ == \"__main__\": ...` (разгледайте например `game/engine.py`)."
   ]
  },
  {
   "attachments": {},
   "cell_type": "markdown",
   "metadata": {},
   "source": [
    "## Управление на пакети"
   ]
  },
  {
   "attachments": {},
   "cell_type": "markdown",
   "metadata": {},
   "source": [
    "### Какво е `pip`?\n",
    "\n",
    "Пакетите се създават с цел лесно преизползване. При използване на външни пакети в проекта се появяват конкретни проблеми, които трябва да се решават - как да се инсталират, как да се обновят, как да се изтрият, как да се решават зависимостите и т.н. С това ни помагат различните \"package manager\"-и, като python-ският такъв е `pip` (името му е рекурсивен акроним: \"**P**IP **I**nstalls **P**ackages\")."
   ]
  },
  {
   "attachments": {},
   "cell_type": "markdown",
   "metadata": {},
   "source": [
    "### Къде е `pip`?\n",
    "\n",
    "Управлението на пакетите е важна част от разработката и затова от Python 3.4 и 2.7.9 насам `pip` е част от инсталацията на Python 3 и Python 2 респективно."
   ]
  },
  {
   "attachments": {},
   "cell_type": "markdown",
   "metadata": {},
   "source": [
    "Можем да проверим дали PIP е инсталиран като се опитаме да видим локацията на `pip3` командата като изпълним `which pip3` (или `where pip3` под Windows):\n",
    "\n",
    "```bash"
   ]
  },
  {
   "cell_type": "code",
   "execution_count": 28,
   "metadata": {},
   "outputs": [
    {
     "name": "stdout",
     "output_type": "stream",
     "text": [
      "/Users/alexander.ignatov/Documents/PythonCourse2022/venv/bin/pip3\n"
     ]
    }
   ],
   "source": [
    "!which pip3  # linux / macOS"
   ]
  },
  {
   "attachments": {},
   "cell_type": "markdown",
   "metadata": {},
   "source": [
    "В случай, че няма `pip3`, е възможно да съществува само `pip` командата:"
   ]
  },
  {
   "cell_type": "code",
   "execution_count": 29,
   "metadata": {},
   "outputs": [
    {
     "name": "stdout",
     "output_type": "stream",
     "text": [
      "/Users/alexander.ignatov/Documents/PythonCourse2022/venv/bin/pip\n"
     ]
    }
   ],
   "source": [
    "!which pip"
   ]
  },
  {
   "attachments": {},
   "cell_type": "markdown",
   "metadata": {},
   "source": [
    "В случай, че имаме и двете команди, можем да ги сраним като видим разликите във версията (ако са еднакви, то няма значение дали използваме `pip` или `pip3`. Оттук нататък до края на тетрадката ще ги считаме за едни и същи):"
   ]
  },
  {
   "cell_type": "code",
   "execution_count": 30,
   "metadata": {},
   "outputs": [
    {
     "name": "stdout",
     "output_type": "stream",
     "text": [
      "pip 22.2.2 from /Users/alexander.ignatov/Documents/PythonCourse2022/venv/lib/python3.10/site-packages/pip (python 3.10)\n",
      "pip 22.2.2 from /Users/alexander.ignatov/Documents/PythonCourse2022/venv/lib/python3.10/site-packages/pip (python 3.10)\n"
     ]
    }
   ],
   "source": [
    "!pip3 --version && pip --version"
   ]
  },
  {
   "attachments": {},
   "cell_type": "markdown",
   "metadata": {},
   "source": [
    "### Как да преинсталирам `pip` ако нещо не е наред?\n",
    "\n",
    "В случай, че `pip` не може да бъде намерен, има два варианта:\n",
    "\n",
    "1. `pip` е инсталиран, но пътя до него не е в `$PATH` променливата на средата\n",
    "2. `pip` не е инсталиран. Тогава можем да го сложим по два начина:\n",
    "    1. Инсталираме `pip` от [`get-pip.py`](https://github.com/pypa/get-pip) скрипта\n",
    "    2. Инсталираме `pip` чрез [`ensurepip`](https://docs.python.org/3/library/ensurepip.html#module-ensurepip) модула"
   ]
  },
  {
   "cell_type": "code",
   "execution_count": 31,
   "metadata": {},
   "outputs": [
    {
     "name": "stdout",
     "output_type": "stream",
     "text": [
      "Looking in links: /var/folders/q1/7m4c3ff153j93q271xrs9y5r0000gq/T/tmpi5sy7acy\n",
      "Requirement already satisfied: setuptools in /Users/alexander.ignatov/Documents/PythonCourse2022/venv/lib/python3.10/site-packages (65.4.1)\n",
      "Requirement already satisfied: pip in /Users/alexander.ignatov/Documents/PythonCourse2022/venv/lib/python3.10/site-packages (22.2.2)\n"
     ]
    }
   ],
   "source": [
    "!python3 -m ensurepip --upgrade  # за windows е `python` вместо `python3`"
   ]
  },
  {
   "attachments": {},
   "cell_type": "markdown",
   "metadata": {},
   "source": [
    "***NOTE***: `ensurepip` не тегли от интернет нищо - директно инсталира версията на `pip`, която е bundle-ната със съответната версия на Python. В случай, че искаме по-нова от дадената, трябва след това ръчно да актуализираме `pip` чрез `python3 -m pip install --upgrade pip` или `pip3 install --upgrade pip` (респективно само `python` вместо `python3` под Windows)."
   ]
  },
  {
   "attachments": {},
   "cell_type": "markdown",
   "metadata": {},
   "source": [
    "### Какви подкоманди има `pip`?"
   ]
  },
  {
   "attachments": {},
   "cell_type": "markdown",
   "metadata": {},
   "source": [
    "Пакети се инсталират с `pip install <package1_name> [<package2_name> ...]`:"
   ]
  },
  {
   "cell_type": "code",
   "execution_count": 32,
   "metadata": {},
   "outputs": [
    {
     "name": "stdout",
     "output_type": "stream",
     "text": [
      "Collecting requests\n",
      "  Using cached requests-2.28.1-py3-none-any.whl (62 kB)\n",
      "Requirement already satisfied: charset-normalizer<3,>=2 in /Users/alexander.ignatov/Documents/PythonCourse2022/venv/lib/python3.10/site-packages (from requests) (2.1.1)\n",
      "Requirement already satisfied: idna<4,>=2.5 in /Users/alexander.ignatov/Documents/PythonCourse2022/venv/lib/python3.10/site-packages (from requests) (3.4)\n",
      "Requirement already satisfied: certifi>=2017.4.17 in /Users/alexander.ignatov/Documents/PythonCourse2022/venv/lib/python3.10/site-packages (from requests) (2022.12.7)\n",
      "Requirement already satisfied: urllib3<1.27,>=1.21.1 in /Users/alexander.ignatov/Documents/PythonCourse2022/venv/lib/python3.10/site-packages (from requests) (1.26.13)\n",
      "Installing collected packages: requests\n",
      "Successfully installed requests-2.28.1\n",
      "\n",
      "\u001b[1m[\u001b[0m\u001b[34;49mnotice\u001b[0m\u001b[1;39;49m]\u001b[0m\u001b[39;49m A new release of pip available: \u001b[0m\u001b[31;49m22.2.2\u001b[0m\u001b[39;49m -> \u001b[0m\u001b[32;49m22.3.1\u001b[0m\n",
      "\u001b[1m[\u001b[0m\u001b[34;49mnotice\u001b[0m\u001b[1;39;49m]\u001b[0m\u001b[39;49m To update, run: \u001b[0m\u001b[32;49mpip install --upgrade pip\u001b[0m\n"
     ]
    }
   ],
   "source": [
    "!pip install requests"
   ]
  },
  {
   "attachments": {},
   "cell_type": "markdown",
   "metadata": {},
   "source": [
    "Пакетите по подразбиране се търсят в [PyPI](https://pypi.org/) (чете се \"пай пи ай\", а не \["пипи\"](https://i.kym-cdn.com/entries/icons/original/000/027/193/Screen_Shot_2018-09-20_at_1.02.37_PM.jpg)/\"пайпи\"/\"пайпай\"), който е Python Package Index. Това е публичен индекс от пакети, към който всеки потребител може да добавя, допринася, търси и ползва.\n",
    "\n",
    "Ако искаме `pip` да търси в друг индекс (примерно такъв с частни репозиторита), можем да го променим чрез `-i [index_url]` аргумент към `pip install`. Повече за това [тук](https://realpython.com/what-is-pip/#using-a-custom-package-index)."
   ]
  },
  {
   "attachments": {},
   "cell_type": "markdown",
   "metadata": {},
   "source": [
    "Информация за инсталиран пакет може да изведем с `pip show <package_name>`:"
   ]
  },
  {
   "cell_type": "code",
   "execution_count": 33,
   "metadata": {},
   "outputs": [
    {
     "name": "stdout",
     "output_type": "stream",
     "text": [
      "Name: requests\n",
      "Version: 2.28.1\n",
      "Summary: Python HTTP for Humans.\n",
      "Home-page: https://requests.readthedocs.io\n",
      "Author: Kenneth Reitz\n",
      "Author-email: me@kennethreitz.org\n",
      "License: Apache 2.0\n",
      "Location: /Users/alexander.ignatov/Documents/PythonCourse2022/venv/lib/python3.10/site-packages\n",
      "Requires: certifi, charset-normalizer, idna, urllib3\n",
      "Required-by: \n"
     ]
    }
   ],
   "source": [
    "!pip show requests"
   ]
  },
  {
   "attachments": {},
   "cell_type": "markdown",
   "metadata": {},
   "source": [
    "Деинсталирането пък съответно става по същия начин, но този път с подкомандата `uninstall`:"
   ]
  },
  {
   "cell_type": "code",
   "execution_count": 34,
   "metadata": {},
   "outputs": [
    {
     "name": "stdout",
     "output_type": "stream",
     "text": [
      "Found existing installation: requests 2.28.1\n",
      "Uninstalling requests-2.28.1:\n",
      "  Would remove:\n",
      "    /Users/alexander.ignatov/Documents/PythonCourse2022/venv/lib/python3.10/site-packages/requests-2.28.1.dist-info/*\n",
      "    /Users/alexander.ignatov/Documents/PythonCourse2022/venv/lib/python3.10/site-packages/requests/*\n",
      "Proceed (Y/n)?   Successfully uninstalled requests-2.28.1\n"
     ]
    }
   ],
   "source": [
    "!pip uninstall requests <<< \"y\""
   ]
  },
  {
   "attachments": {},
   "cell_type": "markdown",
   "metadata": {},
   "source": [
    "Всички инсталирани пакети и техните версии може да видим с `pip list`:"
   ]
  },
  {
   "cell_type": "code",
   "execution_count": 35,
   "metadata": {},
   "outputs": [
    {
     "name": "stdout",
     "output_type": "stream",
     "text": [
      "Package            Version\n",
      "------------------ ---------\n",
      "appnope            0.1.3\n",
      "asttokens          2.2.1\n",
      "backcall           0.2.0\n",
      "certifi            2022.12.7\n",
      "charset-normalizer 2.1.1\n",
      "comm               0.1.2\n",
      "debugpy            1.6.4\n",
      "decorator          5.1.1\n",
      "ERROR: Pipe to stdout was broken\n",
      "\n",
      "\u001b[1m[\u001b[0m\u001b[34;49mnotice\u001b[0m\u001b[1;39;49m]\u001b[0m\u001b[39;49m A new release of pip available: \u001b[0m\u001b[31;49m22.2.2\u001b[0m\u001b[39;49m -> \u001b[0m\u001b[32;49m22.3.1\u001b[0m\n",
      "\u001b[1m[\u001b[0m\u001b[34;49mnotice\u001b[0m\u001b[1;39;49m]\u001b[0m\u001b[39;49m To update, run: \u001b[0m\u001b[32;49mpip install --upgrade pip\u001b[0m\n"
     ]
    }
   ],
   "source": [
    "!pip list | head"
   ]
  },
  {
   "attachments": {},
   "cell_type": "markdown",
   "metadata": {},
   "source": [
    "Извеждането на списъка със зависимости (инсталирани пакети + версия) в \"requirements\" формат може да се извърши с `pip freeze`:"
   ]
  },
  {
   "cell_type": "code",
   "execution_count": 36,
   "metadata": {},
   "outputs": [
    {
     "name": "stdout",
     "output_type": "stream",
     "text": [
      "appnope==0.1.3\n",
      "asttokens==2.2.1\n",
      "backcall==0.2.0\n",
      "certifi==2022.12.7\n",
      "charset-normalizer==2.1.1\n",
      "comm==0.1.2\n",
      "debugpy==1.6.4\n",
      "decorator==5.1.1\n",
      "entrypoints==0.4\n",
      "executing==1.2.0\n"
     ]
    }
   ],
   "source": [
    "!pip freeze | head"
   ]
  },
  {
   "attachments": {},
   "cell_type": "markdown",
   "metadata": {},
   "source": [
    "Обикновено изхода от командата се запазва във файл, наречен `requirements.txt`. Повече за това по-надолу."
   ]
  },
  {
   "attachments": {},
   "cell_type": "markdown",
   "metadata": {},
   "source": [
    "## Виртуални среди и `venv`"
   ]
  },
  {
   "attachments": {},
   "cell_type": "markdown",
   "metadata": {},
   "source": [
    "### Защо?\n",
    "\n",
    "Когато инсталираме пакет, той след това може да бъде използван от всички Python проекти на машината (или на потребителя). Това обаче може да доведе до конфликти. Да предположим, че имаме един проект, който изисква например пакетът `А` да бъде с версия $ \\geq X $, докато друг да е направен да работи с версия на `A`, която да е по-малка от $ X $ (т.е. ъпдейтването до версия $ X $ би счупило проекта). Инсталацията на пакетът `A` по познатия начин обаче е глобална и не върши работа в случая - трябва ни някакъв начин, по който да имаме различни инсталации на пакета за различните проекти.\n",
    "\n",
    "Това е идеята на т.нар. \"virtual environments\" - създават виртуална среда, която да се отнася само за конкретен проект, в която той да се конфигурира, да се изтеглят пакетите, от които зависи и т.н."
   ]
  },
  {
   "attachments": {},
   "cell_type": "markdown",
   "metadata": {},
   "source": [
    "### Как?\n",
    "\n",
    "С вградената билбиотека `venv` създаваме virtual environment. Изпълняваме я като модул (с флаг `-m`) и като параметър указваме името на виртуалната среда, която ще бъде създадена в текущата директория:"
   ]
  },
  {
   "cell_type": "code",
   "execution_count": 37,
   "metadata": {},
   "outputs": [],
   "source": [
    "!python3 -m venv venv"
   ]
  },
  {
   "attachments": {},
   "cell_type": "markdown",
   "metadata": {},
   "source": [
    "***Note 1***: Обикновено се кръщава също `venv`.\n",
    "\n",
    "***Note 2***: Директорията (`venv` в този случай) на виртуалната среда трябва да бъде игнорирана от Git (т.е. да ѝ се добави името на нов ред в `.gitignore` файла)."
   ]
  },
  {
   "attachments": {},
   "cell_type": "markdown",
   "metadata": {},
   "source": [
    "Предната команда ще създаде в текущата директория папката `venv`, в която се намира всичко необходимо на виртуалната среда, за да работи. Тя обаче още няма да е активирана, като това става чрез изпълняване веднъж на:"
   ]
  },
  {
   "cell_type": "code",
   "execution_count": 38,
   "metadata": {},
   "outputs": [],
   "source": [
    "!source venv/bin/activate"
   ]
  },
  {
   "attachments": {},
   "cell_type": "markdown",
   "metadata": {},
   "source": [
    "***Note***: на Windows ще е `venv\\Scripts\\activate.bat` (или `venv\\Scripts\\activate.ps1` на PowerShell)"
   ]
  },
  {
   "attachments": {},
   "cell_type": "markdown",
   "metadata": {},
   "source": [
    "Това ще пренасочи команди като `python`/`python3` и `pip`/`pip3` към локалните копия, намиращи се под директорията на виртуалната среда. Инсталираните пакети също отиват там. По подразбиране няма такива (освен самите `pip` и `setuptools`):"
   ]
  },
  {
   "cell_type": "code",
   "execution_count": 39,
   "metadata": {},
   "outputs": [
    {
     "name": "stdout",
     "output_type": "stream",
     "text": [
      "Package    Version\n",
      "---------- -------\n",
      "pip        22.2.2\n",
      "setuptools 65.4.1\n",
      "\n",
      "\u001b[1m[\u001b[0m\u001b[34;49mnotice\u001b[0m\u001b[1;39;49m]\u001b[0m\u001b[39;49m A new release of pip available: \u001b[0m\u001b[31;49m22.2.2\u001b[0m\u001b[39;49m -> \u001b[0m\u001b[32;49m22.3.1\u001b[0m\n",
      "\u001b[1m[\u001b[0m\u001b[34;49mnotice\u001b[0m\u001b[1;39;49m]\u001b[0m\u001b[39;49m To update, run: \u001b[0m\u001b[32;49mpip install --upgrade pip\u001b[0m\n"
     ]
    }
   ],
   "source": [
    "!source venv/bin/activate && pip list  # активираме пак понеже jupyter клетките не запазват bash сесиите"
   ]
  },
  {
   "attachments": {},
   "cell_type": "markdown",
   "metadata": {},
   "source": [
    "Работата във виртуалната среда приключва, когато приключи текущата конзолна сесия или когато бъде изпълнена командата `deactivate` (`venv\\Scripts\\deactivate.bat` под Windows)."
   ]
  },
  {
   "attachments": {},
   "cell_type": "markdown",
   "metadata": {},
   "source": [
    "## `requirements.txt`"
   ]
  },
  {
   "attachments": {},
   "cell_type": "markdown",
   "metadata": {},
   "source": [
    "Ако свалим даден проект локално и се опитаме да го изпълним, то ако той зависи от някакви third-party модули/пакети/билбиотеки, ще ни хвърли `ImportError`, понеже няма да ги намери. Трудно и излишно времеемко е обаче ръчно да проверим кои зависимости ги няма и да ги свалим. Затова ни служи `requirements.txt` - файл, в който всички dependency-та са описани (име на пакет и версии)."
   ]
  },
  {
   "attachments": {},
   "cell_type": "markdown",
   "metadata": {},
   "source": [
    "Създава се чрез изхода на `pip freeze`:"
   ]
  },
  {
   "cell_type": "code",
   "execution_count": 40,
   "metadata": {},
   "outputs": [],
   "source": [
    "!pip freeze > requirements.txt"
   ]
  },
  {
   "attachments": {},
   "cell_type": "markdown",
   "metadata": {},
   "source": [
    "Съдържанието е във формат `{има на пакет}{знак за сравнение}{версия}`:"
   ]
  },
  {
   "cell_type": "code",
   "execution_count": 41,
   "metadata": {},
   "outputs": [
    {
     "name": "stdout",
     "output_type": "stream",
     "text": [
      "appnope==0.1.3\n",
      "asttokens==2.2.1\n",
      "backcall==0.2.0\n",
      "certifi==2022.12.7\n",
      "charset-normalizer==2.1.1\n",
      "comm==0.1.2\n",
      "debugpy==1.6.4\n",
      "decorator==5.1.1\n",
      "entrypoints==0.4\n",
      "executing==1.2.0\n"
     ]
    }
   ],
   "source": [
    "!cat requirements.txt | head"
   ]
  },
  {
   "attachments": {},
   "cell_type": "markdown",
   "metadata": {},
   "source": [
    "Използването на файла (т.е. изтеглянето на всички правилни версии на описаните пакети) става чрез аргумента `-r` на `pip install`:"
   ]
  },
  {
   "cell_type": "code",
   "execution_count": 42,
   "metadata": {},
   "outputs": [
    {
     "name": "stdout",
     "output_type": "stream",
     "text": [
      "Requirement already satisfied: appnope==0.1.3 in /Users/alexander.ignatov/Documents/PythonCourse2022/venv/lib/python3.10/site-packages (from -r requirements.txt (line 1)) (0.1.3)\n",
      "Requirement already satisfied: asttokens==2.2.1 in /Users/alexander.ignatov/Documents/PythonCourse2022/venv/lib/python3.10/site-packages (from -r requirements.txt (line 2)) (2.2.1)\n",
      "Requirement already satisfied: backcall==0.2.0 in /Users/alexander.ignatov/Documents/PythonCourse2022/venv/lib/python3.10/site-packages (from -r requirements.txt (line 3)) (0.2.0)\n",
      "Requirement already satisfied: certifi==2022.12.7 in /Users/alexander.ignatov/Documents/PythonCourse2022/venv/lib/python3.10/site-packages (from -r requirements.txt (line 4)) (2022.12.7)\n",
      "Requirement already satisfied: charset-normalizer==2.1.1 in /Users/alexander.ignatov/Documents/PythonCourse2022/venv/lib/python3.10/site-packages (from -r requirements.txt (line 5)) (2.1.1)\n",
      "Requirement already satisfied: comm==0.1.2 in /Users/alexander.ignatov/Documents/PythonCourse2022/venv/lib/python3.10/site-packages (from -r requirements.txt (line 6)) (0.1.2)\n",
      "Requirement already satisfied: debugpy==1.6.4 in /Users/alexander.ignatov/Documents/PythonCourse2022/venv/lib/python3.10/site-packages (from -r requirements.txt (line 7)) (1.6.4)\n",
      "Requirement already satisfied: decorator==5.1.1 in /Users/alexander.ignatov/Documents/PythonCourse2022/venv/lib/python3.10/site-packages (from -r requirements.txt (line 8)) (5.1.1)\n",
      "Requirement already satisfied: entrypoints==0.4 in /Users/alexander.ignatov/Documents/PythonCourse2022/venv/lib/python3.10/site-packages (from -r requirements.txt (line 9)) (0.4)\n",
      "Requirement already satisfied: executing==1.2.0 in /Users/alexander.ignatov/Documents/PythonCourse2022/venv/lib/python3.10/site-packages (from -r requirements.txt (line 10)) (1.2.0)\n",
      "\n",
      "\u001b[1m[\u001b[0m\u001b[34;49mnotice\u001b[0m\u001b[1;39;49m]\u001b[0m\u001b[39;49m A new release of pip available: \u001b[0m\u001b[31;49m22.2.2\u001b[0m\u001b[39;49m -> \u001b[0m\u001b[32;49m22.3.1\u001b[0m\n",
      "\u001b[1m[\u001b[0m\u001b[34;49mnotice\u001b[0m\u001b[1;39;49m]\u001b[0m\u001b[39;49m To update, run: \u001b[0m\u001b[32;49mpip install --upgrade pip\u001b[0m\n"
     ]
    }
   ],
   "source": [
    "!pip install -r requirements.txt"
   ]
  },
  {
   "attachments": {},
   "cell_type": "markdown",
   "metadata": {},
   "source": [
    "## Да обобщим: setup на проект for dummies"
   ]
  },
  {
   "attachments": {},
   "cell_type": "markdown",
   "metadata": {},
   "source": [
    "1. Създаване на виртуална среда:\n",
    "\n",
    "    `python3 -m venv venv`\n",
    "\n",
    "    *Важно:* при използване на система за контрол на версиите (напр. Git) трябва новосъздадената директория да бъде игнорирана от нея (`>> .gitignore`).\n",
    "2. Активиране на средата:\n",
    "\n",
    "    `source venv/bin/activate` (unix) или `venv\\Scripts\\activate.bat` (windows)\n",
    "\n",
    "3. Подсигуряване на това, че `pip` е последна версия:\n",
    "\n",
    "    `pip install --upgrade pip`\n",
    "\n",
    "3. Работата по инсталиране на пакети, пускане на кода и т.н. трябва задължително да става докато е активирана виртуалната среда\n",
    "\n",
    "    ...\n",
    "\n",
    "4. След инсталиране на всеки пакет трябва да се обновява списъкът със зависимости:\n",
    "\n",
    "    `pip freeze > requirements.txt`\n",
    "\n",
    "\n"
   ]
  }
 ],
 "metadata": {
  "kernelspec": {
   "display_name": "venv",
   "language": "python",
   "name": "python3"
  },
  "language_info": {
   "codemirror_mode": {
    "name": "ipython",
    "version": 3
   },
   "file_extension": ".py",
   "mimetype": "text/x-python",
   "name": "python",
   "nbconvert_exporter": "python",
   "pygments_lexer": "ipython3",
   "version": "3.10.8"
  },
  "orig_nbformat": 4,
  "vscode": {
   "interpreter": {
    "hash": "575a2390037550e0ddfbbe541bd43473f612bd2737db9cbfb767783f6b7ec1c8"
   }
  }
 },
 "nbformat": 4,
 "nbformat_minor": 2
}
