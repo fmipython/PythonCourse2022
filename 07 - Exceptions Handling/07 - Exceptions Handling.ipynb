{
 "cells": [
  {
   "cell_type": "markdown",
   "metadata": {},
   "source": [
    "# Грешки и изключения (Error and exceptions)\n",
    "\n",
    "Понякога се случват неща, които не очакваме, или програмата ни влиза в състояние, което е грешно или пък е с недефинирано поведение. Например, ако се опитаме да отворим файл, който не съществува, или ако се опитаме да разделим число на 0 и т.н. Ако такава \"грешка\" е фатална, то е редно програмата да спре изпълнението си, съобщавайки за това с някаъв вид програмна грешка (error). Ако не е толкова фатална, например е просто специален случай, който можем да третираме по по-различен начин, то това наричаме \"изключение\" (exception). Ние като програмисти не е редно да \"хващаме\" и обработваме грешките, а само изключенията."
   ]
  },
  {
   "cell_type": "markdown",
   "metadata": {},
   "source": [
    "## (Синтактични) Грешки\n",
    "\n",
    "В Python грешките биват единствено синтактични - от тип `SyntaxError`. Тази грешка се хвърля когато Python parser-a забележи синтектичен проблем в кода, което би довело до невъзможността му за изпълнение."
   ]
  },
  {
   "cell_type": "code",
   "execution_count": 1,
   "metadata": {},
   "outputs": [
    {
     "ename": "SyntaxError",
     "evalue": "incomplete input (1478308394.py, line 1)",
     "output_type": "error",
     "traceback": [
      "\u001b[0;36m  Cell \u001b[0;32mIn [1], line 1\u001b[0;36m\u001b[0m\n\u001b[0;31m    print((\"I like brackets\")\u001b[0m\n\u001b[0m                             ^\u001b[0m\n\u001b[0;31mSyntaxError\u001b[0m\u001b[0;31m:\u001b[0m incomplete input\n"
     ]
    }
   ],
   "source": [
    "print((\"I like brackets\")"
   ]
  },
  {
   "cell_type": "markdown",
   "metadata": {},
   "source": [
    "## Изключения"
   ]
  },
  {
   "cell_type": "markdown",
   "metadata": {},
   "source": [
    "Дори и кодът да е синтактично правилен обаче, изпълнението му е възможно да доведе до грешка. Такива грешки, които се засичат по време на изпълнението на програмата се наричат \"изключения\" (exceptions) и е възможно да бъдат \"хванати\" и обработени по желан от нас начин. Примери за често-срещани изключения:"
   ]
  },
  {
   "cell_type": "code",
   "execution_count": 2,
   "metadata": {},
   "outputs": [
    {
     "ename": "ZeroDivisionError",
     "evalue": "division by zero",
     "output_type": "error",
     "traceback": [
      "\u001b[0;31m---------------------------------------------------------------------------\u001b[0m",
      "\u001b[0;31mZeroDivisionError\u001b[0m                         Traceback (most recent call last)",
      "Cell \u001b[0;32mIn [2], line 1\u001b[0m\n\u001b[0;32m----> 1\u001b[0m \u001b[39m42\u001b[39m \u001b[39m/\u001b[39m \u001b[39m0\u001b[39m\n",
      "\u001b[0;31mZeroDivisionError\u001b[0m: division by zero"
     ]
    }
   ],
   "source": [
    "42 / 0"
   ]
  },
  {
   "cell_type": "code",
   "execution_count": 3,
   "metadata": {},
   "outputs": [
    {
     "ename": "NameError",
     "evalue": "name 'name_of_crush' is not defined",
     "output_type": "error",
     "traceback": [
      "\u001b[0;31m---------------------------------------------------------------------------\u001b[0m",
      "\u001b[0;31mNameError\u001b[0m                                 Traceback (most recent call last)",
      "Cell \u001b[0;32mIn [3], line 1\u001b[0m\n\u001b[0;32m----> 1\u001b[0m \u001b[39m\"\u001b[39m\u001b[39mI love \u001b[39m\u001b[39m\"\u001b[39m \u001b[39m+\u001b[39m name_of_crush\n",
      "\u001b[0;31mNameError\u001b[0m: name 'name_of_crush' is not defined"
     ]
    }
   ],
   "source": [
    "\"I love \" + name_of_crush"
   ]
  },
  {
   "cell_type": "code",
   "execution_count": 4,
   "metadata": {},
   "outputs": [
    {
     "ename": "TypeError",
     "evalue": "can only concatenate str (not \"int\") to str",
     "output_type": "error",
     "traceback": [
      "\u001b[0;31m---------------------------------------------------------------------------\u001b[0m",
      "\u001b[0;31mTypeError\u001b[0m                                 Traceback (most recent call last)",
      "Cell \u001b[0;32mIn [4], line 1\u001b[0m\n\u001b[0;32m----> 1\u001b[0m \u001b[39m\"\u001b[39m\u001b[39m1\u001b[39m\u001b[39m\"\u001b[39m \u001b[39m+\u001b[39m \u001b[39m1\u001b[39m\n",
      "\u001b[0;31mTypeError\u001b[0m: can only concatenate str (not \"int\") to str"
     ]
    }
   ],
   "source": [
    "\"1\" + 1"
   ]
  },
  {
   "cell_type": "code",
   "execution_count": 5,
   "metadata": {},
   "outputs": [
    {
     "ename": "ValueError",
     "evalue": "math domain error",
     "output_type": "error",
     "traceback": [
      "\u001b[0;31m---------------------------------------------------------------------------\u001b[0m",
      "\u001b[0;31mValueError\u001b[0m                                Traceback (most recent call last)",
      "Cell \u001b[0;32mIn [5], line 2\u001b[0m\n\u001b[1;32m      1\u001b[0m \u001b[39mimport\u001b[39;00m \u001b[39mmath\u001b[39;00m\n\u001b[0;32m----> 2\u001b[0m math\u001b[39m.\u001b[39msqrt(\u001b[39m-\u001b[39m\u001b[39m1\u001b[39m)\n",
      "\u001b[0;31mValueError\u001b[0m: math domain error"
     ]
    }
   ],
   "source": [
    "import math\n",
    "math.sqrt(-1)"
   ]
  },
  {
   "cell_type": "code",
   "execution_count": 6,
   "metadata": {},
   "outputs": [
    {
     "ename": "IndexError",
     "evalue": "list index out of range",
     "output_type": "error",
     "traceback": [
      "\u001b[0;31m---------------------------------------------------------------------------\u001b[0m",
      "\u001b[0;31mIndexError\u001b[0m                                Traceback (most recent call last)",
      "Cell \u001b[0;32mIn [6], line 2\u001b[0m\n\u001b[1;32m      1\u001b[0m l \u001b[39m=\u001b[39m [\u001b[39m1\u001b[39m, \u001b[39m2\u001b[39m, \u001b[39m3\u001b[39m]\n\u001b[0;32m----> 2\u001b[0m l[\u001b[39m3\u001b[39m]\n",
      "\u001b[0;31mIndexError\u001b[0m: list index out of range"
     ]
    }
   ],
   "source": [
    "l = [1, 2, 3]\n",
    "l[3]"
   ]
  },
  {
   "cell_type": "code",
   "execution_count": 7,
   "metadata": {},
   "outputs": [
    {
     "ename": "KeyError",
     "evalue": "'c'",
     "output_type": "error",
     "traceback": [
      "\u001b[0;31m---------------------------------------------------------------------------\u001b[0m",
      "\u001b[0;31mKeyError\u001b[0m                                  Traceback (most recent call last)",
      "Cell \u001b[0;32mIn [7], line 2\u001b[0m\n\u001b[1;32m      1\u001b[0m d \u001b[39m=\u001b[39m {\u001b[39m\"\u001b[39m\u001b[39ma\u001b[39m\u001b[39m\"\u001b[39m: \u001b[39m1\u001b[39m, \u001b[39m\"\u001b[39m\u001b[39mb\u001b[39m\u001b[39m\"\u001b[39m: \u001b[39m2\u001b[39m}\n\u001b[0;32m----> 2\u001b[0m d[\u001b[39m\"\u001b[39m\u001b[39mc\u001b[39m\u001b[39m\"\u001b[39m]\n",
      "\u001b[0;31mKeyError\u001b[0m: 'c'"
     ]
    }
   ],
   "source": [
    "d = {\"a\": 1, \"b\": 2}\n",
    "d[\"c\"]"
   ]
  },
  {
   "cell_type": "markdown",
   "metadata": {},
   "source": [
    "*Note:* въпреки, че са всъщност exceptions, а не errors, имената на доста вградени изключения завършват на `Error` в Python."
   ]
  },
  {
   "cell_type": "markdown",
   "metadata": {},
   "source": [
    "## Хващане на изключения"
   ]
  },
  {
   "cell_type": "markdown",
   "metadata": {},
   "source": [
    "С `try-except` конструкцията можем да хванем изключение при изпълнение на даден код и да извършим някакво действие, ако се случи такова. В `try` блокът се слага кодът, който искаме да изпълним, а в `except` блокът - кодът, който искаме да се изпълни, ако се случи изключение. При хващане на изключение програмата не се терминира, а продължава изпълнението си след `try-except` конструкцията."
   ]
  },
  {
   "cell_type": "code",
   "execution_count": 8,
   "metadata": {},
   "outputs": [
    {
     "name": "stdout",
     "output_type": "stream",
     "text": [
      "Sorry bro, that's not a valid number. Try again...\n",
      "Sorry bro, that's not a valid number. Try again...\n",
      "You entered:  123\n"
     ]
    }
   ],
   "source": [
    "while True:\n",
    "    try:\n",
    "        x = int(input(\"Please enter a number: \"))\n",
    "        print(\"You entered: \", x)\n",
    "        break\n",
    "    except ValueError:\n",
    "        print(\"Sorry bro, that's not a valid number. Try again...\")"
   ]
  },
  {
   "cell_type": "markdown",
   "metadata": {},
   "source": [
    "Забележете, че можем да укажем изрично типа на изключението, което искаме да хванем, като аргумент на `except` блока. В горният пример искаме да хванем единствено изключения от тип `ValueError`, т.е. проблеми с въведената стойност. Така позволяваме на потребителят например да приключи изпълнението на програмата с Ctrl+C (или подобен метод), понеже това действие би хвърлило `KeyboardInterrupt` изключение."
   ]
  },
  {
   "cell_type": "markdown",
   "metadata": {},
   "source": [
    "Можем естествено и да не укажем тип, а да хванем абсолютно всички възможни изключения:"
   ]
  },
  {
   "cell_type": "code",
   "execution_count": 9,
   "metadata": {},
   "outputs": [],
   "source": [
    "try:\n",
    "    risky_func()\n",
    "except:\n",
    "    pass  # never ever do this, for the sake of humanity"
   ]
  },
  {
   "cell_type": "markdown",
   "metadata": {},
   "source": [
    "Много коварен antipattern обаче е обграждането на проблематичен код с `except` блок, който е празен. Повече по темата: https://realpython.com/the-most-diabolical-python-antipattern/"
   ]
  },
  {
   "cell_type": "markdown",
   "metadata": {},
   "source": [
    "Вместо това, може например да логнем грешката в някой файл или на стандартния изход (или по-добре от STDOUT - в STDERR). Има библиотеки, улесняващи логването, включително и вградена такава - `logging`."
   ]
  },
  {
   "cell_type": "code",
   "execution_count": 10,
   "metadata": {},
   "outputs": [
    {
     "name": "stderr",
     "output_type": "stream",
     "text": [
      "name 'risky_func' is not defined\n"
     ]
    }
   ],
   "source": [
    "import logging\n",
    "\n",
    "logger = logging.getLogger()\n",
    "\n",
    "try:\n",
    "    risky_func()\n",
    "except Exception as e:\n",
    "    logger.error(e)"
   ]
  },
  {
   "cell_type": "markdown",
   "metadata": {},
   "source": [
    "Както се вижда от примера, можем да присвоим изключението към променлива, която да използваме в `except` блока. Това е полезно ако искаме да използваме изключението или аргументите на изключението, които се намират в `args` атрибута на всяко изключение."
   ]
  },
  {
   "cell_type": "code",
   "execution_count": 11,
   "metadata": {},
   "outputs": [
    {
     "name": "stderr",
     "output_type": "stream",
     "text": [
      "(\"name 'risky_func' is not defined\",)\n"
     ]
    }
   ],
   "source": [
    "try:\n",
    "    risky_func()\n",
    "except Exception as e:\n",
    "    logger.error(e.args)"
   ]
  },
  {
   "cell_type": "markdown",
   "metadata": {},
   "source": [
    "Можем да очакваме повече от един тип изключения по няколко начина:"
   ]
  },
  {
   "cell_type": "code",
   "execution_count": 12,
   "metadata": {},
   "outputs": [
    {
     "name": "stdout",
     "output_type": "stream",
     "text": [
      "Division by zero.\n",
      "Oops:  division by zero\n"
     ]
    }
   ],
   "source": [
    "def f(): return 42\n",
    "def g(): return 0\n",
    "\n",
    "try:\n",
    "    # f()[2]    # uncomment for third error\n",
    "    # y = h()  # uncomment for second error\n",
    "    y = f() / g()\n",
    "except ZeroDivisionError:\n",
    "    print(\"Division by zero.\")\n",
    "except NameError as e:\n",
    "    print(\"Name error: \", e)\n",
    "except Exception as e:\n",
    "    print(\"Other error: \", e)\n",
    "\n",
    "try:\n",
    "    y = f() / g() + h()\n",
    "except (ZeroDivisionError, NameError) as e:\n",
    "    print(\"Oops: \", e)"
   ]
  },
  {
   "cell_type": "markdown",
   "metadata": {},
   "source": [
    "Създателите на Python обичат да дефинират `else` блокове за всевъзможни езикови контролни конструкции, и `try` не е изключение (no pun intended). Кодът в `else` след `try-except` би се изпълнил само тогава, когато не е засечена никаква грешка при изпълнение."
   ]
  },
  {
   "cell_type": "code",
   "execution_count": 13,
   "metadata": {},
   "outputs": [
    {
     "name": "stdout",
     "output_type": "stream",
     "text": [
      "Division by zero.\n"
     ]
    }
   ],
   "source": [
    "try:\n",
    "    # y = 0 / 42\n",
    "    y = 42 / 0\n",
    "except ZeroDivisionError:\n",
    "    print(\"Division by zero.\")\n",
    "else:\n",
    "    print(\"Everything is fine.\")"
   ]
  },
  {
   "cell_type": "markdown",
   "metadata": {},
   "source": [
    "Освен това имаме и друг опционален блок - `finally`. Той се изпълнява абсолютно винаги като последна част на `try-(except)-(else)-finally` конструкцията, независимо от това дали е била прихваната грешка или не."
   ]
  },
  {
   "cell_type": "code",
   "execution_count": 14,
   "metadata": {},
   "outputs": [
    {
     "name": "stdout",
     "output_type": "stream",
     "text": [
      "Division by zero.\n",
      "I'm always here. o.o\n"
     ]
    }
   ],
   "source": [
    "try:\n",
    "    # y = 0 / 42\n",
    "    y = 42 / 0\n",
    "except ZeroDivisionError:\n",
    "    print(\"Division by zero.\")\n",
    "else:\n",
    "    print(\"Everything is fine.\")\n",
    "finally:\n",
    "    print(\"I'm always here. o.o\")"
   ]
  },
  {
   "cell_type": "markdown",
   "metadata": {},
   "source": [
    "<img src=\"assets/try_except_else_finally.png\" width=\"500\" heigth=\"400\" />"
   ]
  },
  {
   "cell_type": "markdown",
   "metadata": {},
   "source": [
    "## Хвърляне на изключения"
   ]
  },
  {
   "cell_type": "markdown",
   "metadata": {},
   "source": [
    "Изключенията наследяват класa `Exception`. Списък от вграденитe такива може да откриете тук: https://docs.python.org/3/library/exceptions.html"
   ]
  },
  {
   "cell_type": "markdown",
   "metadata": {},
   "source": [
    "Изключенията ги \"хвърляме\" с ключовата дума `raise`:"
   ]
  },
  {
   "cell_type": "code",
   "execution_count": 15,
   "metadata": {},
   "outputs": [
    {
     "ename": "Exception",
     "evalue": "This is an exceptionally exceptional exception.",
     "output_type": "error",
     "traceback": [
      "\u001b[0;31m---------------------------------------------------------------------------\u001b[0m",
      "\u001b[0;31mException\u001b[0m                                 Traceback (most recent call last)",
      "Cell \u001b[0;32mIn [15], line 1\u001b[0m\n\u001b[0;32m----> 1\u001b[0m \u001b[39mraise\u001b[39;00m \u001b[39mException\u001b[39;00m(\u001b[39m\"\u001b[39m\u001b[39mThis is an exceptionally exceptional exception.\u001b[39m\u001b[39m\"\u001b[39m)\n",
      "\u001b[0;31mException\u001b[0m: This is an exceptionally exceptional exception."
     ]
    }
   ],
   "source": [
    "raise Exception(\"This is an exceptionally exceptional exception.\")"
   ]
  },
  {
   "cell_type": "code",
   "execution_count": 16,
   "metadata": {},
   "outputs": [
    {
     "ename": "ValueError",
     "evalue": "",
     "output_type": "error",
     "traceback": [
      "\u001b[0;31m---------------------------------------------------------------------------\u001b[0m",
      "\u001b[0;31mValueError\u001b[0m                                Traceback (most recent call last)",
      "Cell \u001b[0;32mIn [16], line 1\u001b[0m\n\u001b[0;32m----> 1\u001b[0m \u001b[39mraise\u001b[39;00m \u001b[39mValueError\u001b[39;00m\n",
      "\u001b[0;31mValueError\u001b[0m: "
     ]
    }
   ],
   "source": [
    "raise ValueError  # може и без извикването на конструктора от нас"
   ]
  },
  {
   "cell_type": "code",
   "execution_count": 17,
   "metadata": {},
   "outputs": [],
   "source": [
    "def get_name_by_id(id: int) -> str | None:\n",
    "    if not isinstance(id, int):\n",
    "        raise TypeError(\"id must be int!\")\n",
    "    \n",
    "    if id < 0:\n",
    "        raise ValueError(\"id must be a positive integer!\")\n",
    "\n",
    "    database = [\"Alex\", \"Lyubo\", \"Vankata\"]\n",
    "\n",
    "    if id >= len(database):\n",
    "        return None\n",
    "    \n",
    "    return database[id]"
   ]
  },
  {
   "cell_type": "markdown",
   "metadata": {},
   "source": [
    "Те се пропагират нагоре по стека на изпълнението на програмата, докато не се срещне `try` блок, който може да ги обработи. Ако няма такъв, програмата се терминира и се извежда съобщение за грешка. Това пропагиране е и причината да виждаме т.нар. Stacktrace:"
   ]
  },
  {
   "cell_type": "code",
   "execution_count": 18,
   "metadata": {},
   "outputs": [
    {
     "name": "stdout",
     "output_type": "stream",
     "text": [
      "Goodbye, stack. ;-;\n"
     ]
    },
    {
     "ename": "Exception",
     "evalue": "Hello, stack!",
     "output_type": "error",
     "traceback": [
      "\u001b[0;31m---------------------------------------------------------------------------\u001b[0m",
      "\u001b[0;31mException\u001b[0m                                 Traceback (most recent call last)",
      "Cell \u001b[0;32mIn [18], line 20\u001b[0m\n\u001b[1;32m     15\u001b[0m \u001b[39mdef\u001b[39;00m \u001b[39mi\u001b[39m(): h()\n\u001b[1;32m     18\u001b[0m i()  \u001b[39m# f will catch it\u001b[39;00m\n\u001b[0;32m---> 20\u001b[0m e()\n",
      "Cell \u001b[0;32mIn [18], line 5\u001b[0m, in \u001b[0;36me\u001b[0;34m()\u001b[0m\n\u001b[0;32m----> 5\u001b[0m \u001b[39mdef\u001b[39;00m \u001b[39me\u001b[39m(): d()\n",
      "Cell \u001b[0;32mIn [18], line 4\u001b[0m, in \u001b[0;36md\u001b[0;34m()\u001b[0m\n\u001b[0;32m----> 4\u001b[0m \u001b[39mdef\u001b[39;00m \u001b[39md\u001b[39m(): c()\n",
      "Cell \u001b[0;32mIn [18], line 3\u001b[0m, in \u001b[0;36mc\u001b[0;34m()\u001b[0m\n\u001b[0;32m----> 3\u001b[0m \u001b[39mdef\u001b[39;00m \u001b[39mc\u001b[39m(): b()\n",
      "Cell \u001b[0;32mIn [18], line 2\u001b[0m, in \u001b[0;36mb\u001b[0;34m()\u001b[0m\n\u001b[0;32m----> 2\u001b[0m \u001b[39mdef\u001b[39;00m \u001b[39mb\u001b[39m(): a()\n",
      "Cell \u001b[0;32mIn [18], line 1\u001b[0m, in \u001b[0;36ma\u001b[0;34m()\u001b[0m\n\u001b[0;32m----> 1\u001b[0m \u001b[39mdef\u001b[39;00m \u001b[39ma\u001b[39m(): \u001b[39mraise\u001b[39;00m \u001b[39mException\u001b[39;00m(\u001b[39m\"\u001b[39m\u001b[39mHello, stack!\u001b[39m\u001b[39m\"\u001b[39m)\n",
      "\u001b[0;31mException\u001b[0m: Hello, stack!"
     ]
    }
   ],
   "source": [
    "def a(): raise Exception(\"Hello, stack!\")\n",
    "def b(): a()\n",
    "def c(): b()\n",
    "def d(): c()\n",
    "def e(): d()\n",
    "\n",
    "def f():\n",
    "    try:\n",
    "        e()\n",
    "    except:\n",
    "        print(f\"Goodbye, stack. ;-;\")\n",
    "\n",
    "def g(): f()\n",
    "def h(): g()\n",
    "def i(): h()\n",
    "\n",
    "\n",
    "i()  # f will catch it\n",
    "\n",
    "e()  # nothing will catch it and kaboom"
   ]
  },
  {
   "cell_type": "markdown",
   "metadata": {},
   "source": [
    "Можем да си дефинираме собствени изключения, като наследяваме класа `Exception` (или някой от неговите наследници):"
   ]
  },
  {
   "cell_type": "code",
   "execution_count": 19,
   "metadata": {},
   "outputs": [
    {
     "ename": "InvalidPortionException",
     "evalue": "Ama kak taka, ne moje kyufteta sus kartofi!",
     "output_type": "error",
     "traceback": [
      "\u001b[0;31m---------------------------------------------------------------------------\u001b[0m",
      "\u001b[0;31mInvalidPortionException\u001b[0m                   Traceback (most recent call last)",
      "Cell \u001b[0;32mIn [19], line 25\u001b[0m\n\u001b[1;32m     22\u001b[0m         \u001b[39mprint\u001b[39m(\u001b[39m\"\u001b[39m\u001b[39mKrem, airqn?\u001b[39m\u001b[39m\"\u001b[39m)\n\u001b[1;32m     24\u001b[0m lelkata \u001b[39m=\u001b[39m LelkataOtStolaDoNas()\n\u001b[0;32m---> 25\u001b[0m lelkata\u001b[39m.\u001b[39morder(\u001b[39m\"\u001b[39m\u001b[39mkyufteta\u001b[39m\u001b[39m\"\u001b[39m, \u001b[39m\"\u001b[39m\u001b[39mkartofi\u001b[39m\u001b[39m\"\u001b[39m)\n",
      "Cell \u001b[0;32mIn [19], line 20\u001b[0m, in \u001b[0;36mLelkataOtStolaDoNas.order\u001b[0;34m(self, osnovno, garnitura)\u001b[0m\n\u001b[1;32m     17\u001b[0m portion \u001b[39m=\u001b[39m (osnovno, garnitura)\n\u001b[1;32m     19\u001b[0m \u001b[39mif\u001b[39;00m portion \u001b[39mnot\u001b[39;00m \u001b[39min\u001b[39;00m \u001b[39mself\u001b[39m\u001b[39m.\u001b[39m__allowed_portions\u001b[39m.\u001b[39mitems():\n\u001b[0;32m---> 20\u001b[0m     \u001b[39mraise\u001b[39;00m InvalidPortionException(portion)\n\u001b[1;32m     22\u001b[0m \u001b[39mprint\u001b[39m(\u001b[39m\"\u001b[39m\u001b[39mKrem, airqn?\u001b[39m\u001b[39m\"\u001b[39m)\n",
      "\u001b[0;31mInvalidPortionException\u001b[0m: Ama kak taka, ne moje kyufteta sus kartofi!"
     ]
    }
   ],
   "source": [
    "class InvalidPortionException(Exception):\n",
    "    def __init__(self, portion: tuple[str, str]) -> None:\n",
    "        super().__init__(*portion)\n",
    "    \n",
    "    def __str__(self) -> str:\n",
    "        ingredients = \" sus \".join(self.args)\n",
    "        return f\"Ama kak taka, ne moje {ingredients}!\"\n",
    "\n",
    "\n",
    "class LelkataOtStolaDoNas:\n",
    "    def __init__(self):\n",
    "        osnovni = (\"schnietzel\", \"kyufteta\", \"kartofeni kyufteta\")\n",
    "        garnituri = (\"kartofi\", \"oriz\", \"zele\")\n",
    "        self.__allowed_portions = dict(zip(osnovni, garnituri))  # private shototo samo tq si gi znae...\n",
    "    \n",
    "    def order(self, osnovno: str, garnitura: str) -> None:\n",
    "        portion = (osnovno, garnitura)\n",
    "\n",
    "        if portion not in self.__allowed_portions.items():\n",
    "            raise InvalidPortionException(portion)\n",
    "        \n",
    "        print(\"Krem, airqn?\")\n",
    "\n",
    "lelkata = LelkataOtStolaDoNas()\n",
    "lelkata.order(\"kyufteta\", \"kartofi\")"
   ]
  },
  {
   "cell_type": "markdown",
   "metadata": {},
   "source": [
    "Възможно е освен това да се chain-ват изключения, когато в `except` блока се хвърли друго:"
   ]
  },
  {
   "cell_type": "code",
   "execution_count": 20,
   "metadata": {},
   "outputs": [
    {
     "ename": "UnbeknownstToMeException",
     "evalue": "Е аз откъде да знам, че не може kyufteta със zele...",
     "output_type": "error",
     "traceback": [
      "\u001b[0;31m---------------------------------------------------------------------------\u001b[0m",
      "\u001b[0;31mInvalidPortionException\u001b[0m                   Traceback (most recent call last)",
      "Cell \u001b[0;32mIn [20], line 9\u001b[0m\n\u001b[1;32m      8\u001b[0m \u001b[39mtry\u001b[39;00m:\n\u001b[0;32m----> 9\u001b[0m     lelka\u001b[39m.\u001b[39morder(\u001b[39m\"\u001b[39m\u001b[39mkyufteta\u001b[39m\u001b[39m\"\u001b[39m, \u001b[39m\"\u001b[39m\u001b[39mzele\u001b[39m\u001b[39m\"\u001b[39m)\n\u001b[1;32m     10\u001b[0m \u001b[39mexcept\u001b[39;00m InvalidPortionException \u001b[39mas\u001b[39;00m e:\n",
      "Cell \u001b[0;32mIn [19], line 20\u001b[0m, in \u001b[0;36mLelkataOtStolaDoNas.order\u001b[0;34m(self, osnovno, garnitura)\u001b[0m\n\u001b[1;32m     19\u001b[0m \u001b[39mif\u001b[39;00m portion \u001b[39mnot\u001b[39;00m \u001b[39min\u001b[39;00m \u001b[39mself\u001b[39m\u001b[39m.\u001b[39m__allowed_portions\u001b[39m.\u001b[39mitems():\n\u001b[0;32m---> 20\u001b[0m     \u001b[39mraise\u001b[39;00m InvalidPortionException(portion)\n\u001b[1;32m     22\u001b[0m \u001b[39mprint\u001b[39m(\u001b[39m\"\u001b[39m\u001b[39mKrem, airqn?\u001b[39m\u001b[39m\"\u001b[39m)\n",
      "\u001b[0;31mInvalidPortionException\u001b[0m: Ama kak taka, ne moje kyufteta sus zele!",
      "\nDuring handling of the above exception, another exception occurred:\n",
      "\u001b[0;31mUnbeknownstToMeException\u001b[0m                  Traceback (most recent call last)",
      "Cell \u001b[0;32mIn [20], line 12\u001b[0m\n\u001b[1;32m     10\u001b[0m \u001b[39mexcept\u001b[39;00m InvalidPortionException \u001b[39mas\u001b[39;00m e:\n\u001b[1;32m     11\u001b[0m     portion \u001b[39m=\u001b[39m \u001b[39m\"\u001b[39m\u001b[39m със \u001b[39m\u001b[39m\"\u001b[39m\u001b[39m.\u001b[39mjoin(e\u001b[39m.\u001b[39margs)\n\u001b[0;32m---> 12\u001b[0m     \u001b[39mraise\u001b[39;00m UnbeknownstToMeException(portion)\n",
      "\u001b[0;31mUnbeknownstToMeException\u001b[0m: Е аз откъде да знам, че не може kyufteta със zele..."
     ]
    }
   ],
   "source": [
    "class UnbeknownstToMeException(Exception):\n",
    "    def __init__(self, fact: str) -> None:\n",
    "        msg = f\"Е аз откъде да знам, че не може {fact}...\"\n",
    "        super().__init__(msg)\n",
    "\n",
    "\n",
    "lelka = LelkataOtStolaDoNas()\n",
    "try:\n",
    "    lelka.order(\"kyufteta\", \"zele\")\n",
    "except InvalidPortionException as e:\n",
    "    portion = \" със \".join(e.args)\n",
    "    raise UnbeknownstToMeException(portion)"
   ]
  },
  {
   "cell_type": "markdown",
   "metadata": {},
   "source": [
    "*Disclaimer:* историята е по действителен случай, obv."
   ]
  },
  {
   "cell_type": "markdown",
   "metadata": {},
   "source": [
    "За да индикираме, че дадено изключение е директно следствие на друго, може да използваме `raise ... from ...`. Повече инфо в [документацията](https://docs.python.org/3/tutorial/errors.html#exception-chaining)."
   ]
  },
  {
   "cell_type": "markdown",
   "metadata": {},
   "source": [
    "`assert`"
   ]
  },
  {
   "cell_type": "markdown",
   "metadata": {},
   "source": [
    "Когато искаме да предпазим изпълнението на код от недифинрано поведение, можем да използваме ключовата дума `assert`. Тя проверява дали дадено условие е изпълнено и ако не е, то хвърля `AssertionError` с някакво съобщение за грешка, което може да зададем ако искаме. Обикновено се използва на фаза разработка и тестване на код, но може и да се използва и в production код, ако сме сигурни, че няма никога да се изпълни и че ако все пак се изпълни, то е окей програмата ни да крашне."
   ]
  },
  {
   "cell_type": "code",
   "execution_count": 21,
   "metadata": {},
   "outputs": [
    {
     "name": "stdout",
     "output_type": "stream",
     "text": [
      "0.816496580927726\n"
     ]
    },
    {
     "ename": "AssertionError",
     "evalue": "Expected and actual result series must be of equal length!",
     "output_type": "error",
     "traceback": [
      "\u001b[0;31m---------------------------------------------------------------------------\u001b[0m",
      "\u001b[0;31mAssertionError\u001b[0m                            Traceback (most recent call last)",
      "Cell \u001b[0;32mIn [21], line 9\u001b[0m\n\u001b[1;32m      5\u001b[0m     \u001b[39mreturn\u001b[39;00m (\u001b[39msum\u001b[39m((t \u001b[39m-\u001b[39m a) \u001b[39m*\u001b[39m\u001b[39m*\u001b[39m \u001b[39m2\u001b[39m \u001b[39mfor\u001b[39;00m t, a \u001b[39min\u001b[39;00m \u001b[39mzip\u001b[39m(test_results, actual_results)) \u001b[39m/\u001b[39m \u001b[39mlen\u001b[39m(test_results)) \u001b[39m*\u001b[39m\u001b[39m*\u001b[39m \u001b[39m0.5\u001b[39m  \u001b[39m# RMSE\u001b[39;00m\n\u001b[1;32m      8\u001b[0m \u001b[39mprint\u001b[39m(evaluate([\u001b[39m1\u001b[39m, \u001b[39m2\u001b[39m, \u001b[39m3\u001b[39m], [\u001b[39m2\u001b[39m, \u001b[39m2\u001b[39m, \u001b[39m4\u001b[39m]))\n\u001b[0;32m----> 9\u001b[0m \u001b[39mprint\u001b[39m(evaluate([\u001b[39m1\u001b[39m, \u001b[39m2\u001b[39m, \u001b[39m3\u001b[39m], [\u001b[39m2\u001b[39m, \u001b[39m2\u001b[39m, \u001b[39m4\u001b[39m, \u001b[39m5\u001b[39m]))\n",
      "Cell \u001b[0;32mIn [21], line 4\u001b[0m, in \u001b[0;36mevaluate\u001b[0;34m(test_results, actual_results)\u001b[0m\n\u001b[1;32m      3\u001b[0m \u001b[39mdef\u001b[39;00m \u001b[39mevaluate\u001b[39m(test_results: Iterable[\u001b[39mint\u001b[39m], actual_results: Iterable[\u001b[39mint\u001b[39m]) \u001b[39m-\u001b[39m\u001b[39m>\u001b[39m \u001b[39mfloat\u001b[39m:\n\u001b[0;32m----> 4\u001b[0m     \u001b[39massert\u001b[39;00m \u001b[39mlen\u001b[39m(test_results) \u001b[39m==\u001b[39m \u001b[39mlen\u001b[39m(actual_results), \u001b[39m\"\u001b[39m\u001b[39mExpected and actual result series must be of equal length!\u001b[39m\u001b[39m\"\u001b[39m\n\u001b[1;32m      5\u001b[0m     \u001b[39mreturn\u001b[39;00m (\u001b[39msum\u001b[39m((t \u001b[39m-\u001b[39m a) \u001b[39m*\u001b[39m\u001b[39m*\u001b[39m \u001b[39m2\u001b[39m \u001b[39mfor\u001b[39;00m t, a \u001b[39min\u001b[39;00m \u001b[39mzip\u001b[39m(test_results, actual_results)) \u001b[39m/\u001b[39m \u001b[39mlen\u001b[39m(test_results)) \u001b[39m*\u001b[39m\u001b[39m*\u001b[39m \u001b[39m0.5\u001b[39m\n",
      "\u001b[0;31mAssertionError\u001b[0m: Expected and actual result series must be of equal length!"
     ]
    }
   ],
   "source": [
    "from typing import Iterable\n",
    "\n",
    "def evaluate(test_results: Iterable[int], actual_results: Iterable[int]) -> float:\n",
    "    assert len(test_results) == len(actual_results), \"Expected and actual result series must be of equal length!\"\n",
    "    return (sum((t - a) ** 2 for t, a in zip(test_results, actual_results)) / len(test_results)) ** 0.5  # RMSE\n",
    "\n",
    "\n",
    "print(evaluate([1, 2, 3], [2, 2, 4]))\n",
    "print(evaluate([1, 2, 3], [2, 2, 4, 5]))"
   ]
  },
  {
   "cell_type": "markdown",
   "metadata": {},
   "source": [
    "В някои случаи можем да очакваме да прихванем и `AssertionError`, примерно за да логнем това състояние, вместо да ни крашне програмата:"
   ]
  },
  {
   "cell_type": "code",
   "execution_count": 22,
   "metadata": {},
   "outputs": [
    {
     "name": "stderr",
     "output_type": "stream",
     "text": [
      "Expected and actual result series must be of equal length!\n"
     ]
    }
   ],
   "source": [
    "try:\n",
    "    evaluate([1, 2, 3], [2, 2, 4, 5])\n",
    "except AssertionError as e:\n",
    "    logger.error(e)"
   ]
  }
 ],
 "metadata": {
  "kernelspec": {
   "display_name": "Python 3.10.6 64-bit",
   "language": "python",
   "name": "python3"
  },
  "language_info": {
   "codemirror_mode": {
    "name": "ipython",
    "version": 3
   },
   "file_extension": ".py",
   "mimetype": "text/x-python",
   "name": "python",
   "nbconvert_exporter": "python",
   "pygments_lexer": "ipython3",
   "version": "3.10.6"
  },
  "orig_nbformat": 4,
  "vscode": {
   "interpreter": {
    "hash": "b0fa6594d8f4cbf19f97940f81e996739fb7646882a419484c72d19e05852a7e"
   }
  }
 },
 "nbformat": 4,
 "nbformat_minor": 2
}
