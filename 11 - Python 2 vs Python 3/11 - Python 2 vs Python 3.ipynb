{
 "cells": [
  {
   "cell_type": "markdown",
   "metadata": {},
   "source": [
    "# Сравнение на версии 2 и 3 на Python: прилики и разлики\n"
   ]
  },
  {
   "cell_type": "markdown",
   "metadata": {},
   "source": [
    "Съдържание:\n",
    "- История на Python\n",
    "- `print` функция\n",
    "- Деление\n",
    "- strings\n",
    "- xrange\n",
    "- input()\n",
    "- Миграция от Python 2 към Python 3"
   ]
  },
  {
   "cell_type": "markdown",
   "metadata": {},
   "source": [
    "## История на Python\n"
   ]
  },
  {
   "cell_type": "markdown",
   "metadata": {},
   "source": [
    "Python 2 излиза през октомври 2000, включвайки във втората си версия list comprehension и garbage collection като основни функционалности. В Python 2.2 (декември 2001) биват добавени генераторите. Python 2.5 (Септември 2006) пък добавя `with` констркуицята в езика.\n",
    "\n",
    "Python 3 има за цел да \"оправи\" някои фундаментални проблеми в езика. Това е постигнато на цената на обратната съвместимост - `python3` не може да интерпретира `python2` код.\n",
    "\n",
    "Python версии 2.6 и 3 биват пуснати заедно пред октомври 2008 година. Последната версия на Python2 е 2.7, пусната през юни 2009. Поддръжката на Python2.7 бива спряна на 1-ви януари 2020г. Последната версия на python2 е 2.7.18, пусната на 20-ти април 2020. \n",
    "\n",
    "Python3 внася големи промени в езика, като по-долу ще споменем основните разлики между Python 2 и 3.\n"
   ]
  },
  {
   "cell_type": "markdown",
   "metadata": {},
   "source": [
    "## print функция\n"
   ]
  },
  {
   "cell_type": "markdown",
   "metadata": {},
   "source": [
    "Може би най-забележимата разлика между Python 2 и 3 е разликата в `print`. В python3, `print` е функция, докато в python2 е ключова дума."
   ]
  },
  {
   "cell_type": "code",
   "execution_count": 2,
   "metadata": {},
   "outputs": [
    {
     "name": "stdout",
     "output_type": "stream",
     "text": [
      "Hello world, python3 style\n"
     ]
    }
   ],
   "source": [
    "print(\"Hello world, python3 style\")\n",
    "# print \"Hello world, python2 style\""
   ]
  },
  {
   "cell_type": "markdown",
   "metadata": {},
   "source": [
    "## Деление"
   ]
  },
  {
   "cell_type": "markdown",
   "metadata": {},
   "source": [
    "Делението между цели числа работи различно между Python2 и Python3. Например, израза `7 / 2` в Python3 ще върне `3.5`, докато в Python2 резултатът ще е `3`."
   ]
  },
  {
   "cell_type": "markdown",
   "metadata": {},
   "source": [
    "## Низове"
   ]
  },
  {
   "cell_type": "markdown",
   "metadata": {},
   "source": [
    "По подразбиране, низовете в Python3 са Unicode, докато в Python2, за да имаме unicode string, трябва да го дефинираме с помощта на символа `u` (т.е. `u'hello world'`)"
   ]
  },
  {
   "cell_type": "markdown",
   "metadata": {},
   "source": [
    "## Xrange"
   ]
  },
  {
   "cell_type": "markdown",
   "metadata": {},
   "source": [
    "Друга по-видима разлика е наличието на функцията `xrange` в Python2. `xrange` има същото поведение като `range` в Python3 - връща генератор. Тогава какво прави `range` в Python2 ? `range` в Python2 ни връща list."
   ]
  },
  {
   "cell_type": "markdown",
   "metadata": {},
   "source": [
    "## input"
   ]
  },
  {
   "cell_type": "markdown",
   "metadata": {},
   "source": [
    "В Python2, `input` функцията конвертира входа към подходящ тип - т.е. ако въведем `5`, резултатът ще е от тип `int`. `raw_input` функцията пък ни връща входа като string, независимо от съдържанието му. В Python3 това поведение е променено, като винаги се връща `string` съдържащ входа."
   ]
  },
  {
   "cell_type": "markdown",
   "metadata": {},
   "source": [
    "## Миграция от Python2 към Python3"
   ]
  },
  {
   "cell_type": "markdown",
   "metadata": {},
   "source": [
    "Съществуват няколко автоматизирани инструмента, които могат да помогнат с миграцията на код от Python2 към Python3 - единият е `futurize` (линк [тук](https://python-future.org/automatic_conversion.html)), а другия е `modernize` (линк [тук](https://python-modernize.readthedocs.io/en/latest/)).\n",
    "\n",
    "И двата инструмента не гарантират пълно автоматично мигриране.\n",
    "\n",
    "Ако искате да научите повече за миграцията от Python 2 към Python 3, може да прочетете следната [статия](https://docs.python.org/3/howto/pyporting.html)."
   ]
  }
 ],
 "metadata": {
  "kernelspec": {
   "display_name": "Python 3.10.8 ('.venv': venv)",
   "language": "python",
   "name": "python3"
  },
  "language_info": {
   "codemirror_mode": {
    "name": "ipython",
    "version": 3
   },
   "file_extension": ".py",
   "mimetype": "text/x-python",
   "name": "python",
   "nbconvert_exporter": "python",
   "pygments_lexer": "ipython3",
   "version": "3.10.8"
  },
  "orig_nbformat": 4,
  "vscode": {
   "interpreter": {
    "hash": "ca82f3f7203766c88edf93ff4c31acdd4291373d00f58dd11733f88f0488f43d"
   }
  }
 },
 "nbformat": 4,
 "nbformat_minor": 2
}
