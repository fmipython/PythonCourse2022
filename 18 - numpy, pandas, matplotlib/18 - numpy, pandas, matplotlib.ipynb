{
 "cells": [
  {
   "cell_type": "markdown",
   "metadata": {},
   "source": [
    "# 18 - Numpy, Pandas, Matplotlib"
   ]
  },
  {
   "cell_type": "markdown",
   "metadata": {},
   "source": [
    "- [ ] Numpy\n",
    "- [ ] Pandas\n",
    "- [ ] Matplotlib\n",
    "- [ ] Seaborn "
   ]
  },
  {
   "cell_type": "markdown",
   "metadata": {},
   "source": [
    "## Numpy"
   ]
  },
  {
   "cell_type": "markdown",
   "metadata": {},
   "source": [
    "Numpy е библиотека създадена за работа с масиви. Масивите са едномерни, двумерни и т.н. Масивите са еднотипни, т.е. всички елементи в масива трябва да са от един и същи тип. Масивите са с фиксиран размер, т.е. не може да се добавят или премахват елементи от масива. Масивите са с фиксиран тип, т.е. всички елементи в масива трябва да са от един и същи тип. Масивите са с фиксиран размер, т.е. не може да се добавят или премахват елементи от масива."
   ]
  },
  {
   "cell_type": "code",
   "execution_count": 3,
   "metadata": {},
   "outputs": [
    {
     "name": "stdout",
     "output_type": "stream",
     "text": [
      "Requirement already satisfied: numpy in /home/lyubolp/.local/lib/python3.8/site-packages (1.24.1)\n"
     ]
    }
   ],
   "source": [
    "!pip install numpy"
   ]
  },
  {
   "cell_type": "markdown",
   "metadata": {},
   "source": [
    "Едни от важните характеристики на масивите са:\n",
    "- shape - размер на масива\n",
    "- dtype - тип на елементите в масива\n",
    "- ndim - брой измерения на масива\n",
    "- size - общ брой елементи в масива"
   ]
  },
  {
   "cell_type": "code",
   "execution_count": 31,
   "metadata": {},
   "outputs": [],
   "source": [
    "def display_numpy_array_info(arr):    \n",
    "    print(f'{arr=}')\n",
    "    print(f'{arr.shape=}')\n",
    "    print(f'{arr.dtype=}')\n",
    "    print(f'{arr.ndim=}')\n",
    "    print(f'{arr.size=}')\n",
    "    print('')"
   ]
  },
  {
   "cell_type": "markdown",
   "metadata": {},
   "source": [
    "Можем да създадем масив от списък, с помощта на функцията `array`."
   ]
  },
  {
   "cell_type": "code",
   "execution_count": 25,
   "metadata": {},
   "outputs": [
    {
     "name": "stdout",
     "output_type": "stream",
     "text": [
      "arr=array([[ 1,  2,  3,  4,  5],\n",
      "       [ 6,  7,  8,  9, 10]])\n",
      "arr.shape=(2, 5)\n",
      "arr.dtype=dtype('int64')\n",
      "arr.ndim=2\n",
      "arr.size=10\n",
      "\n"
     ]
    }
   ],
   "source": [
    "import numpy as np\n",
    "\n",
    "arr = np.array([[1, 2, 3, 4, 5], [6, 7, 8, 9, 10]])\n",
    "\n",
    "display_numpy_array_info(arr)"
   ]
  },
  {
   "cell_type": "markdown",
   "metadata": {},
   "source": [
    "Можем да зададем типа на елементите в масива с помощта на параметъра `dtype`."
   ]
  },
  {
   "cell_type": "code",
   "execution_count": 26,
   "metadata": {},
   "outputs": [
    {
     "name": "stdout",
     "output_type": "stream",
     "text": [
      "arr=array([1.1, 2.2, 3.3, 4.4, 5.5], dtype=float32)\n",
      "arr.shape=(5,)\n",
      "arr.dtype=dtype('float32')\n",
      "arr.ndim=1\n",
      "arr.size=5\n",
      "\n"
     ]
    }
   ],
   "source": [
    "import numpy as np\n",
    "\n",
    "arr = np.array([1.1, 2.2, 3.3, 4.4, 5.5], dtype=np.float32)\n",
    "\n",
    "display_numpy_array_info(arr)"
   ]
  },
  {
   "cell_type": "markdown",
   "metadata": {},
   "source": [
    "С помощта на функцията `arange` можем да създадем масив с равномерни елементи от start до end със стъпка step."
   ]
  },
  {
   "cell_type": "code",
   "execution_count": 27,
   "metadata": {},
   "outputs": [
    {
     "name": "stdout",
     "output_type": "stream",
     "text": [
      "arr=array([1, 3, 5, 7, 9])\n",
      "arr.shape=(5,)\n",
      "arr.dtype=dtype('int64')\n",
      "arr.ndim=1\n",
      "arr.size=5\n",
      "\n",
      "arr=array([2, 3, 4, 5, 6, 7, 8, 9])\n",
      "arr.shape=(8,)\n",
      "arr.dtype=dtype('int64')\n",
      "arr.ndim=1\n",
      "arr.size=8\n",
      "\n"
     ]
    }
   ],
   "source": [
    "import numpy as np\n",
    "\n",
    "arr1 = np.arange(1, 10, 2)\n",
    "arr2 = np.arange(2, 10, 1)\n",
    "\n",
    "display_numpy_array_info(arr1)\n",
    "display_numpy_array_info(arr2)"
   ]
  },
  {
   "cell_type": "markdown",
   "metadata": {},
   "source": [
    "Можем да създадем масив от нули или единици, с помощта на функциите `zeros` и `ones`."
   ]
  },
  {
   "cell_type": "code",
   "execution_count": 29,
   "metadata": {},
   "outputs": [
    {
     "name": "stdout",
     "output_type": "stream",
     "text": [
      "arr=array([[0., 0., 0., 0.],\n",
      "       [0., 0., 0., 0.],\n",
      "       [0., 0., 0., 0.]])\n",
      "arr.shape=(3, 4)\n",
      "arr.dtype=dtype('float64')\n",
      "arr.ndim=2\n",
      "arr.size=12\n",
      "\n",
      "arr=array([[[1, 1, 1, 1],\n",
      "        [1, 1, 1, 1],\n",
      "        [1, 1, 1, 1]],\n",
      "\n",
      "       [[1, 1, 1, 1],\n",
      "        [1, 1, 1, 1],\n",
      "        [1, 1, 1, 1]]], dtype=int16)\n",
      "arr.shape=(2, 3, 4)\n",
      "arr.dtype=dtype('int16')\n",
      "arr.ndim=3\n",
      "arr.size=24\n",
      "\n"
     ]
    }
   ],
   "source": [
    "import numpy as np\n",
    "\n",
    "zeros = np.zeros((3, 4))\n",
    "ones = np.ones((2, 3, 4), dtype=np.int16)\n",
    "\n",
    "display_numpy_array_info(zeros)\n",
    "display_numpy_array_info(ones)"
   ]
  },
  {
   "cell_type": "markdown",
   "metadata": {},
   "source": [
    "С метода `random` можем да създадем масив със случайни числа в интервала от 0 до 1 с размери rows и cols."
   ]
  },
  {
   "cell_type": "code",
   "execution_count": 5,
   "metadata": {},
   "outputs": [
    {
     "name": "stdout",
     "output_type": "stream",
     "text": [
      "arr=array([[0.85258647, 0.87437575, 0.04258029],\n",
      "       [0.06627148, 0.24665089, 0.52177255]])\n",
      "arr.shape=(2, 3)\n",
      "arr.dtype=dtype('float64')\n",
      "arr.ndim=2\n",
      "arr.size=6\n",
      "\n"
     ]
    }
   ],
   "source": [
    "import numpy as np\n",
    "\n",
    "random = np.random.random((2, 3))\n",
    "\n",
    "display_numpy_array_info(random)"
   ]
  },
  {
   "cell_type": "markdown",
   "metadata": {},
   "source": [
    "С метода `reshape` можем да преоразмерим масива."
   ]
  },
  {
   "cell_type": "code",
   "execution_count": 30,
   "metadata": {},
   "outputs": [
    {
     "name": "stdout",
     "output_type": "stream",
     "text": [
      "arr=array([[1, 2, 3],\n",
      "       [4, 5, 6]])\n",
      "arr.shape=(2, 3)\n",
      "arr.dtype=dtype('int64')\n",
      "arr.ndim=2\n",
      "arr.size=6\n",
      "\n",
      "arr=array([[1, 2],\n",
      "       [3, 4],\n",
      "       [5, 6]])\n",
      "arr.shape=(3, 2)\n",
      "arr.dtype=dtype('int64')\n",
      "arr.ndim=2\n",
      "arr.size=6\n",
      "\n"
     ]
    }
   ],
   "source": [
    "import numpy as np\n",
    "\n",
    "arr = np.array([[1, 2, 3], [4, 5, 6]])\n",
    "display_numpy_array_info(arr)\n",
    "\n",
    "arr1 = arr.reshape(3, 2)\n",
    "display_numpy_array_info(arr1)"
   ]
  },
  {
   "cell_type": "markdown",
   "metadata": {},
   "source": [
    "Numpy поддържа и някои математически операции между масиви."
   ]
  },
  {
   "cell_type": "code",
   "execution_count": 1,
   "metadata": {},
   "outputs": [
    {
     "name": "stdout",
     "output_type": "stream",
     "text": [
      "[15 27 38]\n",
      "[ 5 13 22]\n",
      "[ 50 140 240]\n",
      "[2.         2.85714286 3.75      ]\n",
      "[100 400 900]\n",
      "[1. 2. 3.]\n",
      "[False  True  True]\n"
     ]
    }
   ],
   "source": [
    "import numpy as np\n",
    "\n",
    "a = np.array([10, 20, 30])\n",
    "b = np.array([5, 7, 8])\n",
    "\n",
    "print(a + b)\n",
    "print(a - b)\n",
    "print(a * b)\n",
    "print(a / b)\n",
    "print(a ** 2)\n",
    "print(a / 10)\n",
    "print(a > 15)"
   ]
  },
  {
   "cell_type": "code",
   "execution_count": 19,
   "metadata": {},
   "outputs": [
    {
     "name": "stdout",
     "output_type": "stream",
     "text": [
      "[[71.34135627  0.25907481 89.56057185]\n",
      " [94.61009345 24.91787537 77.29307812]]\n",
      "357.98204987140775\n",
      "0.2590748147073829\n",
      "94.61009345054515\n",
      "34.87696903183212\n"
     ]
    }
   ],
   "source": [
    "import numpy as np \n",
    "\n",
    "a = np.random.random((2, 3)) * 100\n",
    "\n",
    "print(a)\n",
    "print(a.sum())\n",
    "print(a.min())\n",
    "print(a.max())\n",
    "print(a.std())"
   ]
  },
  {
   "cell_type": "code",
   "execution_count": 18,
   "metadata": {},
   "outputs": [
    {
     "name": "stdout",
     "output_type": "stream",
     "text": [
      "[1 2 3 4 5 6 7 8 9]\n",
      "[2.71828183e+00 7.38905610e+00 2.00855369e+01 5.45981500e+01\n",
      " 1.48413159e+02 4.03428793e+02 1.09663316e+03 2.98095799e+03\n",
      " 8.10308393e+03]\n",
      "[1.         1.41421356 1.73205081 2.         2.23606798 2.44948974\n",
      " 2.64575131 2.82842712 3.        ]\n"
     ]
    }
   ],
   "source": [
    "import numpy as np\n",
    "\n",
    "b = np.arange(1, 10)\n",
    "print(b)\n",
    "print(np.exp(b))\n",
    "print(np.sqrt(b))"
   ]
  },
  {
   "cell_type": "markdown",
   "metadata": {},
   "source": [
    "Numpy поддържа и сумиране на масиви, по даден ред или колона."
   ]
  },
  {
   "cell_type": "code",
   "execution_count": 20,
   "metadata": {},
   "outputs": [
    {
     "name": "stdout",
     "output_type": "stream",
     "text": [
      "[[1 2 3]\n",
      " [4 5 6]]\n",
      "[5 7 9]\n",
      "[ 6 15]\n"
     ]
    }
   ],
   "source": [
    "import numpy as np\n",
    "\n",
    "c = np.array([[1, 2, 3], [4, 5, 6]])\n",
    "print(c)\n",
    "print(c.sum(axis=0))\n",
    "print(c.sum(axis=1))"
   ]
  },
  {
   "cell_type": "markdown",
   "metadata": {},
   "source": [
    "Една особеност на Numpy е индексацията. Ако имаме двумерен масив, и искаме да достъпим елемента на 0-лев ред и 1-ви колона, то индексацията е следната `arr[0, 1]`. Ако използваме само един индекс, то той се отнася за редовете. Т.е. `arr[0]` ще ни върне първия ред от масива. Ако искаме да изберем цял ред, колона или която и да е друга размерност, можем да използваме `:`. Т.е. `arr[:, 1]` ще ни върне всички редове от втората колона."
   ]
  },
  {
   "cell_type": "code",
   "execution_count": 26,
   "metadata": {},
   "outputs": [
    {
     "name": "stdout",
     "output_type": "stream",
     "text": [
      "[[ 1  2  3  4]\n",
      " [ 5  6  7  8]\n",
      " [ 9 10 11 12]]\n",
      "a[0, 1]=2\n",
      "a[1, :]=array([5, 6, 7, 8])\n",
      "a[:, 2]=array([ 3,  7, 11])\n",
      "[[ 1  1  3  4]\n",
      " [ 5  6  7  8]\n",
      " [ 9 10 11 12]]\n"
     ]
    }
   ],
   "source": [
    "import numpy as np\n",
    "\n",
    "a = np.arange(1, 13).reshape(3, 4)\n",
    "\n",
    "print(a)\n",
    "\n",
    "print(f'{a[0, 1]=}')\n",
    "print(f'{a[1, :]=}')\n",
    "print(f'{a[:, 2]=}')\n",
    "\n",
    "a[0, 1] = 1\n",
    "print(a)"
   ]
  },
  {
   "cell_type": "markdown",
   "metadata": {},
   "source": [
    "Освен с числа, можем да индексираме и с булеви масиви. Можем да подадем масив от булеви стойности - ако стойността на даден елемент е `True`, то той ще бъде включен в резултата, а ако е `False`, то няма да бъде включен."
   ]
  },
  {
   "cell_type": "code",
   "execution_count": 39,
   "metadata": {},
   "outputs": [
    {
     "name": "stdout",
     "output_type": "stream",
     "text": [
      "[1 2 3 4 5 6 7 8 9]\n",
      "[2 4 6 8]\n",
      "[2 4 6 8]\n"
     ]
    }
   ],
   "source": [
    "import numpy as np\n",
    "\n",
    "a = np.arange(1, 10)\n",
    "print(a)\n",
    "\n",
    "even_mask = a % 2 == 0\n",
    "print(a[even_mask])\n",
    "print(a[a % 2 == 0])"
   ]
  },
  {
   "cell_type": "markdown",
   "metadata": {},
   "source": [
    "Numpy поддържа три вида копиране - никакво, плитко и дълбоко. \n",
    "\n",
    "Когато извикаме `arr2 = arr1`, то това е никакво копиране. Т.е. `arr2` е просто друго име на `arr1`. Ако променим елемента на `arr2`, то той ще се промени и в `arr1`.\n",
    "\n",
    "Когато извикаме `arr3 = arr.view()`, ще се създаде нов обект, но данните няма да се копират.\n",
    "\n",
    "Когато извикаме `arr4 = arr.copy()`, ще се създаде нов обект, с копие на данните."
   ]
  },
  {
   "cell_type": "code",
   "execution_count": 28,
   "metadata": {},
   "outputs": [
    {
     "name": "stdout",
     "output_type": "stream",
     "text": [
      "[[ 1  2  3  4]\n",
      " [ 5  6  7  8]\n",
      " [ 9 10 11 12]]\n",
      "[[100   2   3   4]\n",
      " [  5   6   7   8]\n",
      " [  9  10  11  12]]\n",
      "[[100   2   3   4]\n",
      " [  5   6   7   8]\n",
      " [  9  10  11  12]]\n",
      "[[ 1  2  3  4]\n",
      " [ 5  6  7  8]\n",
      " [ 9 10 11 12]]\n",
      "True\n",
      "False\n",
      "False\n"
     ]
    }
   ],
   "source": [
    "import numpy as np\n",
    "\n",
    "a = np.arange(1, 13).reshape(3, 4)\n",
    "print(a)\n",
    "\n",
    "b = a\n",
    "c = a.view()\n",
    "d = a.copy()\n",
    "\n",
    "a[0, 0] = 100\n",
    "\n",
    "print(b)\n",
    "print(c)\n",
    "print(d)\n",
    "\n",
    "print(b is a)\n",
    "print(c is a)\n",
    "print(d is a)"
   ]
  },
  {
   "cell_type": "markdown",
   "metadata": {},
   "source": [
    "Numpy ни позволява да прилагаме функции към нашите масиви. Например, можем да приложим функцията `sqrt` към всеки елемент на масива."
   ]
  },
  {
   "cell_type": "code",
   "execution_count": 32,
   "metadata": {},
   "outputs": [
    {
     "name": "stdout",
     "output_type": "stream",
     "text": [
      "[1 2 3 4 5 6 7 8 9]\n",
      "arr=array([ 1,  4,  9, 16, 25, 36, 49, 64, 81])\n",
      "arr.shape=(9,)\n",
      "arr.dtype=dtype('int64')\n",
      "arr.ndim=1\n",
      "arr.size=9\n",
      "\n"
     ]
    }
   ],
   "source": [
    "import numpy as np\n",
    "\n",
    "def square(x):\n",
    "    return x ** 2\n",
    "\n",
    "a = np.arange(1, 10)\n",
    "\n",
    "print(a)\n",
    "\n",
    "b = square(a)\n",
    "display_numpy_array_info(b)"
   ]
  },
  {
   "cell_type": "markdown",
   "metadata": {},
   "source": [
    "## Pandas"
   ]
  },
  {
   "cell_type": "markdown",
   "metadata": {},
   "source": [
    "## Matplotlib"
   ]
  },
  {
   "cell_type": "markdown",
   "metadata": {},
   "source": [
    "## Seaborne"
   ]
  }
 ],
 "metadata": {
  "kernelspec": {
   "display_name": "Python 3.8.10 64-bit",
   "language": "python",
   "name": "python3"
  },
  "language_info": {
   "codemirror_mode": {
    "name": "ipython",
    "version": 3
   },
   "file_extension": ".py",
   "mimetype": "text/x-python",
   "name": "python",
   "nbconvert_exporter": "python",
   "pygments_lexer": "ipython3",
   "version": "3.8.10"
  },
  "orig_nbformat": 4,
  "vscode": {
   "interpreter": {
    "hash": "916dbcbb3f70747c44a77c7bcd40155683ae19c65e1c03b4aa3499c5328201f1"
   }
  }
 },
 "nbformat": 4,
 "nbformat_minor": 2
}
