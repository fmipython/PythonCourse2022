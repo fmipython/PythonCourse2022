{
 "cells": [
  {
   "cell_type": "markdown",
   "metadata": {},
   "source": [
    "# Уеб програмиране. Flask"
   ]
  },
  {
   "cell_type": "markdown",
   "metadata": {},
   "source": [
    "Съдържание:\n",
    "- Какво е уеб програмиране ?\n",
    "- Накратко за HTML, CSS и JavaScript\n",
    "- Какво е Flask ?\n",
    "- Просто приложение\n",
    "- Шаблони\n",
    "- Routing\n",
    "- Работа със заявки"
   ]
  },
  {
   "cell_type": "markdown",
   "metadata": {},
   "source": [
    "## Какво е уеб програмиране ?"
   ]
  },
  {
   "cell_type": "markdown",
   "metadata": {},
   "source": [
    "## Накратко за HTML, CSS и JavaScript"
   ]
  },
  {
   "cell_type": "markdown",
   "metadata": {},
   "source": [
    "## Какво е Flask ?"
   ]
  },
  {
   "cell_type": "markdown",
   "metadata": {},
   "source": [
    "## Просто приложение"
   ]
  },
  {
   "cell_type": "markdown",
   "metadata": {},
   "source": [
    "Първото нещо, което трябва да направим е да заредим Flask модула. Това става с `from flask import Flask`. След това трябва да създадем обект от тип `Flask`. Това става с `app = Flask(__name__)`. Като първи аргумент на конструктора на `Flask` подаваме името на модула, в който се намираме. Това е необходимо, за да Flask знае къде да търси файловете, които са свързани с приложението. \n",
    "След това трябва да дефинираме функции, които ще се изпълняват, при поискване на даден път. За целта използваме декоратора `@app.route`. Това е декоратор, който се използва за да се определи къде да се изпълни функцията. Нека дефинираме функция, която да връща текста `Hello world`, обвит като `<p>` таг. Това става с `return \"<p>Hello world</p>\"`."
   ]
  },
  {
   "cell_type": "code",
   "execution_count": 2,
   "metadata": {},
   "outputs": [],
   "source": [
    "from flask import Flask\n",
    "\n",
    "app = Flask(__name__)\n",
    "\n",
    "@app.route(\"/\")\n",
    "def hello_world():\n",
    "    return \"<p>Hello, World!</p>\""
   ]
  },
  {
   "cell_type": "markdown",
   "metadata": {},
   "source": [
    "За да стартираме нашето уеб приложение, трябва да изпълним следната команда: `python3 -m flask --app simple_app run`. Това ще стартира нашето приложение на адрес `http://127.0.0.1:5000`"
   ]
  },
  {
   "cell_type": "code",
   "execution_count": 3,
   "metadata": {},
   "outputs": [
    {
     "name": "stdout",
     "output_type": "stream",
     "text": [
      " * Serving Flask app 'simple_app'\n",
      " * Debug mode: off\n",
      "\u001b[31m\u001b[1mWARNING: This is a development server. Do not use it in a production deployment. Use a production WSGI server instead.\u001b[0m\n",
      " * Running on http://127.0.0.1:5000\n",
      "\u001b[33mPress CTRL+C to quit\u001b[0m\n",
      "127.0.0.1 - - [26/Dec/2022 16:38:47] \"GET / HTTP/1.1\" 200 -\n",
      "^C\n"
     ]
    }
   ],
   "source": [
    "!python3 -m flask --app examples/simple_app run"
   ]
  },
  {
   "cell_type": "markdown",
   "metadata": {},
   "source": [
    "## Шаблони"
   ]
  },
  {
   "cell_type": "markdown",
   "metadata": {},
   "source": [
    "Flask поддържа и т.нар. HTML шаблони - това са HTML страници, които могат да получават данни от нашия Python код. Flask търси тези template-и в специална папка на име `templates`.  "
   ]
  },
  {
   "cell_type": "markdown",
   "metadata": {},
   "source": [
    "Ще създадем един базов шаблон, който ще съдържа общата част на всяка наша страница:\n",
    "```html\n",
    "<!DOCTYPE html>\n",
    "<html lang=\"en\">\n",
    "<head>\n",
    "    <meta charset=\"UTF-8\">\n",
    "    <title>{{ title }}</title>\n",
    "    <link rel=\"stylesheet\" href=\"https://www.w3schools.com/w3css/4/w3.css\">\n",
    "\n",
    "    {% block styles %}\n",
    "    {% endblock %}\n",
    "\n",
    "    {% block scripts %}\n",
    "    {% endblock %}\n",
    "</head>\n",
    "<body>\n",
    "    <div id=\"main-content\">\n",
    "        {% block content %}\n",
    "        {% endblock %}\n",
    "    </div>\n",
    "</body>\n",
    "</html>\n",
    "```"
   ]
  },
  {
   "cell_type": "markdown",
   "metadata": {},
   "source": [
    "Забелязваме някои нестандартни за HTML елементи - всичко, което е оградено от `{}` скоби е израз, който ще бъде изчислен от Python кода. Това са `{{ title }}` и `{% block content %}{% endblock %}`. Първият израз ще бъде заменен със стойността на променливата `title`, а вторият израз ще бъде заменен със съдържанието на блока `content`.\n",
    "\n",
    "Нека разширим нашия базов шаблон, като направим началната ни страница - тя ще е с името `index.html`\n",
    "\n",
    "```html\n",
    "{% extends \"base.html\" %}\n",
    "\n",
    "{% block content %}\n",
    "    <h1>This is the home page</h1> \n",
    "    <h2>Hi, {{user}}</h2>\n",
    "{% endblock %}\n",
    "```"
   ]
  },
  {
   "cell_type": "markdown",
   "metadata": {},
   "source": [
    "Остава единствено да кажем на Flask да зареди нашия шаблон - това става с помощта на метода `render_template\"."
   ]
  },
  {
   "cell_type": "code",
   "execution_count": 1,
   "metadata": {},
   "outputs": [],
   "source": [
    "from flask import Flask, render_template\n",
    "\n",
    "app = Flask(__name__)\n",
    "\n",
    "@app.route(\"/\")\n",
    "def home():\n",
    "    return render_template('index.html', title='Home', user='Lyubo')"
   ]
  },
  {
   "cell_type": "markdown",
   "metadata": {},
   "source": [
    "Освен името на шаблона, към `render_template` можем да подадем и стойности, с които да бъдат заместени изразите в шаблона."
   ]
  },
  {
   "cell_type": "code",
   "execution_count": 3,
   "metadata": {},
   "outputs": [
    {
     "name": "stdout",
     "output_type": "stream",
     "text": [
      " * Serving Flask app 'examples/templates_simple'\n",
      " * Debug mode: off\n",
      "\u001b[31m\u001b[1mWARNING: This is a development server. Do not use it in a production deployment. Use a production WSGI server instead.\u001b[0m\n",
      " * Running on http://127.0.0.1:5000\n",
      "\u001b[33mPress CTRL+C to quit\u001b[0m\n",
      "127.0.0.1 - - [30/Dec/2022 09:54:45] \"GET / HTTP/1.1\" 200 -\n",
      "^C\n"
     ]
    }
   ],
   "source": [
    "!python3 -m flask --app examples/simple_templates run"
   ]
  },
  {
   "cell_type": "markdown",
   "metadata": {},
   "source": [
    "## Routing"
   ]
  },
  {
   "cell_type": "markdown",
   "metadata": {},
   "source": [
    "Дотук работехме само с една страница - как може да добавим допълнителни страници ?\n",
    "\n",
    "Можем да използваме `@app.route` декоратора, но с друг път, за да можем да създадем други страници. Нека направим примитивна логин страница.\n",
    "\n",
    "Нека създадем нов template, който да бъде използван за логин страница.\n",
    "\n",
    "```html\n",
    "{% extends \"base.html\" %}\n",
    "\n",
    "{% block content %}\n",
    "    <h1>This is the login page</h1>\n",
    "    <form action=\"/login_action\" method=\"post\">\n",
    "        <input type=\"text\" name=\"username\" placeholder=\"Username\">\n",
    "        <input type=\"password\" name=\"password\" placeholder=\"Password\">\n",
    "        <input type=\"submit\" value=\"Login\">\n",
    "    </form>\n",
    "{% endblock %}\n",
    "```"
   ]
  },
  {
   "cell_type": "code",
   "execution_count": 1,
   "metadata": {},
   "outputs": [],
   "source": [
    "from flask import Flask, render_template\n",
    "\n",
    "app = Flask(__name__)\n",
    "\n",
    "@app.route(\"/\")\n",
    "def home():\n",
    "    return render_template('index.html', title='Home', user='Lyubo')\n",
    "\n",
    "@app.route(\"/login\")\n",
    "def login():\n",
    "    return render_template('login.html', title='Login')"
   ]
  },
  {
   "cell_type": "code",
   "execution_count": 2,
   "metadata": {},
   "outputs": [
    {
     "name": "stdout",
     "output_type": "stream",
     "text": [
      " * Serving Flask app 'examples/simple_login'\n",
      " * Debug mode: off\n",
      "\u001b[31m\u001b[1mWARNING: This is a development server. Do not use it in a production deployment. Use a production WSGI server instead.\u001b[0m\n",
      " * Running on http://127.0.0.1:5000\n",
      "\u001b[33mPress CTRL+C to quit\u001b[0m\n",
      "127.0.0.1 - - [30/Dec/2022 12:31:45] \"GET / HTTP/1.1\" 200 -\n",
      "127.0.0.1 - - [30/Dec/2022 12:31:49] \"GET /login HTTP/1.1\" 200 -\n",
      "^C\n"
     ]
    }
   ],
   "source": [
    "!python3 -m flask --app examples/simple_login run"
   ]
  },
  {
   "cell_type": "markdown",
   "metadata": {},
   "source": [
    "`/page/<var>`, аргументи към функциите"
   ]
  },
  {
   "cell_type": "markdown",
   "metadata": {},
   "source": [
    "## Работа с ресурси"
   ]
  },
  {
   "cell_type": "markdown",
   "metadata": {},
   "source": [
    "Почти винаги ще ни се наложи да работим с някакви статични ресурси в нашето уеб приложение - било то CSS файлове, JS файлове или изображения. За да можем да достъпваме тези ресурси, ще трябва да ги копираме в папка на нашето приложение. \n",
    "Нека създадем файла `style.css` в папката `static`.\n",
    "\n",
    "```css\n",
    "#main-content {\n",
    "    width: 100%;\n",
    "    height: 100%;\n",
    "    background-color: #333333;\n",
    "    padding: 10px;\n",
    "    border: 1px solid #ccc;\n",
    "    border-radius: 5px;\n",
    "    box-shadow: 0 0 10px #ccc;\n",
    "}\n",
    "\n",
    "h1 {\n",
    "    font-family: 'Segoe UI', Tahoma, Geneva, Verdana, sans-serif;\n",
    "    color: white;\n",
    "}\n",
    "```"
   ]
  },
  {
   "cell_type": "markdown",
   "metadata": {},
   "source": [
    "За да достъпим такъв статичен ресурс през нашия HTML код, можем да използваме `{{ url_for('static', filename='img/logo.png') }}`. Това ще ни върне пътя до файла `logo.png` в папката `img` в папката `static`."
   ]
  },
  {
   "cell_type": "code",
   "execution_count": null,
   "metadata": {},
   "outputs": [],
   "source": [
    "!python3 -m flask --app examples/fancy_page run"
   ]
  },
  {
   "cell_type": "markdown",
   "metadata": {},
   "source": [
    "## Работа със заявки"
   ]
  },
  {
   "cell_type": "markdown",
   "metadata": {},
   "source": [
    "Ще добавим проста логин форма в нашия уеб сайт."
   ]
  },
  {
   "cell_type": "markdown",
   "metadata": {},
   "source": [
    "## JSON API"
   ]
  },
  {
   "cell_type": "markdown",
   "metadata": {},
   "source": [
    "- make_response\n",
    "- jsonify\n",
    "- request\n",
    "- config.from_envvar\n",
    "- app.response_class\n"
   ]
  }
 ],
 "metadata": {
  "kernelspec": {
   "display_name": "Python 3.8.10 64-bit",
   "language": "python",
   "name": "python3"
  },
  "language_info": {
   "codemirror_mode": {
    "name": "ipython",
    "version": 3
   },
   "file_extension": ".py",
   "mimetype": "text/x-python",
   "name": "python",
   "nbconvert_exporter": "python",
   "pygments_lexer": "ipython3",
   "version": "3.8.10"
  },
  "orig_nbformat": 4,
  "vscode": {
   "interpreter": {
    "hash": "916dbcbb3f70747c44a77c7bcd40155683ae19c65e1c03b4aa3499c5328201f1"
   }
  }
 },
 "nbformat": 4,
 "nbformat_minor": 2
}
