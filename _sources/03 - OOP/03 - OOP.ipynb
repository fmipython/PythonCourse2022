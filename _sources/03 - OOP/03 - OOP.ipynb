{
  "cells": [
    {
      "cell_type": "markdown",
      "metadata": {
        "colab_type": "text",
        "id": "view-in-github"
      },
      "source": [
        "<a href=\"https://colab.research.google.com/github/fmipython/PythonCourse2022/blob/main/03%20-%20OOP/03%20-%20OOP.ipynb\" target=\"_parent\"><img src=\"https://colab.research.google.com/assets/colab-badge.svg\" alt=\"Open In Colab\"/></a>"
      ]
    },
    {
      "cell_type": "markdown",
      "metadata": {
        "id": "Nfb1B6jtMeKv"
      },
      "source": [
        "# Обектно-ориентирано програмиране"
      ]
    },
    {
      "cell_type": "markdown",
      "metadata": {
        "id": "cNy4BOUQMeKw"
      },
      "source": [
        "## Основни принципи\n",
        "1. Енкапсулация\n",
        "2. Абстракция\n",
        "3. Наследяване\n",
        "4. Полиморфизъм"
      ]
    },
    {
      "cell_type": "markdown",
      "metadata": {
        "id": "c2oIiVhdMeKx"
      },
      "source": [
        "Обектно-ориентираното програмиране се основава на използването на класове от обекти, които обменят съобщения помежду си. В Python използваме ключовата дума `class`, за да започнем дефиницията на клас:"
      ]
    },
    {
      "cell_type": "code",
      "execution_count": null,
      "metadata": {
        "id": "pRo6tAg5MeKx"
      },
      "outputs": [],
      "source": [
        "class ExampleClass:\n",
        "    pass"
      ]
    },
    {
      "cell_type": "markdown",
      "metadata": {
        "id": "kFiAQES3MeKy"
      },
      "source": [
        "(ключовата дума `pass` обозначава празен блок (еквивалентно на `{}` в езиците, използващи скоби за scope))"
      ]
    },
    {
      "cell_type": "markdown",
      "metadata": {
        "id": "dRBkOKl9MeKy"
      },
      "source": [
        "Инстанции на класа можем да създаваме чрез синтаксис подобен на извикването на функция със същото име. Новосъздадените обекти отиват в динамичната памет и по подразбиране когато искаме да `print`-нем информация за тях Python ни показва адреса в паметта, на който се намират, както и типа им (класа):"
      ]
    },
    {
      "cell_type": "code",
      "execution_count": null,
      "metadata": {
        "id": "wUsWSXU6MeKy",
        "outputId": "affb4fae-b6a7-4aca-d175-207d7c6faea2"
      },
      "outputs": [
        {
          "name": "stdout",
          "output_type": "stream",
          "text": [
            "<__main__.ExampleClass object at 0x113bed6a0>\n",
            "<__main__.ExampleClass object at 0x112dbbc40>\n"
          ]
        }
      ],
      "source": [
        "example_object = ExampleClass()\n",
        "print(example_object)\n",
        "\n",
        "example_object_2 = ExampleClass()\n",
        "print(example_object_2)"
      ]
    },
    {
      "cell_type": "markdown",
      "metadata": {
        "id": "YAqs-_8KMeKz"
      },
      "source": [
        "`is` сравнява дали два обекта съвпадат, т.е. ще върне `False`, когато адресите им в паметта са различни. Операторът `==` пък не е дефиниран за горния клас и затова и неговата стойност засега ще бъде `False` (по премълчаване се дефинира чрез `is`):"
      ]
    },
    {
      "cell_type": "code",
      "execution_count": null,
      "metadata": {
        "id": "j50flrc1MeKz",
        "outputId": "e13294f2-c741-4d8c-c46e-46c43301d332"
      },
      "outputs": [
        {
          "name": "stdout",
          "output_type": "stream",
          "text": [
            "example_object is example_object_2 = False\n",
            "example_object == example_object_2 = False\n"
          ]
        }
      ],
      "source": [
        "print(f\"{example_object is example_object_2 = }\")\n",
        "print(f\"{example_object == example_object_2 = }\")"
      ]
    },
    {
      "cell_type": "markdown",
      "metadata": {
        "id": "ji1CZOEZMeK0"
      },
      "source": [
        "Горният клас с име `ExampleClass` така дефиниран е празен - не притежава нито член-данни, нито методи. Добре е да се знае, обаче, че поради динамичния характер на езика, такива могат да бъдат добавяни (и отнемани) по всяко време (както като част от инстанцията, така и като част от класа). Достъпът до атрибути и методи става чрез точка `.`:"
      ]
    },
    {
      "cell_type": "code",
      "execution_count": null,
      "metadata": {
        "id": "86y9slZAMeK0",
        "outputId": "524e281f-9bd6-424c-ad74-44d68958a789"
      },
      "outputs": [
        {
          "name": "stdout",
          "output_type": "stream",
          "text": [
            "example_object.example_property = 'I am an attribute of this instance only'\n",
            "ExampleClass.example_shared_property = 'I am a shared/static attribute'\n",
            "example_object.example_shared_property = 'I am a shared/static attribute'\n",
            "example_object_2.example_shared_property = 'I am a shared/static attribute'\n"
          ]
        },
        {
          "ename": "AttributeError",
          "evalue": "'ExampleClass' object has no attribute 'example_property'",
          "output_type": "error",
          "traceback": [
            "\u001b[0;31m---------------------------------------------------------------------------\u001b[0m",
            "\u001b[0;31mAttributeError\u001b[0m                            Traceback (most recent call last)",
            "\u001b[0;32m/var/folders/7x/gdf0mbts74n8p_ckv_b_mfc40000gp/T/ipykernel_62173/980122267.py\u001b[0m in \u001b[0;36m<module>\u001b[0;34m\u001b[0m\n\u001b[1;32m      8\u001b[0m \u001b[0;34m\u001b[0m\u001b[0m\n\u001b[1;32m      9\u001b[0m \u001b[0;32mdel\u001b[0m \u001b[0mexample_object\u001b[0m\u001b[0;34m.\u001b[0m\u001b[0mexample_property\u001b[0m\u001b[0;34m\u001b[0m\u001b[0;34m\u001b[0m\u001b[0m\n\u001b[0;32m---> 10\u001b[0;31m \u001b[0mprint\u001b[0m\u001b[0;34m(\u001b[0m\u001b[0;34mf\"{example_object.example_property = }\"\u001b[0m\u001b[0;34m)\u001b[0m  \u001b[0;31m# 💥\u001b[0m\u001b[0;34m\u001b[0m\u001b[0;34m\u001b[0m\u001b[0m\n\u001b[0m",
            "\u001b[0;31mAttributeError\u001b[0m: 'ExampleClass' object has no attribute 'example_property'"
          ]
        }
      ],
      "source": [
        "example_object.example_property = \"I am an attribute of this instance only\"\n",
        "print(f\"{example_object.example_property = }\")\n",
        "\n",
        "ExampleClass.example_shared_property = \"I am a shared/static attribute\"\n",
        "print(f\"{ExampleClass.example_shared_property = }\")\n",
        "print(f\"{example_object.example_shared_property = }\")\n",
        "print(f\"{example_object_2.example_shared_property = }\")\n",
        "\n",
        "del example_object.example_property\n",
        "print(f\"{example_object.example_property = }\")  # 💥\n"
      ]
    },
    {
      "cell_type": "markdown",
      "metadata": {
        "id": "0fbGVPVMMeK0"
      },
      "source": [
        "Обикновено обаче искаме да знаем винаги какви член-данни да очакваме от един клас, както и да можем да ги задаваме при конструирането му. Това е възможно, чрез дефинирането на `__init__` метода в класа:"
      ]
    },
    {
      "cell_type": "code",
      "execution_count": null,
      "metadata": {
        "id": "-icch5eLMeK0"
      },
      "outputs": [],
      "source": [
        "class Point:\n",
        "    def __init__(self, x, y):\n",
        "        self.x = x\n",
        "        self.y = y"
      ]
    },
    {
      "cell_type": "markdown",
      "metadata": {
        "id": "r853PLq7MeK1"
      },
      "source": [
        "Това е първият от редица \"dunder\" (**d**ouble **under**score - двойна подчертавка) методи (още наричани *магически* методи), които ще разгледаме в лекцията. Този се нарича ***инициализатор*** и приема като първи аргумент новосъздадения обект (по конвенция го кръщаваме винаги `self`, но на теория може да е всякак). Следващите параметри дефинираме и означаваме по наш избор. \n",
        "\n",
        "Обърнете внимание, че нарочно не го наричаме *контруктор*, понеже истинският конструктор създава и връща нов обект от даден клас, докато инициализаторът приема този обект и задава начални стойности на член-данните му или изпълнява някакъв друг вид инициализация. Такъв конструктор има и в Python ([`__new__`](https://www.pythontutorial.net/python-oop/python-__new__/)), но на него няма да се спираме подробно."
      ]
    },
    {
      "cell_type": "code",
      "execution_count": null,
      "metadata": {
        "id": "KTy1QNzGMeK1",
        "outputId": "d58f71b3-5315-483b-d30a-0c0ab8210ee6"
      },
      "outputs": [
        {
          "name": "stdout",
          "output_type": "stream",
          "text": [
            "p1.x = 2, p1.y = 3\n",
            "p2.x = 5j, p2.y = 3.14\n"
          ]
        }
      ],
      "source": [
        "p1 = Point(2, 3)\n",
        "p2 = Point(5j, 3.14)\n",
        "\n",
        "print(f\"{p1.x = }, {p1.y = }\")\n",
        "print(f\"{p2.x = }, {p2.y = }\")"
      ]
    },
    {
      "cell_type": "markdown",
      "metadata": {
        "id": "rBv-CYXPMeK1"
      },
      "source": [
        "Инициализаторът си е функция като всяка други и може да има стойности на параметрите по подразбиране, както и `args` и `kwargs`:"
      ]
    },
    {
      "cell_type": "code",
      "execution_count": null,
      "metadata": {
        "id": "-rmo777fMeK1",
        "outputId": "e53bde86-8e4a-4f82-9ffa-8652b1c6461e"
      },
      "outputs": [
        {
          "name": "stdout",
          "output_type": "stream",
          "text": [
            "sofia.latitude = 42.69, sofia.longitude = 23.42, sofia.metadata = {'city': 'Sofia', 'country': 'Bulgaria'}\n",
            "null_island.latitude = 0, null_island.longitude = 0, null_island.metadata = {}\n"
          ]
        }
      ],
      "source": [
        "class Coordinate:\n",
        "    def __init__(self, la=0, lo=0, **kwargs):\n",
        "        self.latitude = la\n",
        "        self.longitude = lo\n",
        "        self.metadata = kwargs\n",
        "\n",
        "sofia = Coordinate(42.69, 23.420, city=\"Sofia\", country=\"Bulgaria\")\n",
        "null_island = Coordinate()\n",
        "\n",
        "print(f\"{sofia.latitude = }, {sofia.longitude = }, {sofia.metadata = }\")\n",
        "print(f\"{null_island.latitude = }, {null_island.longitude = }, {null_island.metadata = }\")"
      ]
    },
    {
      "cell_type": "markdown",
      "metadata": {
        "id": "wmsZNKZuMeK1"
      },
      "source": [
        "Произволни методи дефинираме по същия начин:"
      ]
    },
    {
      "cell_type": "code",
      "execution_count": null,
      "metadata": {
        "id": "Est7ctxUMeK1",
        "outputId": "d0ef6cf1-96a3-41f3-f48a-e498e0b6e8f0"
      },
      "outputs": [
        {
          "name": "stdout",
          "output_type": "stream",
          "text": [
            "l = 5.0\n"
          ]
        }
      ],
      "source": [
        "class Path:\n",
        "    def __init__(self, start, end):\n",
        "        self.start = start\n",
        "        self.end = end\n",
        "    \n",
        "    def length(self):\n",
        "        return ((self.start.x - self.end.x) ** 2 + (self.start.y - self.end.y) ** 2) ** 0.5\n",
        "\n",
        "p1 = Point(0, 3)\n",
        "p2 = Point(4, 0)\n",
        "\n",
        "path = Path(p1, p2)\n",
        "l = path.length()\n",
        "\n",
        "print(f\"{l = }\")"
      ]
    },
    {
      "cell_type": "markdown",
      "metadata": {
        "id": "c2ClEUwSMeK2"
      },
      "source": [
        "Липсата на `self` като първи аргумент ще е грешка, понеже Python винаги ще се опита да предаде инстанцията на класа като първи параметър на метода:"
      ]
    },
    {
      "cell_type": "code",
      "execution_count": null,
      "metadata": {
        "id": "uN5OhRmiMeK2",
        "outputId": "f5c56339-9644-4e92-a9ad-840481284068"
      },
      "outputs": [
        {
          "ename": "TypeError",
          "evalue": "a() takes 0 positional arguments but 1 was given",
          "output_type": "error",
          "traceback": [
            "\u001b[0;31m---------------------------------------------------------------------------\u001b[0m",
            "\u001b[0;31mTypeError\u001b[0m                                 Traceback (most recent call last)",
            "\u001b[0;32m/var/folders/7x/gdf0mbts74n8p_ckv_b_mfc40000gp/T/ipykernel_62173/3247279650.py\u001b[0m in \u001b[0;36m<module>\u001b[0;34m\u001b[0m\n\u001b[1;32m      3\u001b[0m         \u001b[0;32mpass\u001b[0m\u001b[0;34m\u001b[0m\u001b[0;34m\u001b[0m\u001b[0m\n\u001b[1;32m      4\u001b[0m \u001b[0;34m\u001b[0m\u001b[0m\n\u001b[0;32m----> 5\u001b[0;31m \u001b[0mA\u001b[0m\u001b[0;34m(\u001b[0m\u001b[0;34m)\u001b[0m\u001b[0;34m.\u001b[0m\u001b[0ma\u001b[0m\u001b[0;34m(\u001b[0m\u001b[0;34m)\u001b[0m\u001b[0;34m\u001b[0m\u001b[0;34m\u001b[0m\u001b[0m\n\u001b[0m",
            "\u001b[0;31mTypeError\u001b[0m: a() takes 0 positional arguments but 1 was given"
          ]
        }
      ],
      "source": [
        "class A:\n",
        "    def a():\n",
        "        pass\n",
        "\n",
        "A().a()"
      ]
    },
    {
      "cell_type": "markdown",
      "metadata": {
        "id": "LIJwy-OWMeK2"
      },
      "source": [
        "## Енкапсулация\n",
        "\n",
        "В Python достъпа до всичко е [публичен](https://www.youtube.com/watch?v=8H1nuRZrE6g).\n",
        "\n",
        "По конвенция е общоприето `protected` имената да започват с една подчертавка (`_name`), а `private` - с две (`__name`).\n"
      ]
    },
    {
      "cell_type": "code",
      "execution_count": null,
      "metadata": {
        "id": "-VHqxzy9MeK2",
        "outputId": "69e5a6bc-2c61-42e4-90f9-db8ca0afdd82"
      },
      "outputs": [
        {
          "name": "stdout",
          "output_type": "stream",
          "text": [
            "c.get_value() = 42\n",
            "c._value = 42\n"
          ]
        }
      ],
      "source": [
        "class Counter:\n",
        "    def __init__(self, value=0):\n",
        "        self._value = value\n",
        "\n",
        "    def get_value(self):\n",
        "        return self._value\n",
        "    \n",
        "    def increment(self):\n",
        "        self._value += 1\n",
        "    \n",
        "    def decrement(self):\n",
        "        self._value -= 1\n",
        "\n",
        "c = Counter(41)\n",
        "c.increment()\n",
        "\n",
        "print(f\"{c.get_value() = }\")\n",
        "print(f\"{c._value = }\")\n"
      ]
    },
    {
      "cell_type": "markdown",
      "metadata": {
        "id": "MkidQT9DMeK2"
      },
      "source": [
        "При двойните подчертавки обаче съществува една особеност, която ни улеснява в енкапсулирането на private член-данни. Нарича се **name mangling** и представлява добавянето на `_` и името на класа в началото на името на тези член-данни. Тоа се прави с цел замаскиране на атрибута и премахването на достъпа чрез оригиналното му име."
      ]
    },
    {
      "cell_type": "code",
      "execution_count": null,
      "metadata": {
        "id": "KkBo-qkNMeK2",
        "outputId": "db1f5a7d-8a15-4a4f-c7ab-e00814ce2741"
      },
      "outputs": [
        {
          "name": "stdout",
          "output_type": "stream",
          "text": [
            "c.get_value() = 42\n",
            "c._Counter__value = 42\n"
          ]
        },
        {
          "ename": "AttributeError",
          "evalue": "'Counter' object has no attribute '__value'",
          "output_type": "error",
          "traceback": [
            "\u001b[0;31m---------------------------------------------------------------------------\u001b[0m",
            "\u001b[0;31mAttributeError\u001b[0m                            Traceback (most recent call last)",
            "\u001b[0;32m/var/folders/7x/gdf0mbts74n8p_ckv_b_mfc40000gp/T/ipykernel_62173/3226284858.py\u001b[0m in \u001b[0;36m<module>\u001b[0;34m\u001b[0m\n\u001b[1;32m     18\u001b[0m \u001b[0mprint\u001b[0m\u001b[0;34m(\u001b[0m\u001b[0;34mf\"{c.get_value() = }\"\u001b[0m\u001b[0;34m)\u001b[0m\u001b[0;34m\u001b[0m\u001b[0;34m\u001b[0m\u001b[0m\n\u001b[1;32m     19\u001b[0m \u001b[0mprint\u001b[0m\u001b[0;34m(\u001b[0m\u001b[0;34mf\"{c._Counter__value = }\"\u001b[0m\u001b[0;34m)\u001b[0m  \u001b[0;31m# name has been mangled\u001b[0m\u001b[0;34m\u001b[0m\u001b[0;34m\u001b[0m\u001b[0m\n\u001b[0;32m---> 20\u001b[0;31m \u001b[0mprint\u001b[0m\u001b[0;34m(\u001b[0m\u001b[0;34mf\"{c.__value = }\"\u001b[0m\u001b[0;34m)\u001b[0m  \u001b[0;31m# 💥 cannot be accessed at its original name\u001b[0m\u001b[0;34m\u001b[0m\u001b[0;34m\u001b[0m\u001b[0m\n\u001b[0m",
            "\u001b[0;31mAttributeError\u001b[0m: 'Counter' object has no attribute '__value'"
          ]
        }
      ],
      "source": [
        "class Counter:\n",
        "    def __init__(self, value=0):\n",
        "        self.__value = value  # private access from within the class is OK\n",
        "\n",
        "    def get_value(self):\n",
        "        return self.__value\n",
        "\n",
        "    def increment(self):\n",
        "        self.__value += 1\n",
        "\n",
        "    def decrement(self):\n",
        "        self.__value -= 1\n",
        "\n",
        "\n",
        "c = Counter(41)\n",
        "c.increment()\n",
        "\n",
        "print(f\"{c.get_value() = }\")\n",
        "print(f\"{c._Counter__value = }\")  # name has been mangled\n",
        "print(f\"{c.__value = }\")  # 💥 cannot be accessed at its original name\n"
      ]
    },
    {
      "cell_type": "markdown",
      "metadata": {
        "id": "YuT-bY2vMeK2"
      },
      "source": [
        "Дълга тема за дискусия е колко често и кога да използваме public, private или protected член-данни и методи в Python. За разлика от повечето езици, които проповядват всичко по подразбиране да е максимално скрито, докато не ни се наложи друго, в Python не е толкова често срещана необходимостта от строгото забраняване на достъп, даже напротив, подходът най-често е по-скоро обратен. \n",
        "\n",
        "Хубави отговори на този въпрос може да намерите [тук](https://stackoverflow.com/a/7456865)."
      ]
    },
    {
      "cell_type": "markdown",
      "metadata": {
        "id": "vOrkZrqsMeK2"
      },
      "source": [
        "## Наследяване\n",
        "\n",
        "Както споменахме, всичко в Python е обект. По-точно `object`.\n",
        "\n",
        "`object` е най-базовия клас в езика, който имплицитно бива наследяван от всички класове."
      ]
    },
    {
      "cell_type": "code",
      "execution_count": null,
      "metadata": {
        "id": "0qbfvBchMeK2",
        "outputId": "40bd61ee-c41a-4a33-df73-0e676a0e54f1"
      },
      "outputs": [
        {
          "name": "stdout",
          "output_type": "stream",
          "text": [
            "isinstance(a, A) = True\n",
            "isinstance(a, object) = True\n"
          ]
        }
      ],
      "source": [
        "class A:\n",
        "    pass\n",
        "\n",
        "a = A()\n",
        "\n",
        "print(f\"{isinstance(a, A) = }\")\n",
        "print(f\"{isinstance(a, object) = }\")"
      ]
    },
    {
      "cell_type": "markdown",
      "metadata": {
        "id": "htfeK-mJMeK3"
      },
      "source": [
        "(с вградената функция `isinstance` проверяваме дали даден обект е инстанция на даден клас или на негов базов такъв)"
      ]
    },
    {
      "cell_type": "markdown",
      "metadata": {
        "id": "gzanFFjFMeK3"
      },
      "source": [
        "Дори и да изглежда празен класът А, в него в момента се съдържат доста член-методи. С вградената функция `dir` можем да видим пълния набор от атрибути и методи, които даден обект притежава:"
      ]
    },
    {
      "cell_type": "code",
      "execution_count": null,
      "metadata": {
        "id": "J-Etr6KeMeK3",
        "outputId": "15e59c97-910c-4b67-9428-b484ca4603cb"
      },
      "outputs": [
        {
          "data": {
            "text/plain": [
              "['__class__',\n",
              " '__delattr__',\n",
              " '__dict__',\n",
              " '__dir__',\n",
              " '__doc__',\n",
              " '__eq__',\n",
              " '__format__',\n",
              " '__ge__',\n",
              " '__getattribute__',\n",
              " '__gt__',\n",
              " '__hash__',\n",
              " '__init__',\n",
              " '__init_subclass__',\n",
              " '__le__',\n",
              " '__lt__',\n",
              " '__module__',\n",
              " '__ne__',\n",
              " '__new__',\n",
              " '__reduce__',\n",
              " '__reduce_ex__',\n",
              " '__repr__',\n",
              " '__setattr__',\n",
              " '__sizeof__',\n",
              " '__str__',\n",
              " '__subclasshook__',\n",
              " '__weakref__']"
            ]
          },
          "execution_count": 13,
          "metadata": {},
          "output_type": "execute_result"
        }
      ],
      "source": [
        "dir(a)"
      ]
    },
    {
      "cell_type": "markdown",
      "metadata": {
        "id": "_FLVfUjsMeK3"
      },
      "source": [
        "Почти всички от тези магически методи и атрибути са наследени от `object`:"
      ]
    },
    {
      "cell_type": "code",
      "execution_count": null,
      "metadata": {
        "id": "srj1fZX6MeK3",
        "outputId": "e88753e7-eb24-4c6b-a70c-9205586e65c5"
      },
      "outputs": [
        {
          "data": {
            "text/plain": [
              "['__class__',\n",
              " '__delattr__',\n",
              " '__dir__',\n",
              " '__doc__',\n",
              " '__eq__',\n",
              " '__format__',\n",
              " '__ge__',\n",
              " '__getattribute__',\n",
              " '__gt__',\n",
              " '__hash__',\n",
              " '__init__',\n",
              " '__init_subclass__',\n",
              " '__le__',\n",
              " '__lt__',\n",
              " '__ne__',\n",
              " '__new__',\n",
              " '__reduce__',\n",
              " '__reduce_ex__',\n",
              " '__repr__',\n",
              " '__setattr__',\n",
              " '__sizeof__',\n",
              " '__str__',\n",
              " '__subclasshook__']"
            ]
          },
          "execution_count": 14,
          "metadata": {},
          "output_type": "execute_result"
        }
      ],
      "source": [
        "dir(object())"
      ]
    },
    {
      "cell_type": "markdown",
      "metadata": {
        "id": "l5IXM2XsMeK3"
      },
      "source": [
        "Ако искаме да наследим друг клас, записваме името му в скоби преди дефиницията на наследника:"
      ]
    },
    {
      "cell_type": "code",
      "execution_count": null,
      "metadata": {
        "id": "_4SfXSxsMeK3",
        "outputId": "99c6709f-5bbb-4cc5-ad5e-87a8a88e2ce7"
      },
      "outputs": [
        {
          "name": "stdout",
          "output_type": "stream",
          "text": [
            "sub.x = 69\n"
          ]
        }
      ],
      "source": [
        "class BaseClass:\n",
        "    x = 69\n",
        "\n",
        "class SubClass(BaseClass):\n",
        "    pass\n",
        "\n",
        "sub = SubClass()\n",
        "print(f\"{sub.x = }\")"
      ]
    },
    {
      "cell_type": "markdown",
      "metadata": {
        "id": "VlhEoWzhMeK3"
      },
      "source": [
        "Виждаме, че няма нужда да пишем експлицитно, че наследяваме от `object`. Важно е да се отбележи обаче, че това е задължително за Python 2."
      ]
    },
    {
      "cell_type": "markdown",
      "metadata": {
        "id": "fWT58GykMeK3"
      },
      "source": [
        "Предефинирането на методи от базовия клас не изисква някаква специална ключова дума. Тяхната дефиниция просто бива замествана от новата."
      ]
    },
    {
      "cell_type": "code",
      "execution_count": null,
      "metadata": {
        "id": "gf_yx6v7MeK3",
        "outputId": "0a6c1e12-aa25-405c-e922-17d69b956be1"
      },
      "outputs": [
        {
          "name": "stdout",
          "output_type": "stream",
          "text": [
            "foobar\n"
          ]
        }
      ],
      "source": [
        "class Foo:\n",
        "    def foo(self):\n",
        "        print(\"foo\")\n",
        "\n",
        "class Bar(Foo):\n",
        "    def foo(self):\n",
        "        print(\"foobar\")\n",
        "\n",
        "#  (I'm sorry I couldn't come up with anything creative this time)\n",
        "\n",
        "bar = Bar()\n",
        "bar.foo()"
      ]
    },
    {
      "cell_type": "markdown",
      "metadata": {
        "id": "7ihrcwB6MeK3"
      },
      "source": [
        "Използването на `super()` ни връща обект-прокси, който пренасочва дефиниции на методи към базов клас:"
      ]
    },
    {
      "cell_type": "code",
      "execution_count": null,
      "metadata": {
        "id": "AWp0KMC8MeK3",
        "outputId": "e74e5763-f475-495f-b097-08159d4a5fb5"
      },
      "outputs": [
        {
          "name": "stdout",
          "output_type": "stream",
          "text": [
            "drincc.name = 'Coca-Cola', drincc.alcoholic_percentage = 0%\n"
          ]
        }
      ],
      "source": [
        "class Drink:\n",
        "    def __init__(self, name, alcoholic_percentage):\n",
        "        self.name = name\n",
        "        self.alcoholic_percentage = alcoholic_percentage\n",
        "\n",
        "\n",
        "class SoftDrink(Drink):\n",
        "    def __init__(self, name):\n",
        "        super().__init__(name, 0)\n",
        "\n",
        "\n",
        "drincc = SoftDrink(\"Coca-Cola\")\n",
        "print(f\"{drincc.name = }, {drincc.alcoholic_percentage = }%\")\n"
      ]
    },
    {
      "cell_type": "markdown",
      "metadata": {
        "id": "dcDtjG3MMeK3"
      },
      "source": [
        "Python е един от малкото езици, в които **множественото наследяване е позволено**. За избягване на проблема на [диаманта](https://youtu.be/nrSlqAb4ZLw?t=10) и други подобни, които често това поражда, е хубаво базовите класове да са семпли и с ясно-дефинирана функционалност, по възможност непокриваща се.\n",
        "\n",
        "Mixin-ите са най-честия пример за използване на множествено наследяване в Python. Те са базови класове, които предоставят \"наготово\" имплементация на конкретна допълнителна функционалност."
      ]
    },
    {
      "cell_type": "code",
      "execution_count": null,
      "metadata": {
        "id": "eCp_HbsoMeK3",
        "outputId": "9d4db438-b4ae-4020-afed-128c91cba1f2"
      },
      "outputs": [
        {
          "name": "stdout",
          "output_type": "stream",
          "text": [
            "elon.to_json() = '{\"salary\": 1000000000, \"name\": \"Elon Musk\", \"age\": 51}'\n",
            "elon = Employee(salary=1000000000, name=Elon Musk, age=51)\n"
          ]
        }
      ],
      "source": [
        "import json\n",
        "\n",
        "class JSONSerializableMixin:\n",
        "    def to_json(self):\n",
        "        return json.dumps(self.__dict__)\n",
        "\n",
        "class DebugMixin:\n",
        "    def __repr__(self):\n",
        "        arguments = \", \".join(f\"{k}={v}\" for k, v in self.__dict__.items())\n",
        "        return f\"{self.__class__.__name__}({arguments})\"\n",
        "\n",
        "\n",
        "class Person(JSONSerializableMixin, DebugMixin):\n",
        "    def __init__(self, name, age):\n",
        "        self.name = name\n",
        "        self.age = age\n",
        "\n",
        "class Employee(Person, JSONSerializableMixin, DebugMixin):\n",
        "    def __init__(self, name, age, salary):\n",
        "        self.salary = salary\n",
        "        super().__init__(name, age)\n",
        "\n",
        "\n",
        "elon = Employee(\"Elon Musk\", 51, 1_000_000_000)\n",
        "print(f\"{elon.to_json() = }\")\n",
        "print(f\"{elon = }\")"
      ]
    },
    {
      "cell_type": "markdown",
      "metadata": {
        "id": "7mPwiP8FMeK4"
      },
      "source": [
        "В горните примери дефинирахме два mixin-a: един, който дефинира как да бъде сериализиран до JSON всеки обект, а другия - как да бъде принтиран в дебъг конзолата. Класът `Employee` наслодява както `Person`, така и двата други класа, като придобива всичката функционалност. В този случай `super()` знае към кой базов клас да се обърне чрез поредността на изпълнение на методи (Method Resolution Order), който зависи от реда, в който сме изброили базовите класове (може да се види чрез `__mro__`)"
      ]
    },
    {
      "cell_type": "code",
      "execution_count": null,
      "metadata": {
        "id": "N7uj7xJqMeK4",
        "outputId": "86f531f0-109f-44a8-a0f1-19ed8f0ec2ea"
      },
      "outputs": [
        {
          "data": {
            "text/plain": [
              "(__main__.Employee,\n",
              " __main__.Person,\n",
              " __main__.JSONSerializableMixin,\n",
              " __main__.DebugMixin,\n",
              " object)"
            ]
          },
          "execution_count": 19,
          "metadata": {},
          "output_type": "execute_result"
        }
      ],
      "source": [
        "Employee.__mro__"
      ]
    },
    {
      "cell_type": "markdown",
      "metadata": {
        "id": "cFsE6A1aMeK4"
      },
      "source": [
        "Повече за `super()` може да прочетете [тук](https://realpython.com/python-super/)."
      ]
    },
    {
      "cell_type": "markdown",
      "metadata": {
        "id": "KIKqV89bMeK4"
      },
      "source": [
        "В примерът по-горе използвахме доста непознати dunder-и: `__repr__`, `__dict__`, `__class__`, `__name__`. За тях, както и други, ще разясним в следващата секция."
      ]
    },
    {
      "cell_type": "markdown",
      "metadata": {
        "id": "llpEh7hmMeK4"
      },
      "source": [
        "## Магическите методи ✨"
      ]
    },
    {
      "cell_type": "markdown",
      "metadata": {
        "id": "fZ-BJodOMeK4"
      },
      "source": [
        "Документация: [https://docs.python.org/3/reference/datamodel.html](https://docs.python.org/3/reference/datamodel.html)"
      ]
    },
    {
      "cell_type": "markdown",
      "metadata": {
        "id": "fzHufNdQMeK4"
      },
      "source": [
        "### [`__repr__`](https://docs.python.org/3/reference/datamodel.html#object.__repr__)\n",
        "\n",
        "От англ. \"representation\".\n",
        "\n",
        "Изиква се при изпълнението на `repr(self)`. Трябва да върне низ с репрезентация на обекта, подходящ за принт в конзолата при дебъгване например. Хубаво е тя максимално много да наподобява начина, по който можем да пресъздадем обекта с изпълним код. Ако това не е възможно е хубаво да върне низ във вида `<... някакво полезно инфо...>`.\n",
        "\n",
        "Например за клас `Point` (точка) с атрибути `x` и `y`, които инициализаторът приема, вместо `(x, y)` е по-удачно да върнем `Point(x, y)`, понеже това може директно да бъде изпълнено като Python код и да получим еквивалентен обект."
      ]
    },
    {
      "cell_type": "code",
      "execution_count": null,
      "metadata": {
        "id": "uaaishvyMeK4",
        "outputId": "f62fe613-2a5c-4030-e926-80d60dfdd2de"
      },
      "outputs": [
        {
          "name": "stdout",
          "output_type": "stream",
          "text": [
            "Point(2, 3)\n",
            "Point(2, 3)\n"
          ]
        }
      ],
      "source": [
        "class Point:\n",
        "    def __init__(self, x, y):\n",
        "        self.x = x\n",
        "        self.y = y\n",
        "\n",
        "    def __repr__(self):\n",
        "        return f\"Point({self.x}, {self.y})\"\n",
        "\n",
        "p = Point(2, 3)\n",
        "print(p)\n",
        "print(repr(p))"
      ]
    },
    {
      "cell_type": "markdown",
      "metadata": {
        "id": "Pad6hH8rMeK4"
      },
      "source": [
        "### Конвертиране в други типове"
      ]
    },
    {
      "cell_type": "markdown",
      "metadata": {
        "id": "V3VNj0AzMeK4"
      },
      "source": [
        "Можем да предефинираме начинът, по който нашият клас бива конвертиран в някои други вградени типове, чрез специалните `dunder` методи с тяхното име, предназначени за това. Възможните типове са `str`, `bytes`, `bool`, `int`, `float`, `complex`."
      ]
    },
    {
      "cell_type": "code",
      "execution_count": null,
      "metadata": {
        "id": "0_pYF_zQMeK4",
        "outputId": "93082e15-9e68-4b9e-90d9-21914956b207"
      },
      "outputs": [
        {
          "name": "stdout",
          "output_type": "stream",
          "text": [
            "str(p) = '(2, 3)'\n",
            "The `__str__` method is called when using string interpolation: (2, 3)\n",
            "If we want to use the `__repr__` instead we should write it like this: Point(2, 3)\n",
            "bool(p) = True\n",
            "p is truthy\n",
            "z is falsey\n"
          ]
        }
      ],
      "source": [
        "class Point:\n",
        "    def __init__(self, x=0, y=0):\n",
        "        self.x = x\n",
        "        self.y = y\n",
        "\n",
        "    def __repr__(self):\n",
        "        return f\"Point({self.x}, {self.y})\"\n",
        "\n",
        "    def __str__(self):\n",
        "        return f\"({self.x}, {self.y})\"\n",
        "\n",
        "    def __bool__(self):\n",
        "        \"\"\"Return `True` only for (0, 0).\"\"\"\n",
        "        return not (not self.x and not self.y)\n",
        "\n",
        "p = Point(2, 3)\n",
        "\n",
        "print(f\"{str(p) = }\")\n",
        "print(f\"The `__str__` method is called when using string interpolation: {p}\")\n",
        "print(f\"If we want to use the `__repr__` instead we should write it like this: {p!r}\")\n",
        "\n",
        "print(f\"{bool(p) = }\")\n",
        "\n",
        "# `__bool__` is useful when building conditions\n",
        "\n",
        "if p:\n",
        "    print(\"p is truthy\")\n",
        "\n",
        "z = Point()\n",
        "\n",
        "if not z:\n",
        "    print(\"z is falsey\")\n"
      ]
    },
    {
      "cell_type": "markdown",
      "metadata": {
        "id": "beuEamCyMeK4"
      },
      "source": [
        "Note: За доста от класовете, които бихте срещнали, върнатите низове от `repr` и `str` съвпадат. Тук обаче умишлено сме избрали пример, в който има повече смисъл да са различни - `repr` е debuggable репрезентация на обекта точка (валиден изпълним код), а `str` - стандартен математически запис на точка."
      ]
    },
    {
      "cell_type": "code",
      "execution_count": null,
      "metadata": {
        "id": "29nKJXWgMeK4",
        "outputId": "3edcf3e5-8dbe-49a6-a5b3-af6c1a9a1480"
      },
      "outputs": [
        {
          "name": "stdout",
          "output_type": "stream",
          "text": [
            "float(frac) = 0.6666666666666666\n",
            "int(frac) = 0\n",
            "complex(frac) = (0.6666666666666666+0j)\n",
            "str(frac) = '6/9'\n",
            "repr(frac) = 'Fraction(6, 9)'\n",
            "bool(frac) = True\n"
          ]
        }
      ],
      "source": [
        "class Fraction:\n",
        "    def __init__(self, numerator=0, denominator=1):\n",
        "        self.numerator = numerator\n",
        "        self.denominator = denominator\n",
        "\n",
        "    def __float__(self):\n",
        "        return self.numerator / self.denominator\n",
        "\n",
        "    def __int__(self):\n",
        "        return self.numerator // self.denominator  # alternative is `return int(float(self))`\n",
        "    \n",
        "    def __complex__(self):\n",
        "        return complex(float(self))  # alternative is `return float(self) + 0j`\n",
        "    \n",
        "    def __str__(self):\n",
        "        return f\"{self.numerator}/{self.denominator}\"\n",
        "\n",
        "    def __repr__(self):\n",
        "        return f\"Fraction({self.numerator}, {self.denominator})\"\n",
        "\n",
        "    def __bool__(self):\n",
        "        return self.numerator != 0\n",
        "\n",
        "\n",
        "frac = Fraction(6, 9)\n",
        "print(f\"{float(frac) = }\")\n",
        "print(f\"{int(frac) = }\")\n",
        "print(f\"{complex(frac) = }\")\n",
        "print(f\"{str(frac) = }\")\n",
        "print(f\"{repr(frac) = }\")\n",
        "print(f\"{bool(frac) = }\")\n"
      ]
    },
    {
      "cell_type": "markdown",
      "metadata": {
        "id": "aa1UsDSXMeK4"
      },
      "source": [
        "Note 2: Обърнете внимание, че `dunder(x)` в случая е същото като `x.__dunder__()`. Обикновено нямаме причина да използваме втория запис."
      ]
    },
    {
      "cell_type": "markdown",
      "metadata": {
        "id": "vX_cLoQXMeK4"
      },
      "source": [
        "### Аритметични и логически оператори"
      ]
    },
    {
      "cell_type": "markdown",
      "metadata": {
        "id": "w7XFWb4uMeK4"
      },
      "source": [
        "В Python (също както в С++ и повечето други ООП езици) можем да предефинираме поведението на аритметичните и логическите оператори от езика, когато биват извикани върху обект от нашия клас.\n",
        "\n",
        "Съответните магически методи за това са:\n",
        "\n",
        "| оператор   |  `dunder`                       |\n",
        "| ---------- | ------------------------------- |\n",
        "| `==`       | `__eq__`                        |\n",
        "| `!=`/`<>`  | `__neq__`                       |\n",
        "| `<`        | `__lt__`                        |\n",
        "| `<=`       | `__le__`                        |\n",
        "| `>`        | `__gt__`                        |\n",
        "| `>=`       | `__ge__`                        |\n",
        "| `+` (2)    | `__add__`/`__radd__`            |\n",
        "| `*`        | `__mul__`/`__rmul__`            |\n",
        "| `-` (2)    | `__sub__`/`__rsub__`            |\n",
        "| `/`        | `__truediv__`/`__rtruediv__`    |\n",
        "| `//`       | `__floordiv__`/`__rfloordiv__`  |\n",
        "| `%`        | `__mod__`/`__rmod__`            |\n",
        "| `divmod`   | `__divmod__`/`__rdivmod__`      |\n",
        "| `**`/`pow` | `__pow__`/`__rpow__`            |\n",
        "| `<<`       | `__lshift__`/`__rlshift__`      |\n",
        "| `>>`       | `__rshift__`/`__rrshift__`      |\n",
        "| `&`        | `__and__`/`__rand__`            |\n",
        "| `^`        | `__xor__`/`__rxor__`            |\n",
        "| `\\|`       | `__or__`/`__ror__`             |\n",
        "| `+=`       | `__iadd__`                      |\n",
        "| `*=`       | `__imul__`                      |\n",
        "| `-=`       | `__isub__`                      |\n",
        "| `/=`       | `__itruediv__`                  |\n",
        "| `//=`      | `__ifloordiv__`                 |\n",
        "| `%=`       | `__imod__`                      |\n",
        "| `**=`      | `__ipow__`                      |\n",
        "| `<<=`      | `__ilshift__`                   |\n",
        "| `>>=`      | `__irshift__`                   |\n",
        "| `&=`       | `__iand__`                      |\n",
        "| `^=`       | `__ixor__`                      |\n",
        "| `\\|=`      | `__ior__`                      |\n",
        "| `-` (1)    | `__neg__`                       |\n",
        "| `+` (1)    | `__pos__`                       |\n",
        "| `abs`      | `__abs__`                       |\n",
        "| `~`        | `__invert__`                    |\n"
      ]
    },
    {
      "cell_type": "code",
      "execution_count": null,
      "metadata": {
        "id": "2-xw_9y1MeK5",
        "outputId": "8a1ce733-ab69-4c28-9b7c-a748181b6ae5"
      },
      "outputs": [
        {
          "name": "stdout",
          "output_type": "stream",
          "text": [
            "summ = Fraction(5, 6)\n",
            "diff = Fraction(1, 6)\n",
            "prod = Fraction(1, 6)\n",
            "quot = Fraction(3, 2)\n",
            "frac1 = Fraction(5, 6)\n"
          ]
        }
      ],
      "source": [
        "class Fraction:\n",
        "    def __init__(self, numerator=0, denominator=1):\n",
        "        self.numerator = numerator\n",
        "        self.denominator = denominator\n",
        "    \n",
        "    def __add__(self, other):\n",
        "        return Fraction(\n",
        "            self.numerator * other.denominator + other.numerator * self.denominator,\n",
        "            self.denominator * other.denominator\n",
        "        )\n",
        "    \n",
        "    def __sub__(self, other):\n",
        "        return Fraction(\n",
        "            self.numerator * other.denominator - other.numerator * self.denominator,\n",
        "            self.denominator * other.denominator\n",
        "        )\n",
        "    \n",
        "    def __mul__(self, other):\n",
        "        return Fraction(\n",
        "            self.numerator * other.numerator,\n",
        "            self.denominator * other.denominator\n",
        "        )\n",
        "\n",
        "    def __truediv__(self, other):\n",
        "        return Fraction(\n",
        "            self.numerator * other.denominator,\n",
        "            self.denominator * other.numerator\n",
        "        )\n",
        "\n",
        "    def __iadd__(self, other):\n",
        "        self.numerator = self.numerator * other.denominator + other.numerator * self.denominator\n",
        "        self.denominator = self.denominator * other.denominator\n",
        "        return self\n",
        "\n",
        "    def __isub__(self, other):\n",
        "        self.numerator = self.numerator * other.denominator - other.numerator * self.denominator\n",
        "        self.denominator = self.denominator * other.denominator\n",
        "        return self\n",
        "\n",
        "    def __imul__(self, other):\n",
        "        self.numerator = self.numerator * other.numerator\n",
        "        self.denominator = self.denominator * other.denominator\n",
        "        return self\n",
        "\n",
        "    def __itruediv__(self, other):\n",
        "        self.numerator = self.numerator * other.denominator\n",
        "        self.denominator = self.denominator * other.numerator\n",
        "        return self\n",
        "    \n",
        "    def __repr__(self):\n",
        "        return f\"Fraction({self.numerator}, {self.denominator})\"\n",
        "\n",
        "\n",
        "frac1 = Fraction(1, 2)\n",
        "frac2 = Fraction(1, 3)\n",
        "\n",
        "summ = frac1 + frac2\n",
        "diff = frac1 - frac2\n",
        "prod = frac1 * frac2\n",
        "quot = frac1 / frac2\n",
        "\n",
        "print(f\"{summ = }\")\n",
        "print(f\"{diff = }\")\n",
        "print(f\"{prod = }\")\n",
        "print(f\"{quot = }\")\n",
        "\n",
        "frac1 += frac2\n",
        "print(f\"{frac1 = }\")\n"
      ]
    },
    {
      "cell_type": "markdown",
      "metadata": {
        "id": "-jQdkLY-MeK5"
      },
      "source": [
        "Вариантите на методите, започващи с `r`, дефиниращи поведението на операторите, се извикват с разменени аргументи. Те се използват само в случая, когато левият операнд не поддържа съответната операция и операндите са от различни типове.\n",
        "\n",
        "Нека например имаме израза `x - y` и нека `y` имплементира `__rsub__`. Той ще се извика в случая, когато `x` не поддържа `__sub__` (няма го дефиниран или връща `NotImplemented`) и `x` и `y` са от различни типове."
      ]
    },
    {
      "cell_type": "markdown",
      "metadata": {
        "id": "BHjMis-vMeK5"
      },
      "source": [
        "### Хеширане"
      ]
    },
    {
      "cell_type": "markdown",
      "metadata": {
        "id": "4fdkoi83MeK5"
      },
      "source": [
        "Колекции като `dict`, `set` и `frozenset` изискват елементите им да могат да се хешират. Това се осъществява чрез извикването на вградената функция `hash()`, която връща цяло число - съответният хеш."
      ]
    },
    {
      "cell_type": "code",
      "execution_count": null,
      "metadata": {
        "id": "gm6mqqT0MeK5",
        "outputId": "659abe22-0957-4d4f-82fe-4e0a2fa285e7"
      },
      "outputs": [
        {
          "data": {
            "text/plain": [
              "1"
            ]
          },
          "execution_count": 24,
          "metadata": {},
          "output_type": "execute_result"
        }
      ],
      "source": [
        "hash(1)"
      ]
    },
    {
      "cell_type": "code",
      "execution_count": null,
      "metadata": {
        "id": "byIxcuG4MeK5",
        "outputId": "2b858ceb-4b4a-4988-f011-df2c3eb09074"
      },
      "outputs": [
        {
          "data": {
            "text/plain": [
              "420"
            ]
          },
          "execution_count": 25,
          "metadata": {},
          "output_type": "execute_result"
        }
      ],
      "source": [
        "hash(420)"
      ]
    },
    {
      "cell_type": "code",
      "execution_count": null,
      "metadata": {
        "id": "-B3cIIw-MeK5",
        "outputId": "918a6fde-6b9c-427a-a97c-fbdde736d0cd"
      },
      "outputs": [
        {
          "data": {
            "text/plain": [
              "-5016004937874941484"
            ]
          },
          "execution_count": 26,
          "metadata": {},
          "output_type": "execute_result"
        }
      ],
      "source": [
        "hash(\"a\")"
      ]
    },
    {
      "cell_type": "code",
      "execution_count": null,
      "metadata": {
        "id": "ACfwQj-IMeK5",
        "outputId": "af8afd57-e4bf-420e-af9a-a39a2f99e73f"
      },
      "outputs": [
        {
          "data": {
            "text/plain": [
              "-5093137992435649037"
            ]
          },
          "execution_count": 27,
          "metadata": {},
          "output_type": "execute_result"
        }
      ],
      "source": [
        "hash((1, \"a\", False))"
      ]
    },
    {
      "cell_type": "code",
      "execution_count": null,
      "metadata": {
        "id": "aD4fDKCpMeK5",
        "outputId": "1915412a-7d4a-4931-9cd8-aefc1dd00854"
      },
      "outputs": [
        {
          "ename": "TypeError",
          "evalue": "unhashable type: 'list'",
          "output_type": "error",
          "traceback": [
            "\u001b[0;31m---------------------------------------------------------------------------\u001b[0m",
            "\u001b[0;31mTypeError\u001b[0m                                 Traceback (most recent call last)",
            "\u001b[0;32m/var/folders/7x/gdf0mbts74n8p_ckv_b_mfc40000gp/T/ipykernel_62173/1812877005.py\u001b[0m in \u001b[0;36m<module>\u001b[0;34m\u001b[0m\n\u001b[0;32m----> 1\u001b[0;31m \u001b[0mhash\u001b[0m\u001b[0;34m(\u001b[0m\u001b[0;34m[\u001b[0m\u001b[0;36m1\u001b[0m\u001b[0;34m,\u001b[0m \u001b[0;34m\"a\"\u001b[0m\u001b[0;34m,\u001b[0m \u001b[0;32mFalse\u001b[0m\u001b[0;34m]\u001b[0m\u001b[0;34m)\u001b[0m\u001b[0;34m\u001b[0m\u001b[0;34m\u001b[0m\u001b[0m\n\u001b[0m",
            "\u001b[0;31mTypeError\u001b[0m: unhashable type: 'list'"
          ]
        }
      ],
      "source": [
        "hash([1, \"a\", False])"
      ]
    },
    {
      "cell_type": "markdown",
      "metadata": {
        "id": "upBA-G8bMeK5"
      },
      "source": [
        "Rule of thumb във всички езици за програмиране е с дефиниране на `__hash__` винаги да има и дефиниция на `__eq__` (обратното не е задължително да е вярно), понеже няма смисъл да се хешира обект, който не може да се сравнява с други.\n",
        "\n",
        "В Python при дефиниране на клас, по премълчаване той получава готова default-на дефиниция на `__eq__` и `__hash__`. Тяхното поведение е такова, че две различни инстанции от този клас не са равни и не произвеждат един и същ хещ (равни са единствено на себе си, т.е. равенство настъпва само при сравняване на имена, сочещи към едно и също място в паметта)."
      ]
    },
    {
      "cell_type": "code",
      "execution_count": null,
      "metadata": {
        "id": "TAahbe5vMeK5",
        "outputId": "723de022-0108-40e4-fd73-fcbf5cb32773"
      },
      "outputs": [
        {
          "name": "stdout",
          "output_type": "stream",
          "text": [
            "hash(p1) = 289920877\n",
            "hash(p2) = 289920985\n",
            "visited = {<__main__.Point object at 0x1147d7d90>, <__main__.Point object at 0x1147d76d0>}\n"
          ]
        }
      ],
      "source": [
        "class Point:\n",
        "    def __init__(self, x=0, y=0):\n",
        "        self.x = x\n",
        "        self.y = y\n",
        "\n",
        "p1 = Point(4, 2)\n",
        "p2 = Point(4, 2)\n",
        "\n",
        "print(f\"{hash(p1) = }\")\n",
        "print(f\"{hash(p2) = }\")\n",
        "\n",
        "visited = set()\n",
        "visited.add(p1)\n",
        "visited.add(p2)\n",
        "\n",
        "print(f\"{visited = }\")"
      ]
    },
    {
      "cell_type": "markdown",
      "metadata": {
        "id": "AObSSnwLMeK5"
      },
      "source": [
        "В случая от примера може би не искаме две точки с едни и същи координати да се третират като различни. За да го постигнем, трябва да дефинираме `__eq__` и `__hash__`:"
      ]
    },
    {
      "cell_type": "code",
      "execution_count": null,
      "metadata": {
        "id": "JCQJri_RMeK5",
        "outputId": "f10c7321-1303-4001-ae59-df02f784aa7f"
      },
      "outputs": [
        {
          "name": "stdout",
          "output_type": "stream",
          "text": [
            "hash(p1) = -9131917124991031250\n",
            "hash(p2) = -9131917124991031250\n",
            "visited = {<__main__.Point object at 0x113d60790>}\n"
          ]
        }
      ],
      "source": [
        "class Point:\n",
        "    def __init__(self, x, y):\n",
        "        self.x = x\n",
        "        self.y = y\n",
        "\n",
        "    def __eq__(self, other):\n",
        "        return self.x == other.x and self.y == other.y\n",
        "\n",
        "    def __hash__(self):\n",
        "        return hash((self.x, self.y))  # the hash of the tuple of the coordinates is sufficient\n",
        "\n",
        "\n",
        "p1 = Point(4, 2)\n",
        "p2 = Point(4, 2)\n",
        "\n",
        "print(f\"{hash(p1) = }\")\n",
        "print(f\"{hash(p2) = }\")\n",
        "\n",
        "visited = set()\n",
        "visited.add(p1)\n",
        "visited.add(p2)\n",
        "\n",
        "print(f\"{visited = }\")\n"
      ]
    },
    {
      "cell_type": "markdown",
      "metadata": {
        "id": "7exR4HQNMeK5"
      },
      "source": [
        "По този начин (чрез предефиниране на `==` и евентуално и на `hash()`) определяме еднаквост между инстанциите. След това единственият начин, по който можем да различим дали обектите съвпадат (т.е. са едни и същи от гледна точка на паметта) остава чрез използване на `is`."
      ]
    },
    {
      "cell_type": "code",
      "execution_count": null,
      "metadata": {
        "id": "yHJQClO0MeK6",
        "outputId": "73a4ffdd-c99a-48eb-ef93-03fa40b9d834"
      },
      "outputs": [
        {
          "data": {
            "text/plain": [
              "False"
            ]
          },
          "execution_count": 31,
          "metadata": {},
          "output_type": "execute_result"
        }
      ],
      "source": [
        "p1 is p2"
      ]
    },
    {
      "cell_type": "code",
      "execution_count": null,
      "metadata": {
        "id": "nMJ8k7PtMeK6",
        "outputId": "7a8341a6-fa7b-42ff-fd0f-e405b07baf35"
      },
      "outputs": [
        {
          "data": {
            "text/plain": [
              "True"
            ]
          },
          "execution_count": 32,
          "metadata": {},
          "output_type": "execute_result"
        }
      ],
      "source": [
        "p1 == p2"
      ]
    },
    {
      "cell_type": "markdown",
      "metadata": {
        "id": "h5A2QYmaMeK6"
      },
      "source": [
        "### Контейнери и итератори"
      ]
    },
    {
      "cell_type": "markdown",
      "metadata": {
        "id": "F8_Erg8wMeK6"
      },
      "source": [
        "Съществуват методи, които ни помагат в дефинирането на контейнери и мапинги:\n",
        "\n",
        "* `__len__(self)`: трябва да върне дължината на контейнера (цяло число $ \\ge 0 $). Извиква се от вградената функция `len()`.\n",
        "* `__getitem__(self, key)`: връща елемента с ключ `key` (на позиция `key`). Извиква се при read-only достъп с `[]`.\n",
        "* `__setitem__(self, key, value)`: задава стойността на елемента с ключ `key` (на позиция `key`) да бъде `value`. Извиква се при присвояване с `[]`.\n",
        "* `__delitem__(self, key)`: изтрива елемента с ключ `key` (на позиция `key`). Извиква се от ключовата дума `del`.\n",
        "* `__iter__(self)`: връща итератор, който да се използва за обхождане на контейнера. При мапинги трябва да обхожда ключовете на контейнера. Извиква се от вградената функция `iter()` когато е необходимо. Итераторът трябва да имплементира `__next__`, така че при обхождането му да връща следващия елемент при всяко извикване на `next()`.\n",
        "* `__reversed__(self)`: връща обратен итератор, който да се използва за обхождане на контейнера. Извиква се от вградената функция `reversed()`.\n",
        "* `__contains__(self, item)`: връща `bool`, казващ дали `item` се съдържа в контейнера. Извиква се при използване на `in` за проверка на съдържанието."
      ]
    },
    {
      "cell_type": "code",
      "execution_count": null,
      "metadata": {
        "id": "qTe0POb3MeK6",
        "outputId": "e5000ca0-3a88-4d4c-d4bb-0cabc5ab716b"
      },
      "outputs": [
        {
          "name": "stdout",
          "output_type": "stream",
          "text": [
            "arr[1] = 0\n",
            "arr[1] = 42\n",
            "42 in arr = True\n",
            "arr[1] = 0\n",
            "42 in arr = False\n"
          ]
        }
      ],
      "source": [
        "class DefaultArray:\n",
        "    \"\"\"\n",
        "    A container that behaves like a list with a maximum size (array)\n",
        "    but returns a default value for missing indices.\n",
        "    \"\"\"\n",
        "\n",
        "    def __init__(self, limit, default_element_func):\n",
        "        self._limit = limit\n",
        "        self._default_element_func = default_element_func\n",
        "        self._list = [None] * limit\n",
        "\n",
        "    def __len__(self):\n",
        "        return self._limit\n",
        "\n",
        "    def __getitem__(self, index):\n",
        "        element = self._list[index]\n",
        "        return self._default_element_func() if element is None else element\n",
        "\n",
        "    def __setitem__(self, index, element):\n",
        "        self._list[index] = element\n",
        "\n",
        "    def __delitem__(self, index):\n",
        "        self._list[index] = None\n",
        "\n",
        "    def __contains__(self, item):\n",
        "        return item in self._list\n",
        "\n",
        "arr = DefaultArray(10, int)  # `int` can be viewed as a function that returns 0 upon calling\n",
        "\n",
        "print(f\"{arr[1] = }\")  # __getitem__\n",
        "\n",
        "arr[1] = 42  # __setitem__\n",
        "\n",
        "print(f\"{arr[1] = }\")\n",
        "print(f\"{42 in arr = }\")  # __contains__\n",
        "\n",
        "del arr[1]  # __delitem__\n",
        "\n",
        "print(f\"{arr[1] = }\")\n",
        "print(f\"{42 in arr = }\")\n",
        "\n"
      ]
    },
    {
      "cell_type": "markdown",
      "metadata": {
        "id": "5R7s4pb3MeK6"
      },
      "source": [
        "Индексирането в Python е гъвкаво и позволява взимането на цели части (`slice`s) от дадена колекция, както и броене отзад-напред. \n",
        "\n",
        "Синтаксисът е `iterable[start:stop:step]`, където:\n",
        "* `iterable` е въпросната колекция\n",
        "* `start` е началния индекс (default = 0)\n",
        "* `stop` е крайният индекс (***невключително***) (default = len)\n",
        "* `step` е стъпката (default = 1), през която се взимат елементи. Ако е отрицателна, то обхождането е наобратно.\n",
        "\n",
        "Индексът, както и `start`/`stop` могат да бъдат отрицателни числа. В такъв случай `-1` означава последният елемент, `-2` - предпоследният и т.н.\n",
        "\n",
        "Също е хубаво да се отбележи, че при slicing не се хвърля `IndexError`, в случай че някой от индексите е извън колекцията.\n",
        "\n",
        "Най-добре всичко това се демонстрира чрез примери:"
      ]
    },
    {
      "cell_type": "code",
      "execution_count": null,
      "metadata": {
        "id": "vUM34_hiMeK6",
        "outputId": "0048acc5-a564-4a99-ff17-f0bf7b6254be"
      },
      "outputs": [
        {
          "name": "stdout",
          "output_type": "stream",
          "text": [
            "items[9] = 9\n",
            "items[-1] = 9\n",
            "\n",
            "items[1:5] = [1, 2, 3, 4]\n",
            "items[1:] = [1, 2, 3, 4, 5, 6, 7, 8, 9]\n",
            "items[:5] = [0, 1, 2, 3, 4]\n",
            "items[:-1] = [0, 1, 2, 3, 4, 5, 6, 7, 8]\n",
            "items[-6:-1] = [4, 5, 6, 7, 8]\n",
            "\n",
            "items[1:5:2] = [1, 3]\n",
            "items[1:5:-1] = []\n",
            "items[5:1:-1] = [5, 4, 3, 2]\n",
            "\n",
            "items[5::-1] = [5, 4, 3, 2, 1, 0]\n",
            "items[::-1] = [9, 8, 7, 6, 5, 4, 3, 2, 1, 0]\n",
            "items[:] = [0, 1, 2, 3, 4, 5, 6, 7, 8, 9]\n"
          ]
        }
      ],
      "source": [
        "items = [0, 1, 2, 3, 4, 5, 6, 7, 8, 9]\n",
        "\n",
        "print(f\"{items[9] = }\")\n",
        "print(f\"{items[-1] = }\")\n",
        "print()\n",
        "print(f\"{items[1:5] = }\")\n",
        "print(f\"{items[1:] = }\")\n",
        "print(f\"{items[:5] = }\")\n",
        "print(f\"{items[:-1] = }\")\n",
        "print(f\"{items[-6:-1] = }\")\n",
        "print()\n",
        "print(f\"{items[1:5:2] = }\")\n",
        "print(f\"{items[1:5:-1] = }\")\n",
        "print(f\"{items[5:1:-1] = }\")\n",
        "print()\n",
        "print(f\"{items[5::-1] = }\")\n",
        "print(f\"{items[::-1] = }\")\n",
        "print(f\"{items[:] = }\")\n"
      ]
    },
    {
      "cell_type": "markdown",
      "metadata": {
        "id": "mKcFvfzYMeK6"
      },
      "source": [
        "Чрез имплементиране на `__getitem__` нашият клас поддържа имплицитно slicing. Това е така, понеже горепоказаният начин за slicing е синтактична захар на създаването на `slice` обект и предаването му чрез `[]`.\n",
        "\n",
        "С други думи, следните две операции са екивалентни:"
      ]
    },
    {
      "cell_type": "code",
      "execution_count": null,
      "metadata": {
        "id": "Se0jYblLMeK6",
        "outputId": "332b640d-3a8b-4eea-bfb9-4d2fab6ba532"
      },
      "outputs": [
        {
          "name": "stdout",
          "output_type": "stream",
          "text": [
            "workdays1 = ['Mon', 'Tue', 'Wed', 'Thu', 'Fri']\n",
            "workdays2 = ['Mon', 'Tue', 'Wed', 'Thu', 'Fri']\n"
          ]
        }
      ],
      "source": [
        "usa_weekdays = [\"Sun\", \"Mon\", \"Tue\", \"Wed\", \"Thu\", \"Fri\", \"Sat\"]\n",
        "\n",
        "workdays1 = usa_weekdays[1:-1]\n",
        "workdays2 = usa_weekdays[slice(1, -1, None)]\n",
        "\n",
        "print(f\"{workdays1 = }\")\n",
        "print(f\"{workdays2 = }\")\n"
      ]
    },
    {
      "cell_type": "markdown",
      "metadata": {
        "id": "RbMMqQ3PMeK6"
      },
      "source": [
        "Това означава, че ако искаме (или пък нарочно и експлицитно не искаме) да поддържаме slicing по адекватен начин в нашия обект, в`__getitem__(self, key)`, `__setitem__(self, key)` и `__delitem__(self, key)` може да е необходимо да проверяваме дали `key` е от тип `slice` в случаите, в които това има значение. Това може да стане с `isinstance(key, slice)` например.\n",
        "\n",
        "В горния пример с `DynamicArray` няма да имаме проблем, понеже параметъра го предаваме директно на `__getitem__` на листа който си пазим, а листовете както видяхме вече успешно се справят със `slice`-ове."
      ]
    },
    {
      "cell_type": "code",
      "execution_count": null,
      "metadata": {
        "id": "6ifS_H0jMeK6",
        "outputId": "44a6c511-2009-427a-d661-944291ae0af5"
      },
      "outputs": [
        {
          "data": {
            "text/plain": [
              "[None, None, None, None, None, None, None, None, None, None]"
            ]
          },
          "execution_count": 36,
          "metadata": {},
          "output_type": "execute_result"
        }
      ],
      "source": [
        "arr[:]"
      ]
    },
    {
      "cell_type": "markdown",
      "metadata": {
        "id": "X936UB9xMeK6"
      },
      "source": [
        "Итерирането в Python става с помощта на итератори. Итераторите са обекти, които имплементират метода `__next__`, който връща следващия елемент при всяко извикване. Когато няма повече елементи, трябва да се хвърли изключение `StopIteration`. Итераторите се използват от `for`-циклите."
      ]
    },
    {
      "cell_type": "code",
      "execution_count": null,
      "metadata": {
        "id": "IEWwK0T-MeK6",
        "outputId": "676293db-1bbe-4d16-a14f-05370a20df38"
      },
      "outputs": [
        {
          "name": "stdout",
          "output_type": "stream",
          "text": [
            "iterator = <list_iterator object at 0x118986490>\n",
            "next(iterator) = 1\n",
            "next(iterator) = 2\n",
            "next(iterator) = 3\n"
          ]
        },
        {
          "ename": "StopIteration",
          "evalue": "",
          "output_type": "error",
          "traceback": [
            "\u001b[0;31m---------------------------------------------------------------------------\u001b[0m",
            "\u001b[0;31mStopIteration\u001b[0m                             Traceback (most recent call last)",
            "\u001b[0;32m/var/folders/7x/gdf0mbts74n8p_ckv_b_mfc40000gp/T/ipykernel_62173/920778728.py\u001b[0m in \u001b[0;36m<module>\u001b[0;34m\u001b[0m\n\u001b[1;32m     10\u001b[0m \u001b[0mprint\u001b[0m\u001b[0;34m(\u001b[0m\u001b[0;34mf\"{next(iterator) = }\"\u001b[0m\u001b[0;34m)\u001b[0m  \u001b[0;31m# second iteration\u001b[0m\u001b[0;34m\u001b[0m\u001b[0;34m\u001b[0m\u001b[0m\n\u001b[1;32m     11\u001b[0m \u001b[0mprint\u001b[0m\u001b[0;34m(\u001b[0m\u001b[0;34mf\"{next(iterator) = }\"\u001b[0m\u001b[0;34m)\u001b[0m  \u001b[0;31m# third iteration\u001b[0m\u001b[0;34m\u001b[0m\u001b[0;34m\u001b[0m\u001b[0m\n\u001b[0;32m---> 12\u001b[0;31m \u001b[0mprint\u001b[0m\u001b[0;34m(\u001b[0m\u001b[0;34mf\"{next(iterator) = }\"\u001b[0m\u001b[0;34m)\u001b[0m  \u001b[0;31m# this exception is caught by the `for` loop and is its exit condition\u001b[0m\u001b[0;34m\u001b[0m\u001b[0;34m\u001b[0m\u001b[0m\n\u001b[0m\u001b[1;32m     13\u001b[0m \u001b[0;31m# let's not catch it and let it boom 💥\u001b[0m\u001b[0;34m\u001b[0m\u001b[0;34m\u001b[0m\u001b[0m\n",
            "\u001b[0;31mStopIteration\u001b[0m: "
          ]
        }
      ],
      "source": [
        "iterable = [1, 2, 3]\n",
        "\n",
        "# `for i in iterable: print(i)` is equal to the following calls:\n",
        "\n",
        "iterator = iter(iterable)  # the `for` loop uses the iterator of the object\n",
        "\n",
        "print(f\"{iterator = }\")  # printing here the iterator just for demo purposes\n",
        "\n",
        "print(f\"{next(iterator) = }\")  # first iteration\n",
        "print(f\"{next(iterator) = }\")  # second iteration\n",
        "print(f\"{next(iterator) = }\")  # third iteration\n",
        "print(f\"{next(iterator) = }\")  # this exception is caught by the `for` loop and is its exit condition\n",
        "# let's not catch it and let it boom 💥"
      ]
    },
    {
      "cell_type": "markdown",
      "metadata": {
        "id": "9t2wD1zPMeK6"
      },
      "source": [
        "С други думи, `for` циклите правят следното:"
      ]
    },
    {
      "cell_type": "code",
      "execution_count": null,
      "metadata": {
        "id": "NyE2awFBMeK6",
        "outputId": "c6b347ff-0230-490a-b17c-f29d242f18fb"
      },
      "outputs": [
        {
          "name": "stdout",
          "output_type": "stream",
          "text": [
            "1\n",
            "2\n",
            "3\n"
          ]
        }
      ],
      "source": [
        "def for_from_aliexpress(iterable, func):\n",
        "    iterator = iter(iterable)\n",
        "    while True:\n",
        "        try:\n",
        "            element = next(iterator)\n",
        "        except StopIteration:\n",
        "            break\n",
        "\n",
        "        func(element)\n",
        "\n",
        "for_from_aliexpress([1, 2, 3], print)"
      ]
    },
    {
      "cell_type": "markdown",
      "metadata": {
        "id": "SEwe2PU_MeK7"
      },
      "source": [
        "Ако не разбирате част от кода горе, не се притеснявайте. В последваща лекция ще учим за грешки и изключения, както и в друга говорим за итериране и функции от по-висок ред в повече дълбочина."
      ]
    },
    {
      "cell_type": "markdown",
      "metadata": {
        "id": "F1uXmE5QMeK7"
      },
      "source": [
        "За бъде итеруем (iterable) един клас, трябва да имплементира `__iter__`, връщайки итератор. Възможно е да върне и собствената си инстанция, в случай, че има имплементиран `__next__`."
      ]
    },
    {
      "cell_type": "code",
      "execution_count": null,
      "metadata": {
        "id": "kOnlUshjMeK7",
        "outputId": "69df4263-6195-42aa-ed47-1f1008fcc8e2"
      },
      "outputs": [
        {
          "ename": "TypeError",
          "evalue": "'NotAnIterable' object is not iterable",
          "output_type": "error",
          "traceback": [
            "\u001b[0;31m---------------------------------------------------------------------------\u001b[0m",
            "\u001b[0;31mTypeError\u001b[0m                                 Traceback (most recent call last)",
            "\u001b[0;32m/var/folders/7x/gdf0mbts74n8p_ckv_b_mfc40000gp/T/ipykernel_62173/2000024672.py\u001b[0m in \u001b[0;36m<module>\u001b[0;34m\u001b[0m\n\u001b[1;32m      4\u001b[0m \u001b[0mnot_an_iterable\u001b[0m \u001b[0;34m=\u001b[0m \u001b[0mNotAnIterable\u001b[0m\u001b[0;34m(\u001b[0m\u001b[0;34m)\u001b[0m\u001b[0;34m\u001b[0m\u001b[0;34m\u001b[0m\u001b[0m\n\u001b[1;32m      5\u001b[0m \u001b[0;34m\u001b[0m\u001b[0m\n\u001b[0;32m----> 6\u001b[0;31m \u001b[0;32mfor\u001b[0m \u001b[0mi\u001b[0m \u001b[0;32min\u001b[0m \u001b[0mnot_an_iterable\u001b[0m\u001b[0;34m:\u001b[0m\u001b[0;34m\u001b[0m\u001b[0;34m\u001b[0m\u001b[0m\n\u001b[0m\u001b[1;32m      7\u001b[0m     \u001b[0mprint\u001b[0m\u001b[0;34m(\u001b[0m\u001b[0mi\u001b[0m\u001b[0;34m)\u001b[0m\u001b[0;34m\u001b[0m\u001b[0;34m\u001b[0m\u001b[0m\n",
            "\u001b[0;31mTypeError\u001b[0m: 'NotAnIterable' object is not iterable"
          ]
        }
      ],
      "source": [
        "class NotAnIterable:\n",
        "    pass\n",
        "\n",
        "not_an_iterable = NotAnIterable()\n",
        "\n",
        "for i in not_an_iterable:\n",
        "    print(i)"
      ]
    },
    {
      "cell_type": "code",
      "execution_count": null,
      "metadata": {
        "id": "qLLME5sRMeK7",
        "outputId": "2381df2f-d867-4f1e-a0ae-2011fb48a9a0"
      },
      "outputs": [
        {
          "name": "stdout",
          "output_type": "stream",
          "text": [
            "0\n",
            "1\n",
            "8\n",
            "27\n",
            "64\n",
            "125\n",
            "216\n",
            "343\n",
            "512\n",
            "729\n"
          ]
        }
      ],
      "source": [
        "class DefaultArray:\n",
        "    \"\"\"\n",
        "    A container that behaves like a list with a maximum size (array)\n",
        "    but returns a default value for missing indices.\n",
        "    \"\"\"\n",
        "\n",
        "    def __init__(self, limit, default_element_func):\n",
        "        self._limit = limit\n",
        "        self._default_element_func = default_element_func\n",
        "        self._list = [None] * limit\n",
        "\n",
        "    def __len__(self):\n",
        "        return self._limit\n",
        "\n",
        "    def __getitem__(self, index):\n",
        "        element = self._list[index]\n",
        "        return self._default_element_func() if element is None else element\n",
        "\n",
        "    def __setitem__(self, index, element):\n",
        "        self._list[index] = element\n",
        "\n",
        "    def __delitem__(self, index):\n",
        "        self._list[index] = None\n",
        "\n",
        "    def __contains__(self, item):\n",
        "        return item in self._list\n",
        "\n",
        "    def __iter__(self):\n",
        "        return iter(self._list)\n",
        "\n",
        "arr = DefaultArray(10, int)\n",
        "\n",
        "for i in range(10):\n",
        "    arr[i] = i*i*i  # squares are overrated, let's print the cubes\n",
        "\n",
        "for element in arr:  # __iter__ is called here\n",
        "    print(element)\n"
      ]
    },
    {
      "cell_type": "code",
      "execution_count": null,
      "metadata": {
        "id": "fIRCB_YeMeK7",
        "outputId": "57e9d853-760e-4e8f-a5e3-d8c9d076f664"
      },
      "outputs": [
        {
          "name": "stdout",
          "output_type": "stream",
          "text": [
            "1\n",
            "1\n",
            "2\n",
            "3\n",
            "5\n",
            "8\n",
            "13\n",
            "21\n",
            "34\n",
            "55\n",
            "89\n",
            "144\n",
            "233\n",
            "377\n",
            "610\n",
            "987\n"
          ]
        }
      ],
      "source": [
        "class FibonacciGenerator:\n",
        "    def __init__(self, max_index):\n",
        "        self.max_index = max_index\n",
        "        self._a = 1\n",
        "        self._b = 1\n",
        "        self._current_index = 0\n",
        "\n",
        "    def __iter__(self):\n",
        "        return self\n",
        "\n",
        "    def __next__(self):\n",
        "        if self._current_index >= self.max_index:\n",
        "            raise StopIteration\n",
        "\n",
        "        current = self._a\n",
        "\n",
        "        self._a, self._b = self._b, self._a + self._b\n",
        "        self._current_index += 1\n",
        "\n",
        "        return current\n",
        "\n",
        "\n",
        "lateralus = FibonacciGenerator(16)\n",
        "\n",
        "for i in lateralus:\n",
        "    print(i)\n"
      ]
    },
    {
      "cell_type": "code",
      "execution_count": null,
      "metadata": {
        "id": "sW8pUPU8MeK7",
        "outputId": "c468be64-ad08-4ea0-a96b-6291f69b5b70"
      },
      "outputs": [
        {
          "name": "stdout",
          "output_type": "stream",
          "text": [
            "s👏t👏r👏i👏n👏g👏s👏 👏a👏r👏e👏 👏a👏l👏s👏o👏 👏i👏t👏e👏r👏a👏b👏l👏e👏s\n"
          ]
        }
      ],
      "source": [
        "class YetAnotherCustomIterable:\n",
        "    class CustomIterator:\n",
        "        def __init__(self, iterable):\n",
        "            self._iterable = iterable\n",
        "            self._index = 0\n",
        "\n",
        "        def __next__(self):\n",
        "            if self._index >= len(self._iterable):\n",
        "                raise StopIteration\n",
        "\n",
        "            element = self._iterable[self._index]\n",
        "            self._index += 1\n",
        "            return element\n",
        "    \n",
        "    def __init__(self, iterable):\n",
        "        self._iterable = iterable\n",
        "    \n",
        "    def __iter__(self):\n",
        "        return YetAnotherCustomIterable.CustomIterator(self._iterable)\n",
        "\n",
        "it = YetAnotherCustomIterable(\"strings are also iterables\")\n",
        "\n",
        "print(\"👏\".join(i for i in it))  # __iter__ is also called by comprehensions\n",
        "# more info on list/generator/dict comprehensions in another lecture\n"
      ]
    },
    {
      "cell_type": "markdown",
      "metadata": {
        "id": "5b7zGvPQMeK7"
      },
      "source": [
        "### Функции"
      ]
    },
    {
      "cell_type": "markdown",
      "metadata": {
        "id": "Cy7aBGMDMeK7"
      },
      "source": [
        "Искате обектът ви да бъде извикан като функция?\n",
        "\n",
        "Няма проблеми."
      ]
    },
    {
      "cell_type": "code",
      "execution_count": null,
      "metadata": {
        "id": "m0HLe54zMeK7",
        "outputId": "5607c021-a6e2-4fe3-8fe4-08d964d31fe6"
      },
      "outputs": [
        {
          "name": "stdout",
          "output_type": "stream",
          "text": [
            "f(x) = x + 2\n",
            "f(0) = 2\n",
            "f(1) = 3\n"
          ]
        }
      ],
      "source": [
        "class LinearBinomial:\n",
        "    def __init__(self, a, b):\n",
        "        self.a = a\n",
        "        self.b = b\n",
        "\n",
        "    def __call__(self, x):\n",
        "        return self.a * x + self.b\n",
        "\n",
        "    def __str__(self):\n",
        "        A = f\"{self.a}x\" if self.a != 1 else \"x\"\n",
        "        B = f\"{self.b}\" if self.b != 0 else \"\"\n",
        "        return f\"{A} + {B}\"\n",
        "\n",
        "\n",
        "f = LinearBinomial(1, 2)\n",
        "\n",
        "print(f\"f(x) = {f}\")\n",
        "\n",
        "print(f\"f(0) = {f(0)}\")\n",
        "print(f\"f(1) = {f(1)}\")\n"
      ]
    },
    {
      "cell_type": "markdown",
      "metadata": {
        "id": "CE6lJ2OjMeK7"
      },
      "source": [
        "### Pure witchcraft"
      ]
    },
    {
      "cell_type": "code",
      "execution_count": null,
      "metadata": {
        "id": "tLk4dT1GMeK7",
        "outputId": "42454e1e-5d69-481a-ef53-586389bb845a"
      },
      "outputs": [
        {
          "name": "stdout",
          "output_type": "stream",
          "text": [
            "instance.__doc__ = \"This is an example class.\\n    \\n    Note: The first multiline comment in a definition of a class, module or function\\n    is called a 'docstring'.\\n    \"\n",
            "instance.__repr__.__doc__ = \"Return repr(self).\\n        \\n        Note: there are established strict conventions as to what good code documentation sould look like.\\n        For example, such comments should always be imperative (e.g. 'return', not 'returns').\\n        For more info check out `pydocstyle` (https://www.pydocstyle.org/en/stable/). It includes a linter\\n        that can be configured inside your IDE to constantly check and give out warnings\\n        regarding your code documentation and style.\\n        Good thing to check out as well is PEP-8 but keep in mind that we will cover PEP-8 in details\\n        in a following lecture.\\n        \"\n",
            "ExampleClass.__name__ = 'ExampleClass'\n",
            "instance.__class__ = <class '__main__.ExampleClass'>\n",
            "instance.__module__ = '__main__'\n",
            "instance.__dict__ = {'var': 42}\n",
            "vars(instance) = {'var': 42}\n",
            "instance.__repr__.__code__ = <code object __repr__ at 0x113d91df0, file \"/var/folders/7x/gdf0mbts74n8p_ckv_b_mfc40000gp/T/ipykernel_62173/2566046567.py\", line 15>\n",
            "instance.__repr__.__code__.co_code = b'd\\x01|\\x00j\\x00\\x9b\\x00d\\x02\\x9d\\x03S\\x00'\n",
            "instance.__str__.__code__.co_code = b'd\\x01|\\x00j\\x00\\x9b\\x00d\\x02\\x9d\\x03S\\x00'\n"
          ]
        }
      ],
      "source": [
        "class ExampleClass:\n",
        "    \"\"\"This is an example class.\n",
        "    \n",
        "    Note: The first multiline comment in a definition of a class, module or function\n",
        "    is called a 'docstring'.\n",
        "    \"\"\"\n",
        "\n",
        "    def __init__(self, var):\n",
        "        \"\"\"Take a variable and store it in the instance.\n",
        "\n",
        "        Note: It is good practice to document as many public methods and classes as possible.\n",
        "        \"\"\"\n",
        "        self.var = var\n",
        "\n",
        "    def __repr__(self):\n",
        "        \"\"\"Return repr(self).\n",
        "        \n",
        "        Note: there are established strict conventions as to what good code documentation sould look like.\n",
        "        For example, such comments should always be imperative (e.g. 'return', not 'returns').\n",
        "        For more info check out `pydocstyle` (https://www.pydocstyle.org/en/stable/). It includes a linter\n",
        "        that can be configured inside your IDE to constantly check and give out warnings\n",
        "        regarding your code documentation and style.\n",
        "        Good thing to check out as well is PEP-8 but keep in mind that we will cover PEP-8 in details\n",
        "        in a following lecture.\n",
        "        \"\"\"\n",
        "        return f\"ExampleClass({self.var})\"\n",
        "\n",
        "    __str__ = __repr__  # after all, methods are objects too. They can be passed around and assigned.\n",
        "\n",
        "\n",
        "instance = ExampleClass(42)\n",
        "\n",
        "# now let the black magic begin\n",
        "print(f\"{instance.__doc__ = }\")           # the docstring of the object\n",
        "print(f\"{instance.__repr__.__doc__ = }\")  # the docstring of a method of the object\n",
        "print(f\"{ExampleClass.__name__ = }\")  # the name of the class as a string\n",
        "print(f\"{instance.__class__ = }\")  # the class of the instance as a class object\n",
        "print(f\"{instance.__module__ = }\")  # the name of the module in which the object exists. In this case, it's `__main__` because we are in the REPL.\n",
        "print(f\"{instance.__dict__ = }\")  # a `dict` containing all the attributes of the instance. It is returned by the `vars` builtin function:\n",
        "print(f\"{vars(instance) = }\")\n",
        "print(f\"{instance.__repr__.__code__ = }\")  # the code object of the method. Don't expect to see the exact code though, this is some representation of the compiled code.\n",
        "print(f\"{instance.__repr__.__code__.co_code = }\")  # the actual compiled code. This is a `bytes` object.\n",
        "print(f\"{instance.__str__.__code__.co_code = }\")  # it's the same picture\n"
      ]
    },
    {
      "cell_type": "markdown",
      "metadata": {
        "id": "OEmYCOUZMeK7"
      },
      "source": [
        "## Някои полезни помощни класове и декоратори"
      ]
    },
    {
      "cell_type": "markdown",
      "metadata": {
        "id": "h3k0Q35GMeK7"
      },
      "source": [
        "### Но първо, какво е \"декоратор\"?"
      ]
    },
    {
      "cell_type": "markdown",
      "metadata": {
        "id": "-ZVDrfMyMeK7"
      },
      "source": [
        "Накратко (понеже в друга лекция ще обясним по-подробно), това е функция, обграждаща и \"добавяща\" функционалност на друга такава. Т.е. приема за параметър някоя функция и връща друга, която е модифицирана версия на първата. В Python може да се използва и чрез `@`, което е удобен syntax sugar за декориране."
      ]
    },
    {
      "cell_type": "code",
      "execution_count": null,
      "metadata": {
        "id": "BmKidYXIMeK7",
        "outputId": "a09a2903-4f77-4ec7-c853-d8998a04f9fc"
      },
      "outputs": [
        {
          "name": "stdout",
          "output_type": "stream",
          "text": [
            "Calling fibonacci with (16,) and {}\n",
            "lateralus = 987\n",
            "Calling fibonacci with () and {}\n"
          ]
        },
        {
          "data": {
            "text/plain": [
              "33644764876431783266621612005107543310302148460680063906564769974680081442166662368155595513633734025582065332680836159373734790483865268263040892463056431887354544369559827491606602099884183933864652731300088830269235673613135117579297437854413752130520504347701602264758318906527890855154366159582987279682987510631200575428783453215515103870818298969791613127856265033195487140214287532698187962046936097879900350962302291026368131493195275630227837628441540360584402572114334961180023091208287046088923962328835461505776583271252546093591128203925285393434620904245248929403901706233888991085841065183173360437470737908552631764325733993712871937587746897479926305837065742830161637408969178426378624212835258112820516370298089332099905707920064367426202389783111470054074998459250360633560933883831923386783056136435351892133279732908133732642652633989763922723407882928177953580570993691049175470808931841056146322338217465637321248226383092103297701648054726243842374862411453093812206564914032751086643394517512161526545361333111314042436854805106765843493523836959653428071768775328348234345557366719731392746273629108210679280784718035329131176778924659089938635459327894523777674406192240337638674004021330343297496902028328145933418826817683893072003634795623117103101291953169794607632737589253530772552375943788434504067715555779056450443016640119462580972216729758615026968443146952034614932291105970676243268515992834709891284706740862008587135016260312071903172086094081298321581077282076353186624611278245537208532365305775956430072517744315051539600905168603220349163222640885248852433158051534849622434848299380905070483482449327453732624567755879089187190803662058009594743150052402532709746995318770724376825907419939632265984147498193609285223945039707165443156421328157688908058783183404917434556270520223564846495196112460268313970975069382648706613264507665074611512677522748621598642530711298441182622661057163515069260029861704945425047491378115154139941550671256271197133252763631939606902895650288268608362241082050562430701794976171121233066073310059947366875"
            ]
          },
          "execution_count": 46,
          "metadata": {},
          "output_type": "execute_result"
        }
      ],
      "source": [
        "def logged(func):\n",
        "    def wrapper(*args, **kwargs):\n",
        "        print(f\"Calling {func.__name__} with {args} and {kwargs}\")\n",
        "        return func(*args, **kwargs)\n",
        "    return wrapper\n",
        "\n",
        "@logged\n",
        "def fibonacci(n=10_000):\n",
        "    a = 0\n",
        "    b = 1\n",
        "    for i in range(n):\n",
        "        a, b = b, a + b\n",
        "    return a\n",
        "\n",
        "lateralus = fibonacci(16)  # here we observe the added side effect of logging the call\n",
        "\n",
        "print(f\"{lateralus = }\")  # as above, so below\n",
        "\n",
        "# and beyond I imagine\n",
        "fibonacci()\n"
      ]
    },
    {
      "cell_type": "markdown",
      "metadata": {
        "id": "csqm_l7rMeK7"
      },
      "source": [
        "Съществуват различни полезни декоратори, които ни улесняват с имплеменетирането на често-срещани ООП фунцкионалности."
      ]
    },
    {
      "cell_type": "markdown",
      "metadata": {
        "id": "eRT6cJVOMeK7"
      },
      "source": [
        "### `@property`"
      ]
    },
    {
      "cell_type": "markdown",
      "metadata": {
        "id": "isqSJBR0MeK7"
      },
      "source": [
        "В някои езици наричано \"computed property\", това е поле/атрибут, чиято стойност се изчислява при използването му и обикновено не се съхранява никъде. На практика това е метод, който се използва със синтаксиса атрибут. Достатъчно е да декорираме с `@property` нормален метод, за да го превърнем в атрибут."
      ]
    },
    {
      "cell_type": "code",
      "execution_count": null,
      "metadata": {
        "id": "cC1UcgnZMeK8",
        "outputId": "29431c79-27e7-48ec-b0db-aa3431b68a64"
      },
      "outputs": [
        {
          "name": "stdout",
          "output_type": "stream",
          "text": [
            "Doncho\n"
          ]
        }
      ],
      "source": [
        "class Player:\n",
        "    def __init__(self, name):\n",
        "        self._name = name\n",
        "\n",
        "    @property\n",
        "    def name(self):\n",
        "        return self._name\n",
        "\n",
        "doncho = Player(\"Doncho\")\n",
        "print(doncho.name)"
      ]
    },
    {
      "cell_type": "markdown",
      "metadata": {
        "id": "iyY0aU8tMeK8"
      },
      "source": [
        "### `@setter`"
      ]
    },
    {
      "cell_type": "markdown",
      "metadata": {
        "id": "JzqFEa01MeK8"
      },
      "source": [
        "Освен read-only computed property-та, можем да имаме и writable такива. Това се постига чрез декоратора `@{propertyname}.setter`, който се използва върху метод, който да се изпълнява при присвояване на стойност на атрибута (`{propertyname}` се замества с името на property-то)."
      ]
    },
    {
      "cell_type": "code",
      "execution_count": null,
      "metadata": {
        "id": "ABeLWQX-MeK8",
        "outputId": "932ccc51-12e2-4e7b-cfd8-7e72bc24b0f2"
      },
      "outputs": [
        {
          "name": "stdout",
          "output_type": "stream",
          "text": [
            "newb.level = 1\n",
            "now the player buys something and advances some levels automatically...\n",
            "newb.level = 10\n",
            "newb._xp = 9000\n"
          ]
        }
      ],
      "source": [
        "class Player:\n",
        "    def __init__(self, xp):\n",
        "        self._xp = xp\n",
        "\n",
        "    @property\n",
        "    def level(self):\n",
        "        return self._xp // 1000 + 1\n",
        "    \n",
        "    @level.setter\n",
        "    def level(self, value):  # has to have the same name!\n",
        "        self._xp = (value - 1) * 1000\n",
        "    \n",
        "newb = Player(0)\n",
        "print(f\"{newb.level = }\")\n",
        "\n",
        "print(\"now the player buys something and advances some levels automatically...\")\n",
        "newb.level = 10  # ...cheater\n",
        "\n",
        "print(f\"{newb.level = }\")\n",
        "print(f\"{newb._xp = }\")\n"
      ]
    },
    {
      "cell_type": "markdown",
      "metadata": {
        "id": "FvSv-SP-MeK8"
      },
      "source": [
        "### `@staticmethod`"
      ]
    },
    {
      "cell_type": "markdown",
      "metadata": {
        "id": "zfGCvHawMeK8"
      },
      "source": [
        "Ако дефинираме функция в блока за дефиниция на клас, тя става метод на класа и при извикването ѝ винаги имплицитно се предава като първи параметър съответната инстанция на класа. Но как да създадем метод, който не зависи от инстанцията?"
      ]
    },
    {
      "cell_type": "code",
      "execution_count": null,
      "metadata": {
        "id": "rYQ8KiMnMeK8",
        "outputId": "b23f8f11-21a9-4300-a3e8-908b51fff8c2"
      },
      "outputs": [
        {
          "name": "stdout",
          "output_type": "stream",
          "text": [
            "<__main__.A object at 0x113d60be0>\n",
            "I am free\n"
          ]
        },
        {
          "ename": "TypeError",
          "evalue": "static_method() takes 0 positional arguments but 1 was given",
          "output_type": "error",
          "traceback": [
            "\u001b[0;31m---------------------------------------------------------------------------\u001b[0m",
            "\u001b[0;31mTypeError\u001b[0m                                 Traceback (most recent call last)",
            "\u001b[0;32m/var/folders/7x/gdf0mbts74n8p_ckv_b_mfc40000gp/T/ipykernel_62173/666281317.py\u001b[0m in \u001b[0;36m<module>\u001b[0;34m\u001b[0m\n\u001b[1;32m      9\u001b[0m \u001b[0ma\u001b[0m\u001b[0;34m.\u001b[0m\u001b[0minstance_method\u001b[0m\u001b[0;34m(\u001b[0m\u001b[0;34m)\u001b[0m\u001b[0;34m\u001b[0m\u001b[0;34m\u001b[0m\u001b[0m\n\u001b[1;32m     10\u001b[0m \u001b[0mA\u001b[0m\u001b[0;34m.\u001b[0m\u001b[0mstatic_method\u001b[0m\u001b[0;34m(\u001b[0m\u001b[0;34m)\u001b[0m\u001b[0;34m\u001b[0m\u001b[0;34m\u001b[0m\u001b[0m\n\u001b[0;32m---> 11\u001b[0;31m \u001b[0ma\u001b[0m\u001b[0;34m.\u001b[0m\u001b[0mstatic_method\u001b[0m\u001b[0;34m(\u001b[0m\u001b[0;34m)\u001b[0m\u001b[0;34m\u001b[0m\u001b[0;34m\u001b[0m\u001b[0m\n\u001b[0m",
            "\u001b[0;31mTypeError\u001b[0m: static_method() takes 0 positional arguments but 1 was given"
          ]
        }
      ],
      "source": [
        "class A:\n",
        "    def instance_method(self):\n",
        "        print(self)\n",
        "\n",
        "    def static_method():\n",
        "        print(\"I am free\")\n",
        "\n",
        "a = A()\n",
        "a.instance_method()\n",
        "A.static_method()\n",
        "a.static_method()"
      ]
    },
    {
      "cell_type": "markdown",
      "metadata": {
        "id": "gJyJEkMTMeK8"
      },
      "source": [
        "Ако в горния случай изпълним `A.static_method()` няма да бъде направен опит да се предаде инстанция като първи параметър, понеже такава нямаме. Но не винаги можем да сме сигурни, че метода ще бъде извикан върху класа, а не върху конкретен обект. Начинът по който можем да подсигурим безпроблемното изпълнение и в двата случая е да декорираме метода със `@staticmethod`:"
      ]
    },
    {
      "cell_type": "code",
      "execution_count": null,
      "metadata": {
        "id": "q8VmvgGNMeK8",
        "outputId": "9a4c7f55-1a46-4817-9090-5218d4170961"
      },
      "outputs": [
        {
          "name": "stdout",
          "output_type": "stream",
          "text": [
            "I am free\n",
            "I am free\n"
          ]
        }
      ],
      "source": [
        "class A:\n",
        "\n",
        "    @staticmethod\n",
        "    def static_method():\n",
        "        print(\"I am free\")\n",
        "\n",
        "a = A()\n",
        "A.static_method()\n",
        "a.static_method()"
      ]
    },
    {
      "cell_type": "markdown",
      "metadata": {
        "id": "gGVzNZpmMeK8"
      },
      "source": [
        "### `@classmethod`"
      ]
    },
    {
      "cell_type": "markdown",
      "metadata": {
        "id": "7l6GfoTxMeK8"
      },
      "source": [
        "Понякога може да искаме като първи аргумент на метода да ни бъде подадена не инстанцията, а самият клас. Такъв метод трябва да декорираме с `@classmethod`. Отново, също както със `self`, името на аргумента може да е всякакво, но по конвенция е прието да се кръщава `cls` (понеже `class` е запазена дума)."
      ]
    },
    {
      "cell_type": "code",
      "execution_count": null,
      "metadata": {
        "id": "LaDbchGVMeK8",
        "outputId": "f1042e67-58fa-458f-c60d-05d82b9cb6c7"
      },
      "outputs": [
        {
          "name": "stdout",
          "output_type": "stream",
          "text": [
            "User(yalishanda, yalishanda@example.com, 420)\n"
          ]
        }
      ],
      "source": [
        "class User:\n",
        "    def __init__(self, username, email, money):\n",
        "        self.username = username\n",
        "        self.email = email\n",
        "        self.money = money\n",
        "\n",
        "    @classmethod\n",
        "    def from_json_dict(cls, json):\n",
        "        username = json[\"username\"]\n",
        "        email = json[\"email\"]\n",
        "        money = json[\"money\"]\n",
        "        return cls(username, email, money)\n",
        "\n",
        "    def __repr__(self):\n",
        "        return f\"User({self.username}, {self.email}, {self.money})\"\n",
        "\n",
        "\n",
        "json_data = {\n",
        "    \"username\": \"yalishanda\",\n",
        "    \"email\": \"yalishanda@example.com\",\n",
        "    \"money\": 420\n",
        "}\n",
        "\n",
        "user = User.from_json_dict(json_data)\n",
        "print(user)\n"
      ]
    },
    {
      "cell_type": "markdown",
      "metadata": {
        "id": "dHALrrVhMeK8"
      },
      "source": [
        "### `ABC` (Abstract Base Class) и `@abstractmethod`"
      ]
    },
    {
      "cell_type": "markdown",
      "metadata": {
        "id": "I8iiXVa5MeK8"
      },
      "source": [
        "Модулът `abc` ни предоставя начини, с които да дефинираме абстрактни базови класове. Те не могат да бъдат инстанцирани, когато съдържат един или повече от един абстрактни метода, чиято цел е да опишат общ интерфейс и да бъдат имплементирани от наследниците на класа."
      ]
    },
    {
      "cell_type": "code",
      "execution_count": null,
      "metadata": {
        "id": "OGArt2CDMeK8",
        "outputId": "9db2dd19-c1aa-4515-9ede-20539d187a13"
      },
      "outputs": [
        {
          "name": "stdout",
          "output_type": "stream",
          "text": [
            "Petting Doge...\n",
            "woof\n",
            "Petting Мишо...\n",
            "purr\n",
            "Petting Съска...\n",
            "sss\n"
          ]
        },
        {
          "ename": "TypeError",
          "evalue": "Can't instantiate abstract class Animal with abstract method make_sound",
          "output_type": "error",
          "traceback": [
            "\u001b[0;31m---------------------------------------------------------------------------\u001b[0m",
            "\u001b[0;31mTypeError\u001b[0m                                 Traceback (most recent call last)",
            "\u001b[0;32m/var/folders/7x/gdf0mbts74n8p_ckv_b_mfc40000gp/T/ipykernel_62173/3318180173.py\u001b[0m in \u001b[0;36m<module>\u001b[0;34m\u001b[0m\n\u001b[1;32m     34\u001b[0m \u001b[0msnek\u001b[0m\u001b[0;34m.\u001b[0m\u001b[0mpet\u001b[0m\u001b[0;34m(\u001b[0m\u001b[0;34m)\u001b[0m\u001b[0;34m\u001b[0m\u001b[0;34m\u001b[0m\u001b[0m\n\u001b[1;32m     35\u001b[0m \u001b[0;34m\u001b[0m\u001b[0m\n\u001b[0;32m---> 36\u001b[0;31m \u001b[0mbase\u001b[0m \u001b[0;34m=\u001b[0m \u001b[0mAnimal\u001b[0m\u001b[0;34m(\u001b[0m\u001b[0;34m\"опа\"\u001b[0m\u001b[0;34m)\u001b[0m\u001b[0;34m\u001b[0m\u001b[0;34m\u001b[0m\u001b[0m\n\u001b[0m",
            "\u001b[0;31mTypeError\u001b[0m: Can't instantiate abstract class Animal with abstract method make_sound"
          ]
        }
      ],
      "source": [
        "from abc import ABC, abstractmethod\n",
        "\n",
        "class Animal(ABC):\n",
        "    def __init__(self, name):\n",
        "        self._name = name\n",
        "\n",
        "    @abstractmethod\n",
        "    def make_sound(self):\n",
        "        pass\n",
        "\n",
        "    def pet(self):\n",
        "        print(f\"Petting {self._name}...\")\n",
        "        self.make_sound()\n",
        "\n",
        "class Dog(Animal):\n",
        "    def make_sound(self):\n",
        "        print(\"woof\")\n",
        "\n",
        "class Cat(Animal):\n",
        "    def make_sound(self):\n",
        "        print(\"purr\")\n",
        "\n",
        "class Snek(Animal):\n",
        "    def make_sound(self):\n",
        "        print(\"sss\")\n",
        "\n",
        "doge = Dog(\"Doge\")\n",
        "doge.pet()\n",
        "\n",
        "catto = Cat(\"Мишо\")\n",
        "catto.pet()\n",
        "\n",
        "snek = Snek(\"Съска\")\n",
        "snek.pet()\n",
        "\n",
        "base = Animal(\"опа\")"
      ]
    },
    {
      "cell_type": "markdown",
      "metadata": {
        "id": "TjMtl29SMeK8"
      },
      "source": [
        "# Примери (задачи за решаване в час)"
      ]
    },
    {
      "cell_type": "markdown",
      "metadata": {
        "id": "i0HNQRQcMeK8"
      },
      "source": [
        "## Пример 1\n",
        "\n",
        "Напишете клас `Rectangle`, описващ правоъгълник, със следните характеристики:\n",
        "\n",
        "- дължина\n",
        "- широчина\n",
        "- цвят (низ)\n",
        "- методи, връщащи стойностите на член-данните на класа\n",
        "- метод за изчисляване на лице\n",
        "\n",
        "Напишете клас `Circle`, описващ кръг, със следните характеристики:\n",
        "\n",
        "- радиус\n",
        "- цвят (низ)\n",
        "- методи, връщащи стойностите на член-данните на класа\n",
        "- метод за изчисляване на лице\n",
        "\n",
        "Напишете клас `Shapes`, със следните характеристики:\n",
        "\n",
        "- съдържа в себе си горе-дефинираните геометрични фигури\n",
        "- метод за добавяне на нов кръг към колекцията\n",
        "- метод за добавяне на нов правоъгълник към колекцията\n",
        "- метод, който връща сумата от всички лица на правоъгълниците\n",
        "- метод, който връща сумата от всички лица на кръговете\n",
        "- метод, който връща геометрична фигура по подаден индекс"
      ]
    },
    {
      "cell_type": "markdown",
      "metadata": {
        "id": "cgvUEIN9MeK8"
      },
      "source": [
        "## Пример 2\n",
        "\n",
        "*Съществуват различни видове броячи - някои могат само да увеличават бройката, която пазят, други могат и да я намалят, а трети имат ограничение до колко могат да отброяват.*\n",
        "\n",
        "### Клас `Counter`\n",
        "\n",
        "*Най-простият брояч - само нагоре, без ограничение.*\n",
        "\n",
        "- Инициализатор с параметри `initial=0` (начална стойност) и `step=1` (стъпка)\n",
        "- `increment()`: увеличава текущата стойност със стъпката на брояча\n",
        "- `get_total()`: връща `int` - текущата отброена стойност\n",
        "- `get_step()`: връща `int` - стъпката на брояча (не трябва да може да бъде променяна)\n",
        "\n",
        "### Клас `TwowayCounter`\n",
        "\n",
        "*Брояч, който може и да намалява отброяваната стойност.*\n",
        "\n",
        "Освен всичко изброено в `Counter`, съдържа и:\n",
        "- `decrement()`: намалява текущата стойност със стъпката на брояча\n",
        "\n",
        "### Клас `LimitedCounter`\n",
        "\n",
        "*Брояч, който отброява само до дадена максимална стойност.*\n",
        "\n",
        "- Инициализатор с 3 параметъра `max` (максимална стойност), `initial=0` (начална ст-т) и `step=1` (стъпка)\n",
        "- `increment()`: увеличава текущата стойност със стъпката на брояча само ако няма да надмине максималната\n",
        "- `get_max()`: връща `int` - максималната стойност на брояча\n",
        "- `get_total()`: същия като този на `Counter`\n",
        "- `get_step()`: същия като този на `Counter`\n",
        "\n",
        "### Клас `LimitedTwowayCounter`\n",
        "\n",
        "*Той е и LimitedCounter, и TwowayCounter едновременно: може да отброява нагоре до определена максимална стойност и надолу до определена минимална стойност.*\n",
        "\n",
        "- Инциализатор с 4 параметъра `min` (минимална ст-т), `max` (максимална ст-т), `initial=0` (начална ст-т) и `step=1` (стъпка)\n",
        "- `increment()`: същия като на `LimitedCounter`\n",
        "- `decrement()`: намаля текущата стойност със стъпката на брояча само ако няма да стане по-ниска от минималната\n",
        "- `get_min()`: връща минималната стойност на брояча\n",
        "- `get_max()`: същия като този на `LimitedCounter`\n",
        "- `get_total()`: същия като този на `Counter`\n",
        "- `get_step()`: същия като този на `Counter`\n",
        "\n",
        "### Клас `Semaphore`\n",
        "\n",
        "*Най-простия бинарен семафор - това е `LimitedTwowayCounter`, който има минимална стойност 0, максимална стойност 1 и стъпка 1. Използва се от процесите в операционнитe системи за синхронизационни цели. (За повече информация: https://skelet.ludost.net)*\n",
        "\n",
        "- Инициализатор с 1 параметър `is_available=False`. При `True` началната стойност на брояча е 1, а при `False` е 0.\n",
        "- `is_available()`: връща `bool`, показващ дали стойността на брояча е над 0\n",
        "- `wait()` - прави същото като `decrement()` на `LimitedTwowayCounter`\n",
        "- `signal()` - прави същото като `increment()` на `LimitedTwowayCounter`\n",
        "\n",
        "***Pythonic bonus:*** Use `@property` instead of all the getters."
      ]
    },
    {
      "cell_type": "markdown",
      "metadata": {
        "id": "Hs23PxQhMeK9"
      },
      "source": [
        "###### Двата примера достигат до вас благодарение на [курса по ООП 2020/2021 за СИ](https://github.com/yalishanda42/oop2021)."
      ]
    },
    {
      "cell_type": "markdown",
      "metadata": {
        "id": "6N5NFCapMeK9"
      },
      "source": [
        "# Задачи за упражнение (за вкъщи)"
      ]
    },
    {
      "cell_type": "markdown",
      "metadata": {
        "id": "6w8nJR03MeK9"
      },
      "source": [
        "## Задача 0\n",
        "\n",
        "Дефинирайте клас `PolarCoordinate`, който да моделира точка чрез двумерни полярни координати. Класът трябва да има:\n",
        "\n",
        "* инициализатор, който приема два аргумента - радиус $ r $ и ъгъл $ \\phi $ (ще интерпретираме мерната му единица да е в радиани)\n",
        "* атрибути/методи `r` и `angle` за достъп до съответните полета, но не и за тяхната промяна\n",
        "* метод `to_cartesian()`, който връща `tuple` от две числа `(x, y)` - координатите на точката, конвертирани в декартова система по формулата:\n",
        "    * $ x = r\\cos(\\phi) $\n",
        "    * $ y = r \\sin(\\phi) $\n",
        "* клас-метод `from_cartesian(x, y)`, който приема два аргумента - координатите на точката в декартова система - и създава и връща инстанция на `PolarCoordinate`, изчислена по формулата:\n",
        "    * $ r = \\sqrt{x^2 + y^2} $\n",
        "    * $ \\phi = \\arctan(\\frac{y}{x}) $\n",
        "* дефинирана подходяща репрезентация на обекта\n",
        "* дефиниция на конвертиране в `str` във формат `(r: {self.r}, angle: {self.angle})`\n",
        "* дефиниране на хеширане\n",
        "* дефиниране на сравнение с `==` и `!=`\n",
        "\n",
        "Важно: стойностите на полетата на класа не трябва да могат да бъдат променяни по никакъв начин, освен чрез инициализатора, с цел гарантиране на immutability.\n",
        "\n"
      ]
    },
    {
      "cell_type": "code",
      "execution_count": null,
      "metadata": {
        "id": "SIIpZqrvMeK9"
      },
      "outputs": [],
      "source": [
        "from math import sqrt, sin, cos, atan  # you will need these\n",
        "from math import pi, isclose  # the tests below will need these\n",
        "\n",
        "\n",
        "class PolarCoordinate:\n",
        "    pass  # your code here\n",
        "\n",
        "\n",
        "p1 = PolarCoordinate(1, pi/6)\n",
        "\n",
        "print(p1.r == 1)\n",
        "print(p1.angle == pi/6)\n",
        "\n",
        "p2 = PolarCoordinate.from_cartesian(3, 4)\n",
        "print(isclose(p2.r, 5))\n",
        "print(isclose(p2.angle, atan(4/3)))\n",
        "\n",
        "x, y = p2.to_cartesian()\n",
        "print(isclose(x, 3))\n",
        "print(isclose(y, 4))\n",
        "\n",
        "p3 = PolarCoordinate(1, 0)\n",
        "print(str(p3) == \"(r: 1, angle: 0)\")\n",
        "print(repr(p3) == \"PolarCoordinate(1, 0)\")\n",
        "\n",
        "pp1, pp2, pp3 = PolarCoordinate(1, pi/6), PolarCoordinate.from_cartesian(3, 4), PolarCoordinate(1, 0)\n",
        "print(p1 == pp1)\n",
        "print(p2 == pp2)\n",
        "print(p3 == pp3)\n",
        "\n",
        "d = {p1: \"A\", p2: \"B\", p3: \"C\"}\n",
        "print(d[pp1] == \"A\")\n",
        "print(d[pp2] == \"B\")\n",
        "print(d[pp3] == \"C\")\n",
        "\n",
        "s = {p1, p2, p3, pp1, pp2, pp3, p1, p2, p3}\n",
        "print(len(s) == 3)"
      ]
    },
    {
      "cell_type": "markdown",
      "metadata": {
        "id": "CWl7FSnPMeK9"
      },
      "source": [
        "## Задача 1\n",
        "\n",
        "Дефинирайте клас `Player`, който да моделира играч от RPG игра. Трябва да има следните атрибути и техните условия към тях:\n",
        "\n",
        "  * `name` - име на играча (read-only)\n",
        "  * `hp` - жизнени точки на играча (да не могат да падат под 0, по подразбиране са 10)\n",
        "  * `xp` - опит на играча (да може само да бъде увеличаван, по подразбиране е 0)\n",
        "  * `level` - ниво на играча (read-only), зависи от `xp` по формулата: \n",
        "    * $ level = 1 $, ако `xp` е по-малко от 300;\n",
        "    * $ level = 2 + \\log_2 int(\\frac{xp}{300}) $, иначе.\n",
        "    \n",
        "  (т.е. 0-299 XP са ниво 1, 300-599 XP са ниво 2, 600-1199 XP са ниво 3, 1200-2399 са ниво 4 и т.н.)\n",
        "\n",
        "Имате свобода при имплементацията на класа, стига горните атрибути да съществуват и условията им да са винаги изпълнени.\n",
        "\n",
        "*Note*: за $ log_2 $ може да използвате `math.log2`. Функцията `int` в горната формула е аналогична на конструктора на `int` в Python, както и на `floor` функцията, т.е. закръглянето към цяло число е винаги надолу."
      ]
    },
    {
      "cell_type": "markdown",
      "metadata": {
        "id": "aVBHpVFzMeK9"
      },
      "source": [
        "## Задача 2\n",
        "\n",
        "Дефинирайте клас `Vector3D`, който да репрезентира вектор в тримерното пространство. Класът трябва да има поне следните методи:\n",
        "\n",
        "  * `__init__(self, x, y, z)`: инициализира вектора със стойности `x`, `y` и `z`\n",
        "  * `__repr__(self)`: връща репрезентация на обекта\n",
        "  * `__str__(self)`: връща стрингово представяне на вектора във формат `\"(x, y, z)\"` (например, `\"(1, 2, 3)\"`)\n",
        "  * `__add__(self, other)`: връща сумата на два вектора (или на вектор (вляво) с число (вдясно))\n",
        "    за целите на задачата, нека дефинираме:\n",
        "    * сума на вектор $ v = (v_x, v_y, v_z) $ с вектор $ u = (u_x, u_y, u_z) $ като $ u + v = (v_x + u_x, v_y + u_y, v_z + u_z) $\n",
        "    * сума на вектор $ v = (v_x, v_y, v_z) $ с число $ \\lambda $ като $ u + \\lambda = (v_x + \\lambda, v_y + \\lambda, v_z + \\lambda) $\n",
        "  * `__radd__(self, other)`: връща сумата на число (в ляво) с вектор (в дясно)\n",
        "  * `__iadd__(self, other)`: прибавя `other` към `self` и връща `self`\n",
        "  * `__mul__(self, other)`: връща \"произведение\", дефинирано по следния начин:\n",
        "    * произведението $ v * u $ на два вектора $ v = (v_x, v_y, v_z) $ и $ u = (u_x, u_y, u_z) $ като $ v * u = (v_x u_x, v_y u_y, v_z u_z) $\n",
        "    * произведението $ v * \\lambda $ на вектора $ v = (v_x, v_y, v_z) $ и числото $ \\lambda $ като $ v * \\lambda = (v_x \\lambda, v_y \\lambda, v_z \\lambda) $\n",
        "  * `__rmul__(self, other)`: връща произведението (както е дефинирано горе) на число с вектор\n",
        "  * `__imul__(self, other)`: умножава `other` към `self` и връща `self`\n",
        "  * `__eq__(self, other)`: връща `True`, ако два вектора са поелементно равни, и `False` в противен случай\n",
        "  * `__ne__(self, other)`: връща обратното на `__eq__`\n",
        "  * `__abs__(self)`: връща дължината на вектора (по формулата $ \\sqrt{x^2 + y^2 + z^2} $ )\n",
        "  * `__getattr__(self, name)`: пренасочва `X`, `Y` и `Z` към `x`, `y` и `z` (например `vector.X` да е еквивалентно на `vector.x`)\n",
        "  * `__setattr__(self, name, value)`, аналогичен на горния\n",
        "  * `__iter__(self)`: връща итератор на вектора, който да позволява итериране в реда `x`, `y`, `z`.\n",
        "\n",
        "Добавете още каквито методи смятате за нужни.\n",
        "\n",
        "*Note 1*: нека в контекста на задачата за скалари смятаме `int`, `float` и `complex`.\n",
        "\n",
        "*Note 2*: корен квадратен може да изчислите с `math.sqrt` или като повдигнете нещо на степен 0.5.\n",
        "\n",
        "*Note 3*: понеже още не сме учили грешки и изключения, не се очаква да хвърляте такива в случай, че някой аргумент е невалиден. Очаква се обаче поне където се налага да проверите за това. Ако не ви се разучава как да `raise`-нете `TypeError`, `AttributeError` или `ValueError`, може вместо това да `return`-нете `None` за сега."
      ]
    },
    {
      "cell_type": "markdown",
      "metadata": {
        "id": "GedvERJXMeK9"
      },
      "source": [
        "## Задача 3\n",
        "\n",
        "В тази задача ще направим мини-framework за чертане на UI в конзолата.\n",
        "\n",
        "С цел той да бъде декларативен и лесно композируем, всички елементи трябва да имат метод `render()`, който да връща `str` със съдържанието на елемента.\n",
        "\n",
        "Различните елементи могат да биват:\n",
        "\n",
        "* `Spacer(length=1)`: празно място с дадена дължина (`length` на брой интервали)\n",
        "* `Line(length, symbol=\"-\")`: ред от символи с дадена дължина (примерно `Line(10).render()` трябва да върне `\"----------\"`)\n",
        "* `Text(text)`: текст със съдържание `text`\n",
        "* `FancyText(text, symbol=\"=\")`: текст със съдържание `text`, между всeки символ на който има сложен `symbol`, както и в началото и в края му (примерно `FancyText(\"Hello\").render()` трябва да върне `\"=H=e=l=l=o=\"`)\n",
        "* `HorizontalStack(*elements)`: елементи, подредени един до друг в ред (слепени на реда / разделени чрез \"\") (примерно `HorizontalStack(Text(\"Hello\"), Line(3), Text(\"World\")).render()` трябва да върне `\"Hello---World\"`)\n",
        "* `VerticalStack(*elements)`: елементи, подредени един под друг (разделени чрез симвла за празен ред) (примерно `VerticalStack(Text(\"Hello\"), Line(3), Text(\"World\")).render()` трябва да върне `\"Hello\\n---\\nWorld\"`)\n",
        "* `Box(width, *elements)`: елемент, който е като `VerticalStack`, с разликата че:\n",
        "    * преди и след `elements` добавя `HorizontalStack(Text(\"+\"), Line(width - 2, symbol=\"=\"), Text(\"+\"))`\n",
        "    * всеки ред е с дължина `width` и започва и завършва с `\"|\"`, т.е. при `render()`-ването на всеки елемент от `elements` добавя `Text(\"|\")` в началото и в края на реда. В случай, че дължината на реда е повече от `width` отрязва излишъка от подадения елемент, a в случай, че дължината е по-малка - добавя `Spacer` след елемента с дължина `width - len(element.render()) - 2`.\n",
        "* `ProgressBar(length, progress)`: прогрес бар с дължина `length` символа и коефициент на запълване `progress` ($ \\in [0, 1] $) (примерно `ProgressBar(10, 0.5).render()` трябва да върне `\"[====----]\"`)\n",
        "\n",
        "Добавяйте каквито прецените други класове и методи към тях.\n",
        "\n",
        "#### Пример\n",
        "\n",
        "```python\n",
        "ui = Box(19,\n",
        "    FancyText(\"WELCOME!\"),\n",
        "    Spacer(),\n",
        "    Text(\"Loading packages:THIS SHOULD NOT BE SHOWN IN THE BOX\"),\n",
        "    HorizontalStack(\n",
        "        Line(3),\n",
        "        Spacer(),\n",
        "        Text(\"cowsay\")\n",
        "    ),\n",
        "    HorizontalStack(\n",
        "        Line(3),\n",
        "        Spacer(),\n",
        "        Text(\"lolcat\")\n",
        "    ),\n",
        "    HorizontalStack(\n",
        "        Line(3, symbol=\">\"),\n",
        "        Spacer(),\n",
        "        Text(\"whoami\"),\n",
        "        Text(\"...\")\n",
        "    ),\n",
        "    Spacer(),\n",
        "    HorizontalStack(\n",
        "        Spacer(),\n",
        "        ProgressBar(15, 0.4),\n",
        "        Spacer()\n",
        "    )\n",
        ")\n",
        "\n",
        "print(ui.render())\n",
        "```\n",
        "\n",
        "Изход:\n",
        "```\n",
        "+=================+\n",
        "|=W=E=L=C=O=M=E=!=|\n",
        "|                 |\n",
        "|Loading packages:|\n",
        "|--- cowsay       |\n",
        "|--- lolcat       |\n",
        "|>>> whoami...    |\n",
        "|                 |\n",
        "| [======-------] |\n",
        "+=================+\n",
        "```"
      ]
    }
  ],
  "metadata": {
    "colab": {
      "include_colab_link": true,
      "provenance": []
    },
    "kernelspec": {
      "display_name": "Python 3 (ipykernel)",
      "language": "python",
      "name": "python3"
    },
    "language_info": {
      "codemirror_mode": {
        "name": "ipython",
        "version": 3
      },
      "file_extension": ".py",
      "mimetype": "text/x-python",
      "name": "python",
      "nbconvert_exporter": "python",
      "pygments_lexer": "ipython3",
      "version": "3.10.6"
    },
    "vscode": {
      "interpreter": {
        "hash": "b0fa6594d8f4cbf19f97940f81e996739fb7646882a419484c72d19e05852a7e"
      }
    }
  },
  "nbformat": 4,
  "nbformat_minor": 0
}
