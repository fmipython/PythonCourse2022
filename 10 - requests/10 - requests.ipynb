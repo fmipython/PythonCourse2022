{
 "cells": [
  {
   "cell_type": "markdown",
   "metadata": {},
   "source": [
    "# `requests`"
   ]
  },
  {
   "cell_type": "markdown",
   "metadata": {},
   "source": [
    "## HTTP  "
   ]
  },
  {
   "cell_type": "markdown",
   "metadata": {},
   "source": [
    "Hyper-text Transfer Protocol е протокол за трансфер на информация (в приложния слой на [OSI](https://www.youtube.com/watch?v=mRuSoU_Pw4o) модела), който е стандарт за комуникация в мрежата."
   ]
  },
  {
   "cell_type": "markdown",
   "metadata": {},
   "source": [
    "Версии:\n",
    "* HTTP/1 - от 1996г.\n",
    "* HTTP/2 - от 2015г.\n",
    "* HTTP/3 - от 2022г."
   ]
  },
  {
   "cell_type": "markdown",
   "metadata": {},
   "source": [
    "Примерна HTTP заявка:\n",
    "\n",
    "```http\n",
    "GET / HTTP/1.1\n",
    "Host: www.example.com\n",
    "User-Agent: Mozilla/5.0\n",
    "Accept: text/html,application/xhtml+xml,application/xml;q=0.9,image/avif,image/webp,*/*;q=0.8\n",
    "Accept-Language: en-GB,en;q=0.5\n",
    "Accept-Encoding: gzip, deflate, br\n",
    "Connection: keep-alive\n",
    "```\n",
    "\n",
    "Винаги първия ред е във формат `{HTTP метода} {URI} HTTP/{версия}`. В случая искаме да вземем ресурсът, намиращ се на `/` (т.е. root-a на example.com) с GET метода.\n",
    "\n",
    "След него на всеки ред стои 1 хедър (заглавие) във формат `{име}: {стойност}`"
   ]
  },
  {
   "cell_type": "markdown",
   "metadata": {},
   "source": [
    "Примерен HTTP отговор на заявка:"
   ]
  },
  {
   "cell_type": "markdown",
   "metadata": {},
   "source": [
    "```http\n",
    "HTTP/1.1 200 OK\n",
    "Date: Mon, 23 May 2005 22:38:34 GMT\n",
    "Content-Type: text/html; charset=UTF-8\n",
    "Content-Length: 155\n",
    "Last-Modified: Wed, 08 Jan 2003 23:11:55 GMT\n",
    "Server: Apache/1.3.3.7 (Unix) (Red-Hat/Linux)\n",
    "ETag: \"3f80f-1b6-3e1cb03b\"\n",
    "Accept-Ranges: bytes\n",
    "Connection: close\n",
    "\n",
    "<html>\n",
    "  <head>\n",
    "    <title>An Example Page</title>\n",
    "  </head>\n",
    "  <body>\n",
    "    <p>Hello World, this is a very simple HTML document.</p>\n",
    "  </body>\n",
    "</html>\n",
    "```\n",
    "\n",
    "Пърият ред винаги е във формат `HTTP/{версия} {статус код} {има на статус кода}. В случая той е \"200 OK\". (лист с всички кодове: [тук](https://http.cat))\n",
    "\n",
    "След това са хедърите, след които има празен ред и започва тялото на отговора. В случая това е HTML страница, \"намираща\" се на example.com."
   ]
  },
  {
   "cell_type": "markdown",
   "metadata": {},
   "source": [
    "### Методи\n",
    "\n",
    "* GET (взимане на ресурс) (заявката *може да няма* тяло)\n",
    "* POST (изпращане на ресурс) (заявката *има* тяло)\n",
    "* PUT (заменяне на ресурс) (заявката *има* тяло)\n",
    "* PATCH (промяна на част от ресурс) (заявката *има* тяло)\n",
    "* DELETE (изтриване на ресурс) (заявката *може да няма* тяло)\n",
    "* HEAD (взимане само на хедърите на ресурс (като GET, но без върнато тяло))\n",
    "* OPTIONS (взимане на методите, поддържани от ресурса) (заявката *може да няма* тяло)"
   ]
  },
  {
   "cell_type": "markdown",
   "metadata": {},
   "source": [
    "###  Статус кодове\n",
    "\n",
    "* 200 - 299: Успешно изпълнена заявка\n",
    "* 300 - 399: Пренасочване\n",
    "* 400 - 499: Грешка на клиента\n",
    "* 500 - 599: Грешка на сървъра\n",
    "\n",
    "[лист с всички](https://en.wikipedia.org/wiki/List_of_HTTP_status_codes)\n"
   ]
  },
  {
   "cell_type": "markdown",
   "metadata": {},
   "source": [
    "## Добавяне на `requests`\n",
    "\n",
    "Библиотеката `requests` не е вградена в езика (repo: https://github.com/psf/requests), затова трябва да се инсталира допълнително. \n",
    "\n",
    "Чрез package manager-a [`pip`](https://pip.pypa.io/en/stable/installation/) това става с командата:\n",
    "\n",
    "```bash\n",
    "pip install requests  # sometimes pip3 is the right one though\n",
    "```"
   ]
  },
  {
   "cell_type": "code",
   "execution_count": 2,
   "metadata": {},
   "outputs": [
    {
     "name": "stdout",
     "output_type": "stream",
     "text": [
      "Collecting requests\n",
      "  Downloading requests-2.28.1-py3-none-any.whl (62 kB)\n",
      "\u001b[2K     \u001b[38;2;114;156;31m━━━━━━━━━━━━━━━━━━━━━━━━━━━━━━━━━━━━━━━━\u001b[0m \u001b[32m62.8/62.8 kB\u001b[0m \u001b[31m1.2 MB/s\u001b[0m eta \u001b[36m0:00:00\u001b[0m[36m0:00:01\u001b[0m\n",
      "\u001b[?25hCollecting idna<4,>=2.5\n",
      "  Downloading idna-3.4-py3-none-any.whl (61 kB)\n",
      "\u001b[2K     \u001b[38;2;114;156;31m━━━━━━━━━━━━━━━━━━━━━━━━━━━━━━━━━━━━━━━━\u001b[0m \u001b[32m61.5/61.5 kB\u001b[0m \u001b[31m1.6 MB/s\u001b[0m eta \u001b[36m0:00:00\u001b[0m\n",
      "\u001b[?25hCollecting urllib3<1.27,>=1.21.1\n",
      "  Downloading urllib3-1.26.13-py2.py3-none-any.whl (140 kB)\n",
      "\u001b[2K     \u001b[38;2;114;156;31m━━━━━━━━━━━━━━━━━━━━━━━━━━━━━━━━━━━━━━━\u001b[0m \u001b[32m140.6/140.6 kB\u001b[0m \u001b[31m2.6 MB/s\u001b[0m eta \u001b[36m0:00:00\u001b[0m[31m4.5 MB/s\u001b[0m eta \u001b[36m0:00:01\u001b[0m\n",
      "\u001b[?25hCollecting certifi>=2017.4.17\n",
      "  Downloading certifi-2022.9.24-py3-none-any.whl (161 kB)\n",
      "\u001b[2K     \u001b[38;2;114;156;31m━━━━━━━━━━━━━━━━━━━━━━━━━━━━━━━━━━━━━━━\u001b[0m \u001b[32m161.1/161.1 kB\u001b[0m \u001b[31m3.0 MB/s\u001b[0m eta \u001b[36m0:00:00\u001b[0m MB/s\u001b[0m eta \u001b[36m0:00:01\u001b[0m\n",
      "\u001b[?25hCollecting charset-normalizer<3,>=2\n",
      "  Downloading charset_normalizer-2.1.1-py3-none-any.whl (39 kB)\n",
      "Installing collected packages: urllib3, idna, charset-normalizer, certifi, requests\n",
      "Successfully installed certifi-2022.9.24 charset-normalizer-2.1.1 idna-3.4 requests-2.28.1 urllib3-1.26.13\n"
     ]
    }
   ],
   "source": [
    "!pip install requests"
   ]
  }
 ],
 "metadata": {
  "kernelspec": {
   "display_name": "Python 3.10.6 64-bit",
   "language": "python",
   "name": "python3"
  },
  "language_info": {
   "codemirror_mode": {
    "name": "ipython",
    "version": 3
   },
   "file_extension": ".py",
   "mimetype": "text/x-python",
   "name": "python",
   "nbconvert_exporter": "python",
   "pygments_lexer": "ipython3",
   "version": "3.10.6"
  },
  "orig_nbformat": 4,
  "vscode": {
   "interpreter": {
    "hash": "b0fa6594d8f4cbf19f97940f81e996739fb7646882a419484c72d19e05852a7e"
   }
  }
 },
 "nbformat": 4,
 "nbformat_minor": 2
}
