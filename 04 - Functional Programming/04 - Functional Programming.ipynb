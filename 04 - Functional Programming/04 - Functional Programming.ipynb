{
 "cells": [
  {
   "cell_type": "markdown",
   "metadata": {
    "colab_type": "text",
    "id": "view-in-github"
   },
   "source": [
    "<a href=\"https://colab.research.google.com/github/fmipython/PythonCourse2022/blob/main/04%20-%20Functional%20Programming/04%20-%20Functional%20Programming.ipynb\" target=\"_parent\"><img src=\"https://colab.research.google.com/assets/colab-badge.svg\" alt=\"Open In Colab\"/></a>"
   ]
  },
  {
   "cell_type": "markdown",
   "metadata": {
    "collapsed": false,
    "id": "xGnJO5kKpFgT"
   },
   "source": [
    "# Функционално програмиране с Python\n",
    "План на лекцията:\n",
    "- Какво е функционално програмиране ?\n",
    "- Immutability & side-effects\n",
    "- Функции като обекти\n",
    "- Декоратори\n",
    "- Анонимни (lambda) функции\n",
    "- Lazy evaluation\n",
    "- Generators\n",
    "- Map\n",
    "- Filter\n",
    "- Reduce\n",
    "- Zip\n",
    "- List comprehension\n",
    "- Скорост\n",
    "- Dict comprehension\n",
    "- Примери"
   ]
  },
  {
   "cell_type": "markdown",
   "metadata": {
    "id": "egnOPBZddRFY"
   },
   "source": [
    "## Какво е функционално програмиране ?"
   ]
  },
  {
   "cell_type": "markdown",
   "metadata": {
    "id": "fsNd_ZAbN8YZ"
   },
   "source": [
    "Функционалното програмиране е парадигма в програмирането, фокусираща се върху използването на функции. В езиците за функционално програмиране, функциите могат да се третират като обекти. Друга особенност на функционалното програмиране (или поне в чистата му форма), е липсата на състояние (а и от там, липсата на променливи в традиционния смисъл). В повечето езици за функционално програмиране липсват и класове. \n",
    "\n",
    "Основни концепции във функционалното програмиране:\n",
    "- Функции като обекти\n",
    "- Функции от по-висок ред\n",
    "- \"Чисти\" функции\n",
    "- Рекурсия \n",
    "\n",
    "Примери за езици, които следват единствено функционалната парадигма са Scheme, Haskell, Lisp.\n",
    "\n",
    "В повечето модерни езици за програмиране могат да се открият елементи от функционалното програмиране - Python не е изключение. \n"
   ]
  },
  {
   "cell_type": "markdown",
   "metadata": {
    "collapsed": false,
    "id": "kYufvX6mpFga"
   },
   "source": [
    "## Immutability и странични ефекти"
   ]
  },
  {
   "cell_type": "markdown",
   "metadata": {
    "id": "-xRYz814dNyM"
   },
   "source": [
    "### Накратко за mutable/immutable\n",
    "По дефиниция, една променлива е `mutable`, ако можем да променим стойността ѝ, след като е създадена. Съответно `immutable` променлива, е променлива, на която не можем да променяме стойността. На практика, това означава, че стойността на една `immutable` променлива може да бъде задедена, само при създаването на променливата. \n",
    "\n",
    "В езици като C++ или Java, това е еквивалентно на дефинирането на променлива като константа. Тогава стойността ѝ е ясна по време на компилация."
   ]
  },
  {
   "cell_type": "markdown",
   "metadata": {
    "id": "7vc_Oi08VxZy"
   },
   "source": [
    "### Накратко за страничните ефекти\n",
    "Страничен ефект е когато променим състоянието на някоя променлива от дадена функция. Например нека разгледаме следната функция"
   ]
  },
  {
   "cell_type": "code",
   "execution_count": null,
   "metadata": {
    "colab": {
     "base_uri": "https://localhost:8080/"
    },
    "id": "PsuJFGreVyvx",
    "outputId": "75deb6bf-b674-4015-b2f1-72b0fdc3c137"
   },
   "outputs": [
    {
     "name": "stdout",
     "output_type": "stream",
     "text": [
      "[5]\n",
      "[5, 5]\n"
     ]
    }
   ],
   "source": [
    "def add_to_list(l):\n",
    "    l.append(5)\n",
    "\n",
    "l = []\n",
    "\n",
    "add_to_list(l)\n",
    "print(l)\n",
    "\n",
    "add_to_list(l)\n",
    "print(l)"
   ]
  },
  {
   "cell_type": "markdown",
   "metadata": {
    "id": "DTZ09qM4WFHR"
   },
   "source": [
    "Тази функция, променя стойността на подадения аргумент `l`. Казваме, че тази функция съдържа страничен ефект. \n",
    "\n",
    "Страничните ефекти са силно използвани в обектно-ориентираното и процедурното програмиране, за разлика от функционалното програмиране. Както по-горе споменахме, в класическите езици за функционално програмиране, липсват променливи в познатия ни вид. Там можем да присвоим име на дадена стойност, без да я променяме повече. \n",
    "\n",
    "Функции, които не променят стойностите на променливи, се наричат \"чисти\". Във функционалното програмиране (а и не само), е прието всички функции да са чисти."
   ]
  },
  {
   "cell_type": "markdown",
   "metadata": {
    "id": "OMjzKi-IXKUP"
   },
   "source": [
    "Можем да променим нашата функция `add` по следния начин, за да стане чиста:"
   ]
  },
  {
   "cell_type": "code",
   "execution_count": null,
   "metadata": {
    "colab": {
     "base_uri": "https://localhost:8080/"
    },
    "id": "-ia4zGeaXT0p",
    "outputId": "ada366a7-cd92-46f8-b314-72bb9afc18a4"
   },
   "outputs": [
    {
     "name": "stdout",
     "output_type": "stream",
     "text": [
      "[5]\n",
      "[5]\n"
     ]
    }
   ],
   "source": [
    "def add_to_list(l):\n",
    "    return l + [5]\n",
    "\n",
    "l = []\n",
    "\n",
    "l1 = add_to_list(l)\n",
    "print(l1)\n",
    "\n",
    "l2 = add_to_list(l)\n",
    "print(l2)\n",
    "\n",
    "print(l)"
   ]
  },
  {
   "cell_type": "markdown",
   "metadata": {
    "collapsed": false,
    "id": "O30koGZqpFgd"
   },
   "source": [
    "## Функции, като обекти\n"
   ]
  },
  {
   "cell_type": "markdown",
   "metadata": {
    "id": "8V_qf0oWXjr7"
   },
   "source": [
    "В Python, функциите са т.нар. \"first-class objects\" - което на български може да се преведе като \"първокласни обекти\". А ако трябва да го обясним с прости думи, функциите могат да се третират като \"нормалните\" типове - числа, низове и т.н. Това означава, че можем да ги използваме като променливи - да им даваме имена, да ги подаваме към аргументи на други функции, да ги връщаме като резултат от функции и да ги пазим в колекции."
   ]
  },
  {
   "cell_type": "code",
   "execution_count": null,
   "metadata": {
    "colab": {
     "base_uri": "https://localhost:8080/"
    },
    "id": "lNDEISDjYwwd",
    "outputId": "629119c7-d6c0-41fc-b5e4-8b9974408df8"
   },
   "outputs": [
    {
     "name": "stdout",
     "output_type": "stream",
     "text": [
      "6\n"
     ]
    }
   ],
   "source": [
    "def multiply(a, b):\n",
    "    return a * b\n",
    "\n",
    "f = multiply\n",
    "\n",
    "print(f(2, 3))"
   ]
  },
  {
   "cell_type": "markdown",
   "metadata": {
    "id": "A1Iwlc68ZDYJ"
   },
   "source": [
    "Важно е да направим разлика между `f = multiply` и `f = multiply()`. Макар и разликата да е малка синтактично, поведението на двата реда е различно. Първото извикване **присвоява функцията** към променливата `f`, докато второто **присвоява резултата от извикването** на функцията.  \n",
    "\n",
    "Когато присвоим цялата функция (може да си го представяме като function pointer в C++), можем да ползваме функцията като нормална променлива:"
   ]
  },
  {
   "cell_type": "code",
   "execution_count": null,
   "metadata": {
    "colab": {
     "base_uri": "https://localhost:8080/"
    },
    "id": "4PHaO7XnaiPN",
    "outputId": "b5cc2167-df97-483d-d9b0-dc194aad1dac"
   },
   "outputs": [
    {
     "name": "stdout",
     "output_type": "stream",
     "text": [
      "Applying a function to 2 and 3\n",
      "5\n",
      "Applying a function to 2 and 3\n",
      "6\n"
     ]
    }
   ],
   "source": [
    "def multiply(a, b):\n",
    "    return a * b\n",
    "\n",
    "def sum_(a, b):\n",
    "    return a + b\n",
    "\n",
    "\n",
    "def apply_to_numbers(a, b, f):\n",
    "    print(f'Applying a function to {a} and {b}')\n",
    "    return f(a, b)\n",
    "\n",
    "print(apply_to_numbers(2, 3, sum_))\n",
    "print(apply_to_numbers(2, 3, multiply))"
   ]
  },
  {
   "cell_type": "markdown",
   "metadata": {
    "id": "-dYxZBtxcnNU"
   },
   "source": [
    "А можем и да връщаме функция като резултат от друга функция:"
   ]
  },
  {
   "cell_type": "code",
   "execution_count": null,
   "metadata": {
    "colab": {
     "base_uri": "https://localhost:8080/"
    },
    "id": "GHE3Gt71csq8",
    "outputId": "2d411a32-2583-4c8b-b6fd-b6728976d623"
   },
   "outputs": [
    {
     "name": "stdout",
     "output_type": "stream",
     "text": [
      "Foo called\n"
     ]
    }
   ],
   "source": [
    "def foo():\n",
    "    print(\"Foo called\")\n",
    "\n",
    "def bar():\n",
    "    return foo\n",
    "\n",
    "f = bar()\n",
    "f()"
   ]
  },
  {
   "cell_type": "markdown",
   "metadata": {
    "id": "OhSJcNCXc4qy"
   },
   "source": [
    "В тялото на една функция, можем да дефинираме друга функция, която да върнем:"
   ]
  },
  {
   "cell_type": "code",
   "execution_count": null,
   "metadata": {
    "colab": {
     "base_uri": "https://localhost:8080/"
    },
    "id": "2l3fNkMXc13X",
    "outputId": "f5150be0-3a1f-4c54-be3d-f3c41cb39db1"
   },
   "outputs": [
    {
     "name": "stdout",
     "output_type": "stream",
     "text": [
      "Bar called\n"
     ]
    }
   ],
   "source": [
    "def foo():\n",
    "    def bar():\n",
    "        print(\"Bar called\")\n",
    "    \n",
    "    return bar\n",
    "\n",
    "f = foo()\n",
    "f() "
   ]
  },
  {
   "cell_type": "markdown",
   "metadata": {
    "id": "vOn59wWXdUPY"
   },
   "source": [
    "Това, че функциите са обекти, ни позволява да правим интересни неща - например, можем да направим проста функция, която да използваме за logging."
   ]
  },
  {
   "cell_type": "code",
   "execution_count": null,
   "metadata": {
    "colab": {
     "base_uri": "https://localhost:8080/"
    },
    "id": "2JPtNIWQdiI_",
    "outputId": "d4ad2039-12cc-41b2-bfb0-c1271bc2f816"
   },
   "outputs": [
    {
     "name": "stdout",
     "output_type": "stream",
     "text": [
      "Calling <function add at 0x7f2c9d108320> with (2, 3) and {}\n",
      "5\n"
     ]
    }
   ],
   "source": [
    "def log_and_run(f, args=(), kwargs={}):\n",
    "    print(f'Calling {f} with {args} and {kwargs}')\n",
    "    return f(*args, **kwargs)\n",
    "\n",
    "def add(a, b):\n",
    "    return a + b\n",
    "\n",
    "print(log_and_run(add, (2, 3)))"
   ]
  },
  {
   "cell_type": "markdown",
   "metadata": {
    "id": "LBQrvrKpeesi"
   },
   "source": [
    "Припомням, че `args` съдържа позиционните аргументи и е от тип `Tuple`, а `kwargs` съдържа keyword аргументите и е от тип `dict`."
   ]
  },
  {
   "cell_type": "markdown",
   "metadata": {
    "id": "f-2IExhre-Ov"
   },
   "source": [
    "Освен като аргументи и резултат, функциите могат да се пазят и в колекции (списъци, речници, т.н.):"
   ]
  },
  {
   "cell_type": "code",
   "execution_count": null,
   "metadata": {
    "colab": {
     "base_uri": "https://localhost:8080/"
    },
    "id": "t0I6mmI5fEqq",
    "outputId": "a3db54b7-b262-4baf-af1e-9b45ecf195b1"
   },
   "outputs": [
    {
     "name": "stdout",
     "output_type": "stream",
     "text": [
      "Enter a number: 2\n",
      "Enter an operation (+, -, * or /)+\n",
      "Enter a number: 3\n",
      "2 + 3 = 5\n"
     ]
    }
   ],
   "source": [
    "def add(a, b):\n",
    "    return a + b\n",
    "\n",
    "def subtract(a, b):\n",
    "    return a - b\n",
    "\n",
    "def multiply(a, b):\n",
    "    return a * b\n",
    "\n",
    "def divide(a, b):\n",
    "    return a / b\n",
    "\n",
    "actions = {\n",
    "    '+': add,\n",
    "    '-': subtract,\n",
    "    '*': multiply,\n",
    "    '/': divide\n",
    "}\n",
    "\n",
    "first = input('Enter a number: ')\n",
    "operation = input('Enter an operation (+, -, * or /)')\n",
    "second = input('Enter a number: ')\n",
    "\n",
    "if operation not in actions:\n",
    "    print('Operation not supported')\n",
    "else:\n",
    "    if not first.isnumeric() or not second.isnumeric():\n",
    "        print('Input is not a number')\n",
    "    else:\n",
    "        first = int(first)\n",
    "        second = int(second)\n",
    "\n",
    "        result = actions[operation](first, second)\n",
    "        print(f'{first} {operation} {second} = {result}')\n"
   ]
  },
  {
   "cell_type": "markdown",
   "metadata": {
    "id": "V0akTWPMDDTj"
   },
   "source": [
    "## Декоратори"
   ]
  },
  {
   "cell_type": "markdown",
   "metadata": {
    "id": "FwuzabXI8nbD"
   },
   "source": [
    "Една от по-интересните функционалности на Python са т.нар. декоратори (decorators). Всъщност, ние вече видяхме как се пише декоратор и как работи - нека се върнем на примера от по-горе с `log_and_run`:"
   ]
  },
  {
   "cell_type": "code",
   "execution_count": null,
   "metadata": {
    "colab": {
     "base_uri": "https://localhost:8080/"
    },
    "id": "dDgfp7RE9YTQ",
    "outputId": "64afde38-b780-4d92-fe96-566839557943"
   },
   "outputs": [
    {
     "name": "stdout",
     "output_type": "stream",
     "text": [
      "Calling <function add at 0x7f2c9d0b7170> with (2, 3) and {}\n",
      "5\n"
     ]
    }
   ],
   "source": [
    "def log_and_run(f, args=(), kwargs={}):\n",
    "    print(f'Calling {f} with {args} and {kwargs}')\n",
    "    return f(*args, **kwargs)\n",
    "\n",
    "def add(a, b):\n",
    "    return a + b\n",
    "\n",
    "print(log_and_run(add, (2, 3)))"
   ]
  },
  {
   "cell_type": "markdown",
   "metadata": {
    "id": "YyZvOMcn9eyZ"
   },
   "source": [
    "Това изглежда леко грозно, да трябва да извикваме `log_and_run` вместо функцията, която всъщност искаме да извикаме. Ако добавим функции за изваждане, умножение и деление, всяко извикване ще трябва да преминава през `log_and_run`. \n",
    "\n",
    "А няма ли по-лесен начин с който да кажем - нека преди изпълнението на нашата функция `f1`, да се изпълни функция `f` (Както преди `add` се изпълнява `log_and_run`) ?"
   ]
  },
  {
   "cell_type": "markdown",
   "metadata": {
    "id": "_GRsD2OR-zeB"
   },
   "source": [
    "Преди да разгледаме как точно се прави декоратор функция в Python, нека всъщност разберем какво искаме да постигнем:\n",
    "1. Искаме да приемем функция (нека я кръстим `g`), която да изпълним\n",
    "2. Преди да изпълним `g`, искаме да изпълним някакви други действия (нека те са събрани във функцията `f`\n",
    "3. Искаме да върнем нова функция (нека да я кръстим `h`), която първо да изпълни `f`, а после `g`.\n",
    "\n",
    "Нека първо се фокусираме върху 1 и 2 :"
   ]
  },
  {
   "cell_type": "code",
   "execution_count": null,
   "metadata": {
    "colab": {
     "base_uri": "https://localhost:8080/"
    },
    "id": "B9KcFESh_ZRe",
    "outputId": "a175c2a5-9ed5-4f27-a686-a765b59269b2"
   },
   "outputs": [
    {
     "name": "stdout",
     "output_type": "stream",
     "text": [
      "Hello\n",
      "bye\n"
     ]
    }
   ],
   "source": [
    "def pseudo_decorator(f, g):\n",
    "    f()\n",
    "    g()\n",
    "\n",
    "\n",
    "def print_hello():\n",
    "    print(\"Hello\")\n",
    "\n",
    "def print_bye():\n",
    "    print(\"Bye\")\n",
    "\n",
    "\n",
    "pseudo_decorator(print_hello, print_bye)"
   ]
  },
  {
   "cell_type": "markdown",
   "metadata": {
    "id": "WhzNMPC6_8n-"
   },
   "source": [
    "Нека променим поведението на `pseudo_decorator` от това просто да изпълнява `f` и `g` към това да връща нова функция, която да изпълнява `f` и `g`"
   ]
  },
  {
   "cell_type": "code",
   "execution_count": null,
   "metadata": {
    "colab": {
     "base_uri": "https://localhost:8080/"
    },
    "id": "4SwNR2GOAHCe",
    "outputId": "fe7798a5-6a11-4314-b111-a10700f9a642"
   },
   "outputs": [
    {
     "name": "stdout",
     "output_type": "stream",
     "text": [
      "Hello\n",
      "bye\n"
     ]
    }
   ],
   "source": [
    "def pseudo_decorator(f, g):\n",
    "    def inner():\n",
    "        f()\n",
    "        g()\n",
    "    return inner\n",
    "\n",
    "\n",
    "def print_hello():\n",
    "    print(\"Hello\")\n",
    "\n",
    "def print_bye():\n",
    "    print(\"bye\")\n",
    "\n",
    "\n",
    "f = pseudo_decorator(print_hello, print_bye)\n",
    "f()"
   ]
  },
  {
   "cell_type": "markdown",
   "metadata": {
    "id": "X1U1mgNkATgB"
   },
   "source": [
    "Почти сме до истинските декоратори. За съжаление, следващата част е възможна заради малко синтактична захар. \n",
    "\n",
    "Основната идея е, че искаме да вземем нашата функция `g` и да я заместим с резултата от `pseudo_decorator`, без да се налага реално да извикваме `pseudo_decorator`. С цел опростяване, ще приемем, че `f` е просто принтиране. "
   ]
  },
  {
   "cell_type": "code",
   "execution_count": null,
   "metadata": {
    "colab": {
     "base_uri": "https://localhost:8080/"
    },
    "id": "zyP_F2Z0-ORT",
    "outputId": "6549d473-61cb-42a0-d701-762553223342"
   },
   "outputs": [
    {
     "name": "stdout",
     "output_type": "stream",
     "text": [
      "Hello\n",
      "bye\n"
     ]
    }
   ],
   "source": [
    "def print_decorator(g):\n",
    "    def inner():\n",
    "        print(\"Hello\")\n",
    "        g()\n",
    "    return inner\n",
    "\n",
    "@print_decorator\n",
    "def print_bye():\n",
    "    print(\"bye\")\n",
    "\n",
    "print_bye()"
   ]
  },
  {
   "cell_type": "markdown",
   "metadata": {
    "id": "uI0ZbAhDBFbH"
   },
   "source": [
    "С помощта на `@`, последвано от функция, която връща друга функция, ние можем да \"декорираме\" всяка функция в Python.\n",
    "\n",
    "Това, което се случва в случая е, че взимаме `print_bye` като първи аргумент на `print_decorator` и изпълняваме `print_decorator`. Тя от своя страна ни връща нова функция, която принтира \"Hello\" и след това изпълнява подадената от нас функция. \n",
    "\n",
    "Обяснено още по-просто: При извикване на `print_bye`, всъщност ще се извика `print_decorator` с аргумент `print_bye`. "
   ]
  },
  {
   "cell_type": "markdown",
   "metadata": {
    "id": "SF7tqeq1BtZx"
   },
   "source": [
    "Нека използваме този нов подход върху примера с `log_and_run` (която ще преименуваме само на `log`)"
   ]
  },
  {
   "cell_type": "code",
   "execution_count": null,
   "metadata": {
    "colab": {
     "base_uri": "https://localhost:8080/"
    },
    "id": "7Oy92EMgCHcz",
    "outputId": "33775192-f5f4-4823-b32d-911cd0bfb39a"
   },
   "outputs": [
    {
     "name": "stdout",
     "output_type": "stream",
     "text": [
      "Calling <function add at 0x7f2c9d0be440> with (2, 3) and {}\n",
      "5\n"
     ]
    }
   ],
   "source": [
    "def log(f):\n",
    "    def inner(*args, **kwargs):\n",
    "        print(f'Calling {f} with {args} and {kwargs}')\n",
    "        return f(*args, **kwargs)\n",
    "    return inner\n",
    "\n",
    "@log\n",
    "def add(a, b):\n",
    "    return a + b\n",
    "\n",
    "print(add(2, 3))"
   ]
  },
  {
   "cell_type": "markdown",
   "metadata": {
    "id": "0wNmuckDDAmW"
   },
   "source": [
    "Сега ако добавим нови методи за изваждане, умножение и деление, можем лесно да се използваме от `log`, без да се налага да променяме начина им на извикване:"
   ]
  },
  {
   "cell_type": "code",
   "execution_count": null,
   "metadata": {
    "colab": {
     "base_uri": "https://localhost:8080/"
    },
    "id": "Tc2Q4b8-DL_A",
    "outputId": "bb364bde-a692-4af5-d552-9929d17de290"
   },
   "outputs": [
    {
     "name": "stdout",
     "output_type": "stream",
     "text": [
      "Calling <function add at 0x7f2c9d0be170> with (2, 3) and {}\n",
      "5\n",
      "Calling <function subtract at 0x7f2c9d0be440> with (3, 1) and {}\n",
      "2\n",
      "Calling <function multiply at 0x7f2c9d0bedd0> with (1.5,) and {'b': 3}\n",
      "4.5\n",
      "Calling <function divide at 0x7f2c9d0bef80> with () and {'a': 12, 'b': 6}\n",
      "2.0\n"
     ]
    }
   ],
   "source": [
    "def log(f):\n",
    "    def inner(*args, **kwargs):\n",
    "        print(f'Calling {f} with {args} and {kwargs}')\n",
    "        return f(*args, **kwargs)\n",
    "    return inner\n",
    "\n",
    "@log\n",
    "def add(a, b):\n",
    "    return a + b\n",
    "\n",
    "@log \n",
    "def subtract(a, b):\n",
    "    return a - b\n",
    "\n",
    "@log\n",
    "def multiply(a, b):\n",
    "    return a * b\n",
    "\n",
    "@log\n",
    "def divide(a, b):\n",
    "    return a / b\n",
    "\n",
    "print(add(2, 3))\n",
    "print(subtract(3, 1))\n",
    "print(multiply(1.5, b=3))\n",
    "print(divide(a=12, b=6))"
   ]
  },
  {
   "cell_type": "markdown",
   "metadata": {
    "id": "pJME6BdrDzvH"
   },
   "source": [
    "Друг пример за декоратор може да бъде декоратор, който измерва времето за изпълнение на функция:"
   ]
  },
  {
   "cell_type": "code",
   "execution_count": null,
   "metadata": {
    "colab": {
     "base_uri": "https://localhost:8080/"
    },
    "id": "6X2Mut_cD4dX",
    "outputId": "98eecdc9-7a86-47a4-94f0-6e50fb2cb7b2"
   },
   "outputs": [
    {
     "name": "stdout",
     "output_type": "stream",
     "text": [
      "<function slow_function at 0x7f2c9d0c4950> took 1.56 second\n"
     ]
    }
   ],
   "source": [
    "import time\n",
    "\n",
    "def time_it(f):\n",
    "    def inner(*args, **kwargs):\n",
    "        start = time.time()\n",
    "        result = f(*args, **kwargs)\n",
    "        end = time.time()\n",
    "        print(f'{f} took {end - start:.2f} second')\n",
    "    return inner\n",
    "\n",
    "@time_it\n",
    "def slow_function(a):\n",
    "    return (a ** a) ** a\n",
    "\n",
    "slow_function(1000)"
   ]
  },
  {
   "cell_type": "markdown",
   "metadata": {
    "id": "eHB4eyy0C0uX"
   },
   "source": [
    "## Анонимни (lambda) функции"
   ]
  },
  {
   "cell_type": "markdown",
   "metadata": {
    "id": "G1eX5BdWz2so"
   },
   "source": [
    "Lambda функции идват от т.нар ламбда смятане (lambda calculus) и изразяват изпълнението на дадени изчисления върху дадени стойности. Няма да навлизаме в математическите доказателства и формализми. Lambda функциите са анонимни функции - т.е. не се дефинират с `def` и без да е необходимо да им се дава име. \n",
    "\n",
    "Всяка ламбда функция има две основни части - входни променливи и един израз (expression). В Python, ламбда функциите се дефинират с ключовата дума `lambda`"
   ]
  },
  {
   "cell_type": "code",
   "execution_count": null,
   "metadata": {
    "colab": {
     "base_uri": "https://localhost:8080/"
    },
    "id": "VeTYRAclB3j2",
    "outputId": "51a8fdc2-919c-49cb-cfa6-36410c2f3e7b"
   },
   "outputs": [
    {
     "data": {
      "text/plain": [
       "<function __main__.<lambda>(x)>"
      ]
     },
     "execution_count": 16,
     "metadata": {},
     "output_type": "execute_result"
    }
   ],
   "source": [
    "lambda x: x + 1"
   ]
  },
  {
   "cell_type": "markdown",
   "metadata": {
    "id": "WK_0lu9rB8Vp"
   },
   "source": [
    "По-горната функция приема един аргумент (на име `x`), и изпълнява израза `x + 1`. Важно е да се отбележи, че една ламбда функция може да съдържа само един израз.\n",
    "\n",
    "Припомням, че израз в Python е всичко, което съдържа някакъв индетификатор (напр. променлива), литерал (напр. `'hello'`) или оператор (напр. извикване на функция, оператор `[]`)\n",
    "\n",
    "Или казано по-просто: не може да създадем ламбда, която да присвоява стойност на някаква променлива:"
   ]
  },
  {
   "cell_type": "code",
   "execution_count": null,
   "metadata": {
    "colab": {
     "base_uri": "https://localhost:8080/",
     "height": 134
    },
    "id": "hX2Rkd_wDFjz",
    "outputId": "35080c6f-41cd-4a80-fd51-4b15fb070f67"
   },
   "outputs": [
    {
     "ename": "SyntaxError",
     "evalue": "ignored",
     "output_type": "error",
     "traceback": [
      "\u001b[0;36m  File \u001b[0;32m\"<ipython-input-65-6a40442b8e41>\"\u001b[0;36m, line \u001b[0;32m1\u001b[0m\n\u001b[0;31m    lambda x: a = x\u001b[0m\n\u001b[0m                   ^\u001b[0m\n\u001b[0;31mSyntaxError\u001b[0m\u001b[0;31m:\u001b[0m can't assign to lambda\n"
     ]
    }
   ],
   "source": [
    "lambda x: a = x"
   ]
  },
  {
   "cell_type": "markdown",
   "metadata": {
    "id": "fO6sHHsrDIvz"
   },
   "source": [
    "Не можем също и да имаме два израза един след друг (Това чисто синтактично няма как да ни се позволи - ламбдите са на един ред, а в Python нямаме символ за край на израз."
   ]
  },
  {
   "cell_type": "markdown",
   "metadata": {
    "id": "spR82IIaDerh"
   },
   "source": [
    "Можем да извикваме дадена lambda функция, като просто използваме `()` след нея"
   ]
  },
  {
   "cell_type": "code",
   "execution_count": null,
   "metadata": {
    "colab": {
     "base_uri": "https://localhost:8080/"
    },
    "id": "YprP04OiDeRK",
    "outputId": "0c81054a-262c-4eae-d314-a13e8d1f3339"
   },
   "outputs": [
    {
     "name": "stdout",
     "output_type": "stream",
     "text": [
      "5\n"
     ]
    }
   ],
   "source": [
    "(lambda x: print(x))(5)"
   ]
  },
  {
   "cell_type": "markdown",
   "metadata": {
    "id": "I1LGqVmyDnQ5"
   },
   "source": [
    "Макар и анонимни, можем да присвоим ламбда функция към дадена променлива"
   ]
  },
  {
   "cell_type": "code",
   "execution_count": null,
   "metadata": {
    "colab": {
     "base_uri": "https://localhost:8080/"
    },
    "id": "FTuQzNC0DRSn",
    "outputId": "de912895-e02b-400b-af67-ac56ff619b5b"
   },
   "outputs": [
    {
     "name": "stdout",
     "output_type": "stream",
     "text": [
      "6\n"
     ]
    }
   ],
   "source": [
    "f = lambda x: x + 1\n",
    "\n",
    "print(f(5))"
   ]
  },
  {
   "cell_type": "markdown",
   "metadata": {
    "id": "s5ntTdwFDxGb"
   },
   "source": [
    "Горното парче код изпълнява следните стъпки:\n",
    "1. Създава анонимна функция, която приема един аргумент (`x`) и връща стойноста на `x` събрана с 1\n",
    "2. Присвояваме новосъздадената ни функция към променливата `f`\n",
    "3. Принтираме резултата от извикването на `f` със стойност 5\n",
    "    - В тялото на ламбда функцията, стойноста на `x` се замества с 5\n",
    "    - От там, 5 + 1 = 6"
   ]
  },
  {
   "cell_type": "markdown",
   "metadata": {
    "id": "BHyMhFE3URqJ"
   },
   "source": [
    "Едно от местата, където често се ползват lambda функции, са вградените функции за сортиране. Както знаем, метода `.sort()` може да приема функция, която да сравнява обектите. "
   ]
  },
  {
   "cell_type": "code",
   "execution_count": null,
   "metadata": {
    "colab": {
     "base_uri": "https://localhost:8080/"
    },
    "id": "o8iyHKCKURUj",
    "outputId": "84007d86-c9a4-4532-aaf8-269117ecb23c"
   },
   "outputs": [
    {
     "name": "stdout",
     "output_type": "stream",
     "text": [
      "[7, 5, 3, 2]\n"
     ]
    }
   ],
   "source": [
    "l = [5, 2, 7, 3]\n",
    "l.sort(key=lambda x: -x)\n",
    "print(l)"
   ]
  },
  {
   "cell_type": "markdown",
   "metadata": {
    "id": "ZIBjj5fYWnjO"
   },
   "source": [
    "С помощта на тази ламбда, можем да сортираме числата в обратен ред. \n",
    "\n",
    "Можем да използваме ламбди за да сортираме и по-сложни списъци - например списък от наредени n-торки."
   ]
  },
  {
   "cell_type": "markdown",
   "metadata": {
    "id": "dhgh-XL5W0PD"
   },
   "source": [
    "Нека е даден списък, съставен от имена на хора, и тяхната възраст. "
   ]
  },
  {
   "cell_type": "code",
   "execution_count": null,
   "metadata": {
    "colab": {
     "base_uri": "https://localhost:8080/"
    },
    "id": "pIYl4MOdW_sw",
    "outputId": "7c164a27-94dc-422d-905a-f75a7e6a778b"
   },
   "outputs": [
    {
     "name": "stdout",
     "output_type": "stream",
     "text": [
      "[('Иван', 22), ('Любо', 35), ('Мария', 35), ('Митко', 51), ('Георги', 71)]\n"
     ]
    }
   ],
   "source": [
    "people_data = [('Иван', 22), ('Георги', 71), ('Мария', 35), ('Митко', 51), ('Любо', 35)]\n",
    "people_data.sort(key=lambda person: (person[1], person[0]))\n",
    "print(people_data)"
   ]
  },
  {
   "cell_type": "markdown",
   "metadata": {
    "id": "dDnNQ3wQaT6G"
   },
   "source": [
    "Тук първо сортираме хората по тяхната възраст, а после лексикографкси, по тяхното име."
   ]
  },
  {
   "cell_type": "markdown",
   "metadata": {
    "id": "JGXxLgzsDzs5"
   },
   "source": [
    "Можем да използваме и функцията `sorted` с ламбда функция:"
   ]
  },
  {
   "cell_type": "code",
   "execution_count": null,
   "metadata": {
    "colab": {
     "base_uri": "https://localhost:8080/"
    },
    "id": "RH0Pc07HD4HQ",
    "outputId": "b1bce3a4-23b4-4ed7-c321-644216299fd4"
   },
   "outputs": [
    {
     "name": "stdout",
     "output_type": "stream",
     "text": [
      "[('Иван', 22), ('Любо', 35), ('Мария', 35), ('Митко', 51), ('Георги', 71)]\n"
     ]
    }
   ],
   "source": [
    "people_data = [('Иван', 22), ('Георги', 71), ('Мария', 35), ('Митко', 51), ('Любо', 35)]\n",
    "print(sorted(people_data, key=lambda person: (person[1], person[0])))"
   ]
  },
  {
   "cell_type": "markdown",
   "metadata": {
    "id": "gkVl1LVhC3mE"
   },
   "source": [
    "## Lazy evaluation"
   ]
  },
  {
   "cell_type": "markdown",
   "metadata": {
    "id": "BmDBNoJpnShQ"
   },
   "source": [
    "Съществуват различни стратегии за оценяване (или изчисляване) на изрази - най-позната е т.нар. \"нетърпеливо оценяване\" или \"оценяване на момента\" - целия израз се изчислява на момента.\n",
    "\n",
    "Нека е даден израза `a + b + c`. Първо, ще бъде оценена стойността на `a`, после на `b`. Следващата стъпка е да се извърши операцията събиране. Резултатът от първата операция ще бъде използван за следващата операция събиране, заедно с `c`. \n",
    "\n",
    "Пример за оценяване на момента може да бъде следната функция:"
   ]
  },
  {
   "cell_type": "code",
   "execution_count": null,
   "metadata": {
    "colab": {
     "base_uri": "https://localhost:8080/"
    },
    "id": "mfuEbmgqomQQ",
    "outputId": "22474686-0b7e-4a49-ae30-dfe0a7c124ae"
   },
   "outputs": [
    {
     "name": "stdout",
     "output_type": "stream",
     "text": [
      "x = 1\n",
      "x = 2\n",
      "3\n"
     ]
    }
   ],
   "source": [
    "def f(x):\n",
    "    print(f'x = {x}')\n",
    "    return x\n",
    "\n",
    "print(f(1) + f(2))"
   ]
  },
  {
   "cell_type": "markdown",
   "metadata": {
    "id": "BAo7aBEQowo3"
   },
   "source": [
    "При оценяването на момента (eager evaluation), всички необходими данни за извършване на изчислението (променливи, функции, др.) се зареждат наведнъж в паметта. Освен това, всички изчисления трябва да бъда извършени точно на момента."
   ]
  },
  {
   "cell_type": "markdown",
   "metadata": {
    "id": "YjMUgVUVqal0"
   },
   "source": [
    "Тук се намесва т.нар. \"мързеливо\" оценяване - изчисленията се извършват само при необходимост. Това ни позволява да си спестим някои изчисления (както и да работим с т.нар. \"безкрайни\" колекции).\n",
    "\n",
    "Най-близкото до \"мързеливо\" оценяване, което познаваме е изчисляването на логическите изрази при `if` блокове и други булеви изрази - там, всеки елемент от израза се изчислява, при условие че предишния израз не е достатъчен за оценяване на целия израз (т.е. ако имаме един израз който е със стойност на `True` при изрази съдържащи `or`, тези след него не се оценяват. Ако имаме израз, който съдържа `and`, трябва да оценим всички стойности). \n",
    "\n",
    "По подобен начин работи и мързеливото оценяване, с разликата, че изразите се оценяват при поискване. "
   ]
  },
  {
   "cell_type": "markdown",
   "metadata": {
    "id": "9bZnjogKC55J"
   },
   "source": [
    "## Generators"
   ]
  },
  {
   "cell_type": "markdown",
   "metadata": {
    "id": "d85fdJ3KE9KM"
   },
   "source": [
    "Генераторите са специални функции, които позволяват \"мързеливо\" итериране на дадена (дори и безкрайна) поредица. Генераторите не държат всичките си стойности в паметта, а изчисляват стойността при поискване (това позволява работата с \"безкрайни\" поредици)."
   ]
  },
  {
   "cell_type": "markdown",
   "metadata": {
    "id": "XpTuyI_hCry6"
   },
   "source": [
    "Нека разгледаме следния пример - искаме да създадем генератор, който да ни връща числата, които са точни квадрати (число, получено чрез повдигане на друго цяло число на квадрат - 1, 4, 9, 16, 25, т.н.). \n",
    "\n",
    "Ако за момент се абстрахираме от идеята за генератори, как бихме могли да напишем функция, която ни връща `n`-тия точен квадрат ? Първия точен квардрат е 0 ($0^2 = 0$, защото са неотрицателни), втория е 1 ($1^2 = 1$), третия е 4 ($2^2 = 4$) и т.н. "
   ]
  },
  {
   "cell_type": "code",
   "execution_count": null,
   "metadata": {
    "colab": {
     "base_uri": "https://localhost:8080/"
    },
    "id": "tmnNoaR8Cubf",
    "outputId": "e2ed45fd-24fe-4f57-efb3-bae753c5ef03"
   },
   "outputs": [
    {
     "name": "stdout",
     "output_type": "stream",
     "text": [
      "4\n"
     ]
    }
   ],
   "source": [
    "def generate_nth_perfect_square(n):\n",
    "    return (n-1) ** 2\n",
    "\n",
    "print(generate_nth_perfect_square(3))"
   ]
  },
  {
   "cell_type": "markdown",
   "metadata": {
    "id": "_iX-VxJNDe8l"
   },
   "source": [
    "Можем да променим нашата функция, която да ни връща списък от всички точни квадрати до `n`-тия. "
   ]
  },
  {
   "cell_type": "code",
   "execution_count": null,
   "metadata": {
    "colab": {
     "base_uri": "https://localhost:8080/"
    },
    "id": "kTI4auzuEPgh",
    "outputId": "8e8e0558-d863-4984-e317-ead6c1c351ec"
   },
   "outputs": [
    {
     "name": "stdout",
     "output_type": "stream",
     "text": [
      "[0, 1, 4, 9, 16]\n"
     ]
    }
   ],
   "source": [
    "def generate_all_perfect_squares_until(n):\n",
    "    result = []\n",
    "    for i in range(1, n+1):\n",
    "        result.append(generate_nth_perfect_square(i))\n",
    "    \n",
    "    return result\n",
    "\n",
    "print(generate_all_perfect_squares_until(5))"
   ]
  },
  {
   "cell_type": "markdown",
   "metadata": {
    "id": "6jPtmYzPGz4Z"
   },
   "source": [
    "Проблемът с горната функция, е че изчислява всички стойности до `n` едновременно - ние искаме те да се изчисляват една по една, при поискване. По-важното е, че искаме да можем да итерираме по тях - т.е. да ги вкараме в един `for` цикъл, и да ги обходим.\n",
    "\n",
    "За да постигнем тази цел, ни трябват две неща - функция, която да \"спре\" изпълнението до дадено място и да ни върне някаква стойност - функцията, която извършва това, е `yield`. "
   ]
  },
  {
   "cell_type": "code",
   "execution_count": null,
   "metadata": {
    "colab": {
     "base_uri": "https://localhost:8080/"
    },
    "id": "0coNKoouH2GS",
    "outputId": "47a76f12-74b3-4da8-b8d5-0903e33c5603"
   },
   "outputs": [
    {
     "name": "stdout",
     "output_type": "stream",
     "text": [
      "<generator object perfect_squares at 0x7f2c9d0b8350>\n"
     ]
    }
   ],
   "source": [
    "def perfect_squares(n):\n",
    "    for i in range(1, n+1):\n",
    "        yield generate_nth_perfect_square(i)\n",
    "\n",
    "\n",
    "print(perfect_squares(5))"
   ]
  },
  {
   "cell_type": "markdown",
   "metadata": {
    "id": "J8UJgR5QIFI0"
   },
   "source": [
    "Тук виждаме, че нашата функция вече ни връща `generator` обект. \n",
    "\n",
    "За да работим с нашия генератор обект, е необходимо да го подадем като обект на функцията `next` - тя ни връща следващия елемент от генератор/итератор."
   ]
  },
  {
   "cell_type": "code",
   "execution_count": null,
   "metadata": {
    "colab": {
     "base_uri": "https://localhost:8080/"
    },
    "id": "7-jHEPqyIwxB",
    "outputId": "e51fc5f3-1422-405b-d519-dc8d98879cb5"
   },
   "outputs": [
    {
     "name": "stdout",
     "output_type": "stream",
     "text": [
      "0\n",
      "1\n",
      "4\n",
      "9\n"
     ]
    }
   ],
   "source": [
    "perfect_square_generator = perfect_squares(5)\n",
    "print(next(perfect_square_generator))\n",
    "print(next(perfect_square_generator))\n",
    "print(next(perfect_square_generator))\n",
    "print(next(perfect_square_generator))"
   ]
  },
  {
   "cell_type": "markdown",
   "metadata": {
    "id": "mscLIoUaJOhH"
   },
   "source": [
    "Както се вижда, `next` изпълнява нашия код, до следващото срещане на `yield`, и връща стойността, която `yield` връща."
   ]
  },
  {
   "cell_type": "markdown",
   "metadata": {
    "id": "3EUHK5--JeIM"
   },
   "source": [
    "Благодарение на факта, че получваме генератор, може да използваме нашата функция `perfect_squares` директно във `for` цикъл. Начина по който `for` цикъла работи е, че извиква `next` метода на подадения от нас обект. "
   ]
  },
  {
   "cell_type": "code",
   "execution_count": null,
   "metadata": {
    "colab": {
     "base_uri": "https://localhost:8080/"
    },
    "id": "YPe1U0RuJZ4S",
    "outputId": "993b731c-9a76-480d-e6a6-3980ff6a35a6"
   },
   "outputs": [
    {
     "name": "stdout",
     "output_type": "stream",
     "text": [
      "0\n",
      "1\n",
      "4\n",
      "9\n",
      "16\n"
     ]
    }
   ],
   "source": [
    "for i in perfect_squares(5):\n",
    "    print(i)"
   ]
  },
  {
   "cell_type": "markdown",
   "metadata": {
    "id": "eFhgkZp1JoUd"
   },
   "source": [
    "Нека направим нещата една идея по-сложни. Вместо да създаваме генератор на точни квадрати до дадено число, нека променим нашия генератор, да връща точни квадрати до безкрайност (понеже точните квадрати са дефинирани върху всички неотрицателни числа, е възможно до безкрайност да генерираме такива)."
   ]
  },
  {
   "cell_type": "code",
   "execution_count": null,
   "metadata": {
    "id": "kAAE_1EIKebv"
   },
   "outputs": [],
   "source": [
    "def perfect_square():\n",
    "    n = 1\n",
    "    while True:\n",
    "        yield generate_nth_perfect_square(n)\n",
    "        n += 1"
   ]
  },
  {
   "cell_type": "code",
   "execution_count": null,
   "metadata": {
    "colab": {
     "base_uri": "https://localhost:8080/"
    },
    "id": "L3RK9BbtKm2M",
    "outputId": "131299b6-5012-4c44-c271-6eb626f2ea44"
   },
   "outputs": [
    {
     "name": "stdout",
     "output_type": "stream",
     "text": [
      "0\n",
      "1\n",
      "4\n",
      "9\n"
     ]
    }
   ],
   "source": [
    "perfect_square_generator = perfect_square()\n",
    "print(next(perfect_square_generator))\n",
    "print(next(perfect_square_generator))\n",
    "print(next(perfect_square_generator))\n",
    "print(next(perfect_square_generator))"
   ]
  },
  {
   "cell_type": "markdown",
   "metadata": {
    "id": "OlX9JS_JpeKC"
   },
   "source": [
    "Използването на `yield` не е единствения начин да бъде създаден генератор. Python поддържа т.нар. \"generator expressions\". Generator expressions е синтактична конструкция, която ни позволява да създаваме генератор на базата на друга колекция/генератор. Синтактично, generator expression следва математическата нотация за дефиниране на множество:\n",
    "\n",
    "$$ S = \\{x^2 \\mid x \\in [1;100] , x \\text{ is even}\\} $$\n",
    "\n",
    "Това математическо заклинание ни дава целите числа в диапазона от 1 до 100, които са четни, като всяко от тях е повдигнато на квадрат.\n",
    "\n",
    "В общият случай, един generator expression изглежда по следния начин: `(f(x) for x in X if p(x))`, където `f` е функция, която прилагаме върху `x`, а `p` е филтрираща функция (повече за прилагането на функции върху елементи и филтрирането му по-долу)"
   ]
  },
  {
   "cell_type": "markdown",
   "metadata": {
    "id": "9X8SDFlm4wnH"
   },
   "source": [
    "Ако искаме да запишем нашата функция `perfect_squares(n)`, която ни връща точните квадрати до `n` като generator expression, тя би изглеждала по следния начин."
   ]
  },
  {
   "cell_type": "code",
   "execution_count": null,
   "metadata": {
    "colab": {
     "base_uri": "https://localhost:8080/"
    },
    "id": "4OJQgSzO4wCm",
    "outputId": "605723f6-b536-400e-e9de-ae55f332b76e"
   },
   "outputs": [
    {
     "name": "stdout",
     "output_type": "stream",
     "text": [
      "<generator object <genexpr> at 0x7f2ca22f6950>\n",
      "0\n",
      "1\n",
      "4\n"
     ]
    }
   ],
   "source": [
    "perfect_squares_generator_exp = (generate_nth_perfect_square(i) for i in range(1, 6))\n",
    "\n",
    "print(perfect_squares_generator_exp)\n",
    "print(next(perfect_squares_generator_exp))\n",
    "print(next(perfect_squares_generator_exp))\n",
    "print(next(perfect_squares_generator_exp))"
   ]
  },
  {
   "cell_type": "markdown",
   "metadata": {
    "id": "EhtFBeLX5i7B"
   },
   "source": [
    "В горния пример, нашия генератор ще ни върне първите 5 точни квадрата, с помощта на generator expression. Как би изглеждал кода обаче, ако искаме да можем да приемаме `n`, с което да заместим 5 ?"
   ]
  },
  {
   "cell_type": "code",
   "execution_count": null,
   "metadata": {
    "colab": {
     "base_uri": "https://localhost:8080/"
    },
    "id": "z2APkX8t5zj4",
    "outputId": "452bc318-c244-48c5-bfe5-2e8e3972ea1e"
   },
   "outputs": [
    {
     "name": "stdout",
     "output_type": "stream",
     "text": [
      "0\n",
      "1\n",
      "4\n",
      "--\n",
      "0\n",
      "1\n",
      "4\n",
      "9\n",
      "16\n",
      "25\n",
      "36\n",
      "49\n",
      "64\n",
      "81\n"
     ]
    }
   ],
   "source": [
    "perfect_squares_n_generator_exp = lambda n: (generate_nth_perfect_square(i) for i in range(1, n + 1))\n",
    "\n",
    "for num in perfect_squares_n_generator_exp(3):\n",
    "    print(num)\n",
    "\n",
    "print('--')\n",
    "for num in perfect_squares_n_generator_exp(10):\n",
    "    print(num)"
   ]
  },
  {
   "cell_type": "markdown",
   "metadata": {
    "id": "G-OM7Qoi8AoH"
   },
   "source": [
    "Едно последно нещо - един от най-използваните генератори е `range`. `range` приема три аргумента - начало, край и стъпка. В резултат, получаваме генератор, който генерира числата от това множество. "
   ]
  },
  {
   "cell_type": "code",
   "execution_count": null,
   "metadata": {
    "colab": {
     "base_uri": "https://localhost:8080/"
    },
    "id": "aT8UCA-L8jty",
    "outputId": "61db65bb-5dd9-4a8f-a63e-abb263f11aa0"
   },
   "outputs": [
    {
     "name": "stdout",
     "output_type": "stream",
     "text": [
      "2\n",
      "4\n",
      "6\n"
     ]
    }
   ],
   "source": [
    "for i in range(2, 7, 2):\n",
    "    print(i)"
   ]
  },
  {
   "cell_type": "markdown",
   "metadata": {
    "id": "0U-qJ4zq8nTd"
   },
   "source": [
    "Няма значение колко е голям размера на `range`-а за представянето му - това е защото `range` изчислява следващия елемент на момента. "
   ]
  },
  {
   "cell_type": "markdown",
   "metadata": {
    "collapsed": false,
    "id": "lPh3qYJPpFgf"
   },
   "source": [
    "## Map\n"
   ]
  },
  {
   "cell_type": "markdown",
   "metadata": {
    "id": "qBwOJhrjWSbl"
   },
   "source": [
    "\n",
    "Map е специална функция, която има една-единствена цел - да приложи друга функция към всеки елемент от дадена колекция. Нека е даден списък с числа и функция, която приема число, и го умножава по 2."
   ]
  },
  {
   "cell_type": "code",
   "execution_count": null,
   "metadata": {
    "id": "3Dol_OA7pFgh"
   },
   "outputs": [],
   "source": [
    "numbers = [2, 7, 3, 9, -1, 12]\n",
    "\n",
    "def multiply(number):\n",
    "    return number * 2"
   ]
  },
  {
   "cell_type": "markdown",
   "metadata": {
    "collapsed": false,
    "id": "O4RQXl0UpFgj"
   },
   "source": [
    "Ако трябва сами да разпишем map функцията, тя би изглеждала по следния начин:"
   ]
  },
  {
   "cell_type": "code",
   "execution_count": null,
   "metadata": {
    "id": "SwoW_4vHpFgk"
   },
   "outputs": [],
   "source": [
    "def my_map(map_function, collection):\n",
    "    result = []\n",
    "\n",
    "    for item in collection:\n",
    "        result.append(map_function(item))\n",
    "    \n",
    "    return result"
   ]
  },
  {
   "cell_type": "markdown",
   "metadata": {
    "id": "6Ta41S2XpoO5"
   },
   "source": [
    "Нека извикаме нашата map функция, с дефинираните по-горе числа и функция, която да бъде приложена"
   ]
  },
  {
   "cell_type": "code",
   "execution_count": null,
   "metadata": {
    "colab": {
     "base_uri": "https://localhost:8080/"
    },
    "id": "6Be1d2k7pNCp",
    "outputId": "a387ee42-100a-4a53-9dd6-de968abb3bb9"
   },
   "outputs": [
    {
     "name": "stdout",
     "output_type": "stream",
     "text": [
      "Squared numbers: [4, 14, 6, 18, -2, 24]\n"
     ]
    }
   ],
   "source": [
    "print(f'Squared numbers: {my_map(multiply, numbers)}')"
   ]
  },
  {
   "cell_type": "markdown",
   "metadata": {
    "id": "HJyDM8WSqX0c"
   },
   "source": [
    "Можем да подадем и функция, която променя типа на обектите - нека разгледаме функция, която приема цяло число от 1 до 7 и връща съответния ден от седмицата (1 - Понеделник, 2 - Вторник, т.н.)"
   ]
  },
  {
   "cell_type": "code",
   "execution_count": null,
   "metadata": {
    "colab": {
     "base_uri": "https://localhost:8080/"
    },
    "id": "2CcoHEAcqnum",
    "outputId": "bf28b4ac-ffee-4af2-c262-aca1302c3df0"
   },
   "outputs": [
    {
     "name": "stdout",
     "output_type": "stream",
     "text": [
      "Days of the week: ['Tuesday', 'Wednesday', 'Monday', 'Thursday', 'Saturday']\n"
     ]
    }
   ],
   "source": [
    "def number_to_day(number):\n",
    "    days = [\"Monday\", \"Tuesday\", \"Wednesday\", \"Thursday\", \"Friday\", \"Saturday\", \"Sunday\"]\n",
    "    return days[number - 1]\n",
    "\n",
    "days = [2, 3, 1, 4, 6]\n",
    "\n",
    "print(f'Days of the week: {my_map(number_to_day, days)}')"
   ]
  },
  {
   "cell_type": "markdown",
   "metadata": {
    "id": "DNAEFcdfWSk3"
   },
   "source": [
    "Нека сега разгледаме и вградена функция `map` в Python - тя приема като първи аргумент функцията, която ще бъде приложена, а като втори - колекцията, върху която да се приложи."
   ]
  },
  {
   "cell_type": "code",
   "execution_count": null,
   "metadata": {
    "colab": {
     "base_uri": "https://localhost:8080/"
    },
    "id": "RdjOAvkeWSNY",
    "outputId": "809fca5b-f47e-45fe-f599-a41838f66dad"
   },
   "outputs": [
    {
     "name": "stdout",
     "output_type": "stream",
     "text": [
      "Appyling map directly returns: <map object at 0x7f2c9d1100d0>\n"
     ]
    }
   ],
   "source": [
    "numbers = [1, 2, 3, 4]\n",
    "\n",
    "def square(number):\n",
    "    return number ** 2\n",
    "\n",
    "print(f'Appyling map directly returns: {map(square, numbers)}')"
   ]
  },
  {
   "cell_type": "markdown",
   "metadata": {
    "id": "1CszaEFMZnTX"
   },
   "source": [
    "Важно е да се отбележи, че резултатът от map функцията е `map` обект - или поне така изглежда. Всъщност това, което се връща е генератор, който ни дава новите стойности. Съвсем лесно можем да превърнем този генератор в списък, с едно просто извикване на `list()` функцията.\n"
   ]
  },
  {
   "cell_type": "code",
   "execution_count": null,
   "metadata": {
    "colab": {
     "base_uri": "https://localhost:8080/"
    },
    "id": "WCDkCuSTTCFL",
    "outputId": "65499c3d-79c0-4091-c58d-1086d5cf02f5"
   },
   "outputs": [
    {
     "name": "stdout",
     "output_type": "stream",
     "text": [
      "Converting the map object into a list: [1, 4, 9, 16]\n"
     ]
    }
   ],
   "source": [
    "numbers = [1, 2, 3, 4]\n",
    "\n",
    "def square(number):\n",
    "    return number ** 2\n",
    "\n",
    "print(f'Converting the map object into a list: {list(map(square, numbers))}')"
   ]
  },
  {
   "cell_type": "markdown",
   "metadata": {
    "id": "YsHjf-xYTeTu"
   },
   "source": [
    "Освен да подаваме нормална функция, можем да използваме и `lambda`."
   ]
  },
  {
   "cell_type": "code",
   "execution_count": null,
   "metadata": {
    "colab": {
     "base_uri": "https://localhost:8080/"
    },
    "id": "WACHF-IITlr_",
    "outputId": "c68002da-ee55-47e7-c716-d208a583a501"
   },
   "outputs": [
    {
     "name": "stdout",
     "output_type": "stream",
     "text": [
      "[1, 4, 9, 16]\n"
     ]
    }
   ],
   "source": [
    "numbers = [1, 2, 3, 4]\n",
    "\n",
    "mapped_numbers = map(lambda number: number ** 2, numbers)\n",
    "result = list(mapped_numbers)\n",
    "\n",
    "print(result)"
   ]
  },
  {
   "cell_type": "markdown",
   "metadata": {
    "id": "VaA7b3_RTzp-"
   },
   "source": [
    "Нека усложим нещата - ако се върнем на първоначалната ни дефиниция за `map` (Функция, която прилага друга функция върху колекция), си задаваме въпроса - какво става, ако имаме повече от една колекция, върху която искаме да приложим функция ? Възможно ли е въобще ? \n",
    "\n",
    "Отговора е да - `map` приема една или повече колекции. Единствената особенност е, че функцията която подаваме трябва да може да приеме повече от един аргумент. На по-прост език - ако подадем два списъка на `map`, функцията която ще се приложи върху тях трябва да приема два аргумента."
   ]
  },
  {
   "cell_type": "code",
   "execution_count": null,
   "metadata": {
    "colab": {
     "base_uri": "https://localhost:8080/"
    },
    "id": "u4peYrvxULBq",
    "outputId": "51a5a3cb-bf5a-4806-e3a0-1b4461bb8189"
   },
   "outputs": [
    {
     "name": "stdout",
     "output_type": "stream",
     "text": [
      "[5, 12, 21, 32]\n"
     ]
    }
   ],
   "source": [
    "first_numbers = [1, 2, 3, 4]\n",
    "second_numbers = [5, 6, 7, 8]\n",
    "\n",
    "def multiply(a, b):\n",
    "    return a * b\n",
    "\n",
    "print(list(map(multiply, first_numbers, second_numbers)))"
   ]
  },
  {
   "cell_type": "markdown",
   "metadata": {
    "id": "mpij1VPbWQyW"
   },
   "source": [
    "Важно е да се отбележи, че резултата от `map` операция винаги е **една** поредица от обекти - дори и да приемем 10 колекции, винаги на изхода ще имаме една. \n",
    "\n",
    "**Въпрос:** Как може да \"измамим\" системата, и да върнем повече от една колекция ?"
   ]
  },
  {
   "cell_type": "markdown",
   "metadata": {
    "id": "yIVTK-AEYJLZ"
   },
   "source": [
    "### Отговор"
   ]
  },
  {
   "cell_type": "markdown",
   "metadata": {
    "id": "hnXPTxPYXym_"
   },
   "source": [
    "Няма как да върнем повече от една колекция - това което можем да направим, е да върнем колекция, която съдържа наредени n-торки (tuples)."
   ]
  },
  {
   "cell_type": "code",
   "execution_count": null,
   "metadata": {
    "colab": {
     "base_uri": "https://localhost:8080/"
    },
    "id": "-07cxylmWQDR",
    "outputId": "52848409-0b1d-4e06-e9ef-57f8748d0365"
   },
   "outputs": [
    {
     "name": "stdout",
     "output_type": "stream",
     "text": [
      "[(1, 5), (2, 6), (3, 7), (4, 8)]\n"
     ]
    }
   ],
   "source": [
    "first_numbers = [1, 2, 3, 4]\n",
    "second_numbers = [5, 6, 7, 8]\n",
    "\n",
    "def return_as_tuple(a, b):\n",
    "    return a, b\n",
    "\n",
    "print(list(map(return_as_tuple, first_numbers, second_numbers)))"
   ]
  },
  {
   "cell_type": "markdown",
   "metadata": {
    "id": "ZPJ5LXnptyEh"
   },
   "source": [
    "## Zip"
   ]
  },
  {
   "cell_type": "markdown",
   "metadata": {
    "id": "bEz_G7lXt05j"
   },
   "source": [
    "Нека се върнем за кратко към примера за използването на `map`, при който от два списъка, ние направихме един, който съдържаше елементите на двата, групирани по позицията им:"
   ]
  },
  {
   "cell_type": "code",
   "execution_count": null,
   "metadata": {
    "colab": {
     "base_uri": "https://localhost:8080/"
    },
    "id": "dNGwI1wmzisP",
    "outputId": "be0e4a15-5d23-4fdd-f429-20a90d9d36f7"
   },
   "outputs": [
    {
     "name": "stdout",
     "output_type": "stream",
     "text": [
      "[(1, 5), (2, 6), (3, 7), (4, 8)]\n"
     ]
    }
   ],
   "source": [
    "first_numbers = [1, 2, 3, 4]\n",
    "second_numbers = [5, 6, 7, 8]\n",
    "\n",
    "def return_as_tuple(a, b):\n",
    "    return a, b\n",
    "\n",
    "print(list(map(return_as_tuple, first_numbers, second_numbers)))"
   ]
  },
  {
   "cell_type": "markdown",
   "metadata": {
    "id": "4Shx9XEZzuU_"
   },
   "source": [
    "В Python има готова функция, която прави това обединение за нас - `zip`"
   ]
  },
  {
   "cell_type": "code",
   "execution_count": null,
   "metadata": {
    "colab": {
     "base_uri": "https://localhost:8080/"
    },
    "id": "zJEUVGBc5fNv",
    "outputId": "a71f2ba5-9ae1-4f1e-9197-24d563161258"
   },
   "outputs": [
    {
     "name": "stdout",
     "output_type": "stream",
     "text": [
      "<zip object at 0x7f2c9d130f00>\n",
      "[(1, 5), (2, 6), (3, 7), (4, 8)]\n"
     ]
    }
   ],
   "source": [
    "first_numbers = [1, 2, 3, 4]\n",
    "second_numbers = [5, 6, 7, 8]\n",
    "\n",
    "print(zip(first_numbers, second_numbers))\n",
    "print(list(zip(first_numbers, second_numbers)))"
   ]
  },
  {
   "cell_type": "markdown",
   "metadata": {
    "id": "g5IHInrO5qUY"
   },
   "source": [
    "Не е нужно списъците да са от еднакви типове елементи."
   ]
  },
  {
   "cell_type": "code",
   "execution_count": null,
   "metadata": {
    "colab": {
     "base_uri": "https://localhost:8080/"
    },
    "id": "Zrhemegr5w2b",
    "outputId": "7a50f85b-7391-461b-88fe-0ef6881b7fa9"
   },
   "outputs": [
    {
     "name": "stdout",
     "output_type": "stream",
     "text": [
      "[('Иван', 3), ('Любо', 20), ('Алекс', 8)]\n"
     ]
    }
   ],
   "source": [
    "names = ['Иван', 'Любо', 'Алекс']\n",
    "favorite_number = [3, 20, 8]\n",
    "\n",
    "print(list(zip(names, favorite_number)))"
   ]
  },
  {
   "cell_type": "markdown",
   "metadata": {
    "id": "_ddnvIx36J-Y"
   },
   "source": [
    "Ако единият списък е по-дълъг от другия, по-дългия списък ще бъде отрязан:"
   ]
  },
  {
   "cell_type": "code",
   "execution_count": null,
   "metadata": {
    "colab": {
     "base_uri": "https://localhost:8080/"
    },
    "id": "Jdi4-Bh86T4P",
    "outputId": "a00deb35-b4d1-4047-fb24-59ed59ac8a9a"
   },
   "outputs": [
    {
     "name": "stdout",
     "output_type": "stream",
     "text": [
      "[('Иван', 3), ('Любо', 20), ('Алекс', 7)]\n"
     ]
    }
   ],
   "source": [
    "names = ['Иван', 'Любо', 'Алекс', 'Иво']\n",
    "favorite_number = [3, 20, 7]\n",
    "\n",
    "print(list(zip(names, favorite_number)))"
   ]
  },
  {
   "cell_type": "code",
   "execution_count": null,
   "metadata": {
    "colab": {
     "base_uri": "https://localhost:8080/"
    },
    "id": "C4N8CVYh6XPo",
    "outputId": "18cee2c6-4ee4-4c44-98b3-b03d9448200c"
   },
   "outputs": [
    {
     "name": "stdout",
     "output_type": "stream",
     "text": [
      "[('Иван', 3), ('Любо', 20), ('Алекс', 7)]\n"
     ]
    }
   ],
   "source": [
    "names = ['Иван', 'Любо', 'Алекс']\n",
    "favorite_number = [3, 20, 7, -1]\n",
    "\n",
    "print(list(zip(names, favorite_number)))"
   ]
  },
  {
   "cell_type": "markdown",
   "metadata": {
    "id": "-1urzDOj7-bF"
   },
   "source": [
    "Или поне това е поведението по подразбиране. `zip` предлага още два метода на работа. С помощта на аргумента `strict=True`, ако подадените списъци са с различен размер, `zip` ще ни хвърли грешка (това е въведено в Python3.10). "
   ]
  },
  {
   "cell_type": "code",
   "execution_count": null,
   "metadata": {
    "colab": {
     "base_uri": "https://localhost:8080/",
     "height": 204
    },
    "id": "E6ns_0mK8MKR",
    "outputId": "e04bd7ad-8495-4100-e8aa-47a0a9e5475a"
   },
   "outputs": [
    {
     "ename": "TypeError",
     "evalue": "ignored",
     "output_type": "error",
     "traceback": [
      "\u001b[0;31m---------------------------------------------------------------------------\u001b[0m",
      "\u001b[0;31mTypeError\u001b[0m                                 Traceback (most recent call last)",
      "\u001b[0;32m<ipython-input-64-acdcfbd62260>\u001b[0m in \u001b[0;36m<module>\u001b[0;34m\u001b[0m\n\u001b[1;32m      2\u001b[0m \u001b[0mfavorite_number\u001b[0m \u001b[0;34m=\u001b[0m \u001b[0;34m[\u001b[0m\u001b[0;36m3\u001b[0m\u001b[0;34m,\u001b[0m \u001b[0;36m20\u001b[0m\u001b[0;34m,\u001b[0m \u001b[0;36m7\u001b[0m\u001b[0;34m,\u001b[0m \u001b[0;34m-\u001b[0m\u001b[0;36m1\u001b[0m\u001b[0;34m]\u001b[0m\u001b[0;34m\u001b[0m\u001b[0;34m\u001b[0m\u001b[0m\n\u001b[1;32m      3\u001b[0m \u001b[0;34m\u001b[0m\u001b[0m\n\u001b[0;32m----> 4\u001b[0;31m \u001b[0mzip\u001b[0m\u001b[0;34m(\u001b[0m\u001b[0mnames\u001b[0m\u001b[0;34m,\u001b[0m \u001b[0mfavorite_number\u001b[0m\u001b[0;34m,\u001b[0m \u001b[0mstrict\u001b[0m\u001b[0;34m=\u001b[0m\u001b[0;32mTrue\u001b[0m\u001b[0;34m)\u001b[0m\u001b[0;34m\u001b[0m\u001b[0;34m\u001b[0m\u001b[0m\n\u001b[0m",
      "\u001b[0;31mTypeError\u001b[0m: zip() takes no keyword arguments"
     ]
    }
   ],
   "source": [
    "names = ['Иван', 'Любо', 'Алекс']\n",
    "favorite_number = [3, 20, 7, -1]\n",
    "\n",
    "zip(names, favorite_number, strict=True)"
   ]
  },
  {
   "cell_type": "markdown",
   "metadata": {
    "id": "LvxFBRCT8495"
   },
   "source": [
    "А ако искаме да добавим някакви \"празни\" стойности към по-късия списък, може да използваме "
   ]
  },
  {
   "cell_type": "code",
   "execution_count": null,
   "metadata": {
    "colab": {
     "base_uri": "https://localhost:8080/"
    },
    "id": "7V5Wb-td81Vf",
    "outputId": "26d9a6f8-ed01-4af1-9a68-e7d0f49d9f89"
   },
   "outputs": [
    {
     "name": "stdout",
     "output_type": "stream",
     "text": [
      "[('Иван', 3), ('Любо', 20), ('Алекс', 7), ('Dummy', -1), ('Dummy', -2)]\n"
     ]
    }
   ],
   "source": [
    "from itertools import zip_longest\n",
    "\n",
    "names = ['Иван', 'Любо', 'Алекс']\n",
    "favorite_number = [3, 20, 7, -1, -2]\n",
    "\n",
    "print(list(zip_longest(names, favorite_number, fillvalue='Dummy')))"
   ]
  },
  {
   "cell_type": "markdown",
   "metadata": {
    "id": "udRYYe8g6ckD"
   },
   "source": [
    "Ако трябва да сме на 100% коректни, `zip` приема каквато и да е колекция:"
   ]
  },
  {
   "cell_type": "code",
   "execution_count": null,
   "metadata": {
    "colab": {
     "base_uri": "https://localhost:8080/"
    },
    "id": "ZzYTuhQ46iJ-",
    "outputId": "d5ec803c-67e4-47e2-e6a3-99e88820ce7e"
   },
   "outputs": [
    {
     "name": "stdout",
     "output_type": "stream",
     "text": [
      "[(1, 'a'), (4, 'b'), (9, 'c')]\n"
     ]
    }
   ],
   "source": [
    "numbers = [1, 2, 3]\n",
    "letters = ['a', 'b', 'c']\n",
    "\n",
    "print(list(zip(map(lambda x: x ** 2, numbers), letters)))"
   ]
  },
  {
   "cell_type": "markdown",
   "metadata": {
    "id": "lPp4g-QY7AFZ"
   },
   "source": [
    "Горният пример, малко по-културно разписан, изглежда по следния начин:"
   ]
  },
  {
   "cell_type": "code",
   "execution_count": null,
   "metadata": {
    "colab": {
     "base_uri": "https://localhost:8080/"
    },
    "id": "-MdoefTD7GHi",
    "outputId": "3b37902f-fea3-43ba-e6c4-c16edd9414d3"
   },
   "outputs": [
    {
     "name": "stdout",
     "output_type": "stream",
     "text": [
      "[(1, 'a'), (4, 'b'), (9, 'c')]\n"
     ]
    }
   ],
   "source": [
    "numbers = [1, 2, 3]\n",
    "letters = ['a', 'b', 'c']\n",
    "\n",
    "squared_numbers = map(lambda x: x ** 2, numbers)\n",
    "zipped_together = zip(squared_numbers, letters)\n",
    "zipped_together_as_a_list = list(zipped_together)\n",
    "\n",
    "print(zipped_together_as_a_list)"
   ]
  },
  {
   "cell_type": "markdown",
   "metadata": {
    "id": "h66DrhvJzi_U"
   },
   "source": [
    "## Filter\n"
   ]
  },
  {
   "cell_type": "markdown",
   "metadata": {
    "id": "0zjSBJ9tWWOU"
   },
   "source": [
    "Както името подсказва, `filter` е функция която ни връща елементите от дадена колекция, удолетворяващи дадено условие."
   ]
  },
  {
   "cell_type": "markdown",
   "metadata": {
    "id": "RyxGpugZ0OV0"
   },
   "source": [
    "Нека отново имаме някакви числа, и функция която връща дали дадено число е четно или не."
   ]
  },
  {
   "cell_type": "code",
   "execution_count": null,
   "metadata": {
    "id": "bc0DLwRQ0T03"
   },
   "outputs": [],
   "source": [
    "numbers = [2, 7, 11, 12]\n",
    "\n",
    "def is_even(number):\n",
    "    return number % 2 == 0"
   ]
  },
  {
   "cell_type": "markdown",
   "metadata": {
    "id": "uv3m8HYvz5bi"
   },
   "source": [
    "Ако трябва сами да разпишем функцията, тя би изглеждала по следния начин:"
   ]
  },
  {
   "cell_type": "code",
   "execution_count": null,
   "metadata": {
    "id": "hc-taeVDz-yk"
   },
   "outputs": [],
   "source": [
    "def my_filter(filter_fn, collection):\n",
    "    result = []\n",
    "    for item in collection:\n",
    "        if filter_fn(item):\n",
    "            result.append(item)\n",
    "    \n",
    "    return result"
   ]
  },
  {
   "cell_type": "code",
   "execution_count": null,
   "metadata": {
    "colab": {
     "base_uri": "https://localhost:8080/"
    },
    "id": "X5m69UgV1GPn",
    "outputId": "a665df93-6ff1-4112-8931-fadead8116bf"
   },
   "outputs": [
    {
     "name": "stdout",
     "output_type": "stream",
     "text": [
      "[2, 12]\n"
     ]
    }
   ],
   "source": [
    "print(my_filter(is_even, numbers))"
   ]
  },
  {
   "cell_type": "markdown",
   "metadata": {
    "id": "5qWgvODw2NIU"
   },
   "source": [
    "Извикването на вградената функция `filter` изглежда по следния начин"
   ]
  },
  {
   "cell_type": "code",
   "execution_count": null,
   "metadata": {
    "colab": {
     "base_uri": "https://localhost:8080/"
    },
    "id": "-VYLdnKN2R39",
    "outputId": "ecddb2a9-f858-40a0-a64f-8b5ada030d0f"
   },
   "outputs": [
    {
     "name": "stdout",
     "output_type": "stream",
     "text": [
      "<filter object at 0x7f2c9d0c7510>\n"
     ]
    }
   ],
   "source": [
    "print(filter(is_even, numbers))"
   ]
  },
  {
   "cell_type": "markdown",
   "metadata": {
    "id": "9O_Nett62jda"
   },
   "source": [
    "Както `map`, така и `filter` връщат генератор обекти - с едно извикване на `list` можем да превърнем резултата в списък"
   ]
  },
  {
   "cell_type": "code",
   "execution_count": null,
   "metadata": {
    "colab": {
     "base_uri": "https://localhost:8080/"
    },
    "id": "44fycL4v2qJW",
    "outputId": "48cad032-9fad-49e8-b05c-c8840c0e731a"
   },
   "outputs": [
    {
     "name": "stdout",
     "output_type": "stream",
     "text": [
      "[2, 12]\n"
     ]
    }
   ],
   "source": [
    "print(list(filter(is_even, numbers)))"
   ]
  },
  {
   "cell_type": "markdown",
   "metadata": {
    "id": "Px7t6Gbi2y5x"
   },
   "source": [
    "Може и с `lambda`"
   ]
  },
  {
   "cell_type": "code",
   "execution_count": null,
   "metadata": {
    "colab": {
     "base_uri": "https://localhost:8080/"
    },
    "id": "s2PRAAEa20Wp",
    "outputId": "7f1472cc-26ee-4bfe-ecb3-c2e8e42ada52"
   },
   "outputs": [
    {
     "name": "stdout",
     "output_type": "stream",
     "text": [
      "[2, 12]\n"
     ]
    }
   ],
   "source": [
    "print(list(filter(lambda number: number % 2 == 0, numbers)))"
   ]
  },
  {
   "cell_type": "markdown",
   "metadata": {
    "id": "sqXhZ0VjTt3n"
   },
   "source": [
    "## Reduce"
   ]
  },
  {
   "cell_type": "markdown",
   "metadata": {
    "id": "3hxXe8xBHK2C"
   },
   "source": [
    "Тук нещата стават една идея по-сложни. Нека започнем с един пример: трябва да намерим произведението на всички числа в даден списък.\n",
    "\n",
    "Нека за момент се абстрахираме от програмирането - как бихме намерили произведението на числа 3, 5 и 8 ? Първо бихме умножили 3 и 5, което прави 15. След това, получения резултат от предишната операция (в нашия случай 15) и ще го умножим с 8.\n",
    "\n",
    "Тази процедура може да бъде използвана за списъци с произволен брой числа - всяко следващо число бива умножено с резултата до момента.\n",
    "\n",
    "Ако трябва да представим тази идея с код, тя би изглеждала по следния начин:"
   ]
  },
  {
   "cell_type": "code",
   "execution_count": null,
   "metadata": {
    "id": "s9z4rwwAJ30E"
   },
   "outputs": [],
   "source": [
    "def get_product_of_all_nums(nums):\n",
    "    result = nums[0]\n",
    "\n",
    "    for num in nums[1:]:\n",
    "        result = result * num\n",
    "    \n",
    "    return result"
   ]
  },
  {
   "cell_type": "code",
   "execution_count": null,
   "metadata": {
    "colab": {
     "base_uri": "https://localhost:8080/"
    },
    "id": "r-UzBcuSNXSj",
    "outputId": "15a9ad6a-1d39-4da5-e423-0b8010153394"
   },
   "outputs": [
    {
     "name": "stdout",
     "output_type": "stream",
     "text": [
      "120\n"
     ]
    }
   ],
   "source": [
    "numbers = [3, 5, 8]\n",
    "print(get_product_of_all_nums(numbers))"
   ]
  },
  {
   "cell_type": "markdown",
   "metadata": {
    "id": "5eEwlbKTN2qc"
   },
   "source": [
    "Нека генерализираме нашата функция - вместо умножение, тя да може да работи с подадена функция, приемаща два аргумента - резултата до момента и текущото число"
   ]
  },
  {
   "cell_type": "code",
   "execution_count": null,
   "metadata": {
    "id": "Aj_TGwF7OEbO"
   },
   "outputs": [],
   "source": [
    "def my_reduce(function, collection):\n",
    "    result = collection[0]\n",
    "\n",
    "    for item in collection[1:]:\n",
    "        result = function(result, item)\n",
    "    \n",
    "    return result"
   ]
  },
  {
   "cell_type": "code",
   "execution_count": null,
   "metadata": {
    "colab": {
     "base_uri": "https://localhost:8080/"
    },
    "id": "GOAzsrEyOcV9",
    "outputId": "5cd5ca95-deb7-4a9b-ade4-9305b1570444"
   },
   "outputs": [
    {
     "name": "stdout",
     "output_type": "stream",
     "text": [
      "120\n"
     ]
    }
   ],
   "source": [
    "numbers = [3, 5, 8]\n",
    "def multiply(result_so_far, current_number):\n",
    "    return result_so_far * current_number\n",
    "\n",
    "print(my_reduce(multiply, numbers))"
   ]
  },
  {
   "cell_type": "markdown",
   "metadata": {
    "id": "zh_Yc4mCOr21"
   },
   "source": [
    "Една промяна, която можем да направим е следната - вместо за начало да взимаме първия елемент от колекцията, може да приемаме началната стойност като аргумент на функцията. Така нашата функция би работела и с празни колекции. "
   ]
  },
  {
   "cell_type": "code",
   "execution_count": null,
   "metadata": {
    "id": "btgU6oqxO0xn"
   },
   "outputs": [],
   "source": [
    "def my_reduce_with_start(function, collection, start):\n",
    "    result = start\n",
    "\n",
    "    for item in collection:\n",
    "        result = function(result, item)\n",
    "    \n",
    "    return result"
   ]
  },
  {
   "cell_type": "code",
   "execution_count": null,
   "metadata": {
    "colab": {
     "base_uri": "https://localhost:8080/"
    },
    "id": "zJW_47dcO4NF",
    "outputId": "e4b0e91f-3226-4dfa-a475-66a5528860e9"
   },
   "outputs": [
    {
     "name": "stdout",
     "output_type": "stream",
     "text": [
      "120\n"
     ]
    }
   ],
   "source": [
    "numbers = [3, 5, 8]\n",
    "def multiply(result_so_far, current_number):\n",
    "    return result_so_far * current_number\n",
    "\n",
    "print(my_reduce_with_start(multiply, numbers, 1))"
   ]
  },
  {
   "cell_type": "markdown",
   "metadata": {
    "id": "3yKqd5GiO-4b"
   },
   "source": [
    "Ето че стигнахме и до `reduce` - функция, която приема функция и колекция. Функцията бива приложена върху резултата, който имаме до момента и всеки елемент от колекцията.\n",
    "Важно е да уточним терминологията тук - в някои езици може да срещенете тази функция като `accumulate`, `fold` или пък `foldl`.\n",
    "\n",
    "Тук е важно да спомена за наличието на т.нар \"ляв\" и \"десен\" `reduce`. В други функционални езици (като Haskell), имаме концепцията за ляв и десен `fold` - в каква посока се изпълнява функцията - отляво надясно или отдясно наляво. За някои операции (например умножение) реда на изпълнение няма значение, но например при деление би имало значение дали започваме от ляво или от дясно. Повече информация за fold функцията в другите езици, може да намерите [тук](https://www.wikiwand.com/en/Fold_(higher-order_function)). "
   ]
  },
  {
   "cell_type": "markdown",
   "metadata": {
    "id": "cWgQ-b6rgPBs"
   },
   "source": [
    "Вградената функция reduce в Python се намира в библиотеката `functools`. За да я използваме, първо трябва да я заредим (`import`)"
   ]
  },
  {
   "cell_type": "code",
   "execution_count": null,
   "metadata": {
    "colab": {
     "base_uri": "https://localhost:8080/"
    },
    "id": "E0OsOOpofqWV",
    "outputId": "cb1da668-8b44-499e-f547-01ec77f6ed0f"
   },
   "outputs": [
    {
     "name": "stdout",
     "output_type": "stream",
     "text": [
      "120\n"
     ]
    }
   ],
   "source": [
    "from functools import reduce\n",
    "\n",
    "numbers = [3, 5, 8]\n",
    "\n",
    "def multiply(result_so_far, current_number):\n",
    "    return result_so_far * current_number\n",
    "\n",
    "print(reduce(multiply, numbers, 1))"
   ]
  },
  {
   "cell_type": "markdown",
   "metadata": {
    "id": "WjRPbjw_gqjM"
   },
   "source": [
    "Както може би сте се досетили, тук не получаваме генератор - резултатът от `reduce` е една стойност (в нашия случай това е число).\n",
    "\n",
    "`reduce`, също както `map` и `filter` работи и с `lambda` функции. Тук е добро място да се отбележи, че първия аргумент, който бива подаден на функцията е стойността до момента (или стойността, която се е **акумулирала** (**accumulate**). "
   ]
  },
  {
   "cell_type": "code",
   "execution_count": null,
   "metadata": {
    "colab": {
     "base_uri": "https://localhost:8080/"
    },
    "id": "iDUnY5Ikg1nA",
    "outputId": "7348d1d5-94e8-4896-d744-a1755b37af78"
   },
   "outputs": [
    {
     "name": "stdout",
     "output_type": "stream",
     "text": [
      "120\n"
     ]
    }
   ],
   "source": [
    "numbers = [3, 5, 8]\n",
    "\n",
    "print(reduce(lambda acc, number: acc * number, numbers))"
   ]
  },
  {
   "cell_type": "markdown",
   "metadata": {
    "id": "Y0kpWGxPrm1B"
   },
   "source": [
    "А можем и да подадем начална стойност:"
   ]
  },
  {
   "cell_type": "code",
   "execution_count": null,
   "metadata": {
    "colab": {
     "base_uri": "https://localhost:8080/"
    },
    "id": "l1W8u5RrrpyN",
    "outputId": "9d1374c3-48a0-4674-cc95-37f8fd40f408"
   },
   "outputs": [
    {
     "name": "stdout",
     "output_type": "stream",
     "text": [
      "120\n",
      "240\n"
     ]
    }
   ],
   "source": [
    "numbers = [3, 5, 8]\n",
    "print(reduce(lambda acc, number: acc * number, numbers, 1))\n",
    "print(reduce(lambda acc, number: acc * number, numbers, 2))"
   ]
  },
  {
   "cell_type": "markdown",
   "metadata": {
    "id": "YVMFH9kZsOkV"
   },
   "source": [
    "А сега един по-сложен пример: Нека имаме списък, чийто елементи са списъци с числа. С помощта на `reduce`, подходяща функция и подходяща начална стойност, бихме могли да получим един списък, който съдържа числата, без те да са в отделни списъци."
   ]
  },
  {
   "cell_type": "code",
   "execution_count": null,
   "metadata": {
    "colab": {
     "base_uri": "https://localhost:8080/"
    },
    "id": "QQn2gsO-snB-",
    "outputId": "de0281c4-a741-4005-a076-b6a6be898a39"
   },
   "outputs": [
    {
     "name": "stdout",
     "output_type": "stream",
     "text": [
      "[1, 2, 3, 4, 5, 6, 7, 8, 9, 10]\n"
     ]
    }
   ],
   "source": [
    "numbers_2d = [[1, 2, 3], [4, 5, 6], [7, 8, 9, 10]]\n",
    "\n",
    "print(reduce(lambda acc, item: acc + item, numbers_2d, []))"
   ]
  },
  {
   "cell_type": "markdown",
   "metadata": {
    "id": "0S1DKM_ps2jd"
   },
   "source": [
    "Припомням, че операция събиране (`+`) приложена върху два списъка ни връща конкатенацията на двата списъка. \n",
    "\n",
    "В горната операция, ние взехме един списък, и го \"изравнихме\" (flatten). Операцията \"flatten\" върху списъци е често срещата в езиците за функционално програмиране, макар и в Python да нямаме готова функция за това. "
   ]
  },
  {
   "cell_type": "markdown",
   "metadata": {
    "id": "3UMrn1_GC9TV"
   },
   "source": [
    "## List comprehension"
   ]
  },
  {
   "cell_type": "markdown",
   "metadata": {
    "id": "fuy1NAg0smBA"
   },
   "source": [
    "В Python съществува функционалност, наречена \"list comprehension\". List comprehension е синтактична конструкция, която ни позволява да създаваме списъци на базата на други колекции/итератори/генератори. Синтактично, list comprehension прилича на generator expressions:\n",
    "\n",
    "Можем да изразим тази идея в Python като използваме вече познатите ни `map` и `filter`:\n"
   ]
  },
  {
   "cell_type": "code",
   "execution_count": null,
   "metadata": {
    "colab": {
     "base_uri": "https://localhost:8080/"
    },
    "id": "YwrygZ6wv8V8",
    "outputId": "60024df3-570c-46f9-9163-d204a6a2689f"
   },
   "outputs": [
    {
     "name": "stdout",
     "output_type": "stream",
     "text": [
      "Squared even numbers: [4, 16, 36, 64, 100, 144, 196, 256, 324, 400, 484, 576, 676, 784, 900, 1024, 1156, 1296, 1444, 1600, 1764, 1936, 2116, 2304, 2500, 2704, 2916, 3136, 3364, 3600, 3844, 4096, 4356, 4624, 4900, 5184, 5476, 5776, 6084, 6400, 6724, 7056, 7396, 7744, 8100, 8464, 8836, 9216, 9604, 10000]\n"
     ]
    }
   ],
   "source": [
    "numbers = range(1, 101)\n",
    "\n",
    "even_numbers = filter(lambda x: x % 2 == 0, numbers)\n",
    "squared_numbers = map(lambda x: x ** 2, even_numbers)\n",
    "\n",
    "print(f'Squared even numbers: {list(squared_numbers)}')"
   ]
  },
  {
   "cell_type": "markdown",
   "metadata": {
    "id": "KscbZW_owmaj"
   },
   "source": [
    "В общия случай, синтаксиса на list comprehension е следния: `[f(item) for item in collection if p(item)]` - т.е. кода по-горе би изглеждал по следния начин като list comprehension:"
   ]
  },
  {
   "cell_type": "code",
   "execution_count": null,
   "metadata": {
    "colab": {
     "base_uri": "https://localhost:8080/"
    },
    "id": "SvpZfh34w6f1",
    "outputId": "33e2b04d-cf11-44bf-8711-5cd6167c8856"
   },
   "outputs": [
    {
     "name": "stdout",
     "output_type": "stream",
     "text": [
      "Squared even numbers: [4, 16, 36, 64, 100, 144, 196, 256, 324, 400, 484, 576, 676, 784, 900, 1024, 1156, 1296, 1444, 1600, 1764, 1936, 2116, 2304, 2500, 2704, 2916, 3136, 3364, 3600, 3844, 4096, 4356, 4624, 4900, 5184, 5476, 5776, 6084, 6400, 6724, 7056, 7396, 7744, 8100, 8464, 8836, 9216, 9604, 10000]\n"
     ]
    }
   ],
   "source": [
    "print(f'Squared even numbers: {[x ** 2 for x in range(1, 101) if x % 2 == 0]}')"
   ]
  },
  {
   "cell_type": "markdown",
   "metadata": {
    "id": "6WIeBL5oxHnj"
   },
   "source": [
    "`if` часта или функцията, която се прилага върху всяка променливата могат да бъдат изпуснати:"
   ]
  },
  {
   "cell_type": "code",
   "execution_count": null,
   "metadata": {
    "colab": {
     "base_uri": "https://localhost:8080/"
    },
    "id": "pjyywkZbxSeE",
    "outputId": "f9c26985-1e46-4b66-d721-a7779f742b1a"
   },
   "outputs": [
    {
     "name": "stdout",
     "output_type": "stream",
     "text": [
      "Odd numbers: [1, 3]\n",
      "Multiplying all numbers by 2: [2, 4, 6]\n"
     ]
    }
   ],
   "source": [
    "numbers = [1, 2, 3]\n",
    "print(f'Odd numbers: {[number for number in numbers if number % 2 != 0]}')\n",
    "print(f'Multiplying all numbers by 2: {[number * 2 for number in numbers]}')"
   ]
  },
  {
   "cell_type": "markdown",
   "metadata": {
    "id": "9k5onClsPBx7"
   },
   "source": [
    "Тук е добре да отбележем, че основната синтактична разлика между list comprehension и generator comprehension е скобите (`[]` за list comprehension и `()` за generator comprehension)"
   ]
  },
  {
   "cell_type": "code",
   "execution_count": null,
   "metadata": {
    "colab": {
     "base_uri": "https://localhost:8080/"
    },
    "id": "cLobXcm0yTJK",
    "outputId": "682b3f1b-d2e7-459e-f208-7c6a59a006fb"
   },
   "outputs": [
    {
     "name": "stdout",
     "output_type": "stream",
     "text": [
      "Areas of valid rectangles: [2, 20, 7.5]\n"
     ]
    }
   ],
   "source": [
    "def calculate_area_of_rectangle(a, b):\n",
    "    return a * b\n",
    "\n",
    "rectangles = [(1, 2), (5, 4), (3, 2.5), (-2, 3)]\n",
    "areas = [calculate_area_of_rectangle(x, y) for x, y in rectangles if x >= 0 and y >= 0]\n",
    "\n",
    "print(f'Areas of valid rectangles: {areas}')"
   ]
  },
  {
   "cell_type": "markdown",
   "metadata": {
    "id": "7egor06ByQ6F"
   },
   "source": [
    "Може би забелязвате, че когато функцията която изпълняваме не е външна, не използваме `lambda`, а директно пишем операцията която искаме да приложим - това е част от опростяването на синтаксиса на list comprehension-ите. "
   ]
  },
  {
   "cell_type": "markdown",
   "metadata": {
    "id": "TAIQ13l-zK2c"
   },
   "source": [
    "Нека имаме дадени числа - искаме да върнем списък, в който за всяко число да пише \"Yes\" ако се дели на 3 или 5 и \"No\" в противен случай. Това може да стане лесно, чрез използването на тернарния оператор в Python."
   ]
  },
  {
   "cell_type": "code",
   "execution_count": null,
   "metadata": {
    "colab": {
     "base_uri": "https://localhost:8080/"
    },
    "id": "BZwrpsImzesG",
    "outputId": "27c63345-173b-4706-be3f-d33445c23e4b"
   },
   "outputs": [
    {
     "name": "stdout",
     "output_type": "stream",
     "text": [
      "Results are: ['No', 'Yes', 'Yes', 'Yes', 'Yes', 'Yes', 'No', 'No']\n"
     ]
    }
   ],
   "source": [
    "numbers = [7, 12, 5, 6, 9, 15, 1, 11]\n",
    "\n",
    "results = [\"Yes\" if number % 3 == 0 or number % 5 == 0 else \"No\" for number in numbers]\n",
    "\n",
    "print(f'Results are: {results}')"
   ]
  },
  {
   "cell_type": "markdown",
   "metadata": {
    "id": "p1gXeK1VC_hj"
   },
   "source": [
    "## Скорост"
   ]
  },
  {
   "cell_type": "markdown",
   "metadata": {
    "id": "TP_Xktyy0GaH"
   },
   "source": [
    "Едно от най-\"шокиращите\" неща в Python е скоростта, която получаваме при използването на обикновенни `for` цикли, `map` или list comprehension.\n",
    "\n",
    "За да демонстрираме разликата, ще създадем функция, която повдига число на квадрат, и ще я приложим върху списък от 40 000 000 числа."
   ]
  },
  {
   "cell_type": "code",
   "execution_count": null,
   "metadata": {
    "colab": {
     "base_uri": "https://localhost:8080/"
    },
    "id": "mfnNOi640c7h",
    "outputId": "e7e2987d-0c6c-4702-bf02-d6e6c9b88405"
   },
   "outputs": [
    {
     "name": "stdout",
     "output_type": "stream",
     "text": [
      "For-looping took 19.72 seconds\n",
      "map() took 13.60 seconds\n",
      "List comprehension took 15.08 seconds\n"
     ]
    }
   ],
   "source": [
    "from time import time\n",
    "\n",
    "def power_up(a):\n",
    "    return a ** 2\n",
    "\n",
    "numbers = list(range(1, 40000000))\n",
    "\n",
    "for_loop_start = time()\n",
    "\n",
    "for_loop_result = []\n",
    "for number in numbers:\n",
    "    for_loop_result.append(power_up(number))\n",
    "\n",
    "for_loop_end = time()\n",
    "print(f'For-looping took {for_loop_end - for_loop_start:.2f} seconds')\n",
    "\n",
    "\n",
    "map_start = time()\n",
    "\n",
    "map_result = list(map(power_up, numbers))\n",
    "\n",
    "map_end = time()\n",
    "print(f'map() took {map_end - map_start:.2f} seconds')\n",
    "\n",
    "\n",
    "list_comprehension_start = time()\n",
    "\n",
    "list_comprehension_result = [power_up(x) for x in numbers]\n",
    "\n",
    "list_comprehension_end = time()\n",
    "print(f'List comprehension took {list_comprehension_end - list_comprehension_start:.2f} seconds')"
   ]
  },
  {
   "cell_type": "markdown",
   "metadata": {
    "id": "E5_wupc73MQm"
   },
   "source": [
    "Основната разлика във времето идва от факта, че `append()` операцията е бавна. `map` и list comprehension-ите използва хитрини при заделянето на паметта, затова може да се каже че са с около 30% по-бързи. Няма да се впускам повече в темата, за по-любопитните, [тук](https://web.archive.org/web/20190319205826/http://blog.cdleary.com/2010/04/efficiency-of-list-comprehensions/) нещата са обяснение в повече детайли."
   ]
  },
  {
   "cell_type": "markdown",
   "metadata": {
    "id": "HDUtKjL53mtu"
   },
   "source": [
    "На въпросът, кой от трите подхода се използват, моят отговор е следния: list comprehension и `map` дават доста по-добро представяне спрямо `for` loop + `append`, затова и са за предпочитане. Синтаксисът на list comprehension-ите е по-прост спрямо този на `map` (особенно ако трябва и да филтрираме елементите), което води до това, че **list comprehension-ите са за предпочитане**."
   ]
  },
  {
   "cell_type": "markdown",
   "metadata": {
    "id": "ytqbJm2nscBG"
   },
   "source": [
    "## Dict comprehension"
   ]
  },
  {
   "cell_type": "markdown",
   "metadata": {
    "id": "oa8ujeXXsedn"
   },
   "source": [
    "Подобно на list comprehension, можем да използваме подобен запис да създадем и речник (dictionary, dict).\n",
    "\n",
    "Синтаксисът е същият, само че вместо `[]`, използваме `{}`. Също така, вместо един елемент, използваме `key:value` - т.е. общия вид би изглеждал по следния начин: `{f(item):g(value) for item in collection if p(item)}`"
   ]
  },
  {
   "cell_type": "markdown",
   "metadata": {
    "id": "DGXK9JV1tcql"
   },
   "source": [
    "Нека като пример разглеждаме dict, който съдържа число (измежду 1 и 10), и дали е четно или не"
   ]
  },
  {
   "cell_type": "code",
   "execution_count": null,
   "metadata": {
    "colab": {
     "base_uri": "https://localhost:8080/"
    },
    "id": "yKeJaTras-I5",
    "outputId": "34485928-d9aa-4cde-eea2-d9d95b0acd01"
   },
   "outputs": [
    {
     "name": "stdout",
     "output_type": "stream",
     "text": [
      "{1: False, 2: True, 3: False, 4: True, 5: False, 6: True, 7: False, 8: True, 9: False, 10: True}\n"
     ]
    }
   ],
   "source": [
    "my_dict = {num:num%2 == 0 for num in range(1, 11)}\n",
    "\n",
    "print(my_dict)"
   ]
  },
  {
   "cell_type": "markdown",
   "metadata": {
    "id": "8R-y_likt0oi"
   },
   "source": [
    "Както при generator изразите и list comprehension, можем да добавим `if` част.\n",
    "\n",
    "Нека създадем речник, който съдържа четните числа от 1 до 20, както и тяхната репрезентация като низ."
   ]
  },
  {
   "cell_type": "code",
   "execution_count": null,
   "metadata": {
    "colab": {
     "base_uri": "https://localhost:8080/"
    },
    "id": "5UFLozjOuPhJ",
    "outputId": "4e508a30-f48f-4b53-bd0d-8918a5889c32"
   },
   "outputs": [
    {
     "name": "stdout",
     "output_type": "stream",
     "text": [
      "{2: '2', 4: '4', 6: '6', 8: '8', 10: '10', 12: '12', 14: '14', 16: '16', 18: '18', 20: '20'}\n"
     ]
    }
   ],
   "source": [
    "even_numbers_as_strs = {num:str(num) for num in range(1, 21) if num % 2 == 0}\n",
    "\n",
    "print(even_numbers_as_strs)"
   ]
  },
  {
   "cell_type": "markdown",
   "metadata": {
    "id": "kvSV07HkDF9T"
   },
   "source": [
    "## Примери"
   ]
  },
  {
   "cell_type": "markdown",
   "metadata": {
    "id": "05hhPuUyG7tA"
   },
   "source": [
    "Нека разгледаме някои примери за функционално програмиране от живия живот"
   ]
  },
  {
   "cell_type": "markdown",
   "metadata": {
    "id": "P_Mne7czHCdh"
   },
   "source": [
    "### Пример 1"
   ]
  },
  {
   "cell_type": "markdown",
   "metadata": {
    "id": "GmqP0CnOPPIF"
   },
   "source": [
    "\n",
    "Нека е даден клас `Student` с полета `name`, `student_id_number`, `year`, `courses`, където `courses` е списък с курсове и оценки към тях, представени от класа `Course`.\n",
    "\n",
    "Да се напише функция, която приема списък от студенти, и връща списък, съдържащ номерата на студентите, които имат среден успех над 4.50."
   ]
  },
  {
   "cell_type": "code",
   "execution_count": 1,
   "metadata": {
    "id": "3Nu26U_-H9Pj"
   },
   "outputs": [],
   "source": [
    "class Course:\n",
    "    def __init__(self, name='', grade=2.0):\n",
    "        self.__name = name\n",
    "        self.__grade = gradeНаправете преводач от кирилица към \"шльокавица\".\n",
    "\n",
    "Нека приемем, че азбуката на шльокавицата e A, B, V, G, D, E, J, Z, I, Y, K, L, M, N, O, P, R, S, T, U, F, H, C, 4, 6, 6T, U, Y, YU, Q.\n",
    "    \n",
    "    @property\n",
    "    def name(self):\n",
    "        return self.__name\n",
    "    \n",
    "    @property\n",
    "    def grade(self):\n",
    "        return self.__grade\n",
    "\n",
    "    @grade.setter\n",
    "    def grade(self, new_grade):\n",
    "        self.__grade = new_grade\n",
    "\n",
    "class Student:\n",
    "    def __init__(self, name, student_id_number, year):\n",
    "        self.__name = name\n",
    "        self.__student_id_number = student_id_number\n",
    "        self.__year = year\n",
    "        self.__courses = []\n",
    "    \n",
    "    @property\n",
    "    def name(self):\n",
    "        return self.__name\n",
    "\n",
    "    @property\n",
    "    def student_id_number(self):\n",
    "        return self.__student_id_number\n",
    "\n",
    "    @property\n",
    "    def year(self):\n",
    "        return self.__year\n",
    "\n",
    "    @property\n",
    "    def courses(self):\n",
    "        return self.__courses\n",
    "\n",
    "    def start_new_year(self):\n",
    "        self.__year += 1\n",
    "        self.__courses = []\n",
    "    \n",
    "    def add_new_course(self, course):\n",
    "        self.__courses.append(course)\n",
    "\n",
    "student_1 = Student('Ivan the Programmer', '12345', 1)\n",
    "student_1.add_new_course(Course('Algebra', 4.50))\n",
    "student_1.add_new_course(Course('Intro to programming', 6.00))\n",
    "student_1.add_new_course(Course('Geometry', 3.00))\n",
    "student_1.add_new_course(Course('Calculus', 2.00))\n",
    "\n",
    "student_2 = Student('Maria', '12346', 1)\n",
    "student_2.add_new_course(Course('Algebra', 5.75))\n",
    "student_2.add_new_course(Course('Intro to programming', 6.00))\n",
    "student_2.add_new_course(Course('Geometry', 6.00))\n",
    "student_2.add_new_course(Course('Calculus', 6.00))\n",
    "\n",
    "student_3 = Student('Gosho from break', '12347', 1)\n",
    "student_3.add_new_course(Course('Algebra', 2.00))\n",
    "student_3.add_new_course(Course('Intro to programming', 2.00))\n",
    "student_3.add_new_course(Course('Geometry', 2.00))\n",
    "student_3.add_new_course(Course('Calculus', 3.00))\n"
   ]
  },
  {
   "cell_type": "markdown",
   "metadata": {
    "id": "ApypLVa3Q1F1"
   },
   "source": [
    "#### Решение на Пример 1"
   ]
  },
  {
   "cell_type": "code",
   "execution_count": 2,
   "metadata": {
    "colab": {
     "base_uri": "https://localhost:8080/"
    },
    "id": "6jyFOUpmKRUe",
    "outputId": "16549a52-0457-46b6-99bd-2a49bbd2d8f3"
   },
   "outputs": [
    {
     "name": "stdout",
     "output_type": "stream",
     "text": [
      "['Maria']\n"
     ]
    }
   ],
   "source": [
    "def average_grade(student):\n",
    "    grades = [course.grade for course in student.courses]\n",
    "    return sum(grades) / len(grades)\n",
    "\n",
    "def get_students_with_high_enough_grades(students):\n",
    "    target_grade = 4.50\n",
    "\n",
    "    return [student.name for student in students if average_grade(student) >= target_grade]\n",
    "\n",
    "all_students = [student_1, student_2, student_3]\n",
    "\n",
    "print(get_students_with_high_enough_grades(all_students))"
   ]
  },
  {
   "cell_type": "markdown",
   "metadata": {
    "id": "SqDvNaNhQ76N"
   },
   "source": [
    "### Пример 2\n"
   ]
  },
  {
   "cell_type": "markdown",
   "metadata": {
    "id": "-KlNT5ENRjOD"
   },
   "source": [
    "Напишете декоратор, който \"защитава\" изпълнението на функция със специална супер секретна парола (например 'super_safe_password`). Нашият декоратор трябва да пита потребителя за парола. Ако въведената парола съвпада, изпълнява подадената функция. В противен случай, връща 'Invalid password'. "
   ]
  },
  {
   "cell_type": "markdown",
   "metadata": {
    "id": "6ckO074SOMjz"
   },
   "source": [
    "#### Решение на пример 2"
   ]
  },
  {
   "cell_type": "code",
   "execution_count": 7,
   "metadata": {
    "id": "BIqUgEOyNiZN"
   },
   "outputs": [],
   "source": [
    "def login_required(f):\n",
    "    def inner():\n",
    "        password = input('Please enter a password')\n",
    "        if password == 'super_safe_password':\n",
    "            result = f()\n",
    "        else:\n",
    "            result = 'Invalid password'\n",
    "        return result\n",
    "    return inner"
   ]
  },
  {
   "cell_type": "code",
   "execution_count": 8,
   "metadata": {
    "colab": {
     "base_uri": "https://localhost:8080/"
    },
    "id": "Z4S67VFHOP4i",
    "outputId": "56ad2dfe-d0e5-413b-b643-3032dfa8cf7f"
   },
   "outputs": [
    {
     "ename": "TypeError",
     "evalue": "inner() takes 0 positional arguments but 4 were given",
     "output_type": "error",
     "traceback": [
      "\u001b[0;31m---------------------------------------------------------------------------\u001b[0m",
      "\u001b[0;31mTypeError\u001b[0m                                 Traceback (most recent call last)",
      "Cell \u001b[0;32mIn [8], line 9\u001b[0m\n\u001b[1;32m      5\u001b[0m \u001b[38;5;129m@login_required\u001b[39m\n\u001b[1;32m      6\u001b[0m \u001b[38;5;28;01mdef\u001b[39;00m \u001b[38;5;21mfoo\u001b[39m(a, b, c, d):\n\u001b[1;32m      7\u001b[0m     \u001b[38;5;28;01mreturn\u001b[39;00m a \u001b[38;5;241m+\u001b[39m b \u001b[38;5;241m+\u001b[39m c \u001b[38;5;241m+\u001b[39m d\n\u001b[0;32m----> 9\u001b[0m \u001b[38;5;28mprint\u001b[39m(\u001b[43mfoo\u001b[49m\u001b[43m(\u001b[49m\u001b[38;5;241;43m2\u001b[39;49m\u001b[43m,\u001b[49m\u001b[43m \u001b[49m\u001b[38;5;241;43m3\u001b[39;49m\u001b[43m,\u001b[49m\u001b[43m \u001b[49m\u001b[38;5;241;43m4\u001b[39;49m\u001b[43m,\u001b[49m\u001b[43m \u001b[49m\u001b[38;5;241;43m5\u001b[39;49m\u001b[43m)\u001b[49m)\n",
      "\u001b[0;31mTypeError\u001b[0m: inner() takes 0 positional arguments but 4 were given"
     ]
    }
   ],
   "source": [
    "@login_required\n",
    "def get_super_secret_message(name):\n",
    "    return f'Hi, {name}. Your mission is to learn Python.'\n",
    "\n",
    "@login_required\n",
    "def foo(a, b, c, d):\n",
    "    return a + b + c + d\n",
    "\n",
    "print(foo(2, 3, 4, d=5))"
   ]
  },
  {
   "cell_type": "markdown",
   "metadata": {
    "id": "RflAWiEEfouz"
   },
   "source": [
    "### Пример 3"
   ]
  },
  {
   "cell_type": "markdown",
   "metadata": {
    "id": "9yHC9PKxfsMk"
   },
   "source": [
    "`range` ни връща генератор, който ни дава числата в даден интервал. Нека разширим тази идея, и напишем генератор, който ни дава координатите в двумерно пространство при зададено начало и край.\n",
    "\n",
    "Пример: начало - (1, 1), край - (3, 4)\n",
    "\n",
    "Резултат: (1, 1), (1, 2), (1, 3), (2, 1), (2, 2), (2, 3)"
   ]
  },
  {
   "cell_type": "markdown",
   "metadata": {
    "id": "yo56CB5wftiv"
   },
   "source": [
    "#### Решение на Пример 3"
   ]
  },
  {
   "cell_type": "code",
   "execution_count": 12,
   "metadata": {
    "colab": {
     "base_uri": "https://localhost:8080/"
    },
    "id": "R1iWEQarfve7",
    "outputId": "eb09d6a7-f86a-4b41-b4b2-356f04914d1b"
   },
   "outputs": [
    {
     "name": "stdout",
     "output_type": "stream",
     "text": [
      "(1, 1)\n",
      "(1, 2)\n",
      "(1, 1)\n"
     ]
    }
   ],
   "source": [
    "def range_2d(start, end):\n",
    "    for i in range(start[0], end[0]):\n",
    "        for j in range(start[1], end[1]):\n",
    "            yield (i, j)\n",
    "\n",
    "# for coord in range_2d((1, 1), (3, 4)):\n",
    "#     print(coord)\n",
    "\n",
    "save = range_2d((1, 1), (3, 4))\n",
    "current = range_2d((1, 1), (3, 4))\n",
    "\n",
    "print(next(current))\n",
    "print(next(current))\n",
    "print(next(save))"
   ]
  },
  {
   "cell_type": "markdown",
   "metadata": {
    "collapsed": false
   },
   "source": [
    "### Пример 4"
   ]
  },
  {
   "cell_type": "markdown",
   "metadata": {
    "collapsed": false
   },
   "source": [
    "Напишете функция `bind_countries_to_capitals`, която приема два списъка - списък с имена на държави и списък с имена на столици.\n",
    "Функцията трябва да върне речник, който съдържа държавите като ключове и съответните им столици като стойности. (приемаме, че на същия индекс на който е държавата стои и столицата ѝ в другия списък)"
   ]
  },
  {
   "cell_type": "markdown",
   "metadata": {},
   "source": [
    "#### Решение на пример 4"
   ]
  },
  {
   "cell_type": "code",
   "execution_count": 22,
   "metadata": {},
   "outputs": [
    {
     "name": "stdout",
     "output_type": "stream",
     "text": [
      "{'Bulgaria': 'Sofia', 'Italy': 'Rome', 'Turkey': 'Ankara'}\n"
     ]
    }
   ],
   "source": [
    "def bind_countries_to_capitals(countries, capitals):\n",
    "    return dict(zip(countries, capitals))\n",
    "\n",
    "\n",
    "countries = ['Bulgaria', 'Italy', 'Turkey']\n",
    "capitals = ['Sofia', 'Rome', 'Ankara']\n",
    "\n",
    "result = bind_countries_to_capitals(countries, capitals)\n",
    "print(result)\n",
    "# {'Bulgaria': 'Sofia', 'Italy': 'Rome', 'Turkey': 'Ankara'}"
   ]
  },
  {
   "cell_type": "markdown",
   "metadata": {
    "collapsed": false
   },
   "source": [
    "### Пример 5"
   ]
  },
  {
   "cell_type": "markdown",
   "metadata": {
    "collapsed": false
   },
   "source": [
    "#### Условие 1\n",
    "Даден е следният клас `RGB`, който моделира цвят в RGB формат:"
   ]
  },
  {
   "cell_type": "code",
   "execution_count": 33,
   "metadata": {
    "collapsed": false
   },
   "outputs": [],
   "source": [
    "class RGB:\n",
    "    def __init__(self, r, g, b):\n",
    "        \"\"\"Initialize the RGB class with the given values for red, green and blue.\n",
    "        Each value should be an integer between 0 and 255.\n",
    "        \"\"\"\n",
    "\n",
    "        if r < 0 or r > 255:\n",
    "            raise ValueError('Invalid red value')\n",
    "        if g < 0 or g > 255:\n",
    "            raise ValueError('Invalid green value')\n",
    "        if b < 0 or b > 255:\n",
    "            raise ValueError('Invalid blue value')\n",
    "\n",
    "        self._r = r\n",
    "        self._g = g\n",
    "        self._b = b\n",
    "\n",
    "    @property\n",
    "    def r(self):\n",
    "        return self._r\n",
    "\n",
    "    @property\n",
    "    def g(self):\n",
    "        return self._g\n",
    "\n",
    "    @property\n",
    "    def b(self):\n",
    "        return self._b\n",
    "\n",
    "    def to_hex(self):\n",
    "        return f'#{self.r:02X}{self.g:02X}{self.b:02X}'\n",
    "    \n",
    "    @classmethod\n",
    "    def from_hex(cls, hex):\n",
    "        r = int(hex[1:3], base=16)\n",
    "        g = int(hex[3:5], base=16)\n",
    "        b = int(hex[5:7], base=16)\n",
    "\n",
    "        return cls(r, g, b)\n",
    "        \n",
    "    def __repr__(self):\n",
    "        return f'RGB({self.r}, {self.g}, {self.b})'\n",
    "\n",
    "    def __eq__(self, other):\n",
    "        return self.r == other.r and self.g == other.g and self.b == other.b\n",
    "\n",
    "    def __hash__(self):\n",
    "        return hash((self.r, self.g, self.b))"
   ]
  },
  {
   "cell_type": "markdown",
   "metadata": {
    "collapsed": false
   },
   "source": [
    "Да се напишат функции `rgb_pallette_to_hex_str` и `hex_str_pallette_to_rgb`, които:\n",
    "\n",
    "* `rgb_pallette_to_hex_str`: конвертира лист от цветове като `RGB` до лист от `str` (цветовете във формат `#RRGGBB`, където `RR`, `GG`, `BB` са сътответно стойностите на червеното, зеленото и синьото в шестнадесетична бройна система)\n",
    "* `hex_str_pallete_to_rgb`: конвертира лист от `str` в горепосочения hex формат (case-insensitive!) и връща лист от `RGB` обекти (цветовете в RGB формат)\n",
    "\n",
    "***Hint 1***: съществуват начини в `str.format` или `f-string`-овете да се специфицират колко цифри и в каква бройна система да се използват при форматиране на числа\n",
    "\n",
    "***Hint 2***: разгледайте всички варианти на конструиране на `int` по даден `str`"
   ]
  },
  {
   "cell_type": "code",
   "execution_count": 34,
   "metadata": {},
   "outputs": [
    {
     "name": "stdout",
     "output_type": "stream",
     "text": [
      "['#FF00FF']\n",
      "[RGB(255, 0, 255)]\n"
     ]
    }
   ],
   "source": [
    "def rgb_pallette_to_hex_str(colors):\n",
    "    return [color.to_hex() for color in colors]\n",
    "\n",
    "colors = [RGB(255, 0, 255)]\n",
    "\n",
    "def hex_pallette_to_rgb(hex_colors):\n",
    "    return [RGB.from_hex(hex_color) for hex_color in hex_colors]\n",
    "\n",
    "result = rgb_pallette_to_hex_str(colors)\n",
    "print(result)\n",
    "\n",
    "print(hex_pallette_to_rgb(result))"
   ]
  },
  {
   "cell_type": "markdown",
   "metadata": {
    "collapsed": false
   },
   "source": [
    "#### Условие 2\n",
    "\n",
    "Нека имаме и имена за някои от цветовете:"
   ]
  },
  {
   "cell_type": "code",
   "execution_count": null,
   "metadata": {
    "collapsed": false
   },
   "outputs": [],
   "source": [
    "PALLETTE = {\n",
    "    RGB(255, 255, 255): 'white',\n",
    "    RGB(0, 0, 0): 'black',\n",
    "    RGB(255, 0, 0): 'red',\n",
    "    RGB(0, 255, 0): 'green',\n",
    "    RGB(0, 0, 255): 'blue',\n",
    "    RGB(69, 69, 69): \"the 51st shade of grey\",\n",
    "}"
   ]
  },
  {
   "cell_type": "code",
   "execution_count": null,
   "metadata": {},
   "outputs": [],
   "source": [
    "hex_colors = [\"#696969\", \"#00FF00\", \"#AAAAAA\"]\n",
    "\n",
    "def extract_only_named_colors(hex_colors):\n",
    "    # 1. Convert hex to RGB objects\n",
    "    # 2. Check if each RGB object is in Pallette\n",
    "    # 3. Return the names those who are in Pallette\n",
    "\n",
    "    rgb_objects = hex_pallette_to_rgb(hex_colors)\n",
    "    filtered_objects = [rgb_object for rgb_object in rgb_objects if rgb_object in PALLETTE]\n",
    "    names_of_filtered_objects = [PALLETTE[filtered_object] for filtered_object in filtered_objects]\n",
    "\n",
    "    return names_of_filtered_objects"
   ]
  },
  {
   "cell_type": "markdown",
   "metadata": {
    "collapsed": false
   },
   "source": [
    "Да се напише функция `extract_only_named_colors` по подаден списък от цветове във формат `#RRGGBB` връща списък от имената им (само на тези, които присъстват в `PALLETTE` - другите се игнорират)."
   ]
  },
  {
   "cell_type": "markdown",
   "metadata": {
    "collapsed": false
   },
   "source": [
    "### Пример 6"
   ]
  },
  {
   "cell_type": "markdown",
   "metadata": {
    "collapsed": false
   },
   "source": [
    "Рефакторирайте долния код така, че да съответства на функционалния стил на програмиране:"
   ]
  },
  {
   "cell_type": "code",
   "execution_count": 36,
   "metadata": {
    "collapsed": false
   },
   "outputs": [
    {
     "name": "stdout",
     "output_type": "stream",
     "text": [
      "| *** Hello world *** |\n",
      "| <<< Hello world >>> |\n"
     ]
    }
   ],
   "source": [
    "class PrettyPrint:\n",
    "    def __init__(self):\n",
    "        self.__border = '|'\n",
    "        self.__content = ''\n",
    "        self.__prefix = '***'\n",
    "        self.__suffix = '***'\n",
    "\n",
    "    def pretty_print(self):\n",
    "        return f'{self.__border} {self.__prefix} {self.__content} {self.__suffix} {self.__border}'\n",
    "\n",
    "    @property\n",
    "    def border(self):\n",
    "        return self.__border\n",
    "\n",
    "    @border.setter\n",
    "    def border(self, new_border):\n",
    "        self.__border = new_border\n",
    "\n",
    "    @property\n",
    "    def content(self):\n",
    "        return self.__content\n",
    "\n",
    "    @content.setter\n",
    "    def content(self, new_content):\n",
    "        self.__content = new_content\n",
    "\n",
    "    @property\n",
    "    def prefix(self):\n",
    "        return self.__prefix\n",
    "\n",
    "    @prefix.setter\n",
    "    def prefix(self, new_prefix):\n",
    "        self.__prefix = new_prefix\n",
    "\n",
    "    @property\n",
    "    def suffix(self):\n",
    "        return self.__suffix\n",
    "\n",
    "    @suffix.setter\n",
    "    def suffix(self, new_suffix):\n",
    "        self.__suffix = new_suffix\n",
    "\n",
    "pretty_printer = PrettyPrint()\n",
    "\n",
    "pretty_printer.content = 'Hello world'\n",
    "print(pretty_printer.pretty_print())\n",
    "\n",
    "pretty_printer.prefix = '<<<'\n",
    "pretty_printer.suffix = '>>>'\n",
    "print(pretty_printer.pretty_print())"
   ]
  },
  {
   "cell_type": "code",
   "execution_count": 38,
   "metadata": {},
   "outputs": [
    {
     "name": "stdout",
     "output_type": "stream",
     "text": [
      "| 666 Hell world 666 |\n"
     ]
    }
   ],
   "source": [
    "def pretty_print(content, border='|', prefix='666', suffix='666'):\n",
    "    return f'{border} {prefix} {content} {suffix} {border}'\n",
    "\n",
    "print(pretty_print('Hell world'))"
   ]
  },
  {
   "cell_type": "markdown",
   "metadata": {},
   "source": [
    "### Пример 7"
   ]
  },
  {
   "cell_type": "markdown",
   "metadata": {},
   "source": [
    "Направете преводач от кирилица към \"шльокавица\".\n",
    "\n",
    "Нека приемем, че азбуката на шльокавицата e A, B, V, G, D, E, J, Z, I, Y, K, L, M, N, O, P, R, S, T, U, F, H, C, 4, 6, 6T, U, Y, YU, Q."
   ]
  }
 ],
 "metadata": {
  "colab": {
   "collapsed_sections": [
    "gkVl1LVhC3mE"
   ],
   "include_colab_link": true,
   "provenance": []
  },
  "kernelspec": {
   "display_name": "Python 3.9.9 64-bit",
   "language": "python",
   "name": "python3"
  },
  "language_info": {
   "codemirror_mode": {
    "name": "ipython",
    "version": 3
   },
   "file_extension": ".py",
   "mimetype": "text/x-python",
   "name": "python",
   "nbconvert_exporter": "python",
   "pygments_lexer": "ipython3",
   "version": "3.9.9"
  },
  "vscode": {
   "interpreter": {
    "hash": "e7370f93d1d0cde622a1f8e1c04877d8463912d04d973331ad4851f04de6915a"
   }
  }
 },
 "nbformat": 4,
 "nbformat_minor": 0
}
