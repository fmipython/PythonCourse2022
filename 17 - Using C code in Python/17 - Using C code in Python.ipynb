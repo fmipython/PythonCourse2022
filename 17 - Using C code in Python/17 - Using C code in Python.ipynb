{
 "cells": [
  {
   "cell_type": "markdown",
   "metadata": {
    "id": "Llt8geaPDHbB"
   },
   "source": [
    "# Използване на C код в Python\n",
    "\n",
    "План на лекцията:\n",
    "- [ ] Защо C код в Python ?\n",
    "- [ ] Как работят C библиотеките ?\n",
    "- [ ] Съпоставяне на типове от C в Python\n",
    "- [X] Простичка функция\n",
    "- [X] Структури\n",
    "- [ ] C++ код\n",
    "- [ ] Скорост\n",
    "- [ ] Примери"
   ]
  },
  {
   "cell_type": "markdown",
   "metadata": {
    "id": "bSSzFD8jEYqP"
   },
   "source": [
    "## Защо C код в Python ?"
   ]
  },
  {
   "cell_type": "markdown",
   "metadata": {
    "id": "Hi8Df8oVEazd"
   },
   "source": [
    "## Как работят C библиотеките ?"
   ]
  },
  {
   "cell_type": "markdown",
   "metadata": {
    "collapsed": false
   },
   "source": [
    "## Съпоставяне на типовете от C в Python"
   ]
  },
  {
   "cell_type": "markdown",
   "metadata": {
    "collapsed": false
   },
   "source": [
    "Основната библиотека, чрез която ще реализираме връзката между C код и Python, е `ctypes`. В нея е всичко необходимо за използването на външен C код в Python.\n",
    "\n",
    "Както знаем, типовете в Python не са същите както в C. Python дефинира типове, имащи за цел да представят типовете в C. Те са разделени на три категории:\n",
    "\n",
    "1. Прости (fundamental) типове\n",
    "2. Сложни (structural) типове\n",
    "3. Масиви и указатели"
   ]
  },
  {
   "cell_type": "markdown",
   "metadata": {
    "collapsed": false
   },
   "source": [
    "### Прости типове"
   ]
  },
  {
   "cell_type": "markdown",
   "metadata": {
    "collapsed": false
   },
   "source": [
    "Простите типове са:\n",
    "- `c_char` - съотвества на C типа `char`\n",
    "- `c_char_p` - съотвества на C типа `char*`\n",
    "- `c_double` - съотвества на C типа `double`\n",
    "- `c_float` - съотвества на C типа `float`\n",
    "- `c_int` - съотвества на C типа `int`\n",
    "- `c_longlong` - съотвества на C типа `long long`\n",
    "- `c_short` - съотвества на C типа `short`\n",
    "- `c_size_t`- съотвества на C типа `size_t`\n",
    "- `c_uint` - съотвества на C типа `unsigned int`\n",
    "- `c_void_p` - съотвества на C типа `void*`\n",
    "- `c_bool` - съотвества на C типа `bool`\n",
    "- и други... (може да откриете пълния списък [тук](https://docs.python.org/3.10/library/ctypes.html?highlight=cdll#ctypes-fundamental-data-types-2))\n",
    "\n",
    "Когато една C функция върне прост тип, този тип автоматично се конвертира в подходящ Python тип."
   ]
  },
  {
   "cell_type": "markdown",
   "metadata": {},
   "source": [
    "### Сложни типове"
   ]
  },
  {
   "cell_type": "markdown",
   "metadata": {},
   "source": [
    "Освен простите типове, `ctypes` ни предлага възможност да работим с `union` и `struct` типове."
   ]
  },
  {
   "cell_type": "markdown",
   "metadata": {},
   "source": [
    "За да работим с `union`, можем да използваме абстрактния клас `ctypes.Union`.\n",
    "За да работим със структури, можем да използваме абстрактния клас `ctypes.Structure`."
   ]
  },
  {
   "cell_type": "markdown",
   "metadata": {},
   "source": [
    "### Масиви и указатели"
   ]
  },
  {
   "cell_type": "markdown",
   "metadata": {},
   "source": [
    "За работа с масиви и указатели, `ctypes` ни предлага класовете `ctypes.Array` и `ctypes._Pointer`/`ctypes.POINTER`.\n",
    "Ще разгледаме примери малко по-долу."
   ]
  },
  {
   "cell_type": "markdown",
   "metadata": {
    "id": "2cA_CS2VEc34"
   },
   "source": [
    "## Простичка функция"
   ]
  },
  {
   "cell_type": "markdown",
   "metadata": {
    "id": "WpTNXbbDC1a7"
   },
   "source": [
    "За да демонстрираме практически как можем да използваме C код в Python, ще съзадем C функция, която ще има за цел да събере две числа.\n",
    "\n",
    "За целта ще използваме вече написан C код, както и предварително подготвен `CMakeLists.txt` файл. За да изпълните успешно кода, ще ви е нужен инсталиран `CMake`, както и C компилатор. \n",
    "\n",
    "Може да разгледате C кода [тук](https://github.com/fmipython/PythonCourse2022/tree/main/17%20-%20Using%20C%20code%20in%20Python/C/example_1)."
   ]
  },
  {
   "cell_type": "code",
   "execution_count": 1,
   "metadata": {
    "collapsed": false
   },
   "outputs": [
    {
     "name": "stdout",
     "output_type": "stream",
     "text": [
      "#ifndef EXAMPLE_1_SUM_H\r\n",
      "#define EXAMPLE_1_SUM_H\r\n",
      "\r\n",
      "extern int sum(const int a, const int b);\r\n",
      "\r\n",
      "#endif"
     ]
    }
   ],
   "source": [
    "!cat \"C/example_1/sum.h\""
   ]
  },
  {
   "cell_type": "code",
   "execution_count": 3,
   "metadata": {
    "collapsed": false
   },
   "outputs": [
    {
     "name": "stdout",
     "output_type": "stream",
     "text": [
      "#include \"sum.h\"\r\n",
      "\r\n",
      "int sum(const int a, const int b) {\r\n",
      "    return a + b;\r\n",
      "}"
     ]
    }
   ],
   "source": [
    "!cat \"C/example_1/sum.c\""
   ]
  },
  {
   "cell_type": "markdown",
   "metadata": {
    "id": "kSHri-VX05Ha"
   },
   "source": [
    "Единствената съществена разлика на този етап в C кода, е използването на ключовата дума `extern` в началото на декларацията на функцията. `extern` променя видимостта на функция, така че да е видима във външни библиотеки."
   ]
  },
  {
   "cell_type": "markdown",
   "metadata": {
    "id": "i5omdRFCvNdW"
   },
   "source": [
    "Компилираме нашия код до C библиотека с помощта на `cmake` и `make` командите"
   ]
  },
  {
   "cell_type": "code",
   "execution_count": 7,
   "metadata": {
    "colab": {
     "base_uri": "https://localhost:8080/"
    },
    "id": "g5kWuaeS-dTu",
    "outputId": "98380656-672c-47ef-ec28-e81244f32711"
   },
   "outputs": [
    {
     "name": "stdout",
     "output_type": "stream",
     "text": [
      "-- The C compiler identification is GNU 12.2.0\r\n",
      "-- Detecting C compiler ABI info\r\n",
      "-- Detecting C compiler ABI info - done\r\n",
      "-- Check for working C compiler: /usr/bin/cc - skipped\r\n",
      "-- Detecting C compile features\r\n",
      "-- Detecting C compile features - done\r\n",
      "-- Configuring done\r\n",
      "-- Generating done\r\n",
      "-- Build files have been written to: /home/lyubolp/PythonCourse2022/17 - Using C code in Python/C/example_1\r\n",
      "[ 50%] \u001b[32mBuilding C object CMakeFiles/Example1.dir/sum.c.o\u001b[0m\r\n",
      "[100%] \u001b[32m\u001b[1mLinking C shared library libExample1.so\u001b[0m\r\n",
      "[100%] Built target Example1\r\n"
     ]
    }
   ],
   "source": [
    "!cd \"C/example_1\" && cmake . && make"
   ]
  },
  {
   "cell_type": "markdown",
   "metadata": {
    "id": "mXNkXv8kvgYB"
   },
   "source": [
    "След като вече имаме `libExample1.so` файла, можем да пристъпим към зареждането ѝ в Python."
   ]
  },
  {
   "cell_type": "markdown",
   "metadata": {
    "collapsed": false
   },
   "source": [
    "Основната библиотека, която ще използваме е `ctypes`. Можем да заредим външна C библиотека с помощта на `ctypes.CDLL` функцията. Тя връща специален обект `CDLL` обект, който съдържа заредената бибилиотека.\n",
    "\n",
    "След като успешно заредим нашата библиотека, в новополучената ни инстанция ще се появят атрибути, които са класове от тип `_FuncPtr` - те ще сочат към функциите в нашата C библиотека.\n",
    "По поздразибране те приемат всякакви `ctypes` аргументи и връщат резултат по подразбиране. Можем да специфицираме аргументите и типа на резултата чрез атрибутите `argtypes` и `restype`."
   ]
  },
  {
   "cell_type": "code",
   "execution_count": 14,
   "metadata": {
    "collapsed": false
   },
   "outputs": [
    {
     "name": "stdout",
     "output_type": "stream",
     "text": [
      "<class 'ctypes.CDLL.__init__.<locals>._FuncPtr'>\n",
      "<class 'ctypes.CDLL'>\n",
      "<class 'int'> 5\n"
     ]
    }
   ],
   "source": [
    "import ctypes\n",
    "import os\n",
    "\n",
    "lib_path = os.path.join(\"C\", \"example_1\", \"libExample1.so\")\n",
    "\n",
    "def setup_lib(path: str) -> ctypes.CDLL:\n",
    "    lib = ctypes.CDLL(path)\n",
    "    print(type(lib.sum))\n",
    "    lib.sum.argtypes = [ctypes.c_int, ctypes.c_int]\n",
    "    lib.sum.restype = ctypes.c_int\n",
    "    return lib\n",
    "\n",
    "lib = setup_lib(lib_path)\n",
    "print(type(lib))\n",
    "\n",
    "result = lib.sum(2, 3)\n",
    "print(type(result), result)"
   ]
  },
  {
   "cell_type": "code",
   "execution_count": 1,
   "metadata": {
    "colab": {
     "base_uri": "https://localhost:8080/"
    },
    "id": "JbV6uxkbvmWz",
    "outputId": "4577930f-fea2-4238-d393-faf70065b67c"
   },
   "outputs": [
    {
     "name": "stdout",
     "output_type": "stream",
     "text": [
      "<class 'ctypes.CDLL.__init__.<locals>._FuncPtr'>\n",
      "<class 'ctypes.CDLL'>\n",
      "<class 'int'>\n",
      "1 + 2 = 3\n"
     ]
    }
   ],
   "source": [
    "import ctypes\n",
    "import os\n",
    "\n",
    "lib_path = os.path.join(\"C\", \"example_1\", \"libExample1.so\")\n",
    "\n",
    "def setup_lib(path: str) -> ctypes.CDLL:\n",
    "    lib = ctypes.CDLL(path)\n",
    "    print(type(lib.sum))\n",
    "    lib.sum.argtypes = [ctypes.c_int, ctypes.c_int]\n",
    "    lib.sum.restype = ctypes.c_int\n",
    "    return lib\n",
    "\n",
    "lib = setup_lib(lib_path)\n",
    "print(type(lib))\n",
    "a = int(input(\"Enter first number: \"))\n",
    "b = int(input(\"Enter second number: \"))\n",
    "\n",
    "result = lib.sum(a, b)\n",
    "\n",
    "print(type(result))\n",
    "print(\"{} + {} = {}\".format(a, b, result))\n"
   ]
  },
  {
   "cell_type": "markdown",
   "metadata": {
    "id": "ZwQhPcu8xDJd"
   },
   "source": [
    "Нека разгледаме в детайли кода.\n",
    "\n",
    "Използваме `ctypes` библиотеката за работа с външни C библиотеки. За зареждането на библиотеката използваме `CDLL` конструктора, като му подаваме пътя към библиотеката. \n",
    "\n",
    "След това е необходимо да посочим типа на аргументите и типа на резултата. Понеже работим с `int` променливи, типа на аргументите и резултата са `c_int`. \n",
    "\n",
    "С получения обект, можем да извикваме функциите, които са отбелязани като `extern` в C кода."
   ]
  },
  {
   "cell_type": "markdown",
   "metadata": {
    "id": "O7-a2bbaEgTU"
   },
   "source": [
    "## Структури"
   ]
  },
  {
   "cell_type": "markdown",
   "metadata": {
    "collapsed": false
   },
   "source": [
    "Нека усложним нещата една идея - нека се опитаме да подаваме C структури към нашия Python code.\n",
    "\n",
    "Ще дефинираме структурата `Rational`, която ще моделира рационално число, съставено от две цели числа - числител и знаменател. Ще дефинираме също функции за събиране, изваждане, умножение, деление, както и функция, която конструира нов `Rational` обект на базата на две цели числа.\n",
    "\n",
    "Целия C код може да разгледате [тук](https://github.com/fmipython/PythonCourse2022/tree/main/17%20-%20Using%20C%20code%20in%20Python/C/example_2)."
   ]
  },
  {
   "cell_type": "code",
   "execution_count": 2,
   "metadata": {
    "collapsed": false
   },
   "outputs": [
    {
     "name": "stdout",
     "output_type": "stream",
     "text": [
      "-- The C compiler identification is GNU 12.2.0\r\n",
      "-- Detecting C compiler ABI info\r\n",
      "-- Detecting C compiler ABI info - done\r\n",
      "-- Check for working C compiler: /usr/bin/cc - skipped\r\n",
      "-- Detecting C compile features\r\n",
      "-- Detecting C compile features - done\r\n",
      "-- Configuring done\r\n",
      "-- Generating done\r\n",
      "-- Build files have been written to: /home/lyubolp/PythonCourse2022/17 - Using C code in Python/C/example_2\r\n",
      "[ 50%] \u001b[32mBuilding C object CMakeFiles/Example2.dir/rational.c.o\u001b[0m\r\n",
      "[100%] \u001b[32m\u001b[1mLinking C shared library libExample2.so\u001b[0m\r\n",
      "[100%] Built target Example2\r\n"
     ]
    }
   ],
   "source": [
    "!cd \"C/example_2\" && cmake . && make"
   ]
  },
  {
   "cell_type": "markdown",
   "metadata": {
    "collapsed": false
   },
   "source": [
    "Разликата с предишния пример е, че този път имаме C структура.\n",
    "Как бихме могли да представим нашата структура `Rational` в Python ? Класът `ctypes.Structure` ни служи като база, върху която да създадем нашия `Rational` клас в Python. Чрез специалната клас-променлива `_fields_` можем да зададем от какви променливи е създадена нашата структура - в случая на `Rational`, две променливи от тип `int`."
   ]
  },
  {
   "cell_type": "code",
   "execution_count": null,
   "metadata": {
    "collapsed": false
   },
   "outputs": [],
   "source": [
    "import ctypes\n",
    "\n",
    "class Rational(ctypes.Structure):\n",
    "    _fields_ = [(\"numerator\", ctypes.c_int), (\"denominator\", ctypes.c_int)]\n",
    "\n",
    "    def __str__(self):\n",
    "        return str(self.numerator) + \"/\" + str(self.denominator)\n"
   ]
  },
  {
   "cell_type": "markdown",
   "metadata": {
    "collapsed": false
   },
   "source": [
    "Понеже нашите C структури са представени като Python класове, ние може да дефинираме допълнителни Python методи в тях - в примера сме дефинирали метода `__str__` - него можем да използваме когато работим с нашата C структура през Python."
   ]
  },
  {
   "cell_type": "markdown",
   "metadata": {
    "collapsed": false
   },
   "source": [
    "Зареждането на останалите функции става по познатия ни начин."
   ]
  },
  {
   "cell_type": "code",
   "execution_count": 4,
   "metadata": {
    "collapsed": false
   },
   "outputs": [
    {
     "name": "stdout",
     "output_type": "stream",
     "text": [
      "2/3 + 4/5 = 22/15\n",
      "2/3 - 4/5 = -2/15\n",
      "2/3 * 4/5 = 8/15\n",
      "2/3 / 4/5 = 10/12\n"
     ]
    }
   ],
   "source": [
    "import ctypes\n",
    "import os\n",
    "\n",
    "\n",
    "def setup_lib(path) -> ctypes.CDLL:\n",
    "    lib = ctypes.CDLL(path)\n",
    "\n",
    "    lib.add.argtypes = [Rational, Rational]\n",
    "    lib.add.restype = Rational\n",
    "\n",
    "    lib.subtract.argtypes = [Rational, Rational]\n",
    "    lib.subtract.restype = Rational\n",
    "\n",
    "    lib.multiply.argtypes = [Rational, Rational]\n",
    "    lib.multiply.restype = Rational\n",
    "\n",
    "    lib.divide.argtypes = [Rational, Rational]\n",
    "    lib.divide.restype = Rational\n",
    "\n",
    "    lib.build.argtypes = [ctypes.c_int, ctypes.c_int]\n",
    "    lib.build.restype = Rational\n",
    "\n",
    "    return lib\n",
    "\n",
    "lib_path = os.path.join(\"C\", \"example_2\", \"libExample2.so\")\n",
    "\n",
    "lib = setup_lib(lib_path)\n",
    "\n",
    "first_num = int(input(\"Enter first number numerator: \"))\n",
    "first_denom = int(input(\"Enter first number denominator: \"))\n",
    "\n",
    "first_rational = lib.build(first_num, first_denom)\n",
    "\n",
    "\n",
    "second_num = int(input(\"Enter second number numerator: \"))\n",
    "second_denom = int(input(\"Enter second number denominator: \"))\n",
    "second_rational = lib.build(second_num, second_denom)\n",
    "\n",
    "add = lib.add(first_rational, second_rational)\n",
    "subtract = lib.subtract(first_rational, second_rational)\n",
    "multiply = lib.multiply(first_rational, second_rational)\n",
    "divide = lib.divide(first_rational, second_rational)\n",
    "\n",
    "print(f\"{first_rational} + {second_rational} = {add}\")\n",
    "print(f\"{first_rational} - {second_rational} = {subtract}\")\n",
    "print(f\"{first_rational} * {second_rational} = {multiply}\")\n",
    "print(f\"{first_rational} / {second_rational} = {divide}\")\n"
   ]
  },
  {
   "cell_type": "markdown",
   "metadata": {},
   "source": [
    "## Работа с масиви и указатели"
   ]
  },
  {
   "cell_type": "markdown",
   "metadata": {
    "id": "ef8ayM1LDEhK"
   },
   "source": [
    "## C++ код"
   ]
  },
  {
   "cell_type": "markdown",
   "metadata": {
    "id": "PtV_EIOJEiED"
   },
   "source": [
    "## Скорост"
   ]
  },
  {
   "cell_type": "markdown",
   "metadata": {
    "id": "ybsYmCnQE2Ai"
   },
   "source": [
    "## Примери"
   ]
  },
  {
   "cell_type": "markdown",
   "metadata": {
    "id": "H4MziQ7wE3YF"
   },
   "source": [
    "## Задачи"
   ]
  }
 ],
 "metadata": {
  "colab": {
   "authorship_tag": "ABX9TyNYRjdQAyq3x/8YLrDQV06W",
   "collapsed_sections": [],
   "include_colab_link": true,
   "provenance": []
  },
  "kernelspec": {
   "display_name": "Python 3.10.8 64-bit",
   "language": "python",
   "name": "python3"
  },
  "language_info": {
   "codemirror_mode": {
    "name": "ipython",
    "version": 3
   },
   "file_extension": ".py",
   "mimetype": "text/x-python",
   "name": "python",
   "nbconvert_exporter": "python",
   "pygments_lexer": "ipython3",
   "version": "3.10.8"
  },
  "vscode": {
   "interpreter": {
    "hash": "767d51c1340bd893661ea55ea3124f6de3c7a262a8b4abca0554b478b1e2ff90"
   }
  }
 },
 "nbformat": 4,
 "nbformat_minor": 0
}
