{
 "cells": [
  {
   "attachments": {},
   "cell_type": "markdown",
   "metadata": {},
   "source": [
    "# Модули и пакети"
   ]
  },
  {
   "cell_type": "markdown",
   "metadata": {},
   "source": [
    "## Какво е модул?\n",
    "\n",
    "Всеки един Python файл (.py) на практика е модул. Освен това е възможно библиотека, написана на С, и вмъкната динамично също да бъде модул. Третия тип модули са вградените в езика такива.\n",
    "\n",
    "В тази лекция се фокусираме върху първия тип и модули и как можем да ги създаваме, вмъкваме и боравим с тях."
   ]
  },
  {
   "cell_type": "markdown",
   "metadata": {},
   "source": [
    "## Как да създам модул?"
   ]
  },
  {
   "cell_type": "markdown",
   "metadata": {},
   "source": [
    "Казахме, че всеки Python файл е валиден модул. \n",
    "\n",
    "Нека създадем един такъв с няколко дефиниции вътре (в папката с тази тетрадка вече би трябвало да се съдържа файл `hitchhikers.py`)."
   ]
  },
  {
   "cell_type": "markdown",
   "metadata": {},
   "source": [
    "## `import`"
   ]
  },
  {
   "cell_type": "markdown",
   "metadata": {},
   "source": [
    "Имената, функциите и класовете, които създадохме в този файл, не могат да бъдат достъпени директно от друг файл:"
   ]
  },
  {
   "cell_type": "code",
   "execution_count": 1,
   "metadata": {},
   "outputs": [
    {
     "ename": "NameError",
     "evalue": "name 'compute' is not defined",
     "output_type": "error",
     "traceback": [
      "\u001b[0;31m---------------------------------------------------------------------------\u001b[0m",
      "\u001b[0;31mNameError\u001b[0m                                 Traceback (most recent call last)",
      "Cell \u001b[0;32mIn [1], line 1\u001b[0m\n\u001b[0;32m----> 1\u001b[0m compute()\n",
      "\u001b[0;31mNameError\u001b[0m: name 'compute' is not defined"
     ]
    }
   ],
   "source": [
    "compute()"
   ]
  },
  {
   "cell_type": "markdown",
   "metadata": {},
   "source": [
    "Можем обаче да ги вмъкнем в друг файл (модул) чрез `import {името_на_модула}` (името на файла преди разширението `.py` се превръща в име на модула):"
   ]
  },
  {
   "cell_type": "code",
   "execution_count": 2,
   "metadata": {},
   "outputs": [
    {
     "name": "stdout",
     "output_type": "stream",
     "text": [
      "Hm, I'll have to think about that. Return to this place in exactly 7.5 million years...\n"
     ]
    },
    {
     "data": {
      "text/plain": [
       "42"
      ]
     },
     "execution_count": 2,
     "metadata": {},
     "output_type": "execute_result"
    }
   ],
   "source": [
    "import hitchhikers\n",
    "\n",
    "hitchhikers.compute()"
   ]
  },
  {
   "cell_type": "markdown",
   "metadata": {},
   "source": [
    "`import` освен, че интерпретира целия код на модула, добавя имената и дефинициите в един обект от тип модул, имащ името на модула. Затова и ги достъпваме чрез `името_на_модула.име_на_обекта`."
   ]
  },
  {
   "cell_type": "markdown",
   "metadata": {},
   "source": [
    "Какво се съдържа в един модул можем лесно да видим с `dir()`:"
   ]
  },
  {
   "cell_type": "code",
   "execution_count": 3,
   "metadata": {},
   "outputs": [
    {
     "data": {
      "text/plain": [
       "['ANSWER',\n",
       " 'TheGreatDeepThought',\n",
       " '__builtins__',\n",
       " '__cached__',\n",
       " '__doc__',\n",
       " '__file__',\n",
       " '__loader__',\n",
       " '__name__',\n",
       " '__package__',\n",
       " '__spec__',\n",
       " 'compute']"
      ]
     },
     "execution_count": 3,
     "metadata": {},
     "output_type": "execute_result"
    }
   ],
   "source": [
    "dir(hitchhikers)"
   ]
  },
  {
   "cell_type": "code",
   "execution_count": 4,
   "metadata": {},
   "outputs": [
    {
     "data": {
      "text/plain": [
       "42"
      ]
     },
     "execution_count": 4,
     "metadata": {},
     "output_type": "execute_result"
    }
   ],
   "source": [
    "hitchhikers.ANSWER"
   ]
  },
  {
   "cell_type": "code",
   "execution_count": 5,
   "metadata": {},
   "outputs": [
    {
     "name": "stdout",
     "output_type": "stream",
     "text": [
      "Shush! The show is back on.\n"
     ]
    }
   ],
   "source": [
    "computer = hitchhikers.TheGreatDeepThought()\n",
    "computer.ask()"
   ]
  },
  {
   "cell_type": "code",
   "execution_count": 6,
   "metadata": {},
   "outputs": [
    {
     "data": {
      "text/plain": [
       "'hitchhikers'"
      ]
     },
     "execution_count": 6,
     "metadata": {},
     "output_type": "execute_result"
    }
   ],
   "source": [
    "hitchhikers.__name__"
   ]
  },
  {
   "cell_type": "code",
   "execution_count": 7,
   "metadata": {},
   "outputs": [
    {
     "data": {
      "text/plain": [
       "['In',\n",
       " 'Out',\n",
       " '_',\n",
       " '_2',\n",
       " '_3',\n",
       " '_4',\n",
       " '_6',\n",
       " '__',\n",
       " '___',\n",
       " '__builtin__',\n",
       " '__builtins__',\n",
       " '__doc__',\n",
       " '__loader__',\n",
       " '__name__',\n",
       " '__package__',\n",
       " '__spec__',\n",
       " '__vsc_ipynb_file__',\n",
       " '_dh',\n",
       " '_i',\n",
       " '_i1',\n",
       " '_i2',\n",
       " '_i3',\n",
       " '_i4',\n",
       " '_i5',\n",
       " '_i6',\n",
       " '_i7',\n",
       " '_ih',\n",
       " '_ii',\n",
       " '_iii',\n",
       " '_oh',\n",
       " 'computer',\n",
       " 'exit',\n",
       " 'get_ipython',\n",
       " 'hitchhikers',\n",
       " 'os',\n",
       " 'quit',\n",
       " 'sys']"
      ]
     },
     "execution_count": 7,
     "metadata": {},
     "output_type": "execute_result"
    }
   ],
   "source": [
    "dir()  # by default it shows the contents of the *current* module"
   ]
  },
  {
   "cell_type": "code",
   "execution_count": 8,
   "metadata": {},
   "outputs": [
    {
     "data": {
      "text/plain": [
       "'__main__'"
      ]
     },
     "execution_count": 8,
     "metadata": {},
     "output_type": "execute_result"
    }
   ],
   "source": [
    "__name__"
   ]
  },
  {
   "cell_type": "markdown",
   "metadata": {},
   "source": [
    "## Добре, обаче `import` къде точно търси?"
   ]
  },
  {
   "cell_type": "markdown",
   "metadata": {},
   "source": [
    "1. Директорията, в която се намира Python скрипта, който се изпълнява (или текущата, ако интерпретаторът е пуснат интерактивно)\n",
    "2. Директориите, които са описани в `PYTHONPATH` променливата на средата\n",
    "3. Лист от директории, зададен по време на инсталацията на Python"
   ]
  },
  {
   "cell_type": "markdown",
   "metadata": {},
   "source": [
    "Този списък от възможни директории може да се види със `sys.path`:"
   ]
  },
  {
   "cell_type": "code",
   "execution_count": 9,
   "metadata": {},
   "outputs": [
    {
     "data": {
      "text/plain": [
       "['/Users/alexander.ignatov/Documents/PythonCourse2022/13 - Modules',\n",
       " '/Users/alexander.ignatov/.vscode/extensions/ms-toolsai.jupyter-2022.9.1303220346/pythonFiles',\n",
       " '/Users/alexander.ignatov/.vscode/extensions/ms-toolsai.jupyter-2022.9.1303220346/pythonFiles/lib/python',\n",
       " '/opt/homebrew/Cellar/python@3.10/3.10.8/Frameworks/Python.framework/Versions/3.10/lib/python310.zip',\n",
       " '/opt/homebrew/Cellar/python@3.10/3.10.8/Frameworks/Python.framework/Versions/3.10/lib/python3.10',\n",
       " '/opt/homebrew/Cellar/python@3.10/3.10.8/Frameworks/Python.framework/Versions/3.10/lib/python3.10/lib-dynload',\n",
       " '',\n",
       " '/Users/alexander.ignatov/Library/Python/3.10/lib/python/site-packages',\n",
       " '/opt/homebrew/lib/python3.10/site-packages',\n",
       " '/opt/homebrew/Cellar/pygments/2.13.0_1/libexec/lib/python3.10/site-packages']"
      ]
     },
     "execution_count": 9,
     "metadata": {},
     "output_type": "execute_result"
    }
   ],
   "source": [
    "import sys\n",
    "sys.path"
   ]
  },
  {
   "cell_type": "markdown",
   "metadata": {},
   "source": [
    "## Варианти на `import`"
   ]
  },
  {
   "cell_type": "markdown",
   "metadata": {},
   "source": [
    "С `from {module} import {something}, {something_else}, ...` можем да импортираме само определени имена от модула, като те биват добавени към съдържанието на текущия (т.е. достъпваме ги без името на оригиналния модул и точка отпред):"
   ]
  },
  {
   "cell_type": "code",
   "execution_count": 10,
   "metadata": {},
   "outputs": [
    {
     "name": "stdout",
     "output_type": "stream",
     "text": [
      "Hm, I'll have to think about that. Return to this place in exactly 7.5 million years...\n"
     ]
    },
    {
     "data": {
      "text/plain": [
       "42"
      ]
     },
     "execution_count": 10,
     "metadata": {},
     "output_type": "execute_result"
    }
   ],
   "source": [
    "from hitchhikers import compute\n",
    "compute()"
   ]
  },
  {
   "cell_type": "markdown",
   "metadata": {},
   "source": [
    "С `from {module} import {something} as {alias}, {something_else} as {other_alias}, ...` можем да прекръстим импортираните имена:"
   ]
  },
  {
   "cell_type": "code",
   "execution_count": 11,
   "metadata": {},
   "outputs": [
    {
     "name": "stdout",
     "output_type": "stream",
     "text": [
      "Shush! The show is back on.\n"
     ]
    },
    {
     "data": {
      "text/plain": [
       "False"
      ]
     },
     "execution_count": 11,
     "metadata": {},
     "output_type": "execute_result"
    }
   ],
   "source": [
    "from hitchhikers import ANSWER, TheGreatDeepThought as Computer\n",
    "comp = Computer()\n",
    "comp.ask() == ANSWER"
   ]
  },
  {
   "cell_type": "code",
   "execution_count": 12,
   "metadata": {},
   "outputs": [
    {
     "data": {
      "text/plain": [
       "True"
      ]
     },
     "execution_count": 12,
     "metadata": {},
     "output_type": "execute_result"
    }
   ],
   "source": [
    "\"ANSWER\" in dir()"
   ]
  },
  {
   "cell_type": "markdown",
   "metadata": {},
   "source": [
    "Ако искаме абсолютно всички имена на вмъкнем и ползваме в текущия модул по този начин (без тези, започващи с подчертавка `_`), можем да използваме астериск `*`:"
   ]
  },
  {
   "cell_type": "code",
   "execution_count": 13,
   "metadata": {},
   "outputs": [],
   "source": [
    "# изпълни тази клетка ако си изпълнил горните, за да се зачистят import-ите\n",
    "del hitchhikers, ANSWER, compute, Computer"
   ]
  },
  {
   "cell_type": "code",
   "execution_count": 14,
   "metadata": {},
   "outputs": [
    {
     "name": "stdout",
     "output_type": "stream",
     "text": [
      "Hm, I'll have to think about that. Return to this place in exactly 7.5 million years...\n"
     ]
    },
    {
     "data": {
      "text/plain": [
       "True"
      ]
     },
     "execution_count": 14,
     "metadata": {},
     "output_type": "execute_result"
    }
   ],
   "source": [
    "from hitchhikers import *\n",
    "\n",
    "compute() == ANSWER"
   ]
  },
  {
   "cell_type": "markdown",
   "metadata": {},
   "source": [
    "Лимитация на астерикс синтаксиса е, че не може да използва в блок (може само на най-външното ниво на модула):"
   ]
  },
  {
   "cell_type": "code",
   "execution_count": 15,
   "metadata": {},
   "outputs": [],
   "source": [
    "del compute, ANSWER, TheGreatDeepThought"
   ]
  },
  {
   "cell_type": "code",
   "execution_count": 16,
   "metadata": {},
   "outputs": [
    {
     "ename": "SyntaxError",
     "evalue": "import * only allowed at module level (3855291323.py, line 2)",
     "output_type": "error",
     "traceback": [
      "\u001b[0;36m  Cell \u001b[0;32mIn [16], line 2\u001b[0;36m\u001b[0m\n\u001b[0;31m    from hitchhikers import *\u001b[0m\n\u001b[0m                            ^\u001b[0m\n\u001b[0;31mSyntaxError\u001b[0m\u001b[0;31m:\u001b[0m import * only allowed at module level\n"
     ]
    }
   ],
   "source": [
    "def obtain_answer():\n",
    "    from hitchhikers import *  # 💥\n",
    "    return compute()"
   ]
  },
  {
   "cell_type": "markdown",
   "metadata": {},
   "source": [
    "Както казахме, по подразбиране from {module} import * вмъква абсолютно всички имена от `module`, които не започват с подчертавка. Имаме всъщност контрол над това, кое може да се вмъкне чрез астерикс, като дефинираме `__all__` във въпросния модул. Стойността му е лист от всички имена, които ще бъдат вмъкнати от `*`.\n",
    "\n",
    "*Пример*:\n",
    "\n",
    "След добавяне на\n",
    "```python\n",
    "__all__ = ['compute', 'TheGreatDeepThought']\n",
    "```\n",
    "в `hitchhikers.py`, следният код, изпълнен в `script.py` (в същата директория) ще хвърли `NameError`:\n",
    "```python\n",
    "from hitchhikers import *\n",
    "print(hitchhikers.ANSWER)  # 💥\n",
    "```"
   ]
  },
  {
   "cell_type": "markdown",
   "metadata": {},
   "source": [
    "## Пакети"
   ]
  },
  {
   "cell_type": "markdown",
   "metadata": {},
   "source": [
    "Пакет e набор от модули. За Python всяка директория, в която има модули, се превръща в пакет (package).\n",
    "\n",
    "*Note*: Във версии по-ранни от Python 3.3 трябва задължително в директорията да има файл с име `__init__.py`."
   ]
  },
  {
   "cell_type": "markdown",
   "metadata": {},
   "source": [
    "В директорията на тетрадката би трябвало да има папка `game`, съдържаща няколко файла и папки:"
   ]
  },
  {
   "cell_type": "code",
   "execution_count": 17,
   "metadata": {},
   "outputs": [
    {
     "name": "stdout",
     "output_type": "stream",
     "text": [
      "\u001b[01;34mgame\u001b[0m\n",
      "├── \u001b[00mengine.py\u001b[0m\n",
      "├── \u001b[00mlevel.py\u001b[0m\n",
      "├── \u001b[00mplayer.py\u001b[0m\n",
      "└── \u001b[01;34mplayers\u001b[0m\n",
      "    ├── \u001b[00mai.py\u001b[0m\n",
      "    ├── \u001b[00minput_player.py\u001b[0m\n",
      "    └── \u001b[00mmock_player.py\u001b[0m\n",
      "\n",
      "1 directory, 6 files\n"
     ]
    }
   ],
   "source": [
    "!tree game"
   ]
  },
  {
   "cell_type": "markdown",
   "metadata": {},
   "source": [
    "В горния пример `game` е пакет, съдържащ модулите `engine`, `level` и `player`. Освен тях, той съдържа и подпакетът `players`."
   ]
  },
  {
   "cell_type": "markdown",
   "metadata": {},
   "source": [
    "Ако искаме да вмъкнем някой модул от пакета, можем да го направим чрез името на пакета (или всички пакети по веригата, разделени с точка), последвано от точка и името на въпросния модул:"
   ]
  },
  {
   "cell_type": "code",
   "execution_count": 18,
   "metadata": {},
   "outputs": [
    {
     "data": {
      "text/plain": [
       "Level(word='SCRIPT', failed_attempts=10)"
      ]
     },
     "execution_count": 18,
     "metadata": {},
     "output_type": "execute_result"
    }
   ],
   "source": [
    "import game.level\n",
    "\n",
    "game.level.EASY"
   ]
  },
  {
   "cell_type": "code",
   "execution_count": 19,
   "metadata": {},
   "outputs": [
    {
     "data": {
      "text/plain": [
       "<game.players.ai.AI at 0x10bc62b90>"
      ]
     },
     "execution_count": 19,
     "metadata": {},
     "output_type": "execute_result"
    }
   ],
   "source": [
    "import game.players.ai\n",
    "\n",
    "game.players.ai.AI(10)"
   ]
  },
  {
   "cell_type": "markdown",
   "metadata": {},
   "source": [
    "Вече въведените по-горе синтактични варианти на `import` също важат:"
   ]
  },
  {
   "cell_type": "code",
   "execution_count": 20,
   "metadata": {},
   "outputs": [],
   "source": [
    "from game.players.ai import AI\n",
    "from game.level import EASY as easy, MEDIUM as medium, HARD as hard\n",
    "from game.engine import *"
   ]
  },
  {
   "cell_type": "markdown",
   "metadata": {},
   "source": [
    "Освен това, можем и да вмъкнем модули чрез `from {package} import {module} [as {alias}], ...`:"
   ]
  },
  {
   "cell_type": "code",
   "execution_count": 21,
   "metadata": {},
   "outputs": [
    {
     "name": "stdout",
     "output_type": "stream",
     "text": [
      "Level(word='SCRIPT', failed_attempts=10)\n",
      "<enum 'GameState'>\n"
     ]
    }
   ],
   "source": [
    "from game import level, engine\n",
    "\n",
    "print(level.EASY)\n",
    "print(engine.GameState)"
   ]
  },
  {
   "cell_type": "markdown",
   "metadata": {},
   "source": [
    "## `__init__.py`"
   ]
  },
  {
   "cell_type": "markdown",
   "metadata": {},
   "source": [
    "На теория можем и да импортнем само пакета. По подразбиране това няма да добави нови модули и имена:"
   ]
  },
  {
   "cell_type": "code",
   "execution_count": 22,
   "metadata": {},
   "outputs": [],
   "source": [
    "del game.level, game.player, game.engine  # зачисти тетрадката от предните импорти"
   ]
  },
  {
   "cell_type": "code",
   "execution_count": 23,
   "metadata": {},
   "outputs": [
    {
     "ename": "AttributeError",
     "evalue": "module 'game' has no attribute 'level'",
     "output_type": "error",
     "traceback": [
      "\u001b[0;31m---------------------------------------------------------------------------\u001b[0m",
      "\u001b[0;31mAttributeError\u001b[0m                            Traceback (most recent call last)",
      "Cell \u001b[0;32mIn [23], line 3\u001b[0m\n\u001b[1;32m      1\u001b[0m \u001b[39mimport\u001b[39;00m \u001b[39mgame\u001b[39;00m\n\u001b[0;32m----> 3\u001b[0m game\u001b[39m.\u001b[39mlevel\n",
      "\u001b[0;31mAttributeError\u001b[0m: module 'game' has no attribute 'level'"
     ]
    }
   ],
   "source": [
    "import game\n",
    "\n",
    "game.level  # 💥"
   ]
  },
  {
   "cell_type": "markdown",
   "metadata": {},
   "source": [
    "Ако искаме да добавим и модули от пакета при импортирането му, можем да ги импортнем в `__init__.py`, намиращ се в директорията на пакета.\n",
    "\n",
    "Т.е. ако в `game/__init__.py` имаме:\n",
    "```python\n",
    "import game.engine, game.level, game.player\n",
    "```\n",
    "\n",
    "то можем да импортнем пакета `game` и да използваме всички модули от него:\n",
    "```python\n",
    "# в друг файл, извън пакета `game`:\n",
    "import game\n",
    "print(game.level.EASY)  # no error\n",
    "```"
   ]
  },
  {
   "cell_type": "markdown",
   "metadata": {},
   "source": [
    "В `__init__.py` можем да напишем какъвто искаме инициализационен код, глобален за всички модули в пакета. Съдържанието на скрипта се изпълнява веднага при импортиране на пакета."
   ]
  },
  {
   "cell_type": "markdown",
   "metadata": {},
   "source": [
    "Както при модулите, така и тука можем да дефинираме поведението на `from {package} import *` чрез `__all__`. По подразбиране, както видяхме за `import {package}`, това е празен списък, т.е. нищо няма да се вмъкне (за разлика от поведението при модулите, когато се вмъква абсолютно всяко име от модула, което не започва с подчертавка).\n",
    "\n",
    "Т.е. ако напишем в `game/__init__.py`:\n",
    "\n",
    "```python\n",
    "__all__ = [\"engine\", \"level\", \"player\"]\n",
    "```\n",
    "\n",
    "то ще можем:\n",
    "\n",
    "```python\n",
    "# в друг файл, извън пакета `game`:\n",
    "from game import *\n",
    "print(level.EASY)  # no error\n",
    "```"
   ]
  },
  {
   "cell_type": "markdown",
   "metadata": {},
   "source": [
    "## Релативни импорти"
   ]
  },
  {
   "cell_type": "markdown",
   "metadata": {},
   "source": [
    "Дотук разгледахме примерни за **абсолютни** импорти, т.е. достъпът до даден модул от рамките на пакета или извън него става през пътя от пакета до модула, например `game.players.ai` достъпва модулът `ai` от пакета `players` в пакета `game`.\n"
   ]
  },
  {
   "cell_type": "code",
   "execution_count": 24,
   "metadata": {},
   "outputs": [],
   "source": [
    "import game.players.ai"
   ]
  },
  {
   "cell_type": "markdown",
   "metadata": {},
   "source": [
    "Със значението на `.` и `..` от Unix файловата система, можем да използваме същите тези символи за **релативни** импорти в Python. Те се оценяват спрямо локацията на `import` statement-a."
   ]
  },
  {
   "cell_type": "markdown",
   "metadata": {},
   "source": [
    "Например, във файла `game/players/input_player.py` ни трябва `player` модула от пакета `game`. Можем да го направим по абсолютен и релативен начин:\n",
    "\n",
    "```python\n",
    "from game import player  # абсолютен импорт\n",
    "```\n",
    "\n",
    "```python\n",
    "from .. import player  # релативен импорт\n",
    "```"
   ]
  },
  {
   "cell_type": "markdown",
   "metadata": {},
   "source": [
    "* `..` означава \"пакетът, намиращ се над текущия\".\n",
    "* `..pkg` означва модулът/пакетът `pkg` от пакетът, намиращ се над текущия."
   ]
  },
  {
   "cell_type": "markdown",
   "metadata": {},
   "source": [
    "Например:\n",
    "```python\n",
    "from ..player import Player\n",
    "```\n",
    "Ще вмъкне името `Player` от модула `player` от пакета, намиращ се над текущия."
   ]
  },
  {
   "cell_type": "markdown",
   "metadata": {},
   "source": [
    "* `.` означава \"текущия пакет\".\n",
    "* `.pkg` означава модулът/пакетът `pkg` от текущия пакет."
   ]
  },
  {
   "cell_type": "markdown",
   "metadata": {},
   "source": [
    "Релативните импорти имат недостатъка обаче, че зависят от местоположението на `import`-a. Освен това в скриптове (т.е. изпълним код, който не е вмъкнат чрез модул) имат различно поведение:"
   ]
  },
  {
   "cell_type": "code",
   "execution_count": 25,
   "metadata": {},
   "outputs": [
    {
     "ename": "ImportError",
     "evalue": "attempted relative import with no known parent package",
     "output_type": "error",
     "traceback": [
      "\u001b[0;31m---------------------------------------------------------------------------\u001b[0m",
      "\u001b[0;31mImportError\u001b[0m                               Traceback (most recent call last)",
      "Cell \u001b[0;32mIn [25], line 1\u001b[0m\n\u001b[0;32m----> 1\u001b[0m \u001b[39mfrom\u001b[39;00m \u001b[39m.\u001b[39;00m \u001b[39mimport\u001b[39;00m hitchhikers\n",
      "\u001b[0;31mImportError\u001b[0m: attempted relative import with no known parent package"
     ]
    }
   ],
   "source": [
    "from . import hitchhikers"
   ]
  },
  {
   "cell_type": "markdown",
   "metadata": {},
   "source": [
    "## `if __name__ == \"__main__\"`"
   ]
  },
  {
   "cell_type": "markdown",
   "metadata": {},
   "source": [
    "Както бяхме споменали, при импорт се изпълнява кода на съответния модул. Като пример за това можем да изведем философията на Python, намираща се във вградения модул `this`:"
   ]
  },
  {
   "cell_type": "code",
   "execution_count": 26,
   "metadata": {},
   "outputs": [
    {
     "name": "stdout",
     "output_type": "stream",
     "text": [
      "The Zen of Python, by Tim Peters\n",
      "\n",
      "Beautiful is better than ugly.\n",
      "Explicit is better than implicit.\n",
      "Simple is better than complex.\n",
      "Complex is better than complicated.\n",
      "Flat is better than nested.\n",
      "Sparse is better than dense.\n",
      "Readability counts.\n",
      "Special cases aren't special enough to break the rules.\n",
      "Although practicality beats purity.\n",
      "Errors should never pass silently.\n",
      "Unless explicitly silenced.\n",
      "In the face of ambiguity, refuse the temptation to guess.\n",
      "There should be one-- and preferably only one --obvious way to do it.\n",
      "Although that way may not be obvious at first unless you're Dutch.\n",
      "Now is better than never.\n",
      "Although never is often better than *right* now.\n",
      "If the implementation is hard to explain, it's a bad idea.\n",
      "If the implementation is easy to explain, it may be a good idea.\n",
      "Namespaces are one honking great idea -- let's do more of those!\n"
     ]
    }
   ],
   "source": [
    "import this"
   ]
  },
  {
   "cell_type": "markdown",
   "metadata": {},
   "source": [
    "Текущо-изпълнимият файл/модул/скрипт за Python се казва `\"__main__\"`, т.е. неговия `__name__` е `\"__main__\"`:\n",
    "```python"
   ]
  },
  {
   "cell_type": "code",
   "execution_count": 27,
   "metadata": {},
   "outputs": [
    {
     "data": {
      "text/plain": [
       "'__main__'"
      ]
     },
     "execution_count": 27,
     "metadata": {},
     "output_type": "execute_result"
    }
   ],
   "source": [
    "__name__"
   ]
  },
  {
   "cell_type": "markdown",
   "metadata": {},
   "source": [
    "Ако файлът не се изпълнява директно, а бъде импортнат от друг, то в неговия `__name__` ще е името на модула. Това означава, че можем да различим дали файлът се изпълнява директно или е импортнат. \n",
    "\n",
    "Полезно е в случаите, когато искаме да напишем примерно някакви тестове или демонстрации на модула, които да се изпълнят само ако го изпълним директно, и да не се изпълняват при всяко вмъкване. . В такива случаи използваме `if __name__ == \"__main__\": ...` (разгледайте например `game/engine.py`)."
   ]
  }
 ],
 "metadata": {
  "kernelspec": {
   "display_name": "Python 3.10.8 64-bit",
   "language": "python",
   "name": "python3"
  },
  "language_info": {
   "codemirror_mode": {
    "name": "ipython",
    "version": 3
   },
   "file_extension": ".py",
   "mimetype": "text/x-python",
   "name": "python",
   "nbconvert_exporter": "python",
   "pygments_lexer": "ipython3",
   "version": "3.10.8 (main, Oct 13 2022, 09:48:40) [Clang 14.0.0 (clang-1400.0.29.102)]"
  },
  "orig_nbformat": 4,
  "vscode": {
   "interpreter": {
    "hash": "b0fa6594d8f4cbf19f97940f81e996739fb7646882a419484c72d19e05852a7e"
   }
  }
 },
 "nbformat": 4,
 "nbformat_minor": 2
}
