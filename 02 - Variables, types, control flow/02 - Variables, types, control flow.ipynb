{
  "cells": [
    {
      "cell_type": "markdown",
      "metadata": {
        "colab_type": "text",
        "id": "view-in-github"
      },
      "source": [
        "<a href=\"https://colab.research.google.com/github/fmipython/PythonCourse2022/blob/main/02%20-%20Variables%2C%20types%2C%20control%20flow/02%20-%20Variables%2C%20types%2C%20control%20flow.ipynb\" target=\"_parent\"><img src=\"https://colab.research.google.com/assets/colab-badge.svg\" alt=\"Open In Colab\"/></a>"
      ]
    },
    {
      "attachments": {},
      "cell_type": "markdown",
      "metadata": {
        "id": "aAjgUr6IMJ0a"
      },
      "source": [
        "# Променливи, разклонения, цикли, типове, функции"
      ]
    },
    {
      "cell_type": "markdown",
      "metadata": {
        "id": "UDgxgnPbMJ0c"
      },
      "source": [
        "## Динамично vs. статично типизиране. Round 1\n",
        "\n",
        "Python е **динамично**-типизиран език. Това означава, че за разлика от статично-типизираните езици (като например C++, Java или C#), променливите (които биват наричани ***имена***/***names*** в Python) биват проверявани за коректността на типа им при изпълнението на програмата, а не при компилацията (каквато и няма в Python, понеже кодът се интерпретира вместо да се компилира). Друга особеност е, че типът на променливата може да се промени по време на изпълнението на програмата и също така не се декларира предварително."
      ]
    },
    {
      "cell_type": "code",
      "execution_count": null,
      "metadata": {
        "id": "MP57tzGYMJ0d",
        "outputId": "a9819069-ea93-4432-a85b-c814a57a5486"
      },
      "outputs": [
        {
          "name": "stdout",
          "output_type": "stream",
          "text": [
            "a =  42\n",
            "a =  a string\n"
          ]
        },
        {
          "ename": "NameError",
          "evalue": "name 'a' is not defined",
          "output_type": "error",
          "traceback": [
            "\u001b[0;31m---------------------------------------------------------------------------\u001b[0m",
            "\u001b[0;31mNameError\u001b[0m                                 Traceback (most recent call last)",
            "\u001b[0;32m/var/folders/7x/gdf0mbts74n8p_ckv_b_mfc40000gp/T/ipykernel_18944/3048814692.py\u001b[0m in \u001b[0;36m<module>\u001b[0;34m\u001b[0m\n\u001b[1;32m      9\u001b[0m \u001b[0;31m# Actually l... You know what? Screw it. I don't need it.\u001b[0m\u001b[0;34m\u001b[0m\u001b[0;34m\u001b[0m\u001b[0m\n\u001b[1;32m     10\u001b[0m \u001b[0;32mdel\u001b[0m \u001b[0ma\u001b[0m\u001b[0;34m\u001b[0m\u001b[0;34m\u001b[0m\u001b[0m\n\u001b[0;32m---> 11\u001b[0;31m \u001b[0mprint\u001b[0m\u001b[0;34m(\u001b[0m\u001b[0;34m\"a = \"\u001b[0m\u001b[0;34m,\u001b[0m \u001b[0ma\u001b[0m\u001b[0;34m)\u001b[0m  \u001b[0;31m# 💥\u001b[0m\u001b[0;34m\u001b[0m\u001b[0;34m\u001b[0m\u001b[0m\n\u001b[0m",
            "\u001b[0;31mNameError\u001b[0m: name 'a' is not defined"
          ]
        }
      ],
      "source": [
        "# I want it to be a number\n",
        "a = 42\n",
        "print(\"a = \", a)\n",
        "\n",
        "# No, sorry, changed my mind, let it be a string\n",
        "a = \"a string\"\n",
        "print(\"a = \", a)\n",
        "\n",
        "# Actually l... You know what? Screw it. I don't need it.\n",
        "del a\n",
        "print(\"a = \", a)  # 💥\n"
      ]
    },
    {
      "cell_type": "markdown",
      "metadata": {
        "id": "40-_rRZcMJ0e"
      },
      "source": [
        "## Какви типове има?"
      ]
    },
    {
      "cell_type": "markdown",
      "metadata": {
        "id": "BXWDCLstMJ0e"
      },
      "source": [
        "### Числа\n",
        "\n",
        "Съществуват три основни вградени типа, които описват числови стойности: **int**, **float** и **complex**.\n",
        "\n",
        "* `int` - цели числа\n",
        "* `float` - реални числа (с плаваща запетая)\n",
        "* `complex` - комплексни числа\n",
        "\n",
        "И за трите типа са дефинирани аритметичните оператори `+`, `-`, `*`, `/`, както и `**` (степенуване)."
      ]
    },
    {
      "cell_type": "code",
      "execution_count": null,
      "metadata": {
        "id": "nZt5V35yMJ0e",
        "outputId": "9d89ea4a-b19e-415a-ed94-abde2171fe15"
      },
      "outputs": [
        {
          "name": "stdout",
          "output_type": "stream",
          "text": [
            "(-1+0j)\n"
          ]
        }
      ],
      "source": [
        "whole = -42\n",
        "fraction = 0.999\n",
        "imag = 3 + 2j  # this is the complex number (3 + 2i)\n",
        "\n",
        "print(1j ** 2)"
      ]
    },
    {
      "cell_type": "markdown",
      "metadata": {
        "id": "kuQgSIIbMJ0e"
      },
      "source": [
        "⚠️ Резултатът на `/`, приложен между два `int`-а е `float`. Всички от останалите оператори запазват резултата в `int`."
      ]
    },
    {
      "cell_type": "code",
      "execution_count": null,
      "metadata": {
        "id": "dj0y4z6IMJ0f",
        "outputId": "d6760581-1b13-4bc9-9fa2-f151d45e3030"
      },
      "outputs": [
        {
          "name": "stdout",
          "output_type": "stream",
          "text": [
            "2.0\n",
            "0.3333333333333333\n"
          ]
        }
      ],
      "source": [
        "print(4 / 2)\n",
        "print(1 / 3)"
      ]
    },
    {
      "cell_type": "markdown",
      "metadata": {
        "id": "QC0t523BMJ0f"
      },
      "source": [
        "За целочислени сметки имаме и операторите `//` и `%` (целочислено деление и остатък от деление).\n",
        "\n",
        "`//` е и операторът, който трябва да ползваме, ако искаме при делението на два `int`-а да получим отново `int`."
      ]
    },
    {
      "cell_type": "code",
      "execution_count": null,
      "metadata": {
        "id": "C9sx6kSiMJ0g",
        "outputId": "9ba8d4c4-ea33-4288-87c4-e55695449561"
      },
      "outputs": [
        {
          "name": "stdout",
          "output_type": "stream",
          "text": [
            "3.5\n",
            "3\n",
            "1\n"
          ]
        }
      ],
      "source": [
        "print(7 / 2)\n",
        "print(7 // 2)\n",
        "print(7 % 2)"
      ]
    },
    {
      "cell_type": "markdown",
      "metadata": {
        "id": "EVEeYs04MJ0g"
      },
      "source": [
        "Hey Siri, how much is 0 divided by 0?"
      ]
    },
    {
      "cell_type": "code",
      "execution_count": null,
      "metadata": {
        "id": "AwyS4kzkMJ0g",
        "outputId": "d1a004b8-764f-4b1f-eae2-bec45cdc0936"
      },
      "outputs": [
        {
          "ename": "ZeroDivisionError",
          "evalue": "division by zero",
          "output_type": "error",
          "traceback": [
            "\u001b[0;31m---------------------------------------------------------------------------\u001b[0m",
            "\u001b[0;31mZeroDivisionError\u001b[0m                         Traceback (most recent call last)",
            "\u001b[0;32m/var/folders/7x/gdf0mbts74n8p_ckv_b_mfc40000gp/T/ipykernel_18944/2444630372.py\u001b[0m in \u001b[0;36m<module>\u001b[0;34m\u001b[0m\n\u001b[0;32m----> 1\u001b[0;31m \u001b[0mprint\u001b[0m\u001b[0;34m(\u001b[0m\u001b[0;36m0\u001b[0m \u001b[0;34m/\u001b[0m \u001b[0;36m0\u001b[0m\u001b[0;34m)\u001b[0m\u001b[0;34m\u001b[0m\u001b[0;34m\u001b[0m\u001b[0m\n\u001b[0m",
            "\u001b[0;31mZeroDivisionError\u001b[0m: division by zero"
          ]
        }
      ],
      "source": [
        "print(0 / 0)"
      ]
    },
    {
      "cell_type": "markdown",
      "metadata": {
        "id": "QumCmC_JMJ0g"
      },
      "source": [
        "С безкрайността обаче нямаме такъв проблем (`math.inf` е специален `float`, който има за цел да бъде еквивалентен на $\\infty$):"
      ]
    },
    {
      "cell_type": "code",
      "execution_count": null,
      "metadata": {
        "id": "WZfUyL-CMJ0g",
        "outputId": "6fec96f5-2f2a-4bcc-920c-7662c9af4a46"
      },
      "outputs": [
        {
          "name": "stdout",
          "output_type": "stream",
          "text": [
            "0.0\n"
          ]
        }
      ],
      "source": [
        "from math import inf\n",
        "\n",
        "print(1 / inf)"
      ]
    },
    {
      "cell_type": "markdown",
      "metadata": {
        "id": "kYdsdGLyMJ0g"
      },
      "source": [
        "Размерът на `int` не е фиксиран както в повечето статично-типизирани езици, при които програмистът избира дали да използва 32-битов, 64-битов или някаква друга размерност за целочислена променлива. Тук integer overflow се избягва като динамично се изчислява размерът на паметта, нужен за съхранението на число с произволна големина."
      ]
    },
    {
      "cell_type": "code",
      "execution_count": null,
      "metadata": {
        "id": "8qGr2pLyMJ0h",
        "outputId": "f3f765e6-da4c-40ac-8271-32ba6dd32093"
      },
      "outputs": [
        {
          "name": "stdout",
          "output_type": "stream",
          "text": [
            "size of 1 is 28 bytes\n",
            "size of 2 ** 16 is 28 bytes\n",
            "size of 2 ** 30 is 32 bytes\n",
            "size of 2 ** 30 ** 5 is 3240028 bytes\n"
          ]
        }
      ],
      "source": [
        "from sys import getsizeof\n",
        "\n",
        "print(\"size of 1 is\", getsizeof(1), \"bytes\")\n",
        "print(\"size of 2 ** 16 is\", getsizeof(2 ** 16), \"bytes\")\n",
        "print(\"size of 2 ** 30 is\", getsizeof(2 ** 30), \"bytes\")\n",
        "print(\"size of 2 ** 30 ** 5 is\", getsizeof(2 ** 30 ** 5), \"bytes\")"
      ]
    },
    {
      "cell_type": "markdown",
      "metadata": {
        "id": "AHxVT-MBMJ0h"
      },
      "source": [
        "Обърнете внимание, че изписаните резултати са в байтове, а не битове. Причината числото $ 1 $ да заема цели 28 байта например е понеже в python всичко е обект и си има своите член-данни и методи, дори и типове като `int`.\n",
        "\n",
        "От друга страна, `float` винаги заема фиксиран брой байтове. Причината за това е, че прецизността е константна - до 18 знака след десетичната запетая. В случай, че не ни е достатъчна такава прецизност, могат да се използват типове от някои вградени и не-вградени библиотеки, като например `decimal.Decimal`, с който можем да боравим с до 28 знака след десетичната запетая."
      ]
    },
    {
      "cell_type": "markdown",
      "metadata": {
        "id": "yDRiJwlxMJ0h"
      },
      "source": [
        "Целочислени литерали могат да се задават и в двоична, осмична и 16-ична бройни системи, използвайки като префикс `0b`, `0o` и `0x` съответно:"
      ]
    },
    {
      "cell_type": "code",
      "execution_count": null,
      "metadata": {
        "id": "KN3G9A1hMJ0h",
        "outputId": "5874a89f-e902-4f52-e268-1851e425677f"
      },
      "outputs": [
        {
          "name": "stdout",
          "output_type": "stream",
          "text": [
            "a = 10\n",
            "b = 10\n",
            "c = 10\n"
          ]
        }
      ],
      "source": [
        "a = 0b1010\n",
        "b = 0o12\n",
        "c = 0xA\n",
        "\n",
        "print(\"a =\", a)\n",
        "print(\"b =\", b)\n",
        "print(\"c =\", c)"
      ]
    },
    {
      "cell_type": "markdown",
      "metadata": {
        "id": "Wpq0YqyfMJ0h"
      },
      "source": [
        "### Низове\n",
        "\n",
        "Текстовите низовете в Python имат тип `str`. Те могат да бъдат с произволна дължина, като в литерал се обграждат или с `\"`, или с `'`."
      ]
    },
    {
      "cell_type": "code",
      "execution_count": null,
      "metadata": {
        "id": "BWXrSjB4MJ0h",
        "outputId": "92a00596-c13a-46ab-8124-9896b435bfec"
      },
      "outputs": [
        {
          "name": "stdout",
          "output_type": "stream",
          "text": [
            "abracadabra!\n"
          ]
        }
      ],
      "source": [
        "s1 = \"abra\"\n",
        "s2 = 'cad'\n",
        "\n",
        "print(s1 + s2 + s1 + '!')\n"
      ]
    },
    {
      "cell_type": "markdown",
      "metadata": {
        "id": "buktv-2TMJ0i"
      },
      "source": [
        "Многоредови низови литерали биват задавани с тройни кавички, също както специалните многоредови коментари, наричани `docstring`-ове (повече за тях в следваща лекция):"
      ]
    },
    {
      "cell_type": "code",
      "execution_count": null,
      "metadata": {
        "id": "H64LRz5VMJ0i",
        "outputId": "bc335d1b-ce64-41bb-ed19-d69722e223c3"
      },
      "outputs": [
        {
          "name": "stdout",
          "output_type": "stream",
          "text": [
            "This text is too long to fit on a single line\n",
            "so I'm going to break it up into multiple lines\n",
            "so that I can see how it looks\n",
            "This string has been sponsored by Github Copilot.\n"
          ]
        }
      ],
      "source": [
        "this_text_is_too_long_to_fit_on_a_single_line = \"\"\"This text is too long to fit on a single line\n",
        "so I'm going to break it up into multiple lines\n",
        "so that I can see how it looks\n",
        "This string has been sponsored by Github Copilot.\"\"\"\n",
        "\n",
        "print(this_text_is_too_long_to_fit_on_a_single_line)"
      ]
    },
    {
      "cell_type": "markdown",
      "metadata": {
        "id": "fpJ_tfBqMJ0i"
      },
      "source": [
        "Подържат се Unicode символи, но трябва да се внимава при взимането на дължината им (например емоджитата с флагове кодират двоен брой байтове, което доведе до [това](https://www.theverge.com/2018/10/11/17963230/twitter-emoji-character-limit-bug-fixed-diversity)):"
      ]
    },
    {
      "cell_type": "code",
      "execution_count": null,
      "metadata": {
        "id": "bD5RvD9FMJ0i",
        "outputId": "356f71f3-95eb-4180-d34b-b5c462b70579"
      },
      "outputs": [
        {
          "name": "stdout",
          "output_type": "stream",
          "text": [
            "the length of it = 3\n"
          ]
        }
      ],
      "source": [
        "moyai = \"🗿🇨🇳\"\n",
        "print(\"the length of it =\", len(moyai))  # never ignore the red flags...\n"
      ]
    },
    {
      "cell_type": "markdown",
      "metadata": {
        "id": "hu7xwzDEMJ0i"
      },
      "source": [
        "Escape символът както обикновено е `\\`. Някои специални символи по този начин написани са:\n",
        "* `\\n` - нов ред (Line Feed, ASCII стойност 13 (0x0D))\n",
        "* `\\t` - хоризонтална табулация (ASCII стойност 9)\n",
        "* `\\r` - Carriage Return, ASCII стойност 10 (0x0A)\n",
        "\n",
        "С `\\'` или  `\\\"` се запазват и кавичките в случай, че вида кавичка съвпада с тази, ограждаща низа. \n",
        "\n",
        "Самата обратно-наклонена черта се въвежда с `\\\\`.\n"
      ]
    },
    {
      "cell_type": "code",
      "execution_count": null,
      "metadata": {
        "id": "Gjrvd6bLMJ0i",
        "outputId": "8f3dc5bb-51b3-45fd-93e3-d922c81724b9"
      },
      "outputs": [
        {
          "name": "stdout",
          "output_type": "stream",
          "text": [
            "Is it readable?\n",
            "Yesn't\n",
            "\n"
          ]
        }
      ],
      "source": [
        "s = 'Is it readable?\\nYesn\\'t\\n'\n",
        "print(s)"
      ]
    },
    {
      "cell_type": "markdown",
      "metadata": {
        "id": "l73QlxcVMJ0i"
      },
      "source": [
        "Ако знаем 16-чния код на конкретен Unicode символ, можем да го запишем след `\\u`:"
      ]
    },
    {
      "cell_type": "code",
      "execution_count": null,
      "metadata": {
        "id": "3fpodvk6MJ0i",
        "outputId": "c1ac0502-06c3-4b7e-df8f-7799bb011510"
      },
      "outputs": [
        {
          "name": "stdout",
          "output_type": "stream",
          "text": [
            "A♠\n"
          ]
        }
      ],
      "source": [
        "rip_lemmy = \"A\\u2660\"\n",
        "print(rip_lemmy)"
      ]
    },
    {
      "cell_type": "markdown",
      "metadata": {
        "id": "6lvYmckOMJ0i"
      },
      "source": [
        "В случай пък че ни трябва конкретен байт в низа, чийто 16-ичен код знаем, може да се използва `\\x`. Например `\\x00` е null-byte, a `\\x1B` - `ESC`."
      ]
    },
    {
      "cell_type": "code",
      "execution_count": null,
      "metadata": {
        "id": "ND3FES-BMJ0i",
        "outputId": "71ef82aa-d18b-4726-8359-868af7ade30d"
      },
      "outputs": [
        {
          "name": "stdout",
          "output_type": "stream",
          "text": [
            "You can safely have \u0000 in the middle of a string\n"
          ]
        }
      ],
      "source": [
        "not_your_c_string = \"You can safely have \\x00 in the middle of a string\"\n",
        "print(not_your_c_string)"
      ]
    },
    {
      "cell_type": "markdown",
      "metadata": {
        "id": "FhuS-1pvMJ0i"
      },
      "source": [
        "Относно ASCII кодове, съществуват две функции за преобразуване от и във кода на символа: `chr` и `ord` съответно."
      ]
    },
    {
      "cell_type": "code",
      "execution_count": null,
      "metadata": {
        "id": "tjnytwhgMJ0j",
        "outputId": "0b22edbf-fd84-46da-e811-1ec7ffc330fa"
      },
      "outputs": [
        {
          "name": "stdout",
          "output_type": "stream",
          "text": [
            "ord('A') = 65\n",
            "chr(65) = A\n",
            "A-B-C-D-E-F-G-H-I-J-K-L-M-N-O-P-Q-R-S-T-U-V-W-X-Y-Z\n"
          ]
        }
      ],
      "source": [
        "print(\"ord('A') =\", ord('A'))\n",
        "print(\"chr(65) =\", chr(65))\n",
        "\n",
        "alphabet = [chr(c) for c in range(ord('A'), ord('Z') + 1)]\n",
        "alphabet_kebab = \"-\".join(alphabet)\n",
        "print(alphabet_kebab)\n"
      ]
    },
    {
      "cell_type": "markdown",
      "metadata": {
        "id": "E8dJyPu9MJ0j"
      },
      "source": [
        "Съществува и тип за низ от байтове - `bytes`. Има си и литерал, който е като този на `str`, но просто с едно `b` преди отварящите кавички.\n",
        "\n",
        "Конвертирането му от и до `str` става единственo чрез подбиране на правилен енкодинг (UTF-8 или друг) и може да хвърли грешка."
      ]
    },
    {
      "cell_type": "code",
      "execution_count": null,
      "metadata": {
        "id": "i4ru3mKYMJ0j",
        "outputId": "d83da83d-0e79-4b30-c1b1-e9e2c9abb51e"
      },
      "outputs": [
        {
          "name": "stdout",
          "output_type": "stream",
          "text": [
            "bytes_literal = b'You can use ASCII characters as well as \\\\x syntax, e.g. \\x00\\x01, etc.'\n",
            "str_from_bytes = You can use ASCII characters as well as \\x syntax, e.g. \u0000\u0001, etc.\n",
            "bytes_from_str = b'You can use ASCII characters as well as \\\\x syntax, e.g. \\x00\\x01, etc.'\n"
          ]
        },
        {
          "ename": "UnicodeDecodeError",
          "evalue": "'utf-8' codec can't decode byte 0xbe in position 2: invalid start byte",
          "output_type": "error",
          "traceback": [
            "\u001b[0;31m---------------------------------------------------------------------------\u001b[0m",
            "\u001b[0;31mUnicodeDecodeError\u001b[0m                        Traceback (most recent call last)",
            "\u001b[0;32m/var/folders/7x/gdf0mbts74n8p_ckv_b_mfc40000gp/T/ipykernel_18944/3353544668.py\u001b[0m in \u001b[0;36m<module>\u001b[0;34m\u001b[0m\n\u001b[1;32m      9\u001b[0m \u001b[0;34m\u001b[0m\u001b[0m\n\u001b[1;32m     10\u001b[0m \u001b[0mdeadbeef\u001b[0m \u001b[0;34m=\u001b[0m \u001b[0;34mb\"\\xDE\\xAD\\xBE\\xEF\"\u001b[0m\u001b[0;34m\u001b[0m\u001b[0;34m\u001b[0m\u001b[0m\n\u001b[0;32m---> 11\u001b[0;31m \u001b[0mdeadbeef\u001b[0m\u001b[0;34m.\u001b[0m\u001b[0mdecode\u001b[0m\u001b[0;34m(\u001b[0m\u001b[0;34m\"utf-8\"\u001b[0m\u001b[0;34m)\u001b[0m  \u001b[0;31m# it's dead\u001b[0m\u001b[0;34m\u001b[0m\u001b[0;34m\u001b[0m\u001b[0m\n\u001b[0m",
            "\u001b[0;31mUnicodeDecodeError\u001b[0m: 'utf-8' codec can't decode byte 0xbe in position 2: invalid start byte"
          ]
        }
      ],
      "source": [
        "bytes_literal = b\"You can use ASCII characters as well as \\x5C\\x78 syntax, e.g. \\x00\\x01, etc.\"\n",
        "print(\"bytes_literal =\", bytes_literal)\n",
        "\n",
        "str_from_bytes = bytes_literal.decode(\"utf-8\")\n",
        "print(\"str_from_bytes =\", str_from_bytes)\n",
        "\n",
        "bytes_from_str = str_from_bytes.encode(\"utf-8\")\n",
        "print(\"bytes_from_str =\", bytes_from_str)\n",
        "\n",
        "deadbeef = b\"\\xDE\\xAD\\xBE\\xEF\"\n",
        "deadbeef.decode(\"utf-8\")  # it's dead\n"
      ]
    },
    {
      "cell_type": "markdown",
      "metadata": {
        "id": "biqpSMrLMJ0j"
      },
      "source": [
        "Интерполацията на низове е възможна по три основни начина:\n",
        "* Форматиране с `%` (old-school)\n",
        "* `str.format` (от Python 3 насам, back-port-нат към Python 2.7)\n",
        "* f-strings (от Python 3.6 насам)"
      ]
    },
    {
      "cell_type": "code",
      "execution_count": null,
      "metadata": {
        "id": "0FPewpUXMJ0j",
        "outputId": "d9c3b90d-0c01-4e0e-baff-178d20f928c6"
      },
      "outputs": [
        {
          "name": "stdout",
          "output_type": "stream",
          "text": [
            "This year AJ turns 18 hex-years old.\n",
            "Ton4ou only knows the first 5 decimal places of π: 3.14159.\n",
            "Program bot.py finished execution at 1661079240.858315 unix time.\n",
            "Debug info: some_variable=3735928559\n"
          ]
        }
      ],
      "source": [
        "from math import pi\n",
        "from time import time\n",
        "\n",
        "archaic = \"This year %s turns %x hex-years old.\" % (\"AJ\", 24)\n",
        "print(archaic)\n",
        "\n",
        "classic = \"{} only knows the first 5 decimal places of π: {:.5f}.\".format(\"Ton4ou\", pi)\n",
        "print(classic)\n",
        "\n",
        "name = \"bot.py\"\n",
        "fstr = f\"Program {name} finished execution at {time()} unix time.\"\n",
        "print(fstr)\n",
        "\n",
        "some_variable = 0xdeadbeef\n",
        "debug_fstr = f\"Debug info: {some_variable=}\"  # the '=' here puts the name as well as the value\n",
        "print(debug_fstr)\n"
      ]
    },
    {
      "cell_type": "markdown",
      "metadata": {
        "id": "FVqn9GNBMJ0j"
      },
      "source": [
        "Низовете са колекции и могат да бъдат използвани като такива. Повече за тях в следваща лекция, засега може да ги мислим като масиви от символи."
      ]
    },
    {
      "cell_type": "code",
      "execution_count": null,
      "metadata": {
        "id": "DhnlxDynMJ0j",
        "outputId": "4576dfd9-bed0-48b9-d8f9-76b9a08bc6d3"
      },
      "outputs": [
        {
          "name": "stdout",
          "output_type": "stream",
          "text": [
            "length=5, first_char='H'\n",
            "===H===\n",
            "===e===\n",
            "===l===\n",
            "===l===\n",
            "===o===\n"
          ]
        }
      ],
      "source": [
        "s = \"Hello\"\n",
        "\n",
        "length = len(s)     # the length\n",
        "first_char = s[0]  # the first character (element @ index 0)\n",
        "\n",
        "print(f\"{length=}, {first_char=}\")\n",
        "\n",
        "for char in s:\n",
        "    print(\"===\" + char + \"===\")\n"
      ]
    },
    {
      "cell_type": "markdown",
      "metadata": {
        "id": "8aYistS7MJ0j"
      },
      "source": [
        "Обработката на низове става сравнително лесно чрез предоставените ни вградени функции и методи:"
      ]
    },
    {
      "cell_type": "code",
      "execution_count": null,
      "metadata": {
        "id": "DX1yrrCSMJ0j",
        "outputId": "7c5cf647-a6b9-4fa8-be0e-7afe5e1b4814"
      },
      "outputs": [
        {
          "name": "stdout",
          "output_type": "stream",
          "text": [
            "no_umlauts='Deutschland ueber alles!'\n",
            "marked_tags_list='(nofilter) (nomakeup) (felt_cute_might_delete_later) (f4f) (follow4follow)'\n",
            "Access granted.\n"
          ]
        }
      ],
      "source": [
        "with_umlauts = \"Deutschland über alles!\"\n",
        "no_umlauts = with_umlauts.replace(\"ü\", \"ue\")  # returns a new string in which all occurrences of \"ü\" are replaced with \"ue\"\n",
        "print(f\"{no_umlauts=}\")\n",
        "\n",
        "post_hastags = \"#nofilter #nomakeup #felt_cute_might_delete_later #f4f #follow4follow\"\n",
        "tags = post_hastags.replace(\"#\", \"\").split(\" \")  # first removes all #'s, then splits using a space as a delimiter into a list of strings\n",
        "marked_tags_list = \" \".join(f\"({tag})\" for tag in tags)  # surrounds each element of the list with brackets and concatenates them with spaces\n",
        "print(f\"{marked_tags_list=}\")\n",
        "\n",
        "allowed_inputs = [\"y\", \"yes\", \"proceed\", \"correct\", \"da\", \"yy\", \"yesh\", \"yass\"]\n",
        "user_input = \"Yes\"  # hardcoded for simplicity\n",
        "if user_input.lower() in allowed_inputs:\n",
        "    print(\"Access granted.\")\n",
        "else:\n",
        "    print(\"Access denied.\")\n",
        "\n",
        "# .lower() converts the string to lowercase, .upper() converts it to uppercase\n",
        "# there is also .capitalize() which capitalizes only the first letter of the string"
      ]
    },
    {
      "cell_type": "markdown",
      "metadata": {
        "id": "srFSwtzhMJ0j"
      },
      "source": [
        "### Булеви\n",
        "\n",
        "Тип `bool` има две възможни стойности: `True` и `False`.\n",
        "\n",
        "За разлика от повечето други езици, вместо `!`, `||` и `&&` използваме `not`, `or` и `and`."
      ]
    },
    {
      "cell_type": "code",
      "execution_count": null,
      "metadata": {
        "id": "uYpniH6tMJ0j",
        "outputId": "665c3d1a-766c-4308-bb50-cecb3362060d"
      },
      "outputs": [
        {
          "name": "stdout",
          "output_type": "stream",
          "text": [
            "f = False\n",
            "t or f = True\n",
            "t and f = False\n",
            "t and not f = True\n"
          ]
        }
      ],
      "source": [
        "t = True\n",
        "f = not t\n",
        "\n",
        "print(f\"{f = }\")\n",
        "print(f\"{t or f = }\")\n",
        "print(f\"{t and f = }\")\n",
        "print(f\"{t and not f = }\")"
      ]
    },
    {
      "cell_type": "markdown",
      "metadata": {
        "id": "paKzj8jGMJ0j"
      },
      "source": [
        "⚠️ `or` и `and` всъщност не връщат `bool`, а стойността на първия аргумент отляво надясно, след който каквито и да са стойностите на другите резултатът остава същия:"
      ]
    },
    {
      "cell_type": "code",
      "execution_count": null,
      "metadata": {
        "id": "ce4inG3iMJ0k",
        "outputId": "e1bbbea0-3c3d-4fce-add6-5c630642c952"
      },
      "outputs": [
        {
          "name": "stdout",
          "output_type": "stream",
          "text": [
            "a or b or c = 1\n",
            "a and b and c = 3\n",
            "a or 0 or c = 1\n",
            "a and 0 and c = 0\n"
          ]
        }
      ],
      "source": [
        "a, b, c = 1, 2, 3\n",
        "\n",
        "print(f\"{a or b or c = }\")\n",
        "print(f\"{a and b and c = }\")\n",
        "print(f\"{a or 0 or c = }\")\n",
        "print(f\"{a and 0 and c = }\")"
      ]
    },
    {
      "cell_type": "markdown",
      "metadata": {
        "id": "S_N1NNoaMJ0k"
      },
      "source": [
        "Можем да се възползваме от това в кода ни с изрази и функции, чието изпълнение зависи от предходния резултат:"
      ]
    },
    {
      "cell_type": "code",
      "execution_count": null,
      "metadata": {
        "id": "2PhpGlNCMJ0k",
        "outputId": "f405b5fa-07e8-452f-b323-0047ff59b818"
      },
      "outputs": [
        {
          "name": "stdout",
          "output_type": "stream",
          "text": [
            "Function 1 is being executed.\n",
            "OK\n"
          ]
        }
      ],
      "source": [
        "def func1():\n",
        "    print(\"Function 1 is being executed.\")\n",
        "    return True\n",
        "\n",
        "def func2():\n",
        "    print(\"Function 2 is being executed.\")\n",
        "    return True\n",
        "\n",
        "if func1() or func2():\n",
        "    print(\"OK\")"
      ]
    },
    {
      "cell_type": "markdown",
      "metadata": {
        "id": "gW1Dc2TDMJ0k"
      },
      "source": [
        "### `None`\n",
        "\n",
        "`None` е стойност (и тип), обозначаваща липса на стойност (🤔).\n",
        "\n",
        "Когато една функция **не** преминава през `return` израз, тя всъщност връща `None` като резултат."
      ]
    },
    {
      "cell_type": "code",
      "execution_count": null,
      "metadata": {
        "id": "F4XJXsuTMJ0k",
        "outputId": "453bace0-f77d-413d-ed06-159c58a04ac4"
      },
      "outputs": [
        {
          "name": "stdout",
          "output_type": "stream",
          "text": [
            "The print function isn't intended to return a specific value.\n",
            "None\n"
          ]
        }
      ],
      "source": [
        "result_of_print = print(\"The print function isn't intended to return a specific value.\")\n",
        "print(result_of_print)"
      ]
    },
    {
      "cell_type": "markdown",
      "metadata": {
        "id": "vcSE0kJ2MJ0k"
      },
      "source": [
        "### `type`\n",
        "`type` е функция, която ни връща типа на дадена стойност:"
      ]
    },
    {
      "cell_type": "code",
      "execution_count": null,
      "metadata": {
        "id": "ayQ2B_ljMJ0k",
        "outputId": "de9ec149-e7d9-4847-c0ba-a1fc16ef7d05"
      },
      "outputs": [
        {
          "data": {
            "text/plain": [
              "int"
            ]
          },
          "execution_count": 24,
          "metadata": {},
          "output_type": "execute_result"
        }
      ],
      "source": [
        "type(42)"
      ]
    },
    {
      "cell_type": "markdown",
      "metadata": {
        "id": "5hG0Km3CMJ0k"
      },
      "source": [
        "Но всичко в Python е обект, включително и функциите:"
      ]
    },
    {
      "cell_type": "code",
      "execution_count": null,
      "metadata": {
        "id": "v_qRvwXbMJ0k",
        "outputId": "6ab8e98e-0025-46d1-9bf8-655db0e549e9"
      },
      "outputs": [
        {
          "data": {
            "text/plain": [
              "builtin_function_or_method"
            ]
          },
          "execution_count": 25,
          "metadata": {},
          "output_type": "execute_result"
        }
      ],
      "source": [
        "type(print)"
      ]
    },
    {
      "cell_type": "markdown",
      "metadata": {
        "id": "Tw1VHrBQMJ0k"
      },
      "source": [
        "Следователно, `type` също си има тип:"
      ]
    },
    {
      "cell_type": "code",
      "execution_count": null,
      "metadata": {
        "id": "aBPnLWx5MJ0k",
        "outputId": "fecbc3a0-baa0-4920-b52f-dc010be38dc5"
      },
      "outputs": [
        {
          "data": {
            "text/plain": [
              "type"
            ]
          },
          "execution_count": 26,
          "metadata": {},
          "output_type": "execute_result"
        }
      ],
      "source": [
        "type(type)"
      ]
    },
    {
      "cell_type": "markdown",
      "metadata": {
        "id": "c8bK6mOkMJ0k"
      },
      "source": [
        "😵‍💫"
      ]
    },
    {
      "cell_type": "code",
      "execution_count": null,
      "metadata": {
        "id": "59jLHBV5MJ0k",
        "outputId": "675653f6-6348-453b-e256-36138ea78742"
      },
      "outputs": [
        {
          "data": {
            "text/plain": [
              "type"
            ]
          },
          "execution_count": 27,
          "metadata": {},
          "output_type": "execute_result"
        }
      ],
      "source": [
        "type(type(type(type(type(type)))))"
      ]
    },
    {
      "cell_type": "markdown",
      "metadata": {
        "id": "Bf_JFQUTMJ0k"
      },
      "source": [
        "### `tuple`, `list`, `set`, `dict`\n",
        "\n",
        "* `tuple`: наредена $n$-торка (още кортеж), която не може да се променя \n",
        "* `list`: списък от елементи, който може да се променя\n",
        "* `set`: множество от елементи без наредба и повторения (HashSet)\n",
        "* `dict`: речник от ключове и стойности (HashMap)\n",
        "\n",
        "Елементите и на четирите колекции могат да бъдат от различни типове."
      ]
    },
    {
      "cell_type": "code",
      "execution_count": null,
      "metadata": {
        "id": "OrjWqcPtMJ0k",
        "outputId": "b302a9b4-e077-4694-ee4f-5058c4203d0e"
      },
      "outputs": [
        {
          "name": "stdout",
          "output_type": "stream",
          "text": [
            "t = (1, 'b', False)\n",
            "l = [1, 'b', False]\n",
            "s = {False, 1, 'b'}\n",
            "d = {'a': 1, 'b': 2, 'c': 3, '幸': None}\n"
          ]
        }
      ],
      "source": [
        "t = (1, \"b\", False)  # tuples are with () or without any brackets\n",
        "l = [1, \"b\", False]  # lists are with []\n",
        "s = {1, \"b\", False}                     # sets are with {}\n",
        "d = {\"a\": 1, \"b\": 2, \"c\": 3, \"幸\": None}   # dicts are also with {}\n",
        "\n",
        "print(f\"{t = }\")\n",
        "print(f\"{l = }\")\n",
        "print(f\"{s = }\")\n",
        "print(f\"{d = }\")\n"
      ]
    },
    {
      "cell_type": "markdown",
      "metadata": {
        "id": "-ay9ihgaMJ0k"
      },
      "source": [
        "⚠️ `{}` е празен `dict`, а не празен `set`. За празен `set` се ползва конструктора `set()`."
      ]
    },
    {
      "cell_type": "code",
      "execution_count": null,
      "metadata": {
        "id": "4BAWiHVXMJ0l",
        "outputId": "61500977-eb4e-42a6-8fa8-260610c91e77"
      },
      "outputs": [
        {
          "data": {
            "text/plain": [
              "dict"
            ]
          },
          "execution_count": 29,
          "metadata": {},
          "output_type": "execute_result"
        }
      ],
      "source": [
        "type({})"
      ]
    },
    {
      "cell_type": "markdown",
      "metadata": {
        "id": "RNQh-MeQMJ0l"
      },
      "source": [
        "⚠️ Понеже нормалните скоби са и... нормални скоби, които обособяват израз и връщат стойността му, `tuple` с един елемент се дефинира със запетайка след елемента. Освен това няма нужда от обграждащи скоби при задаване на `tuple` с повече от нула елементи."
      ]
    },
    {
      "cell_type": "code",
      "execution_count": null,
      "metadata": {
        "id": "PbWJpIaSMJ0l",
        "outputId": "fce1b2a8-bf0f-4283-83c1-44d099a9b154"
      },
      "outputs": [
        {
          "name": "stdout",
          "output_type": "stream",
          "text": [
            "a_tuple = (42,)\n",
            "definitely_not_a_tuple = 42\n",
            "btw_brackets_are_for_plebs = (42,)\n"
          ]
        }
      ],
      "source": [
        "a_tuple = (42,)\n",
        "definitely_not_a_tuple = (42)\n",
        "print(f\"{a_tuple = }\")\n",
        "print(f\"{definitely_not_a_tuple = }\")\n",
        "\n",
        "btw_brackets_are_for_plebs = 42,\n",
        "print(f\"{btw_brackets_are_for_plebs = }\")"
      ]
    },
    {
      "cell_type": "markdown",
      "metadata": {
        "id": "gYjHY7YYMJ0l"
      },
      "source": [
        "Кога кое да ползваме? Rule of thumb:\n",
        "* `tuple` - когато искаме функция да върне няколко неща / анонимен `dataclass` / списък, който не може да бъде променян\n",
        "* `list` - когато искаме нареден списък, който да може да бъде променян и може да има повторения\n",
        "* `set` - когато наредбата не ни трябва и нямаме повторения\n",
        "* `dict` - когато искаме да асоциираме дадени ключове с дадени стойности"
      ]
    },
    {
      "cell_type": "markdown",
      "metadata": {
        "id": "vFFPV3kyMJ0l"
      },
      "source": [
        "Ключовата дума `in` е полезна при работа с такива колекции. Тя връща `bool` който ни казва дали даден елемент се среща вътре:"
      ]
    },
    {
      "cell_type": "code",
      "execution_count": null,
      "metadata": {
        "id": "CPI5yGn7MJ0l",
        "outputId": "457c95a3-49f6-4c6e-adcc-2afebea676b7"
      },
      "outputs": [
        {
          "name": "stdout",
          "output_type": "stream",
          "text": [
            "impostor in squad = True\n",
            "impostor in members = False\n",
            "impostor in members.values() = True\n"
          ]
        }
      ],
      "source": [
        "impostor = 1j\n",
        "\n",
        "squad = [0, 1j, 2, 3, 4, 5]\n",
        "print(f\"{impostor in squad = }\")\n",
        "\n",
        "members = {\"A\": 0, \"B\": 1j, \"C\": 2, \"D\": 3, \"E\": 4, \"F\": 5}  # `in` searches in the dictionary's keys, not values\n",
        "print(f\"{impostor in members = }\")\n",
        "print(f\"{impostor in members.values() = }\")\n"
      ]
    },
    {
      "cell_type": "markdown",
      "metadata": {
        "id": "O0H0DjueMJ0l"
      },
      "source": [
        "`in` може да се ползва и за `str`:"
      ]
    },
    {
      "cell_type": "code",
      "execution_count": null,
      "metadata": {
        "id": "RUFpgOGyMJ0l",
        "outputId": "044dba65-4927-47e6-ea9c-882eca4ff1ff"
      },
      "outputs": [
        {
          "data": {
            "text/plain": [
              "True"
            ]
          },
          "execution_count": 32,
          "metadata": {},
          "output_type": "execute_result"
        }
      ],
      "source": [
        "\"mile\" in \"smiles\""
      ]
    },
    {
      "cell_type": "markdown",
      "metadata": {
        "id": "zApcMytEMJ0l"
      },
      "source": [
        "Дължината им се взима с `len`:"
      ]
    },
    {
      "cell_type": "code",
      "execution_count": null,
      "metadata": {
        "id": "zqER1iKUMJ0l",
        "outputId": "6371999a-bf06-4a3c-937a-5cbd453bced2"
      },
      "outputs": [
        {
          "data": {
            "text/plain": [
              "3"
            ]
          },
          "execution_count": 33,
          "metadata": {},
          "output_type": "execute_result"
        }
      ],
      "source": [
        "len([0, 1, 2])"
      ]
    },
    {
      "cell_type": "markdown",
      "metadata": {
        "id": "wqBJyCr-MJ0l"
      },
      "source": [
        "`tuple` и `list` поддържат индексиране, като за `tuple` това е само read-only:"
      ]
    },
    {
      "cell_type": "code",
      "execution_count": null,
      "metadata": {
        "id": "U9yV22CGMJ0l",
        "outputId": "8cc6880b-ccce-4422-e61f-25957a1451be"
      },
      "outputs": [
        {
          "name": "stdout",
          "output_type": "stream",
          "text": [
            "t[0] = 1\n",
            "l[0] = 1\n",
            "l = [-1, 2, 3]\n"
          ]
        },
        {
          "ename": "TypeError",
          "evalue": "'tuple' object does not support item assignment",
          "output_type": "error",
          "traceback": [
            "\u001b[0;31m---------------------------------------------------------------------------\u001b[0m",
            "\u001b[0;31mTypeError\u001b[0m                                 Traceback (most recent call last)",
            "\u001b[0;32m/var/folders/7x/gdf0mbts74n8p_ckv_b_mfc40000gp/T/ipykernel_18944/165187029.py\u001b[0m in \u001b[0;36m<module>\u001b[0;34m\u001b[0m\n\u001b[1;32m      7\u001b[0m \u001b[0mprint\u001b[0m\u001b[0;34m(\u001b[0m\u001b[0;34mf\"{l = }\"\u001b[0m\u001b[0;34m)\u001b[0m\u001b[0;34m\u001b[0m\u001b[0;34m\u001b[0m\u001b[0m\n\u001b[1;32m      8\u001b[0m \u001b[0;34m\u001b[0m\u001b[0m\n\u001b[0;32m----> 9\u001b[0;31m \u001b[0mt\u001b[0m\u001b[0;34m[\u001b[0m\u001b[0;36m0\u001b[0m\u001b[0;34m]\u001b[0m \u001b[0;34m=\u001b[0m \u001b[0;34m-\u001b[0m\u001b[0;36m1\u001b[0m  \u001b[0;31m# 💥\u001b[0m\u001b[0;34m\u001b[0m\u001b[0;34m\u001b[0m\u001b[0m\n\u001b[0m",
            "\u001b[0;31mTypeError\u001b[0m: 'tuple' object does not support item assignment"
          ]
        }
      ],
      "source": [
        "t = (1, 2, 3)\n",
        "l = [1, 2, 3]\n",
        "print(f\"{t[0] = }\")\n",
        "print(f\"{l[0] = }\")\n",
        "\n",
        "l[0] = -1\n",
        "print(f\"{l = }\")\n",
        "\n",
        "t[0] = -1  # 💥"
      ]
    },
    {
      "cell_type": "markdown",
      "metadata": {
        "id": "wx4Iue3iMJ0l"
      },
      "source": [
        "По същия начин става взимането/записването на стойност в `dict`. Съществува и метода `get` който ни предоставя по-безопасен начин при достъпването на несъществуващи ключове:"
      ]
    },
    {
      "cell_type": "code",
      "execution_count": null,
      "metadata": {
        "id": "Q1L_7EFHMJ0l",
        "outputId": "f1864ab0-c33e-4a80-9073-204e0ba76f58"
      },
      "outputs": [
        {
          "name": "stdout",
          "output_type": "stream",
          "text": [
            "d['a'] = 1\n",
            "d.get('a') = 1\n",
            "d.get('b') = None\n",
            "d.get('b', 0) = 0\n"
          ]
        },
        {
          "ename": "KeyError",
          "evalue": "'b'",
          "output_type": "error",
          "traceback": [
            "\u001b[0;31m---------------------------------------------------------------------------\u001b[0m",
            "\u001b[0;31mKeyError\u001b[0m                                  Traceback (most recent call last)",
            "\u001b[0;32m/var/folders/7x/gdf0mbts74n8p_ckv_b_mfc40000gp/T/ipykernel_18944/1199089680.py\u001b[0m in \u001b[0;36m<module>\u001b[0;34m\u001b[0m\n\u001b[1;32m      7\u001b[0m \u001b[0mprint\u001b[0m\u001b[0;34m(\u001b[0m\u001b[0;34mf\"{d.get('b') = }\"\u001b[0m\u001b[0;34m)\u001b[0m     \u001b[0;31m# returns None if not present\u001b[0m\u001b[0;34m\u001b[0m\u001b[0;34m\u001b[0m\u001b[0m\n\u001b[1;32m      8\u001b[0m \u001b[0mprint\u001b[0m\u001b[0;34m(\u001b[0m\u001b[0;34mf\"{d.get('b', 0) = }\"\u001b[0m\u001b[0;34m)\u001b[0m  \u001b[0;31m# returns the provided default value if not present\u001b[0m\u001b[0;34m\u001b[0m\u001b[0;34m\u001b[0m\u001b[0m\n\u001b[0;32m----> 9\u001b[0;31m \u001b[0mprint\u001b[0m\u001b[0;34m(\u001b[0m\u001b[0;34mf\"{d['b'] = }\"\u001b[0m\u001b[0;34m)\u001b[0m         \u001b[0;31m# 💥\u001b[0m\u001b[0;34m\u001b[0m\u001b[0;34m\u001b[0m\u001b[0m\n\u001b[0m",
            "\u001b[0;31mKeyError\u001b[0m: 'b'"
          ]
        }
      ],
      "source": [
        "d = {}\n",
        "d[\"a\"] = 1\n",
        "\n",
        "print(f\"{d['a'] = }\")\n",
        "print(f\"{d.get('a') = }\")\n",
        "\n",
        "print(f\"{d.get('b') = }\")     # returns None if not present\n",
        "print(f\"{d.get('b', 0) = }\")  # returns the provided default value if not present\n",
        "print(f\"{d['b'] = }\")         # 💥"
      ]
    },
    {
      "cell_type": "markdown",
      "metadata": {
        "id": "t4FbY8RrMJ0l"
      },
      "source": [
        "Pro tip: `collections.defalutdict` е `dict` със зададена стойност по подразбиране, която се връща при липсващ ключ."
      ]
    },
    {
      "cell_type": "markdown",
      "metadata": {
        "id": "h-aWoaw0MJ0l"
      },
      "source": [
        "## Mutable vs Immutable\n",
        "\n",
        "Имената в Python сочат към някаква стойност в паметта."
      ]
    },
    {
      "cell_type": "code",
      "execution_count": null,
      "metadata": {
        "id": "NHuy2kODMJ0l",
        "outputId": "4f511741-97d9-4058-cf5e-789555909821"
      },
      "outputs": [
        {
          "name": "stdout",
          "output_type": "stream",
          "text": [
            "1001\n"
          ]
        }
      ],
      "source": [
        "name = 1\n",
        "name += 1000\n",
        "print(name)"
      ]
    },
    {
      "cell_type": "markdown",
      "metadata": {
        "id": "9p9GIkVoMJ0l"
      },
      "source": [
        "Горното парче код не променя стойността на `1`, а кара `name` да сочи към нова стойност - `1001`.\n",
        "\n",
        "Това е така, понеже `int` е immutable тип (такъв който не може да си променя стойността). Immutable са още всички числа, низове, `tuple`, `True`, `False`, `None` и [т.н.](https://www.youtube.com/watch?v=EuUYM-E5-1U)\n",
        "\n",
        "Mutable типовете пък са `list`, `set`, `dict` и почти всичко останало."
      ]
    },
    {
      "cell_type": "code",
      "execution_count": null,
      "metadata": {
        "id": "IkqMQST-MJ0l",
        "outputId": "a844bf13-720e-4f14-e23e-0f43caf9190c"
      },
      "outputs": [
        {
          "name": "stdout",
          "output_type": "stream",
          "text": [
            "a=1, b=2\n",
            "a=[1, 2, 3], b=[1, 2, 3]\n"
          ]
        }
      ],
      "source": [
        "a = 1\n",
        "b = a\n",
        "b += 1\n",
        "print(f\"{a=}, {b=}\")\n",
        "\n",
        "a = [1, 2]\n",
        "b = a\n",
        "b.append(3)\n",
        "print(f\"{a=}, {b=}\")  # if you think they can be different now, you are dead wrong"
      ]
    },
    {
      "cell_type": "markdown",
      "metadata": {
        "id": "V3i1mgrHMJ0m"
      },
      "source": [
        "Важно е да се отбележи също, че валидни **ключове** за `dict` и елементи за `set` са само **immutable** стойности."
      ]
    },
    {
      "cell_type": "code",
      "execution_count": null,
      "metadata": {
        "id": "bqcVVHzEMJ0m",
        "outputId": "b83f0c86-3dd9-4f54-84e3-a52e98f6756d"
      },
      "outputs": [
        {
          "ename": "TypeError",
          "evalue": "unhashable type: 'list'",
          "output_type": "error",
          "traceback": [
            "\u001b[0;31m---------------------------------------------------------------------------\u001b[0m",
            "\u001b[0;31mTypeError\u001b[0m                                 Traceback (most recent call last)",
            "\u001b[0;32m/var/folders/7x/gdf0mbts74n8p_ckv_b_mfc40000gp/T/ipykernel_18944/1443935741.py\u001b[0m in \u001b[0;36m<module>\u001b[0;34m\u001b[0m\n\u001b[1;32m      1\u001b[0m \u001b[0ml\u001b[0m \u001b[0;34m=\u001b[0m \u001b[0;34m[\u001b[0m\u001b[0;36m1\u001b[0m\u001b[0;34m,\u001b[0m \u001b[0;36m2\u001b[0m\u001b[0;34m]\u001b[0m\u001b[0;34m\u001b[0m\u001b[0;34m\u001b[0m\u001b[0m\n\u001b[0;32m----> 2\u001b[0;31m \u001b[0md\u001b[0m \u001b[0;34m=\u001b[0m \u001b[0;34m{\u001b[0m\u001b[0ml\u001b[0m\u001b[0;34m:\u001b[0m \u001b[0;36m1\u001b[0m\u001b[0;34m}\u001b[0m\u001b[0;34m\u001b[0m\u001b[0;34m\u001b[0m\u001b[0m\n\u001b[0m",
            "\u001b[0;31mTypeError\u001b[0m: unhashable type: 'list'"
          ]
        }
      ],
      "source": [
        "l = [1, 2]\n",
        "d = {l: 1}"
      ]
    },
    {
      "cell_type": "markdown",
      "metadata": {
        "id": "RdBykr8TMJ0m"
      },
      "source": [
        "### Unpacking\n",
        "\n",
        "Unpacking-ът ни позволява да извлечем всички елементи от колекции в няколко различни други имена."
      ]
    },
    {
      "cell_type": "code",
      "execution_count": null,
      "metadata": {
        "id": "qSGzJU8_MJ0m",
        "outputId": "fb0a2369-ed1b-4161-8e63-749c2c0992e5"
      },
      "outputs": [
        {
          "name": "stdout",
          "output_type": "stream",
          "text": [
            "firstname='Вовеки', lastname='Веков'\n",
            "a=1, b=2, c=3\n"
          ]
        }
      ],
      "source": [
        "firstname, lastname = \"Вовеки\", \"Веков\"\n",
        "\n",
        "tup = 1, 2, 3\n",
        "a, b, c = tup\n",
        "\n",
        "print(f\"{firstname=}, {lastname=}\")\n",
        "print(f\"{a=}, {b=}, {c=}\")"
      ]
    },
    {
      "cell_type": "markdown",
      "metadata": {
        "id": "x83AgfGxMJ0m"
      },
      "source": [
        "Pro tip: размяната на стойностите на две променливи в Python не изисква да дефинираме трета:"
      ]
    },
    {
      "cell_type": "code",
      "execution_count": null,
      "metadata": {
        "id": "BEvii8ppMJ0m",
        "outputId": "68169785-8ac6-48f3-8992-bcb04b2630bc"
      },
      "outputs": [
        {
          "name": "stdout",
          "output_type": "stream",
          "text": [
            "a=2, b=1\n"
          ]
        }
      ],
      "source": [
        "a, b = 1, 2\n",
        "a, b = b, a\n",
        "print(f\"{a=}, {b=}\")"
      ]
    },
    {
      "cell_type": "markdown",
      "metadata": {
        "id": "P3nvtU_IMJ0m"
      },
      "source": [
        "За да посочим име, в което да се присвоят всички останали неприсвоени елементи от колекцията, която unpack-ваме, използваме астериск `*` (няма нищо общо с pointer, спокойно). Типът на такава променлива винаги става `list`."
      ]
    },
    {
      "cell_type": "code",
      "execution_count": null,
      "metadata": {
        "id": "48_XV1yLMJ0m",
        "outputId": "968226e2-88e7-49fe-e502-4387aa5827af"
      },
      "outputs": [
        {
          "name": "stdout",
          "output_type": "stream",
          "text": [
            "head=1, tail=[2, 3, 4, 5]\n",
            "first=1, inbetween=[2, 3, 4, 5, 6, 7, 8, 9], last=10\n"
          ]
        }
      ],
      "source": [
        "head, *tail = [1, 2, 3, 4, 5]\n",
        "first, *inbetween, last = 1, 2, 3, 4, 5, 6, 7, 8, 9, 10\n",
        "\n",
        "print(f\"{head=}, {tail=}\")\n",
        "print(f\"{first=}, {inbetween=}, {last=}\")\n"
      ]
    },
    {
      "cell_type": "markdown",
      "metadata": {
        "id": "DNmsF56QMJ0m"
      },
      "source": [
        "Това може да бъде приложимо при слепване на колекции, като за `dict` ползваме `**`:"
      ]
    },
    {
      "cell_type": "code",
      "execution_count": null,
      "metadata": {
        "id": "OixG3eJrMJ0m",
        "outputId": "c9707613-c132-4eb3-f480-766e72b91582"
      },
      "outputs": [
        {
          "name": "stdout",
          "output_type": "stream",
          "text": [
            "new_ingredients=['flour', 'eggs', 'butter', 'water', 'salt', 'sugar']\n",
            "live_band={'BASS': 'Pesho', 'DRUMS': '亚历山大', 'GUITAR': 'Vasko', 'MICROPHONE': 'Ceca'}\n"
          ]
        }
      ],
      "source": [
        "original_ingredients = [\"water\", \"salt\", \"sugar\"]\n",
        "new_ingredients = [\"flour\", \"eggs\", \"butter\", *original_ingredients]\n",
        "\n",
        "studio_band = {\"GUITAR\": \"Vasko\", \"MICROPHONE\": \"Ceca\"}\n",
        "live_band = {\"BASS\": \"Pesho\", \"DRUMS\": \"亚历山大\", **studio_band}\n",
        "\n",
        "print(f\"{new_ingredients=}\")\n",
        "print(f\"{live_band=}\")\n"
      ]
    },
    {
      "cell_type": "markdown",
      "metadata": {
        "id": "mCIBa30qMJ0m"
      },
      "source": [
        "## Блокове"
      ]
    },
    {
      "cell_type": "markdown",
      "metadata": {
        "id": "LAHKT_IcMJ0m"
      },
      "source": [
        "В Python блоковете от код се отделят не чрез къдрави скоби, а с индентация.\n",
        "\n",
        "За съжаление на хората, предпочитащи скоби, това няма да се промени в бъдещи версии на езика:"
      ]
    },
    {
      "cell_type": "code",
      "execution_count": null,
      "metadata": {
        "id": "rRi1d6-aMJ0m",
        "outputId": "2702f28b-5fec-4b16-cc63-eca64ed5fe6c"
      },
      "outputs": [
        {
          "ename": "SyntaxError",
          "evalue": "not a chance (3905450354.py, line 1)",
          "output_type": "error",
          "traceback": [
            "\u001b[0;36m  File \u001b[0;32m\"/var/folders/7x/gdf0mbts74n8p_ckv_b_mfc40000gp/T/ipykernel_18944/3905450354.py\"\u001b[0;36m, line \u001b[0;32m1\u001b[0m\n\u001b[0;31m    from __future__ import braces\u001b[0m\n\u001b[0m    ^\u001b[0m\n\u001b[0;31mSyntaxError\u001b[0m\u001b[0;31m:\u001b[0m not a chance\n"
          ]
        }
      ],
      "source": [
        "from __future__ import braces"
      ]
    },
    {
      "cell_type": "markdown",
      "metadata": {
        "id": "jW4wHu6MMJ0m"
      },
      "source": [
        "Важно е да се отбележи, че всеки блок започва след двуеточие и всеки негов ред започва с определен брой интервали (или една табулация) по-навътре от предходния блок. За да бъде валдна индентацията трябва да е консистентна в целия файл, в противен случай ще се хвърли `IndentationError`. Общоприето е в Python да си използват 4 интервала за тази цел."
      ]
    },
    {
      "cell_type": "code",
      "execution_count": null,
      "metadata": {
        "id": "2CQdveM-MJ0m",
        "outputId": "1901885e-6944-465c-9f03-6726334ab475"
      },
      "outputs": [
        {
          "ename": "IndentationError",
          "evalue": "unexpected indent (1618609151.py, line 3)",
          "output_type": "error",
          "traceback": [
            "\u001b[0;36m  File \u001b[0;32m\"/var/folders/7x/gdf0mbts74n8p_ckv_b_mfc40000gp/T/ipykernel_18944/1618609151.py\"\u001b[0;36m, line \u001b[0;32m3\u001b[0m\n\u001b[0;31m    print(\"But this one is not\")\u001b[0m\n\u001b[0m    ^\u001b[0m\n\u001b[0;31mIndentationError\u001b[0m\u001b[0;31m:\u001b[0m unexpected indent\n"
          ]
        }
      ],
      "source": [
        "if True:\n",
        "    print(\"This line is ok\")\n",
        "        print(\"But this one is not\")"
      ]
    },
    {
      "cell_type": "markdown",
      "metadata": {
        "id": "amN623wxMJ0m"
      },
      "source": [
        "Side note: едноредови блокове могат да се запишат и на същия ред след двуеточието. Често срещана конвенция обаче е да не се пишат по този начин."
      ]
    },
    {
      "cell_type": "code",
      "execution_count": null,
      "metadata": {
        "id": "wqZKsmepMJ0m",
        "outputId": "23c56315-984d-4cef-995e-a3ff2ea16d99"
      },
      "outputs": [
        {
          "name": "stdout",
          "output_type": "stream",
          "text": [
            "This will run\n"
          ]
        }
      ],
      "source": [
        "if True: print(\"This will run\")"
      ]
    },
    {
      "cell_type": "markdown",
      "metadata": {
        "id": "WiKFUt2XMJ0m"
      },
      "source": [
        "## Контролни структури"
      ]
    },
    {
      "cell_type": "markdown",
      "metadata": {
        "id": "YHdQl8UnMJ0n"
      },
      "source": [
        "### `if`"
      ]
    },
    {
      "cell_type": "code",
      "execution_count": null,
      "metadata": {
        "id": "JPlsyGDAMJ0n",
        "outputId": "8f747ede-34b9-45ed-fef2-d5ad59d530d3"
      },
      "outputs": [
        {
          "name": "stdout",
          "output_type": "stream",
          "text": [
            "You good.\n"
          ]
        }
      ],
      "source": [
        "age = 21\n",
        "\n",
        "if age == 18:\n",
        "    print(\"Barely legal\")\n",
        "elif age < 18:\n",
        "    print(\"Sorry, you are not allowed.\")\n",
        "else:\n",
        "    print(\"You good.\")"
      ]
    },
    {
      "cell_type": "markdown",
      "metadata": {
        "id": "dM7zHzJ-MJ0n"
      },
      "source": [
        "Няма нужда от скоби около условията. \n",
        "\n",
        "Едно условие се оценява на `False`, когато стойността му е `False`, `None`, `0`, `0.0`, `0j`, `''`, `[]`, `()`, `{}` и всички празни контейнери. Всички други стойности се оценяват до `True`."
      ]
    },
    {
      "cell_type": "markdown",
      "metadata": {
        "id": "2am52UJ_MJ0n"
      },
      "source": [
        "Съществува и едноредова версия на `if` с `else`, която има за цел да служи като тернарния оператор в повечето езици:"
      ]
    },
    {
      "cell_type": "code",
      "execution_count": null,
      "metadata": {
        "id": "O-J7-4xAMJ0n",
        "outputId": "5cf11094-99d6-41c7-e74a-ec12830621a9"
      },
      "outputs": [
        {
          "name": "stdout",
          "output_type": "stream",
          "text": [
            "420 is definitely not odd\n"
          ]
        }
      ],
      "source": [
        "num = 420\n",
        "statement = \"odd\" if num % 2 == 1 else \"definitely not odd\"\n",
        "print(f\"{num} is {statement}\")"
      ]
    },
    {
      "cell_type": "markdown",
      "metadata": {
        "id": "as4FxFPLMJ0n"
      },
      "source": [
        "Операторите за сравнение са `==`, `!=`, `<`, `>`, `<=`, `>=`. Съществува и `<>`, който е просто различен запис на `!=`.\n",
        "\n",
        "В Python е възможно комбинирането им. Например `1 < 2 and 2 < 3` може да бъде записано като `1 < 2 < 3`."
      ]
    },
    {
      "cell_type": "code",
      "execution_count": null,
      "metadata": {
        "id": "hrPjlY2iMJ0n",
        "outputId": "2060a0ea-50a7-4db8-9697-c1b018c34449"
      },
      "outputs": [
        {
          "name": "stdout",
          "output_type": "stream",
          "text": [
            "Client error\n"
          ]
        }
      ],
      "source": [
        "code = 404\n",
        "\n",
        "if 100 <= code < 200:\n",
        "    print(\"Informational response\")\n",
        "elif 200 <= code < 300:\n",
        "    print(\"OK response\")\n",
        "elif 300 <= code < 400:\n",
        "    print(\"Redirection\")\n",
        "elif 400 <= code < 500:\n",
        "    print(\"Client error\")\n",
        "elif 500 <= code < 600:\n",
        "    print(\"Server error\")\n",
        "else:\n",
        "    print(\"Not a valid HTTP status code\")"
      ]
    },
    {
      "cell_type": "markdown",
      "metadata": {
        "id": "2uvns57nMJ0n"
      },
      "source": [
        "Ключовата дума `is` сравнява по референция, докато `==` сравнява по стойност:"
      ]
    },
    {
      "cell_type": "code",
      "execution_count": null,
      "metadata": {
        "id": "s0BSnCcoMJ0n",
        "outputId": "98200ff0-5d5b-46ab-aec5-ff9ed5bcd3bd"
      },
      "outputs": [
        {
          "name": "stdout",
          "output_type": "stream",
          "text": [
            "a and b are equal\n",
            "a is not the same thing as b\n"
          ]
        }
      ],
      "source": [
        "a = [1, 2, 3]\n",
        "b = [1, 2, 3]\n",
        "\n",
        "if a == b:\n",
        "    print(\"a and b are equal\")\n",
        "else:\n",
        "    print(\"a and b are not equal\")\n",
        "\n",
        "if a is b:\n",
        "    print(\"a is the same thing as b\")\n",
        "else:\n",
        "    print(\"a is not the same thing as b\")"
      ]
    },
    {
      "cell_type": "markdown",
      "metadata": {
        "id": "wkO1VNTIMJ0n"
      },
      "source": [
        "Side note: сравнение с `None` може да бъде направено и по двата начина, но за четимост се ползва по-често `is`."
      ]
    },
    {
      "cell_type": "code",
      "execution_count": null,
      "metadata": {
        "id": "Xu_h6cJhMJ0n",
        "outputId": "87e33717-3db6-49d8-aadf-e2a0a7db17e0"
      },
      "outputs": [
        {
          "name": "stdout",
          "output_type": "stream",
          "text": [
            "No result.\n"
          ]
        }
      ],
      "source": [
        "result = None\n",
        "\n",
        "if result is not None:  # clear 'nuff, innit \n",
        "    print(f\"We got a result, it is {result}.\")\n",
        "else:\n",
        "    print(\"No result.\")"
      ]
    },
    {
      "cell_type": "markdown",
      "metadata": {
        "id": "TRDbTSSDMJ0n"
      },
      "source": [
        "⚠️ Трябва да се внимава винаги с очакваната прецизност на числата с плаваща запетая:"
      ]
    },
    {
      "cell_type": "code",
      "execution_count": null,
      "metadata": {
        "id": "rzHjOHvJMJ0n",
        "outputId": "f601d547-9607-47aa-bd1a-5d507fffd0a2"
      },
      "outputs": [
        {
          "name": "stdout",
          "output_type": "stream",
          "text": [
            "Да, ама не: 0.1 + 0.2 == 0.30000000000000004\n"
          ]
        }
      ],
      "source": [
        "if 0.1 + 0.2 == 0.3:\n",
        "    print(\"Естествено, че ще влезе тука\")\n",
        "else:\n",
        "    print(f\"Да, ама не: 0.1 + 0.2 == {0.1 + 0.2}\")"
      ]
    },
    {
      "cell_type": "markdown",
      "metadata": {
        "id": "lFwioYSXMJ0n"
      },
      "source": [
        "### `while`"
      ]
    },
    {
      "cell_type": "code",
      "execution_count": null,
      "metadata": {
        "id": "r6kNyCZpMJ0n",
        "outputId": "95b26fc1-77c6-4b68-8be5-91c7e2c255e4"
      },
      "outputs": [
        {
          "name": "stdout",
          "output_type": "stream",
          "text": [
            "1: \n",
            "2: \n",
            "3: Fizz\n",
            "4: \n",
            "5: Buzz\n",
            "6: Fizz\n",
            "7: \n",
            "8: \n",
            "9: Fizz\n",
            "10: Buzz\n",
            "11: \n",
            "12: Fizz\n",
            "13: \n",
            "14: \n",
            "15: FizzBuzz\n",
            "16: \n",
            "17: \n",
            "18: Fizz\n",
            "19: \n",
            "20: Buzz\n"
          ]
        }
      ],
      "source": [
        "num = 0\n",
        "while num < 20:\n",
        "    num += 1\n",
        "    current_output = f\"{num}: \"\n",
        "\n",
        "    if num % 3 == 0 and num % 5 == 0:\n",
        "        current_output += \"FizzBuzz\"\n",
        "    elif num % 3 == 0:\n",
        "        current_output += \"Fizz\"\n",
        "    elif num % 5 == 0:\n",
        "        current_output += \"Buzz\"\n",
        "\n",
        "    print(current_output)"
      ]
    },
    {
      "cell_type": "markdown",
      "metadata": {
        "id": "HtzAWG1KMJ0n"
      },
      "source": [
        "`continue` прекъсва изпълнението на текущaта итерация и продължава със следващата.\n",
        "\n",
        "`break` прекъсва изпълнението на цикъла."
      ]
    },
    {
      "cell_type": "code",
      "execution_count": null,
      "metadata": {
        "id": "t1MHrmyVMJ0n",
        "outputId": "ff3e6312-d2c9-4cd6-cc58-310f25a0c2e6"
      },
      "outputs": [
        {
          "name": "stdout",
          "output_type": "stream",
          "text": [
            "15\n",
            "30\n",
            "45\n",
            "60\n",
            "75\n",
            "90\n"
          ]
        }
      ],
      "source": [
        "n = 0\n",
        "while True:\n",
        "    if n > 100:\n",
        "        break\n",
        "\n",
        "    n += 1\n",
        "\n",
        "    if n % 3 != 0 or n % 5 != 0:\n",
        "        continue\n",
        "    \n",
        "    print(n)"
      ]
    },
    {
      "cell_type": "markdown",
      "metadata": {
        "id": "17GvTQWcMJ0n"
      },
      "source": [
        "Възможно е да се напише и `else` блок след тялото на `while`-a. Тогава той ще се изпълни само ако условието в `while`-a стане `False` без да бъде прекъсвано изпълнението на цикъла чрез `break` или `return`:"
      ]
    },
    {
      "cell_type": "code",
      "execution_count": null,
      "metadata": {
        "id": "sb1y1tCMMJ0o",
        "outputId": "32e942d5-bdc8-4e96-a04d-6c4b081ad0de"
      },
      "outputs": [
        {
          "name": "stdout",
          "output_type": "stream",
          "text": [
            "ababcbcbababcbabacababc\n"
          ]
        }
      ],
      "source": [
        "s = \"aababcbccbbbabbabccbbaabbacccaababbc\"\n",
        "# s = 1000 * \"s\"\n",
        "\n",
        "letters = []\n",
        "i = 0\n",
        "\n",
        "while i < len(s):\n",
        "    current_letter = s[i]\n",
        "    i += 1\n",
        "\n",
        "    if i > 100 and len(letters) <= 1:\n",
        "        print(\"I want to break free!\")\n",
        "        break\n",
        "\n",
        "    if letters and current_letter == letters[-1]:\n",
        "        continue\n",
        "\n",
        "    letters.append(current_letter)\n",
        "else:\n",
        "    print(\"\".join(letters))\n"
      ]
    },
    {
      "cell_type": "markdown",
      "metadata": {
        "id": "m0LgH_AGMJ0o"
      },
      "source": [
        "### `for`\n",
        "\n",
        "`for`-циклите в Python итерират върху дадена колекция:"
      ]
    },
    {
      "cell_type": "code",
      "execution_count": null,
      "metadata": {
        "id": "lEDSA4RBMJ0o",
        "outputId": "69f3ce23-67a5-4394-91df-7651b50faa08"
      },
      "outputs": [
        {
          "name": "stdout",
          "output_type": "stream",
          "text": [
            "I will need eggs\n",
            "I will need milk\n",
            "I will need flour\n",
            "I will need sugar\n",
            "We got eggs for $0.98\n",
            "We got milk for $1.23\n",
            "We got flour for $1.59\n",
            "We got sugar for $0.88\n"
          ]
        }
      ],
      "source": [
        "ingredients = [\"eggs\", \"milk\", \"flour\", \"sugar\"]\n",
        "ingredients_price = {\"eggs\": 0.98, \"milk\": 1.23, \"flour\": 1.59, \"sugar\": 0.88}\n",
        "\n",
        "for i in ingredients:\n",
        "    print(f\"I will need {i}\")\n",
        "\n",
        "for ingr, price in ingredients_price.items():\n",
        "    print(f\"We got {ingr} for ${price}\")"
      ]
    },
    {
      "cell_type": "markdown",
      "metadata": {
        "id": "lr21Tzi1MJ0o"
      },
      "source": [
        "`range` ни позволява да създадем колекция от числа от началото до края на даден интервал през определена стъпка:"
      ]
    },
    {
      "cell_type": "code",
      "execution_count": null,
      "metadata": {
        "id": "leH_XiFkMJ0o",
        "outputId": "c2d27d35-e5ce-4d59-fb28-d45d01a00c95"
      },
      "outputs": [
        {
          "name": "stdout",
          "output_type": "stream",
          "text": [
            "0 1 2 3 4 5 6 7 8 9 10 11 12 13 14 15 16 17 18 19 \n",
            "10 11 12 13 14 15 16 17 18 19 \n",
            "10 13 16 19 \n",
            "20 17 14 11 "
          ]
        }
      ],
      "source": [
        "for i in range(20):\n",
        "    print(i, end=\" \")\n",
        "\n",
        "print()\n",
        "\n",
        "for i in range(10, 20):\n",
        "    print(i, end=\" \")\n",
        "\n",
        "print()\n",
        "\n",
        "for i in range(10, 20, 3):\n",
        "    print(i, end=\" \")\n",
        "\n",
        "print()\n",
        "\n",
        "for i in range(20, 10, -3):\n",
        "    print(i, end=\" \")\n"
      ]
    },
    {
      "cell_type": "markdown",
      "metadata": {
        "id": "nvQ6pt2aMJ0o"
      },
      "source": [
        "По същия начин както при `while`-циклите, `else` може да бъде използван и с `for`:"
      ]
    },
    {
      "cell_type": "code",
      "execution_count": null,
      "metadata": {
        "id": "NSKrYtWhMJ0o",
        "outputId": "0f2f8527-c58b-4c07-c55d-e7169e91e381"
      },
      "outputs": [
        {
          "name": "stdout",
          "output_type": "stream",
          "text": [
            "2 is a prime number\n",
            "3 is a prime number\n",
            "4 = 2 * 2\n",
            "5 is a prime number\n",
            "6 = 2 * 3\n",
            "7 is a prime number\n",
            "8 = 2 * 4\n",
            "9 = 3 * 3\n",
            "10 = 2 * 5\n",
            "11 is a prime number\n",
            "12 = 2 * 6\n",
            "13 is a prime number\n",
            "14 = 2 * 7\n",
            "15 = 3 * 5\n",
            "16 = 2 * 8\n",
            "17 is a prime number\n",
            "18 = 2 * 9\n",
            "19 is a prime number\n"
          ]
        }
      ],
      "source": [
        "for n in range(2, 20):\n",
        "    for x in range(2, n):\n",
        "        if n % x == 0:\n",
        "            print(n, '=', x, '*', n // x)\n",
        "            break\n",
        "    else:\n",
        "        print(n, 'is a prime number')\n"
      ]
    },
    {
      "cell_type": "markdown",
      "metadata": {
        "id": "xJJ_rbZxMJ0o"
      },
      "source": [
        "### `match` (version 3.10+ !!!)\n",
        "\n",
        "В Python `switch-case` нарочно няма. От версия 3.10 насам обаче съществува `match`, което е по-скоро подобно на `switch` или `match` във функционалните езици за програмиране. С него можем да съпоставяме структурата на изрази в различни случаи, които ни интересуват, елиминирайки нуждата от вложени `if`-ове, проверки за типа на променливи, сложни проверки за размерности и структура на колекции и др. Това е мощно ново свойство на езика, за което повече информация може да намерим [тук](https://realpython.com/python310-new-features/#structural-pattern-matching)."
      ]
    },
    {
      "cell_type": "markdown",
      "metadata": {
        "id": "yKiuF7tHMJ0o"
      },
      "source": [
        "## Функции"
      ]
    },
    {
      "cell_type": "code",
      "execution_count": null,
      "metadata": {
        "id": "yHjchWRvMJ0o",
        "outputId": "5a3d266b-0401-473b-cfb1-f569a6c225e8"
      },
      "outputs": [
        {
          "name": "stdout",
          "output_type": "stream",
          "text": [
            "16777216\n"
          ]
        }
      ],
      "source": [
        "def f(x):\n",
        "    return x ** x\n",
        "\n",
        "print(f(8))"
      ]
    },
    {
      "cell_type": "markdown",
      "metadata": {
        "id": "b-jnjPLBMJ0o"
      },
      "source": [
        "`def` е ключовата дума, която започва дефинията на функция. След името и списък от аргументите в скоби, следва блок с код, който се изпълнява при извикването ѝ.\n",
        "\n",
        "При достигане на `return` или крaя на блокът от код, изпълнението на функцията прекъсва. Във втория случай или когато след `return` няма нищо посочено, функцията връща `None`.\n"
      ]
    },
    {
      "cell_type": "code",
      "execution_count": null,
      "metadata": {
        "id": "97vHFj-8MJ0o",
        "outputId": "62f633c3-003f-4e43-89c4-a4461fe34cef"
      },
      "outputs": [
        {
          "name": "stdout",
          "output_type": "stream",
          "text": [
            "I am Procedure.\n",
            "I shall be the reigning lord of the kingdom of side effects.\n",
            "I don't return anything.\n",
            "...Or do I?\n",
            "None\n"
          ]
        }
      ],
      "source": [
        "def procedure():\n",
        "    print(\"I am Procedure.\")\n",
        "    print(\"I shall be the reigning lord of the kingdom of side effects.\")\n",
        "    print(\"I don't return anything.\")\n",
        "    print(\"...Or do I?\")\n",
        "\n",
        "result = procedure()\n",
        "print(result)\n"
      ]
    },
    {
      "cell_type": "code",
      "execution_count": null,
      "metadata": {
        "id": "2rcvEwB2MJ0o",
        "outputId": "ea1acea0-48db-41a7-bdd2-893bdb3d14f2"
      },
      "outputs": [
        {
          "name": "stdout",
          "output_type": "stream",
          "text": [
            "Hello, John Smith!\n"
          ]
        }
      ],
      "source": [
        "def greeting(name):\n",
        "    if not name:\n",
        "        return\n",
        "    \n",
        "    print(f\"Hello, {name}!\")\n",
        "\n",
        "greeting(\"\")\n",
        "greeting(\"John Smith\")"
      ]
    },
    {
      "cell_type": "code",
      "execution_count": null,
      "metadata": {
        "id": "1As8vA6dMJ0o",
        "outputId": "3cd8294a-dc06-4666-a21e-26fa9015e514"
      },
      "outputs": [
        {
          "name": "stdout",
          "output_type": "stream",
          "text": [
            "11978571669969891796072783721689098736458938142546425857555362864628009582789845319680000000000000000\n"
          ]
        }
      ],
      "source": [
        "def factorial(n):\n",
        "    if n <= 0:\n",
        "        return 1\n",
        "    \n",
        "    return n * factorial(n - 1)\n",
        "\n",
        "print(factorial(70))"
      ]
    },
    {
      "cell_type": "markdown",
      "metadata": {
        "id": "OF5fTJ-VMJ0o"
      },
      "source": [
        "Аргументите на функциите могат да имат стойности по подразбиране:"
      ]
    },
    {
      "cell_type": "code",
      "execution_count": null,
      "metadata": {
        "id": "ZO-qSVxIMJ0o",
        "outputId": "3a5ce56e-447c-4d48-f5e2-1d84aca0b1ae"
      },
      "outputs": [
        {
          "name": "stdout",
          "output_type": "stream",
          "text": [
            "1\n",
            "2\n"
          ]
        }
      ],
      "source": [
        "def add(a, b=0):\n",
        "    return a + b\n",
        "\n",
        "print(add(1))\n",
        "print(add(1, 1))"
      ]
    },
    {
      "cell_type": "code",
      "execution_count": null,
      "metadata": {
        "id": "ogq_d7fvMJ0o",
        "outputId": "d2a625cd-5a62-419c-87fd-e53ea159b0cc"
      },
      "outputs": [
        {
          "name": "stdout",
          "output_type": "stream",
          "text": [
            "\n",
            "hello\n",
            "Hello\n",
            "Hello!\n",
            "Hello!\n",
            "Hello!\n",
            "Hello!\n"
          ]
        }
      ],
      "source": [
        "def my_custom_print(text=\"\", terminator=\"\\n\", capitalize=False):\n",
        "    new_text = text.capitalize() if capitalize else text\n",
        "    print(new_text, end=terminator)\n",
        "\n",
        "my_custom_print()\n",
        "my_custom_print(\"hello\")\n",
        "my_custom_print(\"hello\", capitalize=True)\n",
        "my_custom_print(\"hello\", \"!\\n\", capitalize=True)\n",
        "my_custom_print(\"hello\", terminator=\"!\\n\", capitalize=True)\n",
        "my_custom_print(\"hello\", capitalize=True, terminator=\"!\\n\")\n",
        "my_custom_print(capitalize=True, terminator=\"!\\n\", text=\"hello\")  # y tho\n"
      ]
    },
    {
      "cell_type": "markdown",
      "metadata": {
        "id": "yKqbJGrRMJ0q"
      },
      "source": [
        "Функции могат да приемат произволен брой аргументи, които биват два типа: позиционни (обикновено кръщавани `args`) и именовани (обикновено кръщавани `kwargs` (от англ. keyword arguments)). След именован аргумент не можем да подадем позиционен.\n",
        "\n",
        "Позиционните стават достъпни като `tuple`, а именованите - като `dict`."
      ]
    },
    {
      "cell_type": "code",
      "execution_count": null,
      "metadata": {
        "id": "mtGMbBR1MJ0q",
        "outputId": "b2943b11-572d-4a82-86f7-52281d000e3d"
      },
      "outputs": [
        {
          "name": "stdout",
          "output_type": "stream",
          "text": [
            "fixed_arg1=1\n",
            "fixed_arg2=2\n",
            "args=(3, 4, 5, 6, 7, 8, 9, 10)\n",
            "kwargs={'name': 'Pesho', 'age': 20}\n"
          ]
        }
      ],
      "source": [
        "def variadic_args(fixed_arg1, fixed_arg2, *args, **kwargs):\n",
        "    print(f\"{fixed_arg1=}\")\n",
        "    print(f\"{fixed_arg2=}\")\n",
        "    print(f\"{args=}\")\n",
        "    print(f\"{kwargs=}\")\n",
        "\n",
        "variadic_args(1, 2, 3, 4, 5, 6, 7, 8, 9, 10, name=\"Pesho\", age=20)\n"
      ]
    },
    {
      "cell_type": "markdown",
      "metadata": {
        "id": "2cMPsIpiMJ0q"
      },
      "source": [
        "## Обхвати на видимост"
      ]
    },
    {
      "cell_type": "markdown",
      "metadata": {
        "id": "SO3b0x3pMJ0q"
      },
      "source": [
        "Всякo име може да бъде свързанo със стойност (binding). Съществуват операции, които променят свързването, като `=`. \n",
        "\n",
        "Свързването на име със стойност може да се проверява с две функции, връщащи речници: `locals` и `globals`, които пазят стойностите на всички имена в локалния и в глобалния обхват на видимост съответно.\n",
        "\n",
        "Едно име дефинирано в локален обхват (scope) не се вижда от глобалния такъв:"
      ]
    },
    {
      "cell_type": "code",
      "execution_count": null,
      "metadata": {
        "id": "WlT-9wYEMJ0q",
        "outputId": "7d25df00-88fe-45e4-809d-92f12992912f"
      },
      "outputs": [
        {
          "name": "stdout",
          "output_type": "stream",
          "text": [
            "{'local_one': 2}\n",
            "1\n"
          ]
        },
        {
          "ename": "KeyError",
          "evalue": "'local_one'",
          "output_type": "error",
          "traceback": [
            "\u001b[0;31m---------------------------------------------------------------------------\u001b[0m",
            "\u001b[0;31mKeyError\u001b[0m                                  Traceback (most recent call last)",
            "\u001b[0;32m/var/folders/7x/gdf0mbts74n8p_ckv_b_mfc40000gp/T/ipykernel_18944/700200652.py\u001b[0m in \u001b[0;36m<module>\u001b[0;34m\u001b[0m\n\u001b[1;32m      8\u001b[0m \u001b[0mfoo\u001b[0m\u001b[0;34m(\u001b[0m\u001b[0;34m)\u001b[0m\u001b[0;34m\u001b[0m\u001b[0;34m\u001b[0m\u001b[0m\n\u001b[1;32m      9\u001b[0m \u001b[0mprint\u001b[0m\u001b[0;34m(\u001b[0m\u001b[0mglobals\u001b[0m\u001b[0;34m(\u001b[0m\u001b[0;34m)\u001b[0m\u001b[0;34m[\u001b[0m\u001b[0;34m\"global_one\"\u001b[0m\u001b[0;34m]\u001b[0m\u001b[0;34m)\u001b[0m  \u001b[0;31m# `print(globals())` will not have a very pretty output in the Jupyter notebook but you can try it\u001b[0m\u001b[0;34m\u001b[0m\u001b[0;34m\u001b[0m\u001b[0m\n\u001b[0;32m---> 10\u001b[0;31m \u001b[0mprint\u001b[0m\u001b[0;34m(\u001b[0m\u001b[0mglobals\u001b[0m\u001b[0;34m(\u001b[0m\u001b[0;34m)\u001b[0m\u001b[0;34m[\u001b[0m\u001b[0;34m\"local_one\"\u001b[0m\u001b[0;34m]\u001b[0m\u001b[0;34m)\u001b[0m\u001b[0;34m\u001b[0m\u001b[0;34m\u001b[0m\u001b[0m\n\u001b[0m\u001b[1;32m     11\u001b[0m \u001b[0;34m\u001b[0m\u001b[0m\n",
            "\u001b[0;31mKeyError\u001b[0m: 'local_one'"
          ]
        }
      ],
      "source": [
        "global_one = 1\n",
        "\n",
        "def foo():\n",
        "    local_one = 2\n",
        "    print(locals())\n",
        "\n",
        "\n",
        "foo()\n",
        "print(globals()[\"global_one\"])  # `print(globals())` will not have a very pretty output in the Jupyter notebook but you can try it\n",
        "print(globals()[\"local_one\"])\n",
        "\n"
      ]
    },
    {
      "cell_type": "markdown",
      "metadata": {
        "id": "k2trLd9OMJ0r"
      },
      "source": [
        "Всеки блок от код си има своя област на видимост, в която стоят локално дефинираните имена.\n",
        "Ако една функция не може да намери дадена променлива в локалния си scope, търси в обграждащия (глобалния) за променлива със същото име:"
      ]
    },
    {
      "cell_type": "code",
      "execution_count": null,
      "metadata": {
        "id": "kQrbHgPGMJ0r",
        "outputId": "20bf5533-a246-4d7a-a22a-33c730c212b4"
      },
      "outputs": [
        {
          "name": "stdout",
          "output_type": "stream",
          "text": [
            "1\n"
          ]
        }
      ],
      "source": [
        "global_one = 1\n",
        "\n",
        "def foo():\n",
        "    print(global_one)\n",
        "\n",
        "foo()"
      ]
    },
    {
      "cell_type": "markdown",
      "metadata": {
        "id": "whgY1UCPMJ0r"
      },
      "source": [
        "По подразбиране пренасочването на имена става в локалния scope.\n",
        "Използването на ключовата дума `global` позволява пренасочването на глобални имена. Това обаче въобще не е добра практика."
      ]
    },
    {
      "cell_type": "code",
      "execution_count": null,
      "metadata": {
        "id": "50SpWhXbMJ0r",
        "outputId": "e1d030c5-bcbc-4e03-fe19-2d77b44fe906"
      },
      "outputs": [
        {
          "name": "stdout",
          "output_type": "stream",
          "text": [
            "2\n",
            "{'global_one': 2}\n",
            "1\n"
          ]
        }
      ],
      "source": [
        "global_one = 1\n",
        "\n",
        "def foo():\n",
        "    global_one = 2\n",
        "    print(global_one)\n",
        "    print(locals())\n",
        "\n",
        "foo()\n",
        "\n",
        "print(globals()[\"global_one\"])"
      ]
    },
    {
      "cell_type": "markdown",
      "metadata": {
        "id": "uwYKmKwYMJ0r"
      },
      "source": [
        "Аргументите на функциите отиват в `locals` речника, достъпен от тялото им (съответно не и извън него):"
      ]
    },
    {
      "cell_type": "code",
      "execution_count": null,
      "metadata": {
        "id": "Rfaf_LEoMJ0r",
        "outputId": "675fdff5-4a01-4872-af1a-db19abc6303d"
      },
      "outputs": [
        {
          "name": "stdout",
          "output_type": "stream",
          "text": [
            "{'x': 1, 'y': 2, 'args': (3, 4, 5, 6, 7, 8, 9, 10), 'kwargs': {'name': 'Pesho', 'age': 20}}\n"
          ]
        }
      ],
      "source": [
        "def fn(x, y, *args, **kwargs):\n",
        "    print(locals())\n",
        "\n",
        "fn(1, 2, 3, 4, 5, 6, 7, 8, 9, 10, name=\"Pesho\", age=20)"
      ]
    },
    {
      "cell_type": "markdown",
      "metadata": {
        "id": "ulBGgnDTMJ0r"
      },
      "source": [
        "В случай, че имаме вложени блокове, ключовата дума `nonlocal` позволява пренасочване на име, дефинирано в обграждащ блок (за разлика от `global`, където името е дефинирано в глобалния обхват). Също както `global`, изполването му е лоша практика."
      ]
    },
    {
      "cell_type": "markdown",
      "metadata": {
        "id": "6f01uZzYMJ0r"
      },
      "source": [
        "# Задачи за упражнение"
      ]
    },
    {
      "cell_type": "markdown",
      "metadata": {
        "id": "M1mVyEo1MJ0r"
      },
      "source": [
        "## Задача 1\n",
        "\n",
        "Създайте функция, която приема число, указващо брой секунди и го връща трансформирано в наредена тройка от часове, минути и секунди.\n",
        "\n",
        "Например\n",
        "* 3661 -> (1, 1, 1), понеже 3661 секунди са 1hr 1min 1sec.\n",
        "* 86399 -> (23, 59, 59), понеже 86399 секунди са 23hr 59min 59sec.\n",
        "и т.н."
      ]
    },
    {
      "cell_type": "code",
      "execution_count": null,
      "metadata": {
        "id": "Fcr6Xe4aMJ0r"
      },
      "outputs": [],
      "source": [
        "def seconds_to_time(seconds):\n",
        "    pass  # write your code here\n",
        "\n",
        "\n",
        "print(seconds_to_time(0) == (0, 0, 0))\n",
        "print(seconds_to_time(1) == (0, 0, 1))\n",
        "print(seconds_to_time(69) == (0, 1, 9))\n",
        "print(seconds_to_time(420) == (0, 7, 0))\n",
        "print(seconds_to_time(3661) == (1, 1, 1))\n",
        "print(seconds_to_time(86399) == (23, 59, 59))"
      ]
    },
    {
      "cell_type": "markdown",
      "metadata": {
        "id": "1QmdAytPMJ0r"
      },
      "source": [
        "## Задача 2\n",
        "\n",
        "Създайте функция, която да връща броя на гласните в даден текст (нека за улеснение считаме за гласни само `a`, `e`, `i`, `o`, `u`)."
      ]
    },
    {
      "cell_type": "code",
      "execution_count": null,
      "metadata": {
        "id": "zrVoiB3lMJ0r"
      },
      "outputs": [],
      "source": [
        "def number_of_vowels(text):\n",
        "    pass  # write your code here\n",
        "\n",
        "\n",
        "print(number_of_vowels(\"grrrrgh!\") == 0)\n",
        "print(number_of_vowels(\"The quick brown fox jumps over the lazy dog.\") == 11)\n",
        "print(number_of_vowels(\"MONTHY PYTHON\") == 2)"
      ]
    },
    {
      "cell_type": "markdown",
      "metadata": {
        "id": "6JpSoXepMJ0r"
      },
      "source": [
        "## Задача 3 (бонус точки inside)\n",
        "\n",
        "Създайте функция, която проверява дали дадено българско ЕГН е [валидно](https://bg.wikipedia.org/wiki/Единен_граждански_номер#Структура).\n",
        "\n",
        "По-конкретно, функцията трябва:\n",
        "* да има за първи задължителен позиционен параметър ЕГН-то (очаква се да е `str`, но получавате **бонус** точки ако го направите да работи едновременно и за `str`, и за `int`).\n",
        "* да има именован параметър `should_bypass_checksum`, който по подразбиране е `False`. Ако е `True`, функцията трябва да НЕ проверява валидността на последната цифра, а да я счита за валидна по подразбиране.\n",
        "* да връща `True` ако ЕГН-то е валидно, `False` в противен случай. За валидно ЕГН се смята такова, при което:\n",
        "    * цифрите за месец и ден съответстват на валидна дата. Това означава цифрите на месеца да са в интервала [1, 12] за хора, родени 1900-2000г. и в интервала [41, 52] за хора, родени след 2000г., като пожелание може да проверявате и за интервала [21, 32] за хора, родени преди 1900г. (не е задължително да проверявате и за високосни години, ако не ви се занимава, но би ви дало **бонус** точки).\n",
        "    * Ако `should_bypass_checksum` e `False`, то последната 1 цифра трябва да е валиден checksum на останалите. Алгоритъмът за изчисляване на последната цифра може да намерите [тук](https://bg.wikipedia.org/wiki/Единен_граждански_номер#Структура)."
      ]
    },
    {
      "cell_type": "code",
      "execution_count": null,
      "metadata": {
        "id": "6FULj0E0MJ0r"
      },
      "outputs": [],
      "source": [
        "def is_valid_UCN(ucn, should_bypass_checksum=False):\n",
        "    pass  # write your code here\n",
        "\n",
        "print(is_valid_UCN(\"6101057509\") == True)\n",
        "print(is_valid_UCN(\"6101057500\", shoul_bypass_checksum=True) == True)\n",
        "print(is_valid_UCN(\"6101057500\") == False)\n",
        "print(is_valid_UCN(\"6913136669\") == False)"
      ]
    }
  ],
  "metadata": {
    "colab": {
      "include_colab_link": true,
      "provenance": []
    },
    "kernelspec": {
      "display_name": "Python 3 (ipykernel)",
      "language": "python",
      "name": "python3"
    },
    "language_info": {
      "codemirror_mode": {
        "name": "ipython",
        "version": 3
      },
      "file_extension": ".py",
      "mimetype": "text/x-python",
      "name": "python",
      "nbconvert_exporter": "python",
      "pygments_lexer": "ipython3",
      "version": "3.10.7"
    },
    "vscode": {
      "interpreter": {
        "hash": "b0fa6594d8f4cbf19f97940f81e996739fb7646882a419484c72d19e05852a7e"
      }
    }
  },
  "nbformat": 4,
  "nbformat_minor": 0
}
