{
 "cells": [
  {
   "cell_type": "markdown",
   "metadata": {
    "id": "Llt8geaPDHbB"
   },
   "source": [
    "# Използване на C код в Python\n",
    "\n",
    "План на лекцията:\n",
    "- Как работят C библиотеките ?\n",
    "- Съпоставяне на типове от C в Python\n",
    "- Простичка функция\n",
    "- Структури\n",
    "- Масиви и указатели\n",
    "- C++ код"
   ]
  },
  {
   "cell_type": "markdown",
   "metadata": {
    "id": "Hi8Df8oVEazd"
   },
   "source": [
    "## Как работят C библиотеките ?"
   ]
  },
  {
   "cell_type": "markdown",
   "metadata": {},
   "source": [
    "Съществуват два вида C библиотеки:\n",
    "- Статични библиотеки\n",
    "- Динамични библиотеки\n",
    "\n",
    "Статичните библиотеки (с разширение `.a` или `.lib`) се свързват към програмата по време на компилация на кода. Това означава, че кодът на библиотеката се \"копира\" в програмата. Това е по-бързо, но не е възможно да се променя кода на библиотеката без да се компилира отново програмата.\n",
    "\n",
    "\n",
    "Динамичните библиотеки (с разширение `.so`, `.dll` или `.dylib`) се зареждат по време на изпълнение на програмата. Това означава, че кодът на библиотеката се зарежда в паметта по време на изпълнение на програмата. Това е по-бавно, но е възможно да се променя кода на библиотеката без да се компилира отново програмата.\n",
    "\n",
    "В тази лекция ще използваме динамични библиотеки."
   ]
  },
  {
   "cell_type": "markdown",
   "metadata": {
    "collapsed": false
   },
   "source": [
    "## Съпоставяне на типовете от C в Python"
   ]
  },
  {
   "cell_type": "markdown",
   "metadata": {
    "collapsed": false
   },
   "source": [
    "Основната библиотека, чрез която ще реализираме връзката между C код и Python, е `ctypes`. В нея е всичко необходимо за използването на външен C код в Python.\n",
    "\n",
    "Както знаем, типовете в Python не са същите както в C. Python дефинира типове, имащи за цел да представят типовете в C. Те са разделени на три категории:\n",
    "\n",
    "1. Прости (fundamental) типове\n",
    "2. Сложни (structural) типове\n",
    "3. Масиви и указатели"
   ]
  },
  {
   "cell_type": "markdown",
   "metadata": {
    "collapsed": false
   },
   "source": [
    "### Прости типове"
   ]
  },
  {
   "cell_type": "markdown",
   "metadata": {
    "collapsed": false
   },
   "source": [
    "Простите типове са:\n",
    "- `c_char` - съотвества на C типа `char`\n",
    "- `c_char_p` - съотвества на C типа `char*`\n",
    "- `c_double` - съотвества на C типа `double`\n",
    "- `c_float` - съотвества на C типа `float`\n",
    "- `c_int` - съотвества на C типа `int`\n",
    "- `c_longlong` - съотвества на C типа `long long`\n",
    "- `c_short` - съотвества на C типа `short`\n",
    "- `c_size_t`- съотвества на C типа `size_t`\n",
    "- `c_uint` - съотвества на C типа `unsigned int`\n",
    "- `c_void_p` - съотвества на C типа `void*`\n",
    "- `c_bool` - съотвества на C типа `bool`\n",
    "- и други... (може да откриете пълния списък [тук](https://docs.python.org/3.10/library/ctypes.html?highlight=cdll#ctypes-fundamental-data-types-2))\n",
    "\n",
    "Когато една C функция върне прост тип, този тип автоматично се конвертира в подходящ Python тип."
   ]
  },
  {
   "cell_type": "markdown",
   "metadata": {},
   "source": [
    "### Сложни типове"
   ]
  },
  {
   "cell_type": "markdown",
   "metadata": {},
   "source": [
    "Освен простите типове, `ctypes` ни предлага възможност да работим с `union` и `struct` типове."
   ]
  },
  {
   "cell_type": "markdown",
   "metadata": {},
   "source": [
    "За да работим с `union`, можем да използваме абстрактния клас `ctypes.Union`.\n",
    "За да работим със структури, можем да използваме абстрактния клас `ctypes.Structure`."
   ]
  },
  {
   "cell_type": "markdown",
   "metadata": {},
   "source": [
    "### Масиви и указатели"
   ]
  },
  {
   "cell_type": "markdown",
   "metadata": {},
   "source": [
    "За работа с масиви и указатели, `ctypes` ни предлага класовете `ctypes.Array` и `ctypes._Pointer`/`ctypes.POINTER`.\n",
    "Ще разгледаме примери малко по-долу."
   ]
  },
  {
   "cell_type": "markdown",
   "metadata": {
    "id": "2cA_CS2VEc34"
   },
   "source": [
    "## Простичка функция"
   ]
  },
  {
   "cell_type": "markdown",
   "metadata": {
    "id": "WpTNXbbDC1a7"
   },
   "source": [
    "За да демонстрираме практически как можем да използваме C код в Python, ще съзадем C функция, която ще има за цел да събере две числа.\n",
    "\n",
    "За целта ще използваме вече написан C код, както и предварително подготвен `CMakeLists.txt` файл. За да изпълните успешно кода, ще ви е нужен инсталиран `CMake`, както и C компилатор. \n",
    "\n",
    "Може да разгледате C кода [тук](https://github.com/fmipython/PythonCourse2022/tree/main/17%20-%20Using%20C%20code%20in%20Python/C/example_1)."
   ]
  },
  {
   "cell_type": "code",
   "execution_count": null,
   "metadata": {
    "collapsed": false
   },
   "outputs": [],
   "source": [
    "!cat \"C/simple_function/sum.h\""
   ]
  },
  {
   "cell_type": "code",
   "execution_count": null,
   "metadata": {
    "collapsed": false
   },
   "outputs": [],
   "source": [
    "!cat \"C/simple_function/sum.c\""
   ]
  },
  {
   "cell_type": "markdown",
   "metadata": {
    "id": "kSHri-VX05Ha"
   },
   "source": [
    "Единствената съществена разлика на този етап в C кода, е използването на ключовата дума `extern` в началото на декларацията на функцията. `extern` променя видимостта на функция, така че да е видима във външни библиотеки."
   ]
  },
  {
   "cell_type": "markdown",
   "metadata": {
    "id": "i5omdRFCvNdW"
   },
   "source": [
    "Компилираме нашия код до C библиотека с помощта на `cmake` и `make` командите"
   ]
  },
  {
   "cell_type": "code",
   "execution_count": null,
   "metadata": {
    "colab": {
     "base_uri": "https://localhost:8080/"
    },
    "id": "g5kWuaeS-dTu",
    "outputId": "98380656-672c-47ef-ec28-e81244f32711"
   },
   "outputs": [],
   "source": [
    "!cd \"C/simple_function\" && cmake . && make"
   ]
  },
  {
   "cell_type": "markdown",
   "metadata": {
    "id": "mXNkXv8kvgYB"
   },
   "source": [
    "След като вече имаме `libSimpleFunction.so` файла, можем да пристъпим към зареждането ѝ в Python."
   ]
  },
  {
   "cell_type": "markdown",
   "metadata": {
    "collapsed": false
   },
   "source": [
    "Основната библиотека, която ще използваме е `ctypes`. Можем да заредим външна C библиотека с помощта на `ctypes.CDLL` функцията. Тя връща специален обект `CDLL` обект, който съдържа заредената бибилиотека.\n",
    "\n",
    "След като успешно заредим нашата библиотека, в новополучената ни инстанция ще се появят атрибути, които са класове от тип `_FuncPtr` - те ще сочат към функциите в нашата C библиотека.\n",
    "По поздразибране те приемат всякакви `ctypes` аргументи и връщат резултат по подразбиране. Можем да специфицираме аргументите и типа на резултата чрез атрибутите `argtypes` и `restype`."
   ]
  },
  {
   "cell_type": "code",
   "execution_count": null,
   "metadata": {
    "collapsed": false
   },
   "outputs": [],
   "source": [
    "import ctypes\n",
    "import os\n",
    "\n",
    "lib_path = os.path.join(\"C\", \"simple_function\", \"libSimpleFunction.so\")\n",
    "\n",
    "def setup_lib(path: str) -> ctypes.CDLL:\n",
    "    lib = ctypes.CDLL(path)\n",
    "    print(type(lib.sum))\n",
    "    lib.sum.argtypes = [ctypes.c_int, ctypes.c_int]\n",
    "    lib.sum.restype = ctypes.c_int\n",
    "    return lib\n",
    "\n",
    "lib = setup_lib(lib_path)\n",
    "print(type(lib))\n",
    "\n",
    "result = lib.sum(2, 3)\n",
    "print(type(result), result)"
   ]
  },
  {
   "cell_type": "code",
   "execution_count": null,
   "metadata": {
    "colab": {
     "base_uri": "https://localhost:8080/"
    },
    "id": "JbV6uxkbvmWz",
    "outputId": "4577930f-fea2-4238-d393-faf70065b67c"
   },
   "outputs": [],
   "source": [
    "import ctypes\n",
    "import os\n",
    "\n",
    "lib_path = os.path.join(\"C\", \"simple_function\", \"libSimpleFunction.so\")\n",
    "\n",
    "def setup_lib(path: str) -> ctypes.CDLL:\n",
    "    lib = ctypes.CDLL(path)\n",
    "    print(type(lib.sum))\n",
    "    lib.sum.argtypes = [ctypes.c_int, ctypes.c_int]\n",
    "    lib.sum.restype = ctypes.c_int\n",
    "    return lib\n",
    "\n",
    "lib = setup_lib(lib_path)\n",
    "print(type(lib))\n",
    "a = int(input(\"Enter first number: \"))\n",
    "b = int(input(\"Enter second number: \"))\n",
    "\n",
    "result = lib.sum(a, b)\n",
    "\n",
    "print(type(result))\n",
    "print(\"{} + {} = {}\".format(a, b, result))\n"
   ]
  },
  {
   "cell_type": "markdown",
   "metadata": {
    "id": "ZwQhPcu8xDJd"
   },
   "source": [
    "Нека разгледаме в детайли кода.\n",
    "\n",
    "Използваме `ctypes` библиотеката за работа с външни C библиотеки. За зареждането на библиотеката използваме `CDLL` конструктора, като му подаваме пътя към библиотеката. \n",
    "\n",
    "След това е необходимо да посочим типа на аргументите и типа на резултата. Понеже работим с `int` променливи, типа на аргументите и резултата са `c_int`. \n",
    "\n",
    "С получения обект, можем да извикваме функциите, които са отбелязани като `extern` в C кода."
   ]
  },
  {
   "cell_type": "markdown",
   "metadata": {
    "id": "O7-a2bbaEgTU"
   },
   "source": [
    "## Структури"
   ]
  },
  {
   "cell_type": "markdown",
   "metadata": {
    "collapsed": false
   },
   "source": [
    "Нека усложним нещата една идея - нека се опитаме да подаваме C структури към нашия Python code.\n",
    "\n",
    "Ще дефинираме структурата `Rational`, която ще моделира рационално число, съставено от две цели числа - числител и знаменател. Ще дефинираме също функции за събиране, изваждане, умножение, деление, както и функция, която конструира нов `Rational` обект на базата на две цели числа.\n",
    "\n",
    "Целия C код може да разгледате [тук](https://github.com/fmipython/PythonCourse2022/tree/main/17%20-%20Using%20C%20code%20in%20Python/C/example_2)."
   ]
  },
  {
   "cell_type": "code",
   "execution_count": null,
   "metadata": {
    "collapsed": false
   },
   "outputs": [],
   "source": [
    "!cd \"C/structs\" && cmake . && make"
   ]
  },
  {
   "cell_type": "markdown",
   "metadata": {
    "collapsed": false
   },
   "source": [
    "Разликата с предишния пример е, че този път имаме C структура.\n",
    "Как бихме могли да представим нашата структура `Rational` в Python ? Класът `ctypes.Structure` ни служи като база, върху която да създадем нашия `Rational` клас в Python. Чрез специалната клас-променлива `_fields_` можем да зададем от какви променливи е създадена нашата структура - в случая на `Rational`, две променливи от тип `int`."
   ]
  },
  {
   "cell_type": "code",
   "execution_count": null,
   "metadata": {
    "collapsed": false
   },
   "outputs": [],
   "source": [
    "import ctypes\n",
    "\n",
    "class Rational(ctypes.Structure):\n",
    "    _fields_ = [(\"numerator\", ctypes.c_int), (\"denominator\", ctypes.c_int)]\n",
    "\n",
    "    def __str__(self):\n",
    "        return str(self.numerator) + \"/\" + str(self.denominator)\n"
   ]
  },
  {
   "cell_type": "markdown",
   "metadata": {
    "collapsed": false
   },
   "source": [
    "Понеже нашите C структури са представени като Python класове, ние може да дефинираме допълнителни Python методи в тях - в примера сме дефинирали метода `__str__` - него можем да използваме когато работим с нашата C структура през Python."
   ]
  },
  {
   "cell_type": "markdown",
   "metadata": {
    "collapsed": false
   },
   "source": [
    "Зареждането на останалите функции става по познатия ни начин."
   ]
  },
  {
   "cell_type": "code",
   "execution_count": null,
   "metadata": {
    "collapsed": false
   },
   "outputs": [],
   "source": [
    "import ctypes\n",
    "import os\n",
    "\n",
    "\n",
    "def setup_lib(path) -> ctypes.CDLL:\n",
    "    lib = ctypes.CDLL(path)\n",
    "\n",
    "    lib.add.argtypes = [Rational, Rational]\n",
    "    lib.add.restype = Rational\n",
    "\n",
    "    lib.subtract.argtypes = [Rational, Rational]\n",
    "    lib.subtract.restype = Rational\n",
    "\n",
    "    lib.multiply.argtypes = [Rational, Rational]\n",
    "    lib.multiply.restype = Rational\n",
    "\n",
    "    lib.divide.argtypes = [Rational, Rational]\n",
    "    lib.divide.restype = Rational\n",
    "\n",
    "    lib.build.argtypes = [ctypes.c_int, ctypes.c_int]\n",
    "    lib.build.restype = Rational\n",
    "\n",
    "    return lib\n",
    "\n",
    "lib_path = os.path.join(\"C\", \"structs\", \"libStructs.so\")\n",
    "\n",
    "lib = setup_lib(lib_path)\n",
    "\n",
    "first_num = int(input(\"Enter first number numerator: \"))\n",
    "first_denom = int(input(\"Enter first number denominator: \"))\n",
    "\n",
    "first_rational = lib.build(first_num, first_denom)\n",
    "\n",
    "\n",
    "second_num = int(input(\"Enter second number numerator: \"))\n",
    "second_denom = int(input(\"Enter second number denominator: \"))\n",
    "second_rational = lib.build(second_num, second_denom)\n",
    "\n",
    "add = lib.add(first_rational, second_rational)\n",
    "subtract = lib.subtract(first_rational, second_rational)\n",
    "multiply = lib.multiply(first_rational, second_rational)\n",
    "divide = lib.divide(first_rational, second_rational)\n",
    "\n",
    "print(f\"{first_rational} + {second_rational} = {add}\")\n",
    "print(f\"{first_rational} - {second_rational} = {subtract}\")\n",
    "print(f\"{first_rational} * {second_rational} = {multiply}\")\n",
    "print(f\"{first_rational} / {second_rational} = {divide}\")\n"
   ]
  },
  {
   "cell_type": "markdown",
   "metadata": {},
   "source": [
    "## Работа с масиви и указатели"
   ]
  },
  {
   "cell_type": "markdown",
   "metadata": {},
   "source": [
    "В Python можем да работим с масиви и указатели. Ако искаме да създадем C-стил масив в Python, трябва да създадем нов обект, който е със стойност типа на масива, който искаме да създадем. Например, ако искаме да създадем масив от 10 цели числа, трябва да направим следното:\n",
    "\n",
    "```python\n",
    "arr = (ctypes.c_int * 10)()\n",
    "```"
   ]
  },
  {
   "cell_type": "code",
   "execution_count": 6,
   "metadata": {},
   "outputs": [
    {
     "name": "stdout",
     "output_type": "stream",
     "text": [
      "7\n",
      "8\n",
      "2\n",
      "3\n",
      "-3\n",
      "12\n",
      "14\n",
      "9\n",
      "0\n",
      "1\n"
     ]
    }
   ],
   "source": [
    "import ctypes\n",
    "\n",
    "IntArray = ctypes.c_int * 10\n",
    "arr = IntArray(7, 8, 2, 3, -3, 12, 14, 9, 0, 1)\n",
    "\n",
    "for i in range(10):\n",
    "    print(arr[i])"
   ]
  },
  {
   "cell_type": "markdown",
   "metadata": {},
   "source": [
    "Важно е да отбележим, че стойностите на масива са immutable - те не могат да бъдат променяни."
   ]
  },
  {
   "cell_type": "code",
   "execution_count": 4,
   "metadata": {},
   "outputs": [
    {
     "ename": "TypeError",
     "evalue": "'_ctypes.PyCArrayType' object does not support item assignment",
     "output_type": "error",
     "traceback": [
      "\u001b[0;31m---------------------------------------------------------------------------\u001b[0m",
      "\u001b[0;31mTypeError\u001b[0m                                 Traceback (most recent call last)",
      "Cell \u001b[0;32mIn[4], line 6\u001b[0m\n\u001b[1;32m      3\u001b[0m arr \u001b[39m=\u001b[39m ctypes\u001b[39m.\u001b[39mc_int \u001b[39m*\u001b[39m \u001b[39m10\u001b[39m\n\u001b[1;32m      5\u001b[0m \u001b[39mfor\u001b[39;00m i \u001b[39min\u001b[39;00m \u001b[39mrange\u001b[39m(\u001b[39m10\u001b[39m):\n\u001b[0;32m----> 6\u001b[0m     arr[i] \u001b[39m=\u001b[39m i \u001b[39m+\u001b[39m \u001b[39m1\u001b[39m\n\u001b[1;32m      8\u001b[0m \u001b[39mfor\u001b[39;00m i \u001b[39min\u001b[39;00m \u001b[39mrange\u001b[39m(\u001b[39m10\u001b[39m):\n\u001b[1;32m      9\u001b[0m     \u001b[39mprint\u001b[39m(arr[i])\n",
      "\u001b[0;31mTypeError\u001b[0m: '_ctypes.PyCArrayType' object does not support item assignment"
     ]
    }
   ],
   "source": [
    "import ctypes\n",
    "\n",
    "arr = ctypes.c_int * 10\n",
    "\n",
    "for i in range(10):\n",
    "    arr[i] = i + 1\n",
    "\n",
    "for i in range(10):\n",
    "    print(arr[i])"
   ]
  },
  {
   "cell_type": "markdown",
   "metadata": {},
   "source": [
    "Можем да направим и указател, като това става чрез класа `ctypes.POINTER`. Например, ако искаме да създадем указател към целочислен тип, трябва да направим следното:\n",
    "\n",
    "```python\n",
    "ctypes.POINTER(ctypes.c_int)\n",
    "```"
   ]
  },
  {
   "cell_type": "markdown",
   "metadata": {},
   "source": [
    "Нека разгледаме следния пример - ще реализираме динамичен масив на C, който ще използваме в Python."
   ]
  },
  {
   "cell_type": "markdown",
   "metadata": {},
   "source": [
    "### dynamic_array.h\n",
    "```c\n",
    "#ifndef ARRAYS_POINTERS_H\n",
    "#define ARRAYS_POINTERS_H\n",
    "\n",
    "#include <stdio.h>\n",
    "#include <stdlib.h>\n",
    "\n",
    "struct DynamicArray{\n",
    "    int* items;\n",
    "    int capacity;\n",
    "    int size;\n",
    "};\n",
    "\n",
    "extern struct DynamicArray create(const int capacity);\n",
    "extern struct DynamicArray create_from_raw(const int* items, const int capacity);\n",
    "extern void add(struct DynamicArray* instance, const int item);\n",
    "extern int get(const struct DynamicArray* instance, const int index);\n",
    "extern void resize(struct DynamicArray* instance);\n",
    "extern void destruct(struct DynamicArray* instance);\n",
    "\n",
    "#endif\n",
    "```\n",
    "\n",
    "### dynamic_array.c\n",
    "```c\n",
    "#include \"dynamic_array.h\"\n",
    "\n",
    "struct DynamicArray create(const int capacity) {\n",
    "    struct DynamicArray instance;\n",
    "\n",
    "    instance.capacity = capacity;\n",
    "    instance.size = 0;\n",
    "    instance.items = malloc(sizeof(int) * capacity);\n",
    "    \n",
    "    return instance;\n",
    "}\n",
    "\n",
    "struct DynamicArray create_from_raw(const int* items, const int capacity) {\n",
    "    struct DynamicArray instance;\n",
    "\n",
    "    instance.capacity = capacity;\n",
    "    instance.size = capacity;\n",
    "    instance.items = malloc(sizeof(int) * capacity);\n",
    "\n",
    "    for (int i = 0; i < capacity; i++) {\n",
    "        instance.items[i] = items[i];\n",
    "    }\n",
    "\n",
    "    return instance;\n",
    "}\n",
    "\n",
    "void add(struct DynamicArray* instance, const int item) {\n",
    "    if (instance->capacity == instance->size) {\n",
    "        resize(instance);\n",
    "    }\n",
    "\n",
    "    instance->items[instance->size++] = item;\n",
    "}\n",
    "\n",
    "int get(const struct DynamicArray* instance, const int index) {\n",
    "    if (index >= instance->size || index < 0) {\n",
    "        printf(\"Index %d out of bounds for size %d\", index, instance->size);\n",
    "    }\n",
    "\n",
    "    return instance->items[index];\n",
    "}\n",
    "\n",
    "void resize(struct DynamicArray* instance) {\n",
    "    instance->capacity *= 2;\n",
    "    instance->items = realloc(instance->items, sizeof(int) * instance->capacity);\n",
    "}\n",
    "\n",
    "void destruct(struct DynamicArray* instance) {\n",
    "    free(instance->items);\n",
    "}\n",
    "```"
   ]
  },
  {
   "cell_type": "code",
   "execution_count": 7,
   "metadata": {},
   "outputs": [
    {
     "name": "stdout",
     "output_type": "stream",
     "text": [
      "-- Configuring done\n",
      "-- Generating done\n",
      "-- Build files have been written to: /home/lyubolp/PythonCourse2022/17 - Using C code in Python/C/arrays_pointers\n",
      "[100%] Built target DynamicArray\n"
     ]
    }
   ],
   "source": [
    "!cd \"C/arrays_pointers\" && cmake . && make"
   ]
  },
  {
   "cell_type": "code",
   "execution_count": 6,
   "metadata": {},
   "outputs": [
    {
     "name": "stdout",
     "output_type": "stream",
     "text": [
      "0 2 4 6 8 10 12 14 16 18 \n",
      "7 8 2 3 -3 12 14 9 0 1 "
     ]
    },
    {
     "data": {
      "text/plain": [
       "0"
      ]
     },
     "execution_count": 6,
     "metadata": {},
     "output_type": "execute_result"
    }
   ],
   "source": [
    "import ctypes\n",
    "import os\n",
    "\n",
    "class DynamicArray(ctypes.Structure):\n",
    "    _fields_ = [(\"size\", ctypes.c_int), (\"size\", ctypes.c_int), (\"items\", ctypes.POINTER(ctypes.c_int))]\n",
    "\n",
    "\n",
    "def setup_lib(path) -> ctypes.CDLL:\n",
    "    lib = ctypes.CDLL(path)\n",
    "\n",
    "    lib.create.argtypes = [ctypes.c_int]\n",
    "    lib.create.restype = DynamicArray\n",
    "\n",
    "    lib.create_from_raw.argtypes = [ctypes.POINTER(ctypes.c_int), ctypes.c_int]\n",
    "    lib.create_from_raw.restype = DynamicArray\n",
    "\n",
    "    lib.add.argtypes = [ctypes.POINTER(DynamicArray), ctypes.c_int]\n",
    "\n",
    "    lib.get.argtypes = [ctypes.POINTER(DynamicArray), ctypes.c_int]\n",
    "    lib.get.restype = ctypes.c_int\n",
    "\n",
    "    lib.resize.argtypes = [ctypes.POINTER(DynamicArray)]\n",
    "\n",
    "    lib.destruct.argtypes = [ctypes.POINTER(DynamicArray)]\n",
    "\n",
    "    return lib\n",
    "\n",
    "lib_path = os.path.join(\"C\", \"arrays_pointers\", \"libDynamicArray.so\")\n",
    "\n",
    "lib = setup_lib(lib_path)\n",
    "\n",
    "# Dynamic array from C\n",
    "array = lib.create(5)\n",
    "\n",
    "for i in range(10):\n",
    "    lib.add(array, i * 2)\n",
    "\n",
    "for i in range(10):\n",
    "    print(lib.get(array, i), end=' ')\n",
    "\n",
    "print('')\n",
    "\n",
    "lib.destruct(array)\n",
    "\n",
    "\n",
    "IntArray = ctypes.c_int * 10\n",
    "c_arr = IntArray(7, 8, 2, 3, -3, 12, 14, 9, 0, 1)\n",
    "\n",
    "arr = lib.create_from_raw(c_arr, 10)\n",
    "\n",
    "for i in range(10):\n",
    "    print(lib.get(arr, i), end=' ')\n",
    "\n",
    "lib.destruct(arr)"
   ]
  },
  {
   "cell_type": "markdown",
   "metadata": {
    "id": "ef8ayM1LDEhK"
   },
   "source": [
    "## C++ код"
   ]
  },
  {
   "cell_type": "markdown",
   "metadata": {},
   "source": [
    "Нямаме директен достъп до C++ код от Python. За да можем да използваме C++ код в Python, трябва да направим междинен C код, който да бъде използван от Python. Това е доста по-сложно от C, но също така ни дава доста по-голяма свобода в работата си."
   ]
  },
  {
   "cell_type": "markdown",
   "metadata": {},
   "source": [
    "Нека пренапишем нашия DynamicArray от C на C++."
   ]
  },
  {
   "cell_type": "markdown",
   "metadata": {},
   "source": [
    "### dynamic_array.h\n",
    "```c++\n",
    "class DynamicArray {\n",
    "    public:\n",
    "        DynamicArray(const int capacity);\n",
    "        DynamicArray(const int* items, const int capacity);\n",
    "\n",
    "        void add(const int item);\n",
    "        int get(const int index) const;\n",
    "        void resize();\n",
    "\n",
    "        ~DynamicArray();\n",
    "    private:\n",
    "        int* items;\n",
    "        int capacity;\n",
    "        int size;\n",
    "};\n",
    "\n",
    "extern \"C\" {\n",
    "    DynamicArray* create(const int capacity) {\n",
    "        return new DynamicArray(capacity);\n",
    "    }\n",
    "    DynamicArray* create_from_raw(const int* items, const int capacity) {\n",
    "        return new DynamicArray(items, capacity);\n",
    "    }\n",
    "    void add(DynamicArray* instance, const int item) {\n",
    "        instance->add(item);\n",
    "    }\n",
    "    int get(const DynamicArray* instance, const int index) {\n",
    "        return instance->get(index);\n",
    "    }\n",
    "    void resize(DynamicArray* instance) {\n",
    "        instance->resize();\n",
    "    }\n",
    "    void destruct(DynamicArray* instance) {\n",
    "        delete instance;\n",
    "    }\n",
    "}\n",
    "```"
   ]
  },
  {
   "cell_type": "markdown",
   "metadata": {},
   "source": [
    "### dynamic_array.cpp\n",
    "\n",
    "```c++\n",
    "#include \"dynamic_array.h\"\n",
    "\n",
    "DynamicArray::DynamicArray(const int capacity): capacity(capacity), size(0) {\n",
    "    this->items = new int[this->capacity];\n",
    "}\n",
    "DynamicArray::DynamicArray(const int* items, const int capacity): capacity(capacity) {\n",
    "    this->items = new int[this->capacity];\n",
    "    for (int i = 0; i < this->capacity; i++) {\n",
    "        this->items[i] = items[i];\n",
    "    }\n",
    "    this->size = this->capacity;\n",
    "}\n",
    "\n",
    "void DynamicArray::add(const int item) {\n",
    "    if (this->size == this->capacity) {\n",
    "        this->resize();\n",
    "    }\n",
    "    this->items[this->size] = item;\n",
    "    this->size++;\n",
    "}\n",
    "int DynamicArray::get(const int index) const {\n",
    "    if (index < 0 || index >= this->size) {\n",
    "        throw \"Index out of bounds\";\n",
    "    }\n",
    "    return this->items[index];\n",
    "}\n",
    "void DynamicArray::resize() {\n",
    "    int* new_items = new int[this->capacity * 2];\n",
    "    for (int i = 0; i < this->capacity; i++) {\n",
    "        new_items[i] = this->items[i];\n",
    "    }\n",
    "    delete[] this->items;\n",
    "    this->items = new_items;\n",
    "    this->capacity *= 2;\n",
    "}\n",
    "\n",
    "DynamicArray::~DynamicArray() {\n",
    "    delete[] this->items;\n",
    "}\n",
    "```"
   ]
  },
  {
   "cell_type": "markdown",
   "metadata": {},
   "source": [
    "В Python ще използваме само C интерфейса."
   ]
  },
  {
   "cell_type": "code",
   "execution_count": 1,
   "metadata": {},
   "outputs": [
    {
     "name": "stdout",
     "output_type": "stream",
     "text": [
      "-- The C compiler identification is GNU 9.4.0\n",
      "-- The CXX compiler identification is GNU 9.4.0\n",
      "-- Check for working C compiler: /bin/cc\n",
      "-- Check for working C compiler: /bin/cc -- works\n",
      "-- Detecting C compiler ABI info\n",
      "-- Detecting C compiler ABI info - done\n",
      "-- Detecting C compile features\n",
      "-- Detecting C compile features - done\n",
      "-- Check for working CXX compiler: /bin/c++\n",
      "-- Check for working CXX compiler: /bin/c++ -- works\n",
      "-- Detecting CXX compiler ABI info\n",
      "-- Detecting CXX compiler ABI info - done\n",
      "-- Detecting CXX compile features\n",
      "-- Detecting CXX compile features - done\n",
      "-- Configuring done\n",
      "-- Generating done\n",
      "-- Build files have been written to: /home/lyubolp/PythonCourse2022/17 - Using C code in Python/C++\n",
      "\u001b[35m\u001b[1mScanning dependencies of target DynamicArray\u001b[0m\n",
      "[ 50%] \u001b[32mBuilding CXX object CMakeFiles/DynamicArray.dir/dynamic_array.cpp.o\u001b[0m\n",
      "[100%] \u001b[32m\u001b[1mLinking CXX shared library libDynamicArray.so\u001b[0m\n",
      "[100%] Built target DynamicArray\n"
     ]
    }
   ],
   "source": [
    "!cd \"C++\" && cmake . && make"
   ]
  },
  {
   "cell_type": "code",
   "execution_count": 3,
   "metadata": {},
   "outputs": [
    {
     "name": "stdout",
     "output_type": "stream",
     "text": [
      "0 2 4 6 8 10 12 14 16 18 \n",
      "7 8 2 3 -3 12 14 9 0 1 "
     ]
    },
    {
     "data": {
      "text/plain": [
       "0"
      ]
     },
     "execution_count": 3,
     "metadata": {},
     "output_type": "execute_result"
    }
   ],
   "source": [
    "import ctypes\n",
    "import os\n",
    "\n",
    "class DynamicArray(ctypes.Structure):\n",
    "    pass\n",
    "\n",
    "def setup_lib(path) -> ctypes.CDLL:\n",
    "    lib = ctypes.CDLL(path)\n",
    "\n",
    "    lib.create.argtypes = [ctypes.c_int]\n",
    "    lib.create.restype = ctypes.POINTER(DynamicArray)\n",
    "\n",
    "    lib.create_from_raw.argtypes = [ctypes.POINTER(ctypes.c_int), ctypes.c_int]\n",
    "    lib.create_from_raw.restype = ctypes.POINTER(DynamicArray)\n",
    "\n",
    "    lib.add.argtypes = [ctypes.POINTER(DynamicArray), ctypes.c_int]\n",
    "\n",
    "    lib.get.argtypes = [ctypes.POINTER(DynamicArray), ctypes.c_int]\n",
    "    lib.get.restype = ctypes.c_int\n",
    "\n",
    "    lib.resize.argtypes = [ctypes.POINTER(DynamicArray)]\n",
    "\n",
    "    lib.destruct.argtypes = [ctypes.POINTER(DynamicArray)]\n",
    "\n",
    "    return lib\n",
    "\n",
    "lib_path = os.path.join(\"C++\", \"libDynamicArray.so\")\n",
    "\n",
    "lib = setup_lib(lib_path)\n",
    "\n",
    "# Dynamic array from C\n",
    "array = lib.create(5)\n",
    "\n",
    "for i in range(10):\n",
    "    lib.add(array, i * 2)\n",
    "\n",
    "for i in range(10):\n",
    "    print(lib.get(array, i), end=' ')\n",
    "\n",
    "print('')\n",
    "\n",
    "lib.destruct(array)\n",
    "\n",
    "\n",
    "IntArray = ctypes.c_int * 10\n",
    "c_arr = IntArray(7, 8, 2, 3, -3, 12, 14, 9, 0, 1)\n",
    "\n",
    "arr = lib.create_from_raw(c_arr, 10)\n",
    "\n",
    "for i in range(10):\n",
    "    print(lib.get(arr, i), end=' ')\n",
    "\n",
    "lib.destruct(arr)"
   ]
  }
 ],
 "metadata": {
  "colab": {
   "authorship_tag": "ABX9TyNYRjdQAyq3x/8YLrDQV06W",
   "collapsed_sections": [],
   "include_colab_link": true,
   "provenance": []
  },
  "kernelspec": {
   "display_name": "Python 3.8.10 64-bit",
   "language": "python",
   "name": "python3"
  },
  "language_info": {
   "codemirror_mode": {
    "name": "ipython",
    "version": 3
   },
   "file_extension": ".py",
   "mimetype": "text/x-python",
   "name": "python",
   "nbconvert_exporter": "python",
   "pygments_lexer": "ipython3",
   "version": "3.8.10"
  },
  "vscode": {
   "interpreter": {
    "hash": "916dbcbb3f70747c44a77c7bcd40155683ae19c65e1c03b4aa3499c5328201f1"
   }
  }
 },
 "nbformat": 4,
 "nbformat_minor": 0
}
