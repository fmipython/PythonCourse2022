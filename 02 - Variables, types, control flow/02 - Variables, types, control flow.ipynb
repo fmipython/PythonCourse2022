{
 "cells": [
  {
   "cell_type": "markdown",
   "metadata": {},
   "source": [
    "# Променливи, разклонения, цикли"
   ]
  },
  {
   "cell_type": "markdown",
   "metadata": {},
   "source": [
    "## Динамично vs. статично типизиране. Round 1\n",
    "\n",
    "Python е **динамично**-типизиран език. Това означава, че за разлика от статично-типизираните езици (като например C++, Java или C#), променливите (които биват наричани ***имена***/***names*** в Python) биват проверявани за коректността на типа им при изпълнението на програмата, а не при компилацията (каквато и няма в Python, понеже кодът се интерпретира вместо да се компилира). Друга особеност е, че типът на променливата може да се промени по време на изпълнението на програмата и също така не се декларира предварително."
   ]
  },
  {
   "cell_type": "code",
   "execution_count": 1,
   "metadata": {},
   "outputs": [
    {
     "name": "stdout",
     "output_type": "stream",
     "text": [
      "a =  42\n",
      "a =  a string\n"
     ]
    },
    {
     "ename": "NameError",
     "evalue": "name 'a' is not defined",
     "output_type": "error",
     "traceback": [
      "\u001b[0;31m---------------------------------------------------------------------------\u001b[0m",
      "\u001b[0;31mNameError\u001b[0m                                 Traceback (most recent call last)",
      "\u001b[0;32m/var/folders/7x/gdf0mbts74n8p_ckv_b_mfc40000gp/T/ipykernel_18944/3048814692.py\u001b[0m in \u001b[0;36m<module>\u001b[0;34m\u001b[0m\n\u001b[1;32m      9\u001b[0m \u001b[0;31m# Actually l... You know what? Screw it. I don't need it.\u001b[0m\u001b[0;34m\u001b[0m\u001b[0;34m\u001b[0m\u001b[0m\n\u001b[1;32m     10\u001b[0m \u001b[0;32mdel\u001b[0m \u001b[0ma\u001b[0m\u001b[0;34m\u001b[0m\u001b[0;34m\u001b[0m\u001b[0m\n\u001b[0;32m---> 11\u001b[0;31m \u001b[0mprint\u001b[0m\u001b[0;34m(\u001b[0m\u001b[0;34m\"a = \"\u001b[0m\u001b[0;34m,\u001b[0m \u001b[0ma\u001b[0m\u001b[0;34m)\u001b[0m  \u001b[0;31m# 💥\u001b[0m\u001b[0;34m\u001b[0m\u001b[0;34m\u001b[0m\u001b[0m\n\u001b[0m",
      "\u001b[0;31mNameError\u001b[0m: name 'a' is not defined"
     ]
    }
   ],
   "source": [
    "# I want it to be a number\n",
    "a = 42\n",
    "print(\"a = \", a)\n",
    "\n",
    "# No, sorry, changed my mind, let it be a string\n",
    "a = \"a string\"\n",
    "print(\"a = \", a)\n",
    "\n",
    "# Actually l... You know what? Screw it. I don't need it.\n",
    "del a\n",
    "print(\"a = \", a)  # 💥\n"
   ]
  },
  {
   "cell_type": "markdown",
   "metadata": {},
   "source": [
    "## Какви типове има?"
   ]
  },
  {
   "cell_type": "markdown",
   "metadata": {},
   "source": [
    "### Числа\n",
    "\n",
    "Съществуват три основни вградени типа, които описват числови стойности: **int**, **float** и **complex**.\n",
    "\n",
    "* `int` - цели числа\n",
    "* `float` - реални числа (с плаваща запетая)\n",
    "* `complex` - комплексни числа\n",
    "\n",
    "И за трите типа са дефинирани аритметичните оператори `+`, `-`, `*`, `/`, както и `**` (степенуване)."
   ]
  },
  {
   "cell_type": "code",
   "execution_count": 2,
   "metadata": {},
   "outputs": [
    {
     "name": "stdout",
     "output_type": "stream",
     "text": [
      "(-1+0j)\n"
     ]
    }
   ],
   "source": [
    "whole = -42\n",
    "fraction = 0.999\n",
    "imag = 3 + 2j  # this is the complex number (3 + 2i)\n",
    "\n",
    "print(1j ** 2)"
   ]
  },
  {
   "cell_type": "markdown",
   "metadata": {},
   "source": [
    "⚠️ Резултатът на `/`, приложен между два `int`-а е `float`. Всички от останалите оператори запазват резултата в `int`."
   ]
  },
  {
   "cell_type": "code",
   "execution_count": 3,
   "metadata": {},
   "outputs": [
    {
     "name": "stdout",
     "output_type": "stream",
     "text": [
      "2.0\n",
      "0.3333333333333333\n"
     ]
    }
   ],
   "source": [
    "print(4 / 2)\n",
    "print(1 / 3)"
   ]
  },
  {
   "cell_type": "markdown",
   "metadata": {},
   "source": [
    "За целочислени сметки имаме и операторите `//` и `%` (целочислено деление и остатък от деление).\n",
    "\n",
    "`//` е и операторът, който трябва да ползваме, ако искаме при делението на два `int`-а да получим отново `int`."
   ]
  },
  {
   "cell_type": "code",
   "execution_count": 4,
   "metadata": {},
   "outputs": [
    {
     "name": "stdout",
     "output_type": "stream",
     "text": [
      "3.5\n",
      "3\n",
      "1\n"
     ]
    }
   ],
   "source": [
    "print(7 / 2)\n",
    "print(7 // 2)\n",
    "print(7 % 2)"
   ]
  },
  {
   "cell_type": "markdown",
   "metadata": {},
   "source": [
    "Hey Siri, how much is 0 divided by 0?"
   ]
  },
  {
   "cell_type": "code",
   "execution_count": 5,
   "metadata": {},
   "outputs": [
    {
     "ename": "ZeroDivisionError",
     "evalue": "division by zero",
     "output_type": "error",
     "traceback": [
      "\u001b[0;31m---------------------------------------------------------------------------\u001b[0m",
      "\u001b[0;31mZeroDivisionError\u001b[0m                         Traceback (most recent call last)",
      "\u001b[0;32m/var/folders/7x/gdf0mbts74n8p_ckv_b_mfc40000gp/T/ipykernel_18944/2444630372.py\u001b[0m in \u001b[0;36m<module>\u001b[0;34m\u001b[0m\n\u001b[0;32m----> 1\u001b[0;31m \u001b[0mprint\u001b[0m\u001b[0;34m(\u001b[0m\u001b[0;36m0\u001b[0m \u001b[0;34m/\u001b[0m \u001b[0;36m0\u001b[0m\u001b[0;34m)\u001b[0m\u001b[0;34m\u001b[0m\u001b[0;34m\u001b[0m\u001b[0m\n\u001b[0m",
      "\u001b[0;31mZeroDivisionError\u001b[0m: division by zero"
     ]
    }
   ],
   "source": [
    "print(0 / 0)"
   ]
  },
  {
   "cell_type": "markdown",
   "metadata": {},
   "source": [
    "С безкрайността обаче нямаме такъв проблем (`math.inf` е специален `float`, който има за цел да бъде еквивалентен на $\\infty$):"
   ]
  },
  {
   "cell_type": "code",
   "execution_count": 6,
   "metadata": {},
   "outputs": [
    {
     "name": "stdout",
     "output_type": "stream",
     "text": [
      "0.0\n"
     ]
    }
   ],
   "source": [
    "from math import inf\n",
    "\n",
    "print(1 / inf)"
   ]
  },
  {
   "cell_type": "markdown",
   "metadata": {},
   "source": [
    "Размерът на `int` не е фиксиран както в повечето статично-типизирани езици, при които програмистът избира дали да използва 32-битов, 64-битов или някаква друга размерност за целочислена променлива. Тук integer overflow се избягва като динамично се изчислява размерът на паметта, нужен за съхранението на число с произволна големина."
   ]
  },
  {
   "cell_type": "code",
   "execution_count": 7,
   "metadata": {},
   "outputs": [
    {
     "name": "stdout",
     "output_type": "stream",
     "text": [
      "size of 1 is 28 bytes\n",
      "size of 2 ** 16 is 28 bytes\n",
      "size of 2 ** 30 is 32 bytes\n",
      "size of 2 ** 30 ** 5 is 3240028 bytes\n"
     ]
    }
   ],
   "source": [
    "from sys import getsizeof\n",
    "\n",
    "print(\"size of 1 is\", getsizeof(1), \"bytes\")\n",
    "print(\"size of 2 ** 16 is\", getsizeof(2 ** 16), \"bytes\")\n",
    "print(\"size of 2 ** 30 is\", getsizeof(2 ** 30), \"bytes\")\n",
    "print(\"size of 2 ** 30 ** 5 is\", getsizeof(2 ** 30 ** 5), \"bytes\")"
   ]
  },
  {
   "cell_type": "markdown",
   "metadata": {},
   "source": [
    "Обърнете внимание, че изписаните резултати са в байтове, а не битове. Причината числото $ 1 $ да заема цели 28 байта например е понеже в python всичко е обект и си има своите член-данни и методи, дори и типове като `int`.\n",
    "\n",
    "От друга страна, `float` винаги заема фиксиран брой байтове. Причината за това е, че прецизността е константна - до 18 знака след десетичната запетая. В случай, че не ни е достатъчна такава прецизност, могат да се използват типове от някои вградени и не-вградени библиотеки, като например `decimal.Decimal`, с който можем да боравим с до 28 знака след десетичната запетая."
   ]
  },
  {
   "cell_type": "markdown",
   "metadata": {},
   "source": [
    "Целочислени литерали могат да се задават и в двоична, осмична и 16-ична бройни системи, използвайки като префикс `0b`, `0o` и `0x` съответно:"
   ]
  },
  {
   "cell_type": "code",
   "execution_count": 8,
   "metadata": {},
   "outputs": [
    {
     "name": "stdout",
     "output_type": "stream",
     "text": [
      "a = 10\n",
      "b = 10\n",
      "c = 10\n"
     ]
    }
   ],
   "source": [
    "a = 0b1010\n",
    "b = 0o12\n",
    "c = 0xA\n",
    "\n",
    "print(\"a =\", a)\n",
    "print(\"b =\", b)\n",
    "print(\"c =\", c)"
   ]
  },
  {
   "cell_type": "markdown",
   "metadata": {},
   "source": [
    "### Низове\n",
    "\n",
    "Текстовите низовете в Python имат тип `str`. Те могат да бъдат с произволна дължина, като в литерал се обграждат или с `\"`, или с `'`."
   ]
  },
  {
   "cell_type": "code",
   "execution_count": 9,
   "metadata": {},
   "outputs": [
    {
     "name": "stdout",
     "output_type": "stream",
     "text": [
      "abracadabra!\n"
     ]
    }
   ],
   "source": [
    "s1 = \"abra\"\n",
    "s2 = 'cad'\n",
    "\n",
    "print(s1 + s2 + s1 + '!')\n"
   ]
  },
  {
   "cell_type": "markdown",
   "metadata": {},
   "source": [
    "Многоредови низови литерали биват задавани с тройни кавички, също както специалните многоредови коментари, наричани `docstring`-ове (повече за тях в следваща лекция):"
   ]
  },
  {
   "cell_type": "code",
   "execution_count": 10,
   "metadata": {},
   "outputs": [
    {
     "name": "stdout",
     "output_type": "stream",
     "text": [
      "This text is too long to fit on a single line\n",
      "so I'm going to break it up into multiple lines\n",
      "so that I can see how it looks\n",
      "This string has been sponsored by Github Copilot.\n"
     ]
    }
   ],
   "source": [
    "this_text_is_too_long_to_fit_on_a_single_line = \"\"\"This text is too long to fit on a single line\n",
    "so I'm going to break it up into multiple lines\n",
    "so that I can see how it looks\n",
    "This string has been sponsored by Github Copilot.\"\"\"\n",
    "\n",
    "print(this_text_is_too_long_to_fit_on_a_single_line)"
   ]
  },
  {
   "cell_type": "markdown",
   "metadata": {},
   "source": [
    "Подържат се Unicode символи, но трябва да се внимава при взимането на дължината им (например емоджитата с флагове кодират двоен брой байтове, което доведе до [това](https://www.theverge.com/2018/10/11/17963230/twitter-emoji-character-limit-bug-fixed-diversity)):"
   ]
  },
  {
   "cell_type": "code",
   "execution_count": 11,
   "metadata": {},
   "outputs": [
    {
     "name": "stdout",
     "output_type": "stream",
     "text": [
      "the length of it = 3\n"
     ]
    }
   ],
   "source": [
    "moyai = \"🗿🇨🇳\"\n",
    "print(\"the length of it =\", len(moyai))  # never ignore the red flags...\n"
   ]
  },
  {
   "cell_type": "markdown",
   "metadata": {},
   "source": [
    "Escape символът както обикновено е `\\`. Някои специални символи по този начин написани са:\n",
    "* `\\n` - нов ред (Line Feed, ASCII стойност 13 (0x0D))\n",
    "* `\\t` - хоризонтална табулация (ASCII стойност 9)\n",
    "* `\\r` - Carriage Return, ASCII стойност 10 (0x0A)\n",
    "\n",
    "С `\\'` или  `\\\"` се запазват и кавичките в случай, че вида кавичка съвпада с тази, ограждаща низа. \n",
    "\n",
    "Самата обратно-наклонена черта се въвежда с `\\\\`.\n"
   ]
  },
  {
   "cell_type": "code",
   "execution_count": 12,
   "metadata": {},
   "outputs": [
    {
     "name": "stdout",
     "output_type": "stream",
     "text": [
      "Is it readable?\n",
      "Yesn't\n",
      "\n"
     ]
    }
   ],
   "source": [
    "s = 'Is it readable?\\nYesn\\'t\\n'\n",
    "print(s)"
   ]
  },
  {
   "cell_type": "markdown",
   "metadata": {},
   "source": [
    "Ако знаем 16-чния код на конкретен Unicode символ, можем да го запишем след `\\u`:"
   ]
  },
  {
   "cell_type": "code",
   "execution_count": 13,
   "metadata": {},
   "outputs": [
    {
     "name": "stdout",
     "output_type": "stream",
     "text": [
      "A♠\n"
     ]
    }
   ],
   "source": [
    "rip_lemmy = \"A\\u2660\"\n",
    "print(rip_lemmy)"
   ]
  },
  {
   "cell_type": "markdown",
   "metadata": {},
   "source": [
    "В случай пък че ни трябва конкретен байт в низа, чийто 16-ичен код знаем, може да се използва `\\x`. Например `\\x00` е null-byte, a `\\x1B` - `ESC`."
   ]
  },
  {
   "cell_type": "code",
   "execution_count": 14,
   "metadata": {},
   "outputs": [
    {
     "name": "stdout",
     "output_type": "stream",
     "text": [
      "You can safely have \u0000 in the middle of a string\n"
     ]
    }
   ],
   "source": [
    "not_your_c_string = \"You can safely have \\x00 in the middle of a string\"\n",
    "print(not_your_c_string)"
   ]
  },
  {
   "cell_type": "markdown",
   "metadata": {},
   "source": [
    "Относно ASCII кодове, съществуват две функции за преобразуване от и във кода на символа: `chr` и `ord` съответно."
   ]
  },
  {
   "cell_type": "code",
   "execution_count": 15,
   "metadata": {},
   "outputs": [
    {
     "name": "stdout",
     "output_type": "stream",
     "text": [
      "ord('A') = 65\n",
      "chr(65) = A\n",
      "A-B-C-D-E-F-G-H-I-J-K-L-M-N-O-P-Q-R-S-T-U-V-W-X-Y-Z\n"
     ]
    }
   ],
   "source": [
    "print(\"ord('A') =\", ord('A'))\n",
    "print(\"chr(65) =\", chr(65))\n",
    "\n",
    "alphabet = [chr(c) for c in range(ord('A'), ord('Z') + 1)]\n",
    "alphabet_kebab = \"-\".join(alphabet)\n",
    "print(alphabet_kebab)\n"
   ]
  },
  {
   "cell_type": "markdown",
   "metadata": {},
   "source": [
    "Съществува и тип за низ от байтове - `bytes`. Има си и литерал, който е като този на `str`, но просто с едно `b` преди отварящите кавички.\n",
    "\n",
    "Конвертирането му от и до `str` става единственo чрез подбиране на правилен енкодинг (UTF-8 или друг) и може да хвърли грешка."
   ]
  },
  {
   "cell_type": "code",
   "execution_count": 16,
   "metadata": {},
   "outputs": [
    {
     "name": "stdout",
     "output_type": "stream",
     "text": [
      "bytes_literal = b'You can use ASCII characters as well as \\\\x syntax, e.g. \\x00\\x01, etc.'\n",
      "str_from_bytes = You can use ASCII characters as well as \\x syntax, e.g. \u0000\u0001, etc.\n",
      "bytes_from_str = b'You can use ASCII characters as well as \\\\x syntax, e.g. \\x00\\x01, etc.'\n"
     ]
    },
    {
     "ename": "UnicodeDecodeError",
     "evalue": "'utf-8' codec can't decode byte 0xbe in position 2: invalid start byte",
     "output_type": "error",
     "traceback": [
      "\u001b[0;31m---------------------------------------------------------------------------\u001b[0m",
      "\u001b[0;31mUnicodeDecodeError\u001b[0m                        Traceback (most recent call last)",
      "\u001b[0;32m/var/folders/7x/gdf0mbts74n8p_ckv_b_mfc40000gp/T/ipykernel_18944/3353544668.py\u001b[0m in \u001b[0;36m<module>\u001b[0;34m\u001b[0m\n\u001b[1;32m      9\u001b[0m \u001b[0;34m\u001b[0m\u001b[0m\n\u001b[1;32m     10\u001b[0m \u001b[0mdeadbeef\u001b[0m \u001b[0;34m=\u001b[0m \u001b[0;34mb\"\\xDE\\xAD\\xBE\\xEF\"\u001b[0m\u001b[0;34m\u001b[0m\u001b[0;34m\u001b[0m\u001b[0m\n\u001b[0;32m---> 11\u001b[0;31m \u001b[0mdeadbeef\u001b[0m\u001b[0;34m.\u001b[0m\u001b[0mdecode\u001b[0m\u001b[0;34m(\u001b[0m\u001b[0;34m\"utf-8\"\u001b[0m\u001b[0;34m)\u001b[0m  \u001b[0;31m# it's dead\u001b[0m\u001b[0;34m\u001b[0m\u001b[0;34m\u001b[0m\u001b[0m\n\u001b[0m",
      "\u001b[0;31mUnicodeDecodeError\u001b[0m: 'utf-8' codec can't decode byte 0xbe in position 2: invalid start byte"
     ]
    }
   ],
   "source": [
    "bytes_literal = b\"You can use ASCII characters as well as \\x5C\\x78 syntax, e.g. \\x00\\x01, etc.\"\n",
    "print(\"bytes_literal =\", bytes_literal)\n",
    "\n",
    "str_from_bytes = bytes_literal.decode(\"utf-8\")\n",
    "print(\"str_from_bytes =\", str_from_bytes)\n",
    "\n",
    "bytes_from_str = str_from_bytes.encode(\"utf-8\")\n",
    "print(\"bytes_from_str =\", bytes_from_str)\n",
    "\n",
    "deadbeef = b\"\\xDE\\xAD\\xBE\\xEF\"\n",
    "deadbeef.decode(\"utf-8\")  # it's dead\n"
   ]
  },
  {
   "cell_type": "markdown",
   "metadata": {},
   "source": [
    "Интерполацията на низове е възможна по три основни начина:\n",
    "* Форматиране с `%` (old-school)\n",
    "* `str.format` (от Python 3 насам, back-port-нат към Python 2.7)\n",
    "* f-strings (от Python 3.6 насам)"
   ]
  },
  {
   "cell_type": "code",
   "execution_count": 17,
   "metadata": {},
   "outputs": [
    {
     "name": "stdout",
     "output_type": "stream",
     "text": [
      "This year AJ turns 18 hex-years old.\n",
      "Ton4ou only knows the first 5 decimal places of π: 3.14159.\n",
      "Program bot.py finished execution at 1661079240.858315 unix time.\n",
      "Debug info: some_variable=3735928559\n"
     ]
    }
   ],
   "source": [
    "from math import pi\n",
    "from time import time\n",
    "\n",
    "archaic = \"This year %s turns %x hex-years old.\" % (\"AJ\", 24)\n",
    "print(archaic)\n",
    "\n",
    "classic = \"{} only knows the first 5 decimal places of π: {:.5f}.\".format(\"Ton4ou\", pi)\n",
    "print(classic)\n",
    "\n",
    "name = \"bot.py\"\n",
    "fstr = f\"Program {name} finished execution at {time()} unix time.\"\n",
    "print(fstr)\n",
    "\n",
    "some_variable = 0xdeadbeef\n",
    "debug_fstr = f\"Debug info: {some_variable=}\"  # the '=' here puts the name as well as the value\n",
    "print(debug_fstr)\n"
   ]
  },
  {
   "cell_type": "markdown",
   "metadata": {},
   "source": [
    "Низовете са колекции и могат да бъдат използвани като такива. Повече за тях в следваща лекция, засега може да ги мислим като масиви от символи."
   ]
  },
  {
   "cell_type": "code",
   "execution_count": 18,
   "metadata": {},
   "outputs": [
    {
     "name": "stdout",
     "output_type": "stream",
     "text": [
      "length=5, first_char='H'\n",
      "===H===\n",
      "===e===\n",
      "===l===\n",
      "===l===\n",
      "===o===\n"
     ]
    }
   ],
   "source": [
    "s = \"Hello\"\n",
    "\n",
    "length = len(s)     # the length\n",
    "first_char = s[0]  # the first character (element @ index 0)\n",
    "\n",
    "print(f\"{length=}, {first_char=}\")\n",
    "\n",
    "for char in s:\n",
    "    print(\"===\" + char + \"===\")\n"
   ]
  },
  {
   "cell_type": "markdown",
   "metadata": {},
   "source": [
    "Обработката на низове става сравнително лесно чрез предоставените ни вградени функции и методи:"
   ]
  },
  {
   "cell_type": "code",
   "execution_count": 19,
   "metadata": {},
   "outputs": [
    {
     "name": "stdout",
     "output_type": "stream",
     "text": [
      "no_umlauts='Deutschland ueber alles!'\n",
      "marked_tags_list='(nofilter) (nomakeup) (felt_cute_might_delete_later) (f4f) (follow4follow)'\n",
      "Access granted.\n"
     ]
    }
   ],
   "source": [
    "with_umlauts = \"Deutschland über alles!\"\n",
    "no_umlauts = with_umlauts.replace(\"ü\", \"ue\")  # returns a new string in which all occurrences of \"ü\" are replaced with \"ue\"\n",
    "print(f\"{no_umlauts=}\")\n",
    "\n",
    "post_hastags = \"#nofilter #nomakeup #felt_cute_might_delete_later #f4f #follow4follow\"\n",
    "tags = post_hastags.replace(\"#\", \"\").split(\" \")  # first removes all #'s, then splits using a space as a delimiter into a list of strings\n",
    "marked_tags_list = \" \".join(f\"({tag})\" for tag in tags)  # surrounds each element of the list with brackets and concatenates them with spaces\n",
    "print(f\"{marked_tags_list=}\")\n",
    "\n",
    "allowed_inputs = [\"y\", \"yes\", \"proceed\", \"correct\", \"da\", \"yy\", \"yesh\", \"yass\"]\n",
    "user_input = \"Yes\"  # hardcoded for simplicity\n",
    "if user_input.lower() in allowed_inputs:\n",
    "    print(\"Access granted.\")\n",
    "else:\n",
    "    print(\"Access denied.\")\n",
    "\n",
    "# .lower() converts the string to lowercase, .upper() converts it to uppercase\n",
    "# there is also .capitalize() which capitalizes only the first letter of the string"
   ]
  },
  {
   "cell_type": "markdown",
   "metadata": {},
   "source": [
    "### Булеви\n",
    "\n",
    "Тип `bool` има две възможни стойности: `True` и `False`.\n",
    "\n",
    "За разлика от повечето други езици, вместо `!`, `||` и `&&` използваме `not`, `or` и `and`."
   ]
  },
  {
   "cell_type": "code",
   "execution_count": 20,
   "metadata": {},
   "outputs": [
    {
     "name": "stdout",
     "output_type": "stream",
     "text": [
      "f = False\n",
      "t or f = True\n",
      "t and f = False\n",
      "t and not f = True\n"
     ]
    }
   ],
   "source": [
    "t = True\n",
    "f = not t\n",
    "\n",
    "print(f\"{f = }\")\n",
    "print(f\"{t or f = }\")\n",
    "print(f\"{t and f = }\")\n",
    "print(f\"{t and not f = }\")"
   ]
  },
  {
   "cell_type": "markdown",
   "metadata": {},
   "source": [
    "⚠️ `or` и `and` всъщност не връщат `bool`, а стойността на първия аргумент отляво надясно, след който каквито и да са стойностите на другите резултатът остава същия:"
   ]
  },
  {
   "cell_type": "code",
   "execution_count": 21,
   "metadata": {},
   "outputs": [
    {
     "name": "stdout",
     "output_type": "stream",
     "text": [
      "a or b or c = 1\n",
      "a and b and c = 3\n",
      "a or 0 or c = 1\n",
      "a and 0 and c = 0\n"
     ]
    }
   ],
   "source": [
    "a, b, c = 1, 2, 3\n",
    "\n",
    "print(f\"{a or b or c = }\")\n",
    "print(f\"{a and b and c = }\")\n",
    "print(f\"{a or 0 or c = }\")\n",
    "print(f\"{a and 0 and c = }\")"
   ]
  },
  {
   "cell_type": "markdown",
   "metadata": {},
   "source": [
    "Можем да се възползваме от това в кода ни с изрази и функции, чието изпълнение зависи от предходния резултат:"
   ]
  },
  {
   "cell_type": "code",
   "execution_count": 22,
   "metadata": {},
   "outputs": [
    {
     "name": "stdout",
     "output_type": "stream",
     "text": [
      "Function 1 is being executed.\n",
      "OK\n"
     ]
    }
   ],
   "source": [
    "def func1():\n",
    "    print(\"Function 1 is being executed.\")\n",
    "    return True\n",
    "\n",
    "def func2():\n",
    "    print(\"Function 2 is being executed.\")\n",
    "    return True\n",
    "\n",
    "if func1() or func2():\n",
    "    print(\"OK\")"
   ]
  },
  {
   "cell_type": "markdown",
   "metadata": {},
   "source": [
    "### `None`\n",
    "\n",
    "`None` е стойност (и тип), обозначаваща липса на стойност (🤔).\n",
    "\n",
    "Когато една функция **не** преминава през `return` израз, тя всъщност връща `None` като резултат."
   ]
  },
  {
   "cell_type": "code",
   "execution_count": 23,
   "metadata": {},
   "outputs": [
    {
     "name": "stdout",
     "output_type": "stream",
     "text": [
      "The print function isn't intended to return a specific value.\n",
      "None\n"
     ]
    }
   ],
   "source": [
    "result_of_print = print(\"The print function isn't intended to return a specific value.\")\n",
    "print(result_of_print)"
   ]
  },
  {
   "cell_type": "markdown",
   "metadata": {},
   "source": [
    "### `type`\n",
    "`type` е функция, която ни връща типа на дадена стойност:"
   ]
  },
  {
   "cell_type": "code",
   "execution_count": 24,
   "metadata": {},
   "outputs": [
    {
     "data": {
      "text/plain": [
       "int"
      ]
     },
     "execution_count": 24,
     "metadata": {},
     "output_type": "execute_result"
    }
   ],
   "source": [
    "type(42)"
   ]
  },
  {
   "cell_type": "markdown",
   "metadata": {},
   "source": [
    "Но всичко в Python е обект, включително и функциите:"
   ]
  },
  {
   "cell_type": "code",
   "execution_count": 25,
   "metadata": {},
   "outputs": [
    {
     "data": {
      "text/plain": [
       "builtin_function_or_method"
      ]
     },
     "execution_count": 25,
     "metadata": {},
     "output_type": "execute_result"
    }
   ],
   "source": [
    "type(print)"
   ]
  },
  {
   "cell_type": "markdown",
   "metadata": {},
   "source": [
    "Следователно, `type` също си има тип:"
   ]
  },
  {
   "cell_type": "code",
   "execution_count": 26,
   "metadata": {},
   "outputs": [
    {
     "data": {
      "text/plain": [
       "type"
      ]
     },
     "execution_count": 26,
     "metadata": {},
     "output_type": "execute_result"
    }
   ],
   "source": [
    "type(type)"
   ]
  },
  {
   "cell_type": "markdown",
   "metadata": {},
   "source": [
    "😵‍💫"
   ]
  },
  {
   "cell_type": "code",
   "execution_count": 27,
   "metadata": {},
   "outputs": [
    {
     "data": {
      "text/plain": [
       "type"
      ]
     },
     "execution_count": 27,
     "metadata": {},
     "output_type": "execute_result"
    }
   ],
   "source": [
    "type(type(type(type(type(type)))))"
   ]
  },
  {
   "cell_type": "markdown",
   "metadata": {},
   "source": [
    "### `tuple`, `list`, `set`, `dict`\n",
    "\n",
    "* `tuple`: наредена $n$-торка (още кортеж), която не може да се променя \n",
    "* `list`: списък от елементи, който може да се променя\n",
    "* `set`: множество от елементи без наредба и повторения (HashSet)\n",
    "* `dict`: речник от ключове и стойности (HashMap)\n",
    "\n",
    "Елементите и на четирите колекции могат да бъдат от различни типове."
   ]
  },
  {
   "cell_type": "code",
   "execution_count": 28,
   "metadata": {},
   "outputs": [
    {
     "name": "stdout",
     "output_type": "stream",
     "text": [
      "t = (1, 'b', False)\n",
      "l = [1, 'b', False]\n",
      "s = {False, 1, 'b'}\n",
      "d = {'a': 1, 'b': 2, 'c': 3, '幸': None}\n"
     ]
    }
   ],
   "source": [
    "t = (1, \"b\", False)  # tuples are with () or without any brackets\n",
    "l = [1, \"b\", False]  # lists are with []\n",
    "s = {1, \"b\", False}                     # sets are with {}\n",
    "d = {\"a\": 1, \"b\": 2, \"c\": 3, \"幸\": None}   # dicts are also with {}\n",
    "\n",
    "print(f\"{t = }\")\n",
    "print(f\"{l = }\")\n",
    "print(f\"{s = }\")\n",
    "print(f\"{d = }\")\n"
   ]
  },
  {
   "cell_type": "markdown",
   "metadata": {},
   "source": [
    "⚠️ `{}` е празен `dict`, а не празен `set`. За празен `set` се ползва конструктора `set()`."
   ]
  },
  {
   "cell_type": "code",
   "execution_count": 29,
   "metadata": {},
   "outputs": [
    {
     "data": {
      "text/plain": [
       "dict"
      ]
     },
     "execution_count": 29,
     "metadata": {},
     "output_type": "execute_result"
    }
   ],
   "source": [
    "type({})"
   ]
  },
  {
   "cell_type": "markdown",
   "metadata": {},
   "source": [
    "⚠️ Понеже нормалните скоби са и... нормални скоби, които обособяват израз и връщат стойността му, `tuple` с един елемент се дефинира със запетайка след елемента. Освен това няма нужда от обграждащи скоби при задаване на `tuple` с повече от нула елементи."
   ]
  },
  {
   "cell_type": "code",
   "execution_count": 30,
   "metadata": {},
   "outputs": [
    {
     "name": "stdout",
     "output_type": "stream",
     "text": [
      "a_tuple = (42,)\n",
      "definitely_not_a_tuple = 42\n",
      "btw_brackets_are_for_plebs = (42,)\n"
     ]
    }
   ],
   "source": [
    "a_tuple = (42,)\n",
    "definitely_not_a_tuple = (42)\n",
    "print(f\"{a_tuple = }\")\n",
    "print(f\"{definitely_not_a_tuple = }\")\n",
    "\n",
    "btw_brackets_are_for_plebs = 42,\n",
    "print(f\"{btw_brackets_are_for_plebs = }\")"
   ]
  },
  {
   "cell_type": "markdown",
   "metadata": {},
   "source": [
    "Кога кое да ползваме? Rule of thumb:\n",
    "* `tuple` - когато искаме функция да върне няколко неща / анонимен `dataclass` / списък, който не може да бъде променян\n",
    "* `list` - когато искаме нареден списък, който да може да бъде променян и може да има повторения\n",
    "* `set` - когато наредбата не ни трябва и нямаме повторения\n",
    "* `dict` - когато искаме да асоциираме дадени ключове с дадени стойности"
   ]
  },
  {
   "cell_type": "markdown",
   "metadata": {},
   "source": [
    "Ключовата дума `in` е полезна при работа с такива колекции. Тя връща `bool` който ни казва дали даден елемент се среща вътре:"
   ]
  },
  {
   "cell_type": "code",
   "execution_count": 31,
   "metadata": {},
   "outputs": [
    {
     "name": "stdout",
     "output_type": "stream",
     "text": [
      "impostor in squad = True\n",
      "impostor in members = False\n",
      "impostor in members.values() = True\n"
     ]
    }
   ],
   "source": [
    "impostor = 1j\n",
    "\n",
    "squad = [0, 1j, 2, 3, 4, 5]\n",
    "print(f\"{impostor in squad = }\")\n",
    "\n",
    "members = {\"A\": 0, \"B\": 1j, \"C\": 2, \"D\": 3, \"E\": 4, \"F\": 5}  # `in` searches in the dictionary's keys, not values\n",
    "print(f\"{impostor in members = }\")\n",
    "print(f\"{impostor in members.values() = }\")\n"
   ]
  },
  {
   "cell_type": "markdown",
   "metadata": {},
   "source": [
    "`in` може да се ползва и за `str`:"
   ]
  },
  {
   "cell_type": "code",
   "execution_count": 32,
   "metadata": {},
   "outputs": [
    {
     "data": {
      "text/plain": [
       "True"
      ]
     },
     "execution_count": 32,
     "metadata": {},
     "output_type": "execute_result"
    }
   ],
   "source": [
    "\"mile\" in \"smiles\""
   ]
  },
  {
   "cell_type": "markdown",
   "metadata": {},
   "source": [
    "Дължината им се взима с `len`:"
   ]
  },
  {
   "cell_type": "code",
   "execution_count": 33,
   "metadata": {},
   "outputs": [
    {
     "data": {
      "text/plain": [
       "3"
      ]
     },
     "execution_count": 33,
     "metadata": {},
     "output_type": "execute_result"
    }
   ],
   "source": [
    "len([0, 1, 2])"
   ]
  },
  {
   "cell_type": "markdown",
   "metadata": {},
   "source": [
    "`tuple` и `list` поддържат индексиране, като за `tuple` това е само read-only:"
   ]
  },
  {
   "cell_type": "code",
   "execution_count": 34,
   "metadata": {},
   "outputs": [
    {
     "name": "stdout",
     "output_type": "stream",
     "text": [
      "t[0] = 1\n",
      "l[0] = 1\n",
      "l = [-1, 2, 3]\n"
     ]
    },
    {
     "ename": "TypeError",
     "evalue": "'tuple' object does not support item assignment",
     "output_type": "error",
     "traceback": [
      "\u001b[0;31m---------------------------------------------------------------------------\u001b[0m",
      "\u001b[0;31mTypeError\u001b[0m                                 Traceback (most recent call last)",
      "\u001b[0;32m/var/folders/7x/gdf0mbts74n8p_ckv_b_mfc40000gp/T/ipykernel_18944/165187029.py\u001b[0m in \u001b[0;36m<module>\u001b[0;34m\u001b[0m\n\u001b[1;32m      7\u001b[0m \u001b[0mprint\u001b[0m\u001b[0;34m(\u001b[0m\u001b[0;34mf\"{l = }\"\u001b[0m\u001b[0;34m)\u001b[0m\u001b[0;34m\u001b[0m\u001b[0;34m\u001b[0m\u001b[0m\n\u001b[1;32m      8\u001b[0m \u001b[0;34m\u001b[0m\u001b[0m\n\u001b[0;32m----> 9\u001b[0;31m \u001b[0mt\u001b[0m\u001b[0;34m[\u001b[0m\u001b[0;36m0\u001b[0m\u001b[0;34m]\u001b[0m \u001b[0;34m=\u001b[0m \u001b[0;34m-\u001b[0m\u001b[0;36m1\u001b[0m  \u001b[0;31m# 💥\u001b[0m\u001b[0;34m\u001b[0m\u001b[0;34m\u001b[0m\u001b[0m\n\u001b[0m",
      "\u001b[0;31mTypeError\u001b[0m: 'tuple' object does not support item assignment"
     ]
    }
   ],
   "source": [
    "t = (1, 2, 3)\n",
    "l = [1, 2, 3]\n",
    "print(f\"{t[0] = }\")\n",
    "print(f\"{l[0] = }\")\n",
    "\n",
    "l[0] = -1\n",
    "print(f\"{l = }\")\n",
    "\n",
    "t[0] = -1  # 💥"
   ]
  },
  {
   "cell_type": "markdown",
   "metadata": {},
   "source": [
    "По същия начин става взимането/записването на стойност в `dict`. Съществува и метода `get` който ни предоставя по-безопасен начин при достъпването на несъществуващи ключове:"
   ]
  },
  {
   "cell_type": "code",
   "execution_count": 35,
   "metadata": {},
   "outputs": [
    {
     "name": "stdout",
     "output_type": "stream",
     "text": [
      "d['a'] = 1\n",
      "d.get('a') = 1\n",
      "d.get('b') = None\n",
      "d.get('b', 0) = 0\n"
     ]
    },
    {
     "ename": "KeyError",
     "evalue": "'b'",
     "output_type": "error",
     "traceback": [
      "\u001b[0;31m---------------------------------------------------------------------------\u001b[0m",
      "\u001b[0;31mKeyError\u001b[0m                                  Traceback (most recent call last)",
      "\u001b[0;32m/var/folders/7x/gdf0mbts74n8p_ckv_b_mfc40000gp/T/ipykernel_18944/1199089680.py\u001b[0m in \u001b[0;36m<module>\u001b[0;34m\u001b[0m\n\u001b[1;32m      7\u001b[0m \u001b[0mprint\u001b[0m\u001b[0;34m(\u001b[0m\u001b[0;34mf\"{d.get('b') = }\"\u001b[0m\u001b[0;34m)\u001b[0m     \u001b[0;31m# returns None if not present\u001b[0m\u001b[0;34m\u001b[0m\u001b[0;34m\u001b[0m\u001b[0m\n\u001b[1;32m      8\u001b[0m \u001b[0mprint\u001b[0m\u001b[0;34m(\u001b[0m\u001b[0;34mf\"{d.get('b', 0) = }\"\u001b[0m\u001b[0;34m)\u001b[0m  \u001b[0;31m# returns the provided default value if not present\u001b[0m\u001b[0;34m\u001b[0m\u001b[0;34m\u001b[0m\u001b[0m\n\u001b[0;32m----> 9\u001b[0;31m \u001b[0mprint\u001b[0m\u001b[0;34m(\u001b[0m\u001b[0;34mf\"{d['b'] = }\"\u001b[0m\u001b[0;34m)\u001b[0m         \u001b[0;31m# 💥\u001b[0m\u001b[0;34m\u001b[0m\u001b[0;34m\u001b[0m\u001b[0m\n\u001b[0m",
      "\u001b[0;31mKeyError\u001b[0m: 'b'"
     ]
    }
   ],
   "source": [
    "d = {}\n",
    "d[\"a\"] = 1\n",
    "\n",
    "print(f\"{d['a'] = }\")\n",
    "print(f\"{d.get('a') = }\")\n",
    "\n",
    "print(f\"{d.get('b') = }\")     # returns None if not present\n",
    "print(f\"{d.get('b', 0) = }\")  # returns the provided default value if not present\n",
    "print(f\"{d['b'] = }\")         # 💥"
   ]
  },
  {
   "cell_type": "markdown",
   "metadata": {},
   "source": [
    "Pro tip: `collections.defalutdict` е `dict` със зададена стойност по подразбиране, която се връща при липсващ ключ."
   ]
  },
  {
   "cell_type": "markdown",
   "metadata": {},
   "source": [
    "## Mutable vs Immutable\n",
    "\n",
    "Имената в Python сочат към някаква стойност в паметта."
   ]
  },
  {
   "cell_type": "code",
   "execution_count": 36,
   "metadata": {},
   "outputs": [
    {
     "name": "stdout",
     "output_type": "stream",
     "text": [
      "1001\n"
     ]
    }
   ],
   "source": [
    "name = 1\n",
    "name += 1000\n",
    "print(name)"
   ]
  },
  {
   "cell_type": "markdown",
   "metadata": {},
   "source": [
    "Горното парче код не променя стойността на `1`, а кара `name` да сочи към нова стойност - `1001`.\n",
    "\n",
    "Това е така, понеже `int` е immutable тип (такъв който не може да си променя стойността). Immutable са още всички числа, низове, `tuple`, `True`, `False`, `None` и [т.н.](https://www.youtube.com/watch?v=EuUYM-E5-1U)\n",
    "\n",
    "Mutable типовете пък са `list`, `set`, `dict` и почти всичко останало."
   ]
  },
  {
   "cell_type": "code",
   "execution_count": 37,
   "metadata": {},
   "outputs": [
    {
     "name": "stdout",
     "output_type": "stream",
     "text": [
      "a=1, b=2\n",
      "a=[1, 2, 3], b=[1, 2, 3]\n"
     ]
    }
   ],
   "source": [
    "a = 1\n",
    "b = a\n",
    "b += 1\n",
    "print(f\"{a=}, {b=}\")\n",
    "\n",
    "a = [1, 2]\n",
    "b = a\n",
    "b.append(3)\n",
    "print(f\"{a=}, {b=}\")  # if you think they can be different now, you are dead wrong"
   ]
  },
  {
   "cell_type": "markdown",
   "metadata": {},
   "source": [
    "Важно е да се отбележи също, че валидни **ключове** за `dict` и елементи за `set` са само **immutable** стойности."
   ]
  },
  {
   "cell_type": "code",
   "execution_count": 38,
   "metadata": {},
   "outputs": [
    {
     "ename": "TypeError",
     "evalue": "unhashable type: 'list'",
     "output_type": "error",
     "traceback": [
      "\u001b[0;31m---------------------------------------------------------------------------\u001b[0m",
      "\u001b[0;31mTypeError\u001b[0m                                 Traceback (most recent call last)",
      "\u001b[0;32m/var/folders/7x/gdf0mbts74n8p_ckv_b_mfc40000gp/T/ipykernel_18944/1443935741.py\u001b[0m in \u001b[0;36m<module>\u001b[0;34m\u001b[0m\n\u001b[1;32m      1\u001b[0m \u001b[0ml\u001b[0m \u001b[0;34m=\u001b[0m \u001b[0;34m[\u001b[0m\u001b[0;36m1\u001b[0m\u001b[0;34m,\u001b[0m \u001b[0;36m2\u001b[0m\u001b[0;34m]\u001b[0m\u001b[0;34m\u001b[0m\u001b[0;34m\u001b[0m\u001b[0m\n\u001b[0;32m----> 2\u001b[0;31m \u001b[0md\u001b[0m \u001b[0;34m=\u001b[0m \u001b[0;34m{\u001b[0m\u001b[0ml\u001b[0m\u001b[0;34m:\u001b[0m \u001b[0;36m1\u001b[0m\u001b[0;34m}\u001b[0m\u001b[0;34m\u001b[0m\u001b[0;34m\u001b[0m\u001b[0m\n\u001b[0m",
      "\u001b[0;31mTypeError\u001b[0m: unhashable type: 'list'"
     ]
    }
   ],
   "source": [
    "l = [1, 2]\n",
    "d = {l: 1}"
   ]
  },
  {
   "cell_type": "markdown",
   "metadata": {},
   "source": [
    "### Unpacking\n",
    "\n",
    "Unpacking-ът ни позволява да извлечем всички елементи от колекции в няколко различни други имена."
   ]
  },
  {
   "cell_type": "code",
   "execution_count": 39,
   "metadata": {},
   "outputs": [
    {
     "name": "stdout",
     "output_type": "stream",
     "text": [
      "firstname='Вовеки', lastname='Веков'\n",
      "a=1, b=2, c=3\n"
     ]
    }
   ],
   "source": [
    "firstname, lastname = \"Вовеки\", \"Веков\"\n",
    "\n",
    "tup = 1, 2, 3\n",
    "a, b, c = tup\n",
    "\n",
    "print(f\"{firstname=}, {lastname=}\")\n",
    "print(f\"{a=}, {b=}, {c=}\")"
   ]
  },
  {
   "cell_type": "markdown",
   "metadata": {},
   "source": [
    "Pro tip: размяната на стойностите на две променливи в Python не изисква да дефинираме трета:"
   ]
  },
  {
   "cell_type": "code",
   "execution_count": 40,
   "metadata": {},
   "outputs": [
    {
     "name": "stdout",
     "output_type": "stream",
     "text": [
      "a=2, b=1\n"
     ]
    }
   ],
   "source": [
    "a, b = 1, 2\n",
    "a, b = b, a\n",
    "print(f\"{a=}, {b=}\")"
   ]
  },
  {
   "cell_type": "markdown",
   "metadata": {},
   "source": [
    "За да посочим име, в което да се присвоят всички останали неприсвоени елементи от колекцията, която unpack-ваме, използваме астериск `*` (няма нищо общо с pointer, спокойно). Типът на такава променлива винаги става `list`."
   ]
  },
  {
   "cell_type": "code",
   "execution_count": 41,
   "metadata": {},
   "outputs": [
    {
     "name": "stdout",
     "output_type": "stream",
     "text": [
      "head=1, tail=[2, 3, 4, 5]\n",
      "first=1, inbetween=[2, 3, 4, 5, 6, 7, 8, 9], last=10\n"
     ]
    }
   ],
   "source": [
    "head, *tail = [1, 2, 3, 4, 5]\n",
    "first, *inbetween, last = 1, 2, 3, 4, 5, 6, 7, 8, 9, 10\n",
    "\n",
    "print(f\"{head=}, {tail=}\")\n",
    "print(f\"{first=}, {inbetween=}, {last=}\")\n"
   ]
  },
  {
   "cell_type": "markdown",
   "metadata": {},
   "source": [
    "Това може да бъде приложимо при слепване на колекции, като за `dict` ползваме `**`:"
   ]
  },
  {
   "cell_type": "code",
   "execution_count": 42,
   "metadata": {},
   "outputs": [
    {
     "name": "stdout",
     "output_type": "stream",
     "text": [
      "new_ingredients=['flour', 'eggs', 'butter', 'water', 'salt', 'sugar']\n",
      "live_band={'BASS': 'Pesho', 'DRUMS': '亚历山大', 'GUITAR': 'Vasko', 'MICROPHONE': 'Ceca'}\n"
     ]
    }
   ],
   "source": [
    "original_ingredients = [\"water\", \"salt\", \"sugar\"]\n",
    "new_ingredients = [\"flour\", \"eggs\", \"butter\", *original_ingredients]\n",
    "\n",
    "studio_band = {\"GUITAR\": \"Vasko\", \"MICROPHONE\": \"Ceca\"}\n",
    "live_band = {\"BASS\": \"Pesho\", \"DRUMS\": \"亚历山大\", **studio_band}\n",
    "\n",
    "print(f\"{new_ingredients=}\")\n",
    "print(f\"{live_band=}\")\n"
   ]
  },
  {
   "cell_type": "markdown",
   "metadata": {},
   "source": [
    "## Блокове"
   ]
  },
  {
   "cell_type": "markdown",
   "metadata": {},
   "source": [
    "В Python блоковете от код се отделят не чрез къдрави скоби, а с индентация.\n",
    "\n",
    "За съжаление на хората, предпочитащи скоби, това няма да се промени в бъдещи версии на езика:"
   ]
  },
  {
   "cell_type": "code",
   "execution_count": 43,
   "metadata": {},
   "outputs": [
    {
     "ename": "SyntaxError",
     "evalue": "not a chance (3905450354.py, line 1)",
     "output_type": "error",
     "traceback": [
      "\u001b[0;36m  File \u001b[0;32m\"/var/folders/7x/gdf0mbts74n8p_ckv_b_mfc40000gp/T/ipykernel_18944/3905450354.py\"\u001b[0;36m, line \u001b[0;32m1\u001b[0m\n\u001b[0;31m    from __future__ import braces\u001b[0m\n\u001b[0m    ^\u001b[0m\n\u001b[0;31mSyntaxError\u001b[0m\u001b[0;31m:\u001b[0m not a chance\n"
     ]
    }
   ],
   "source": [
    "from __future__ import braces"
   ]
  },
  {
   "cell_type": "markdown",
   "metadata": {},
   "source": [
    "Важно е да се отбележи, че всеки блок започва след двуеточие и всеки негов ред започва с определен брой интервали (или една табулация) по-навътре от предходния блок. За да бъде валдна индентацията трябва да е консистентна в целия файл, в противен случай ще се хвърли `IndentationError`. Общоприето е в Python да си използват 4 интервала за тази цел."
   ]
  },
  {
   "cell_type": "code",
   "execution_count": 44,
   "metadata": {},
   "outputs": [
    {
     "ename": "IndentationError",
     "evalue": "unexpected indent (1618609151.py, line 3)",
     "output_type": "error",
     "traceback": [
      "\u001b[0;36m  File \u001b[0;32m\"/var/folders/7x/gdf0mbts74n8p_ckv_b_mfc40000gp/T/ipykernel_18944/1618609151.py\"\u001b[0;36m, line \u001b[0;32m3\u001b[0m\n\u001b[0;31m    print(\"But this one is not\")\u001b[0m\n\u001b[0m    ^\u001b[0m\n\u001b[0;31mIndentationError\u001b[0m\u001b[0;31m:\u001b[0m unexpected indent\n"
     ]
    }
   ],
   "source": [
    "if True:\n",
    "    print(\"This line is ok\")\n",
    "        print(\"But this one is not\")"
   ]
  },
  {
   "cell_type": "markdown",
   "metadata": {},
   "source": [
    "Side note: едноредови блокове могат да се запишат и на същия ред след двуеточието. Често срещана конвенция обаче е да не се пишат по този начин."
   ]
  },
  {
   "cell_type": "code",
   "execution_count": 45,
   "metadata": {},
   "outputs": [
    {
     "name": "stdout",
     "output_type": "stream",
     "text": [
      "This will run\n"
     ]
    }
   ],
   "source": [
    "if True: print(\"This will run\")"
   ]
  },
  {
   "cell_type": "markdown",
   "metadata": {},
   "source": [
    "## Контролни структури"
   ]
  },
  {
   "cell_type": "markdown",
   "metadata": {},
   "source": [
    "### `if`"
   ]
  },
  {
   "cell_type": "code",
   "execution_count": 46,
   "metadata": {},
   "outputs": [
    {
     "name": "stdout",
     "output_type": "stream",
     "text": [
      "You good.\n"
     ]
    }
   ],
   "source": [
    "age = 21\n",
    "\n",
    "if age == 18:\n",
    "    print(\"Barely legal\")\n",
    "elif age < 18:\n",
    "    print(\"Sorry, you are not allowed.\")\n",
    "else:\n",
    "    print(\"You good.\")"
   ]
  },
  {
   "cell_type": "markdown",
   "metadata": {},
   "source": [
    "Няма нужда от скоби около условията. \n",
    "\n",
    "Едно условие се оценява на `False`, когато стойността му е `False`, `None`, `0`, `0.0`, `0j`, `''`, `[]`, `()`, `{}` и всички празни контейнери. Всички други стойности се оценяват до `True`."
   ]
  },
  {
   "cell_type": "markdown",
   "metadata": {},
   "source": [
    "Съществува и едноредова версия на `if` с `else`, която има за цел да служи като тернарния оператор в повечето езици:"
   ]
  },
  {
   "cell_type": "code",
   "execution_count": 47,
   "metadata": {},
   "outputs": [
    {
     "name": "stdout",
     "output_type": "stream",
     "text": [
      "420 is definitely not odd\n"
     ]
    }
   ],
   "source": [
    "num = 420\n",
    "statement = \"odd\" if num % 2 == 1 else \"definitely not odd\"\n",
    "print(f\"{num} is {statement}\")"
   ]
  },
  {
   "cell_type": "markdown",
   "metadata": {},
   "source": [
    "Операторите за сравнение са `==`, `!=`, `<`, `>`, `<=`, `>=`. Съществува и `<>`, който е просто различен запис на `!=`.\n",
    "\n",
    "В Python е възможно комбинирането им. Например `1 < 2 and 2 < 3` може да бъде записано като `1 < 2 < 3`."
   ]
  },
  {
   "cell_type": "code",
   "execution_count": 48,
   "metadata": {},
   "outputs": [
    {
     "name": "stdout",
     "output_type": "stream",
     "text": [
      "Client error\n"
     ]
    }
   ],
   "source": [
    "code = 404\n",
    "\n",
    "if 100 <= code < 200:\n",
    "    print(\"Informational response\")\n",
    "elif 200 <= code < 300:\n",
    "    print(\"OK response\")\n",
    "elif 300 <= code < 400:\n",
    "    print(\"Redirection\")\n",
    "elif 400 <= code < 500:\n",
    "    print(\"Client error\")\n",
    "elif 500 <= code < 600:\n",
    "    print(\"Server error\")\n",
    "else:\n",
    "    print(\"Not a valid HTTP status code\")"
   ]
  },
  {
   "cell_type": "markdown",
   "metadata": {},
   "source": [
    "Ключовата дума `is` сравнява по референция, докато `==` сравнява по стойност:"
   ]
  },
  {
   "cell_type": "code",
   "execution_count": 49,
   "metadata": {},
   "outputs": [
    {
     "name": "stdout",
     "output_type": "stream",
     "text": [
      "a and b are equal\n",
      "a is not the same thing as b\n"
     ]
    }
   ],
   "source": [
    "a = [1, 2, 3]\n",
    "b = [1, 2, 3]\n",
    "\n",
    "if a == b:\n",
    "    print(\"a and b are equal\")\n",
    "else:\n",
    "    print(\"a and b are not equal\")\n",
    "\n",
    "if a is b:\n",
    "    print(\"a is the same thing as b\")\n",
    "else:\n",
    "    print(\"a is not the same thing as b\")"
   ]
  },
  {
   "cell_type": "markdown",
   "metadata": {},
   "source": [
    "Side note: сравнение с `None` може да бъде направено и по двата начина, но за четимост се ползва по-често `is`."
   ]
  },
  {
   "cell_type": "code",
   "execution_count": 50,
   "metadata": {},
   "outputs": [
    {
     "name": "stdout",
     "output_type": "stream",
     "text": [
      "No result.\n"
     ]
    }
   ],
   "source": [
    "result = None\n",
    "\n",
    "if result is not None:  # clear 'nuff, innit \n",
    "    print(f\"We got a result, it is {result}.\")\n",
    "else:\n",
    "    print(\"No result.\")"
   ]
  },
  {
   "cell_type": "markdown",
   "metadata": {},
   "source": [
    "⚠️ Трябва да се внимава винаги с очакваната прецизност на числата с плаваща запетая:"
   ]
  },
  {
   "cell_type": "code",
   "execution_count": 51,
   "metadata": {},
   "outputs": [
    {
     "name": "stdout",
     "output_type": "stream",
     "text": [
      "Да, ама не: 0.1 + 0.2 == 0.30000000000000004\n"
     ]
    }
   ],
   "source": [
    "if 0.1 + 0.2 == 0.3:\n",
    "    print(\"Естествено, че ще влезе тука\")\n",
    "else:\n",
    "    print(f\"Да, ама не: 0.1 + 0.2 == {0.1 + 0.2}\")"
   ]
  },
  {
   "cell_type": "markdown",
   "metadata": {},
   "source": [
    "### `while`"
   ]
  },
  {
   "cell_type": "code",
   "execution_count": 52,
   "metadata": {},
   "outputs": [
    {
     "name": "stdout",
     "output_type": "stream",
     "text": [
      "1: \n",
      "2: \n",
      "3: Fizz\n",
      "4: \n",
      "5: Buzz\n",
      "6: Fizz\n",
      "7: \n",
      "8: \n",
      "9: Fizz\n",
      "10: Buzz\n",
      "11: \n",
      "12: Fizz\n",
      "13: \n",
      "14: \n",
      "15: FizzBuzz\n",
      "16: \n",
      "17: \n",
      "18: Fizz\n",
      "19: \n",
      "20: Buzz\n"
     ]
    }
   ],
   "source": [
    "num = 0\n",
    "while num < 20:\n",
    "    num += 1\n",
    "    current_output = f\"{num}: \"\n",
    "\n",
    "    if num % 3 == 0 and num % 5 == 0:\n",
    "        current_output += \"FizzBuzz\"\n",
    "    elif num % 3 == 0:\n",
    "        current_output += \"Fizz\"\n",
    "    elif num % 5 == 0:\n",
    "        current_output += \"Buzz\"\n",
    "\n",
    "    print(current_output)"
   ]
  },
  {
   "cell_type": "markdown",
   "metadata": {},
   "source": [
    "`continue` прекъсва изпълнението на текущaта итерация и продължава със следващата.\n",
    "\n",
    "`break` прекъсва изпълнението на цикъла."
   ]
  },
  {
   "cell_type": "code",
   "execution_count": 53,
   "metadata": {},
   "outputs": [
    {
     "name": "stdout",
     "output_type": "stream",
     "text": [
      "15\n",
      "30\n",
      "45\n",
      "60\n",
      "75\n",
      "90\n"
     ]
    }
   ],
   "source": [
    "n = 0\n",
    "while True:\n",
    "    if n > 100:\n",
    "        break\n",
    "\n",
    "    n += 1\n",
    "\n",
    "    if n % 3 != 0 or n % 5 != 0:\n",
    "        continue\n",
    "    \n",
    "    print(n)"
   ]
  },
  {
   "cell_type": "markdown",
   "metadata": {},
   "source": [
    "Възможно е да се напише и `else` блок след тялото на `while`-a. Тогава той ще се изпълни само ако условието в `while`-a стане `False` без да бъде прекъсвано изпълнението на цикъла чрез `break` или `return`:"
   ]
  },
  {
   "cell_type": "code",
   "execution_count": 54,
   "metadata": {},
   "outputs": [
    {
     "name": "stdout",
     "output_type": "stream",
     "text": [
      "ababcbcbababcbabacababc\n"
     ]
    }
   ],
   "source": [
    "s = \"aababcbccbbbabbabccbbaabbacccaababbc\"\n",
    "# s = 1000 * \"s\"\n",
    "\n",
    "letters = []\n",
    "i = 0\n",
    "\n",
    "while i < len(s):\n",
    "    current_letter = s[i]\n",
    "    i += 1\n",
    "\n",
    "    if i > 100 and len(letters) <= 1:\n",
    "        print(\"I want to break free!\")\n",
    "        break\n",
    "\n",
    "    if letters and current_letter == letters[-1]:\n",
    "        continue\n",
    "\n",
    "    letters.append(current_letter)\n",
    "else:\n",
    "    print(\"\".join(letters))\n"
   ]
  },
  {
   "cell_type": "markdown",
   "metadata": {},
   "source": [
    "### `for`\n",
    "\n",
    "`for`-циклите в Python итерират върху дадена колекция:"
   ]
  },
  {
   "cell_type": "code",
   "execution_count": 55,
   "metadata": {},
   "outputs": [
    {
     "name": "stdout",
     "output_type": "stream",
     "text": [
      "I will need eggs\n",
      "I will need milk\n",
      "I will need flour\n",
      "I will need sugar\n",
      "We got eggs for $0.98\n",
      "We got milk for $1.23\n",
      "We got flour for $1.59\n",
      "We got sugar for $0.88\n"
     ]
    }
   ],
   "source": [
    "ingredients = [\"eggs\", \"milk\", \"flour\", \"sugar\"]\n",
    "ingredients_price = {\"eggs\": 0.98, \"milk\": 1.23, \"flour\": 1.59, \"sugar\": 0.88}\n",
    "\n",
    "for i in ingredients:\n",
    "    print(f\"I will need {i}\")\n",
    "\n",
    "for ingr, price in ingredients_price.items():\n",
    "    print(f\"We got {ingr} for ${price}\")"
   ]
  },
  {
   "cell_type": "markdown",
   "metadata": {},
   "source": [
    "`range` ни позволява да създадем колекция от числа от началото до края на даден интервал през определена стъпка:"
   ]
  },
  {
   "cell_type": "code",
   "execution_count": 56,
   "metadata": {},
   "outputs": [
    {
     "name": "stdout",
     "output_type": "stream",
     "text": [
      "0 1 2 3 4 5 6 7 8 9 10 11 12 13 14 15 16 17 18 19 \n",
      "10 11 12 13 14 15 16 17 18 19 \n",
      "10 13 16 19 \n",
      "20 17 14 11 "
     ]
    }
   ],
   "source": [
    "for i in range(20):\n",
    "    print(i, end=\" \")\n",
    "\n",
    "print()\n",
    "\n",
    "for i in range(10, 20):\n",
    "    print(i, end=\" \")\n",
    "\n",
    "print()\n",
    "\n",
    "for i in range(10, 20, 3):\n",
    "    print(i, end=\" \")\n",
    "\n",
    "print()\n",
    "\n",
    "for i in range(20, 10, -3):\n",
    "    print(i, end=\" \")\n"
   ]
  },
  {
   "cell_type": "markdown",
   "metadata": {},
   "source": [
    "По същия начин както при `while`-циклите, `else` може да бъде използван и с `for`:"
   ]
  },
  {
   "cell_type": "code",
   "execution_count": 57,
   "metadata": {},
   "outputs": [
    {
     "name": "stdout",
     "output_type": "stream",
     "text": [
      "2 is a prime number\n",
      "3 is a prime number\n",
      "4 = 2 * 2\n",
      "5 is a prime number\n",
      "6 = 2 * 3\n",
      "7 is a prime number\n",
      "8 = 2 * 4\n",
      "9 = 3 * 3\n",
      "10 = 2 * 5\n",
      "11 is a prime number\n",
      "12 = 2 * 6\n",
      "13 is a prime number\n",
      "14 = 2 * 7\n",
      "15 = 3 * 5\n",
      "16 = 2 * 8\n",
      "17 is a prime number\n",
      "18 = 2 * 9\n",
      "19 is a prime number\n"
     ]
    }
   ],
   "source": [
    "for n in range(2, 20):\n",
    "    for x in range(2, n):\n",
    "        if n % x == 0:\n",
    "            print(n, '=', x, '*', n // x)\n",
    "            break\n",
    "    else:\n",
    "        print(n, 'is a prime number')\n"
   ]
  },
  {
   "cell_type": "markdown",
   "metadata": {},
   "source": [
    "### `match` (version 3.10+ !!!)\n",
    "\n",
    "В Python `switch-case` нарочно няма. От версия 3.10 насам обаче съществува `match`, което е по-скоро подобно на `switch` или `match` във функционалните езици за програмиране. С него можем да съпоставяме структурата на изрази в различни случаи, които ни интересуват, елиминирайки нуждата от вложени `if`-ове, проверки за типа на променливи, сложни проверки за размерности и структура на колекции и др. Това е мощно ново свойство на езика, за което повече информация може да намерим [тук](https://realpython.com/python310-new-features/#structural-pattern-matching)."
   ]
  },
  {
   "cell_type": "markdown",
   "metadata": {},
   "source": [
    "## Функции"
   ]
  },
  {
   "cell_type": "code",
   "execution_count": 58,
   "metadata": {},
   "outputs": [
    {
     "name": "stdout",
     "output_type": "stream",
     "text": [
      "16777216\n"
     ]
    }
   ],
   "source": [
    "def f(x):\n",
    "    return x ** x\n",
    "\n",
    "print(f(8))"
   ]
  },
  {
   "cell_type": "markdown",
   "metadata": {},
   "source": [
    "`def` е ключовата дума, която започва дефинията на функция. След името и списък от аргументите в скоби, следва блок с код, който се изпълнява при извикването ѝ.\n",
    "\n",
    "При достигане на `return` или крaя на блокът от код, изпълнението на функцията прекъсва. Във втория случай или когато след `return` няма нищо посочено, функцията връща `None`.\n"
   ]
  },
  {
   "cell_type": "code",
   "execution_count": 59,
   "metadata": {},
   "outputs": [
    {
     "name": "stdout",
     "output_type": "stream",
     "text": [
      "I am Procedure.\n",
      "I shall be the reigning lord of the kingdom of side effects.\n",
      "I don't return anything.\n",
      "...Or do I?\n",
      "None\n"
     ]
    }
   ],
   "source": [
    "def procedure():\n",
    "    print(\"I am Procedure.\")\n",
    "    print(\"I shall be the reigning lord of the kingdom of side effects.\")\n",
    "    print(\"I don't return anything.\")\n",
    "    print(\"...Or do I?\")\n",
    "\n",
    "result = procedure()\n",
    "print(result)\n"
   ]
  },
  {
   "cell_type": "code",
   "execution_count": 60,
   "metadata": {},
   "outputs": [
    {
     "name": "stdout",
     "output_type": "stream",
     "text": [
      "Hello, John Smith!\n"
     ]
    }
   ],
   "source": [
    "def greeting(name):\n",
    "    if not name:\n",
    "        return\n",
    "    \n",
    "    print(f\"Hello, {name}!\")\n",
    "\n",
    "greeting(\"\")\n",
    "greeting(\"John Smith\")"
   ]
  },
  {
   "cell_type": "code",
   "execution_count": 61,
   "metadata": {},
   "outputs": [
    {
     "name": "stdout",
     "output_type": "stream",
     "text": [
      "11978571669969891796072783721689098736458938142546425857555362864628009582789845319680000000000000000\n"
     ]
    }
   ],
   "source": [
    "def factorial(n):\n",
    "    if n <= 0:\n",
    "        return 1\n",
    "    \n",
    "    return n * factorial(n - 1)\n",
    "\n",
    "print(factorial(70))"
   ]
  },
  {
   "cell_type": "markdown",
   "metadata": {},
   "source": [
    "Аргументите на функциите могат да имат стойности по подразбиране:"
   ]
  },
  {
   "cell_type": "code",
   "execution_count": 62,
   "metadata": {},
   "outputs": [
    {
     "name": "stdout",
     "output_type": "stream",
     "text": [
      "1\n",
      "2\n"
     ]
    }
   ],
   "source": [
    "def add(a, b=0):\n",
    "    return a + b\n",
    "\n",
    "print(add(1))\n",
    "print(add(1, 1))"
   ]
  },
  {
   "cell_type": "code",
   "execution_count": 63,
   "metadata": {},
   "outputs": [
    {
     "name": "stdout",
     "output_type": "stream",
     "text": [
      "\n",
      "hello\n",
      "Hello\n",
      "Hello!\n",
      "Hello!\n",
      "Hello!\n",
      "Hello!\n"
     ]
    }
   ],
   "source": [
    "def my_custom_print(text=\"\", terminator=\"\\n\", capitalize=False):\n",
    "    new_text = text.capitalize() if capitalize else text\n",
    "    print(new_text, end=terminator)\n",
    "\n",
    "my_custom_print()\n",
    "my_custom_print(\"hello\")\n",
    "my_custom_print(\"hello\", capitalize=True)\n",
    "my_custom_print(\"hello\", \"!\\n\", capitalize=True)\n",
    "my_custom_print(\"hello\", terminator=\"!\\n\", capitalize=True)\n",
    "my_custom_print(\"hello\", capitalize=True, terminator=\"!\\n\")\n",
    "my_custom_print(capitalize=True, terminator=\"!\\n\", text=\"hello\")  # y tho\n"
   ]
  },
  {
   "cell_type": "markdown",
   "metadata": {},
   "source": [
    "Функции могат да приемат произволен брой аргументи, които биват два типа: позиционни (обикновено кръщавани `args`) и именовани (обикновено кръщавани `kwargs` (от англ. keyword arguments)). След именован аргумент не можем да подадем позиционен.\n",
    "\n",
    "Позиционните стават достъпни като `tuple`, а именованите - като `dict`."
   ]
  },
  {
   "cell_type": "code",
   "execution_count": 64,
   "metadata": {},
   "outputs": [
    {
     "name": "stdout",
     "output_type": "stream",
     "text": [
      "fixed_arg1=1\n",
      "fixed_arg2=2\n",
      "args=(3, 4, 5, 6, 7, 8, 9, 10)\n",
      "kwargs={'name': 'Pesho', 'age': 20}\n"
     ]
    }
   ],
   "source": [
    "def variadic_args(fixed_arg1, fixed_arg2, *args, **kwargs):\n",
    "    print(f\"{fixed_arg1=}\")\n",
    "    print(f\"{fixed_arg2=}\")\n",
    "    print(f\"{args=}\")\n",
    "    print(f\"{kwargs=}\")\n",
    "\n",
    "variadic_args(1, 2, 3, 4, 5, 6, 7, 8, 9, 10, name=\"Pesho\", age=20)\n"
   ]
  },
  {
   "cell_type": "markdown",
   "metadata": {},
   "source": [
    "## Обхвати на видимост"
   ]
  },
  {
   "cell_type": "markdown",
   "metadata": {},
   "source": [
    "Всякo име може да бъде свързанo със стойност (binding). Съществуват операции, които променят свързването, като `=`. \n",
    "\n",
    "Свързването на име със стойност може да се проверява с две функции, връщащи речници: `locals` и `globals`, които пазят стойностите на всички имена в локалния и в глобалния обхват на видимост съответно.\n",
    "\n",
    "Едно име дефинирано в локален обхват (scope) не се вижда от глобалния такъв:"
   ]
  },
  {
   "cell_type": "code",
   "execution_count": 65,
   "metadata": {},
   "outputs": [
    {
     "name": "stdout",
     "output_type": "stream",
     "text": [
      "{'local_one': 2}\n",
      "1\n"
     ]
    },
    {
     "ename": "KeyError",
     "evalue": "'local_one'",
     "output_type": "error",
     "traceback": [
      "\u001b[0;31m---------------------------------------------------------------------------\u001b[0m",
      "\u001b[0;31mKeyError\u001b[0m                                  Traceback (most recent call last)",
      "\u001b[0;32m/var/folders/7x/gdf0mbts74n8p_ckv_b_mfc40000gp/T/ipykernel_18944/700200652.py\u001b[0m in \u001b[0;36m<module>\u001b[0;34m\u001b[0m\n\u001b[1;32m      8\u001b[0m \u001b[0mfoo\u001b[0m\u001b[0;34m(\u001b[0m\u001b[0;34m)\u001b[0m\u001b[0;34m\u001b[0m\u001b[0;34m\u001b[0m\u001b[0m\n\u001b[1;32m      9\u001b[0m \u001b[0mprint\u001b[0m\u001b[0;34m(\u001b[0m\u001b[0mglobals\u001b[0m\u001b[0;34m(\u001b[0m\u001b[0;34m)\u001b[0m\u001b[0;34m[\u001b[0m\u001b[0;34m\"global_one\"\u001b[0m\u001b[0;34m]\u001b[0m\u001b[0;34m)\u001b[0m  \u001b[0;31m# `print(globals())` will not have a very pretty output in the Jupyter notebook but you can try it\u001b[0m\u001b[0;34m\u001b[0m\u001b[0;34m\u001b[0m\u001b[0m\n\u001b[0;32m---> 10\u001b[0;31m \u001b[0mprint\u001b[0m\u001b[0;34m(\u001b[0m\u001b[0mglobals\u001b[0m\u001b[0;34m(\u001b[0m\u001b[0;34m)\u001b[0m\u001b[0;34m[\u001b[0m\u001b[0;34m\"local_one\"\u001b[0m\u001b[0;34m]\u001b[0m\u001b[0;34m)\u001b[0m\u001b[0;34m\u001b[0m\u001b[0;34m\u001b[0m\u001b[0m\n\u001b[0m\u001b[1;32m     11\u001b[0m \u001b[0;34m\u001b[0m\u001b[0m\n",
      "\u001b[0;31mKeyError\u001b[0m: 'local_one'"
     ]
    }
   ],
   "source": [
    "global_one = 1\n",
    "\n",
    "def foo():\n",
    "    local_one = 2\n",
    "    print(locals())\n",
    "\n",
    "\n",
    "foo()\n",
    "print(globals()[\"global_one\"])  # `print(globals())` will not have a very pretty output in the Jupyter notebook but you can try it\n",
    "print(globals()[\"local_one\"])\n",
    "\n"
   ]
  },
  {
   "cell_type": "markdown",
   "metadata": {},
   "source": [
    "Всеки блок от код си има своя област на видимост, в която стоят локално дефинираните имена.\n",
    "Ако една функция не може да намери дадена променлива в локалния си scope, търси в обграждащия (глобалния) за променлива със същото име:"
   ]
  },
  {
   "cell_type": "code",
   "execution_count": 66,
   "metadata": {},
   "outputs": [
    {
     "name": "stdout",
     "output_type": "stream",
     "text": [
      "1\n"
     ]
    }
   ],
   "source": [
    "global_one = 1\n",
    "\n",
    "def foo():\n",
    "    print(global_one)\n",
    "\n",
    "foo()"
   ]
  },
  {
   "cell_type": "markdown",
   "metadata": {},
   "source": [
    "По подразбиране пренасочването на имена става в локалния scope.\n",
    "Използването на ключовата дума `global` позволява пренасочването на глобални имена. Това обаче въобще не е добра практика."
   ]
  },
  {
   "cell_type": "code",
   "execution_count": 67,
   "metadata": {},
   "outputs": [
    {
     "name": "stdout",
     "output_type": "stream",
     "text": [
      "2\n",
      "{'global_one': 2}\n",
      "1\n"
     ]
    }
   ],
   "source": [
    "global_one = 1\n",
    "\n",
    "def foo():\n",
    "    global_one = 2\n",
    "    print(global_one)\n",
    "    print(locals())\n",
    "\n",
    "foo()\n",
    "\n",
    "print(globals()[\"global_one\"])"
   ]
  },
  {
   "cell_type": "markdown",
   "metadata": {},
   "source": [
    "Аргументите на функциите отиват в `locals` речника, достъпен от тялото им (съответно не и извън него):"
   ]
  },
  {
   "cell_type": "code",
   "execution_count": 68,
   "metadata": {},
   "outputs": [
    {
     "name": "stdout",
     "output_type": "stream",
     "text": [
      "{'x': 1, 'y': 2, 'args': (3, 4, 5, 6, 7, 8, 9, 10), 'kwargs': {'name': 'Pesho', 'age': 20}}\n"
     ]
    }
   ],
   "source": [
    "def fn(x, y, *args, **kwargs):\n",
    "    print(locals())\n",
    "\n",
    "fn(1, 2, 3, 4, 5, 6, 7, 8, 9, 10, name=\"Pesho\", age=20)"
   ]
  },
  {
   "cell_type": "markdown",
   "metadata": {},
   "source": [
    "В случай, че имаме вложени блокове, ключовата дума `nonlocal` позволява пренасочване на име, дефинирано в обграждащ блок (за разлика от `global`, където името е дефинирано в глобалния обхват). Също както `global`, изполването му е лоша практика."
   ]
  },
  {
   "cell_type": "markdown",
   "metadata": {},
   "source": [
    "# Задачи за упражнение"
   ]
  },
  {
   "cell_type": "markdown",
   "metadata": {},
   "source": [
    "## Задача 1\n",
    "\n",
    "Създайте функция, която да връща броя на гласните в даден текст (нека за улеснение считаме за гласни само `a`, `e`, `i`, `o`, `u`)."
   ]
  },
  {
   "cell_type": "code",
   "execution_count": null,
   "metadata": {},
   "outputs": [],
   "source": [
    "def number_of_vowels(text):\n",
    "    pass  # write your code here\n",
    "\n",
    "\n",
    "print(number_of_vowels(\"grrrrgh!\") == 0)\n",
    "print(number_of_vowels(\"The quick brown fox jumps over the lazy dog.\") == 11)\n",
    "print(number_of_vowels(\"Monthy Python\") == 2)"
   ]
  }
 ],
 "metadata": {
  "kernelspec": {
   "display_name": "Python 3.10.6 64-bit",
   "language": "python",
   "name": "python3"
  },
  "language_info": {
   "codemirror_mode": {
    "name": "ipython",
    "version": 3
   },
   "file_extension": ".py",
   "mimetype": "text/x-python",
   "name": "python",
   "nbconvert_exporter": "python",
   "pygments_lexer": "ipython3",
   "version": "3.10.6"
  },
  "orig_nbformat": 4,
  "vscode": {
   "interpreter": {
    "hash": "b0fa6594d8f4cbf19f97940f81e996739fb7646882a419484c72d19e05852a7e"
   }
  }
 },
 "nbformat": 4,
 "nbformat_minor": 2
}
